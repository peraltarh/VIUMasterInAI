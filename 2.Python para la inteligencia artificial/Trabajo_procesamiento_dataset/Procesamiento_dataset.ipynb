{
 "cells": [
  {
   "cell_type": "code",
   "execution_count": 7,
   "id": "62bc210e",
   "metadata": {},
   "outputs": [],
   "source": [
    "import numpy as np\n",
    "import pandas as pd\n",
    "import zipfile # para descomprimir archivos zip\n",
    "import urllib.request # para descargar de URL\n",
    "import os\n",
    "ruta = os.path.join(\"res\", \"PPR-ALL.zip\")"
   ]
  },
  {
   "cell_type": "code",
   "execution_count": 8,
   "id": "ea872ee9",
   "metadata": {},
   "outputs": [],
   "source": [
    "import ssl\n",
    "\n",
    "# descargar dataset \n",
    "url = 'https://www.propertypriceregister.ie/website/npsra/ppr/npsra-ppr.nsf/Downloads/PPR-ALL.zip/$FILE/PPR-ALL.zip'  \n",
    "ssl._create_default_https_context = ssl._create_unverified_context\n",
    "\n",
    "# Descargar usando un contexto SSL sin verificación\n",
    "with urllib.request.urlopen(url, context=ssl._create_unverified_context()) as response, open(ruta, 'wb') as out_file:\n",
    "\tout_file.write(response.read())\n"
   ]
  },
  {
   "cell_type": "code",
   "execution_count": null,
   "id": "824fc78a",
   "metadata": {},
   "outputs": [
    {
     "name": "stdout",
     "output_type": "stream",
     "text": [
      "Extracting all files...\n",
      "Done!\n"
     ]
    }
   ],
   "source": [
    "# descomprimiendo archivo zip\n",
    "ruta_ext = os.path.join(\"res\")\n",
    "with zipfile.ZipFile(ruta, 'r') as z: \n",
    "    print('Extracting all files...') \n",
    "    z.extractall(ruta_ext) # destino"
   ]
  },
  {
   "cell_type": "code",
   "execution_count": 11,
   "id": "bf82b662",
   "metadata": {},
   "outputs": [],
   "source": [
    "ruta_csv = os.path.join(\"res\", \"PPR-ALL.csv\")\n",
    "properties_dataset = pd.read_csv(ruta_csv, sep=',', header=0, engine='python', encoding='latin1')\n"
   ]
  },
  {
   "cell_type": "code",
   "execution_count": null,
   "id": "875c3e8b",
   "metadata": {},
   "outputs": [],
   "source": [
    "# Preprocesamiento del dataset\n",
    "\n",
    "# Format Date -  Date of Sale (dd/mm/yyyy)\n",
    "properties_dataset = properties_dataset.rename(columns={'Date of Sale (dd/mm/yyyy)': 'Date'})\n",
    "properties_dataset['Date'] = pd.to_datetime(properties_dataset['Date'], format='%d/%m/%Y', errors='coerce').dt.normalize()\n",
    "\n",
    "# Format Price -Price ()\n",
    "#properties_dataset = properties_dataset.rename(columns={'Price ()': 'Price'})\n",
    "properties_dataset.columns.values[4] = 'Price'  # Renaming the column to 'Price' Every time I open the file the char changes...\n",
    "properties_dataset['Price'] = properties_dataset['Price'].str.replace(r'[^0-9\\.\\-]', '', regex=True)\n",
    "properties_dataset['Price'] = pd.to_numeric(properties_dataset['Price'], errors='coerce')\n",
    "\n",
    "# Format Address - Address\n",
    "properties_dataset['Address'] = properties_dataset['Address'].str.strip()\n",
    "properties_dataset['Address'] = properties_dataset['Address'].astype(str)\n",
    "\n",
    "# Format County - County\n",
    "properties_dataset['County'] = properties_dataset['County'].str.strip()\n",
    "properties_dataset['County'] = properties_dataset['County'].astype(str)\n",
    "\n",
    "# Format Eircode - Eircode\n",
    "properties_dataset['Eircode'] = properties_dataset['Eircode'].str.strip()\n",
    "properties_dataset['Eircode'] = properties_dataset['Eircode'].astype(str)\n",
    "\n",
    "# Format Description - Description of Property\n",
    "properties_dataset = properties_dataset.rename(columns={'Description of Property': 'Description'})\n",
    "properties_dataset['Description'] = properties_dataset['Description'].str.strip()\n",
    "properties_dataset['Description'] = properties_dataset['Description'].astype(str)\n",
    "\n",
    "# Format Size - Property Size Description\n",
    "properties_dataset = properties_dataset.rename(columns={'Property Size Description': 'Size'})\n",
    "properties_dataset['Size'] = properties_dataset['Size'].str.strip()\n",
    "properties_dataset['Size'] = properties_dataset['Size'].astype(str)\n"
   ]
  },
  {
   "cell_type": "code",
   "execution_count": null,
   "id": "041a97d2",
   "metadata": {},
   "outputs": [],
   "source": [
    "# Split the address into components\n",
    "properties_dataset[['Street', 'Neighbourhood', 'Area']] = properties_dataset['Address'].str.split(',', expand=True)\n",
    "properties_dataset[['SNumber', 'SRoad']] = properties_dataset['Street'].str.split(' ', n=1, expand=True)\n",
    "\n",
    "# To split a string on the 3rd character in a pandas column, use .str.slice\n",
    "# Slice only if the Eircode is not nan or empty\n",
    "mask = properties_dataset['Eircode'].notna() & (properties_dataset['Eircode'].str.strip() != '') & (properties_dataset['Eircode'].str.lower() != 'nan')\n",
    "properties_dataset['EIRRouteKey'] = np.where(mask, properties_dataset['Eircode'].str.slice(0, 3), np.nan)\n",
    "properties_dataset['EIRUID'] = np.where(mask, properties_dataset['Eircode'].str.slice(3), np.nan)\n",
    "\n",
    "\n"
   ]
  },
  {
   "cell_type": "code",
   "execution_count": 21,
   "id": "a018b500",
   "metadata": {},
   "outputs": [
    {
     "name": "stdout",
     "output_type": "stream",
     "text": [
      "Dataset cleaned and saved to res\\PPR-ALL-cleaned.csv\n"
     ]
    }
   ],
   "source": [
    "# Save the cleaned dataset to a new CSV file\n",
    "output_csv = os.path.join(\"res\", \"PPR-ALL-cleaned.csv\")\n",
    "properties_dataset.to_csv(output_csv, index=False, encoding='utf-8-sig')\n",
    "print(f\"Dataset cleaned and saved to {output_csv}\")"
   ]
  },
  {
   "cell_type": "code",
   "execution_count": null,
   "id": "1b6f5cf8",
   "metadata": {},
   "outputs": [
    {
     "data": {
      "application/vnd.microsoft.datawrangler.viewer.v0+json": {
       "columns": [
        {
         "name": "index",
         "rawType": "int64",
         "type": "integer"
        },
        {
         "name": "ROUTING_KEY",
         "rawType": "object",
         "type": "string"
        },
        {
         "name": "REGION",
         "rawType": "object",
         "type": "string"
        }
       ],
       "ref": "d363b4f5-b5d9-4a3c-985f-e8fef5499dea",
       "rows": [
        [
         "0",
         "A41",
         "BALLYBOUGHAL"
        ],
        [
         "1",
         "A42",
         "GARRISTOWN"
        ],
        [
         "2",
         "A45",
         "OLDTOWN"
        ],
        [
         "3",
         "A63",
         "GREYSTONES"
        ],
        [
         "4",
         "A67",
         "WICKLOW"
        ],
        [
         "5",
         "A75",
         "CASTLEBLAYNEY"
        ],
        [
         "6",
         "A81",
         "CARRICKMACROSS"
        ],
        [
         "7",
         "A82",
         "KELLS"
        ],
        [
         "8",
         "A83",
         "ENFIELD"
        ],
        [
         "9",
         "A84",
         "ASHBOURNE"
        ],
        [
         "10",
         "A85",
         "DUNSHAUGHLIN"
        ],
        [
         "11",
         "A86",
         "DUNBOYNE"
        ],
        [
         "12",
         "A91",
         "DUNDALK"
        ],
        [
         "13",
         "A92",
         "DROGHEDA"
        ],
        [
         "14",
         "A94",
         "BLACKROCK"
        ],
        [
         "15",
         "A96",
         "GLENAGEARY"
        ],
        [
         "16",
         "A98",
         "BRAY"
        ],
        [
         "17",
         "C15",
         "NAVAN"
        ],
        [
         "18",
         "D01",
         "DUBLIN 1"
        ],
        [
         "19",
         "D02",
         "DUBLIN 2"
        ],
        [
         "20",
         "D03",
         "DUBLIN 3"
        ],
        [
         "21",
         "D04",
         "DUBLIN 4"
        ],
        [
         "22",
         "D05",
         "DUBLIN 5"
        ],
        [
         "23",
         "D06",
         "DUBLIN 6"
        ],
        [
         "24",
         "D07",
         "DUBLIN 7"
        ],
        [
         "25",
         "D08",
         "DUBLIN 8"
        ],
        [
         "26",
         "D09",
         "DUBLIN 9"
        ],
        [
         "27",
         "D10",
         "DUBLIN 10"
        ],
        [
         "28",
         "D11",
         "DUBLIN 11"
        ],
        [
         "29",
         "D12",
         "DUBLIN 12"
        ],
        [
         "30",
         "D13",
         "DUBLIN 13"
        ],
        [
         "31",
         "D14",
         "DUBLIN 14"
        ],
        [
         "32",
         "D15",
         "DUBLIN 15"
        ],
        [
         "33",
         "D16",
         "DUBLIN 16"
        ],
        [
         "34",
         "D17",
         "DUBLIN 17"
        ],
        [
         "35",
         "D18",
         "DUBLIN 18"
        ],
        [
         "36",
         "D20",
         "DUBLIN 20"
        ],
        [
         "37",
         "D22",
         "DUBLIN 22"
        ],
        [
         "38",
         "D24",
         "DUBLIN 24"
        ],
        [
         "39",
         "D6W",
         "DUBLIN 6W"
        ],
        [
         "40",
         "E21",
         "CAHIR"
        ],
        [
         "41",
         "E25",
         "CASHEL"
        ],
        [
         "42",
         "E32",
         "CARRICK-ON-SUIR"
        ],
        [
         "43",
         "E34",
         "TIPPERARY"
        ],
        [
         "44",
         "E41",
         "THURLES"
        ],
        [
         "45",
         "E45",
         "NENAGH"
        ],
        [
         "46",
         "E53",
         "ROSCREA"
        ],
        [
         "47",
         "E91",
         "CLONMEL"
        ],
        [
         "48",
         "F12",
         "CLAREMORRIS"
        ],
        [
         "49",
         "F23",
         "CASTLEBAR"
        ]
       ],
       "shape": {
        "columns": 2,
        "rows": 139
       }
      },
      "text/html": [
       "<div>\n",
       "<style scoped>\n",
       "    .dataframe tbody tr th:only-of-type {\n",
       "        vertical-align: middle;\n",
       "    }\n",
       "\n",
       "    .dataframe tbody tr th {\n",
       "        vertical-align: top;\n",
       "    }\n",
       "\n",
       "    .dataframe thead th {\n",
       "        text-align: right;\n",
       "    }\n",
       "</style>\n",
       "<table border=\"1\" class=\"dataframe\">\n",
       "  <thead>\n",
       "    <tr style=\"text-align: right;\">\n",
       "      <th></th>\n",
       "      <th>ROUTING_KEY</th>\n",
       "      <th>REGION</th>\n",
       "    </tr>\n",
       "  </thead>\n",
       "  <tbody>\n",
       "    <tr>\n",
       "      <th>0</th>\n",
       "      <td>A41</td>\n",
       "      <td>BALLYBOUGHAL</td>\n",
       "    </tr>\n",
       "    <tr>\n",
       "      <th>1</th>\n",
       "      <td>A42</td>\n",
       "      <td>GARRISTOWN</td>\n",
       "    </tr>\n",
       "    <tr>\n",
       "      <th>2</th>\n",
       "      <td>A45</td>\n",
       "      <td>OLDTOWN</td>\n",
       "    </tr>\n",
       "    <tr>\n",
       "      <th>3</th>\n",
       "      <td>A63</td>\n",
       "      <td>GREYSTONES</td>\n",
       "    </tr>\n",
       "    <tr>\n",
       "      <th>4</th>\n",
       "      <td>A67</td>\n",
       "      <td>WICKLOW</td>\n",
       "    </tr>\n",
       "    <tr>\n",
       "      <th>...</th>\n",
       "      <td>...</td>\n",
       "      <td>...</td>\n",
       "    </tr>\n",
       "    <tr>\n",
       "      <th>134</th>\n",
       "      <td>Y14</td>\n",
       "      <td>ARKLOW</td>\n",
       "    </tr>\n",
       "    <tr>\n",
       "      <th>135</th>\n",
       "      <td>Y21</td>\n",
       "      <td>ENNISCORTHY</td>\n",
       "    </tr>\n",
       "    <tr>\n",
       "      <th>136</th>\n",
       "      <td>Y25</td>\n",
       "      <td>GOREY</td>\n",
       "    </tr>\n",
       "    <tr>\n",
       "      <th>137</th>\n",
       "      <td>Y34</td>\n",
       "      <td>NEW ROSS</td>\n",
       "    </tr>\n",
       "    <tr>\n",
       "      <th>138</th>\n",
       "      <td>Y35</td>\n",
       "      <td>WEXFORD</td>\n",
       "    </tr>\n",
       "  </tbody>\n",
       "</table>\n",
       "<p>139 rows × 2 columns</p>\n",
       "</div>"
      ],
      "text/plain": [
       "    ROUTING_KEY        REGION\n",
       "0           A41  BALLYBOUGHAL\n",
       "1           A42    GARRISTOWN\n",
       "2           A45       OLDTOWN\n",
       "3           A63    GREYSTONES\n",
       "4           A67       WICKLOW\n",
       "..          ...           ...\n",
       "134         Y14        ARKLOW\n",
       "135         Y21   ENNISCORTHY\n",
       "136         Y25         GOREY\n",
       "137         Y34      NEW ROSS\n",
       "138         Y35       WEXFORD\n",
       "\n",
       "[139 rows x 2 columns]"
      ]
     },
     "metadata": {},
     "output_type": "display_data"
    }
   ],
   "source": [
    "# Get missing EIRCODEs -- https://github.com/ireland/eircodes/blob/master/EircodeRoutingKeys\n",
    "# Select rows where Eircode is missing (nan or empty string)\n",
    "missing_eircodes = properties_dataset[(properties_dataset['Eircode'].str.strip() == 'nan')].head(3)\n",
    "\n",
    "eircodes_ruta = os.path.join(\"res\", \"eircodes.csv\")\n",
    "eircodes_csv = pd.read_csv(eircodes_ruta, sep=',', header=0, engine='python')\n",
    "\n",
    "\n",
    "for idx, row in missing_eircodes.iterrows():\n",
    "    addstr = row['Address'] + row['County']\n",
    "    print (f\"Processing address: {addstr}\")\n",
    "\n",
    "    # Have to find a way to get te Eircode from the address\n",
    "    \n",
    "display(eircodes_csv)"
   ]
  },
  {
   "cell_type": "code",
   "execution_count": 20,
   "id": "0a11c242",
   "metadata": {},
   "outputs": [
    {
     "data": {
      "application/vnd.microsoft.datawrangler.viewer.v0+json": {
       "columns": [
        {
         "name": "index",
         "rawType": "int64",
         "type": "integer"
        },
        {
         "name": "Date",
         "rawType": "datetime64[ns]",
         "type": "datetime"
        },
        {
         "name": "Address",
         "rawType": "object",
         "type": "string"
        },
        {
         "name": "County",
         "rawType": "object",
         "type": "string"
        },
        {
         "name": "Eircode",
         "rawType": "object",
         "type": "string"
        },
        {
         "name": "Price",
         "rawType": "float64",
         "type": "float"
        },
        {
         "name": "Not Full Market Price",
         "rawType": "object",
         "type": "string"
        },
        {
         "name": "VAT Exclusive",
         "rawType": "object",
         "type": "string"
        },
        {
         "name": "Description",
         "rawType": "object",
         "type": "string"
        },
        {
         "name": "Size",
         "rawType": "object",
         "type": "string"
        },
        {
         "name": "Street",
         "rawType": "object",
         "type": "string"
        },
        {
         "name": "Neighbourhood",
         "rawType": "object",
         "type": "string"
        },
        {
         "name": "Area",
         "rawType": "object",
         "type": "unknown"
        },
        {
         "name": "SNumber",
         "rawType": "object",
         "type": "string"
        },
        {
         "name": "SRoad",
         "rawType": "object",
         "type": "string"
        },
        {
         "name": "EIRRouteKey",
         "rawType": "object",
         "type": "unknown"
        },
        {
         "name": "EIRUID",
         "rawType": "object",
         "type": "unknown"
        }
       ],
       "ref": "654390b9-ee91-4376-b2f0-dc9eaa2ad3c4",
       "rows": [
        [
         "0",
         "2010-01-01 00:00:00",
         "5 Braemor Drive, Churchtown, Co.Dublin",
         "Dublin",
         "nan",
         "343000.0",
         "No",
         "No",
         "Second-Hand Dwelling house /Apartment",
         "nan",
         "5 Braemor Drive",
         " Churchtown",
         " Co.Dublin",
         "5",
         "Braemor Drive",
         null,
         null
        ],
        [
         "1",
         "2010-01-03 00:00:00",
         "134 Ashewood Walk, Summerhill Lane, Portlaoise",
         "Laois",
         "nan",
         "185000.0",
         "No",
         "Yes",
         "New Dwelling house /Apartment",
         "greater than or equal to 38 sq metres and less than 125 sq metres",
         "134 Ashewood Walk",
         " Summerhill Lane",
         " Portlaoise",
         "134",
         "Ashewood Walk",
         null,
         null
        ],
        [
         "2",
         "2010-01-04 00:00:00",
         "1 Meadow Avenue, Dundrum, Dublin 14",
         "Dublin",
         "nan",
         "438500.0",
         "No",
         "No",
         "Second-Hand Dwelling house /Apartment",
         "nan",
         "1 Meadow Avenue",
         " Dundrum",
         " Dublin 14",
         "1",
         "Meadow Avenue",
         null,
         null
        ],
        [
         "3",
         "2010-01-04 00:00:00",
         "1 The Haven, Mornington",
         "Meath",
         "nan",
         "400000.0",
         "No",
         "No",
         "Second-Hand Dwelling house /Apartment",
         "nan",
         "1 The Haven",
         " Mornington",
         null,
         "1",
         "The Haven",
         null,
         null
        ],
        [
         "4",
         "2010-01-04 00:00:00",
         "11 Melville Heights, Kilkenny",
         "Kilkenny",
         "nan",
         "160000.0",
         "No",
         "No",
         "Second-Hand Dwelling house /Apartment",
         "nan",
         "11 Melville Heights",
         " Kilkenny",
         null,
         "11",
         "Melville Heights",
         null,
         null
        ]
       ],
       "shape": {
        "columns": 16,
        "rows": 5
       }
      },
      "text/html": [
       "<div>\n",
       "<style scoped>\n",
       "    .dataframe tbody tr th:only-of-type {\n",
       "        vertical-align: middle;\n",
       "    }\n",
       "\n",
       "    .dataframe tbody tr th {\n",
       "        vertical-align: top;\n",
       "    }\n",
       "\n",
       "    .dataframe thead th {\n",
       "        text-align: right;\n",
       "    }\n",
       "</style>\n",
       "<table border=\"1\" class=\"dataframe\">\n",
       "  <thead>\n",
       "    <tr style=\"text-align: right;\">\n",
       "      <th></th>\n",
       "      <th>Date</th>\n",
       "      <th>Address</th>\n",
       "      <th>County</th>\n",
       "      <th>Eircode</th>\n",
       "      <th>Price</th>\n",
       "      <th>Not Full Market Price</th>\n",
       "      <th>VAT Exclusive</th>\n",
       "      <th>Description</th>\n",
       "      <th>Size</th>\n",
       "      <th>Street</th>\n",
       "      <th>Neighbourhood</th>\n",
       "      <th>Area</th>\n",
       "      <th>SNumber</th>\n",
       "      <th>SRoad</th>\n",
       "      <th>EIRRouteKey</th>\n",
       "      <th>EIRUID</th>\n",
       "    </tr>\n",
       "  </thead>\n",
       "  <tbody>\n",
       "    <tr>\n",
       "      <th>0</th>\n",
       "      <td>2010-01-01</td>\n",
       "      <td>5 Braemor Drive, Churchtown, Co.Dublin</td>\n",
       "      <td>Dublin</td>\n",
       "      <td>nan</td>\n",
       "      <td>343000.0</td>\n",
       "      <td>No</td>\n",
       "      <td>No</td>\n",
       "      <td>Second-Hand Dwelling house /Apartment</td>\n",
       "      <td>nan</td>\n",
       "      <td>5 Braemor Drive</td>\n",
       "      <td>Churchtown</td>\n",
       "      <td>Co.Dublin</td>\n",
       "      <td>5</td>\n",
       "      <td>Braemor Drive</td>\n",
       "      <td>NaN</td>\n",
       "      <td>NaN</td>\n",
       "    </tr>\n",
       "    <tr>\n",
       "      <th>1</th>\n",
       "      <td>2010-01-03</td>\n",
       "      <td>134 Ashewood Walk, Summerhill Lane, Portlaoise</td>\n",
       "      <td>Laois</td>\n",
       "      <td>nan</td>\n",
       "      <td>185000.0</td>\n",
       "      <td>No</td>\n",
       "      <td>Yes</td>\n",
       "      <td>New Dwelling house /Apartment</td>\n",
       "      <td>greater than or equal to 38 sq metres and less...</td>\n",
       "      <td>134 Ashewood Walk</td>\n",
       "      <td>Summerhill Lane</td>\n",
       "      <td>Portlaoise</td>\n",
       "      <td>134</td>\n",
       "      <td>Ashewood Walk</td>\n",
       "      <td>NaN</td>\n",
       "      <td>NaN</td>\n",
       "    </tr>\n",
       "    <tr>\n",
       "      <th>2</th>\n",
       "      <td>2010-01-04</td>\n",
       "      <td>1 Meadow Avenue, Dundrum, Dublin 14</td>\n",
       "      <td>Dublin</td>\n",
       "      <td>nan</td>\n",
       "      <td>438500.0</td>\n",
       "      <td>No</td>\n",
       "      <td>No</td>\n",
       "      <td>Second-Hand Dwelling house /Apartment</td>\n",
       "      <td>nan</td>\n",
       "      <td>1 Meadow Avenue</td>\n",
       "      <td>Dundrum</td>\n",
       "      <td>Dublin 14</td>\n",
       "      <td>1</td>\n",
       "      <td>Meadow Avenue</td>\n",
       "      <td>NaN</td>\n",
       "      <td>NaN</td>\n",
       "    </tr>\n",
       "    <tr>\n",
       "      <th>3</th>\n",
       "      <td>2010-01-04</td>\n",
       "      <td>1 The Haven, Mornington</td>\n",
       "      <td>Meath</td>\n",
       "      <td>nan</td>\n",
       "      <td>400000.0</td>\n",
       "      <td>No</td>\n",
       "      <td>No</td>\n",
       "      <td>Second-Hand Dwelling house /Apartment</td>\n",
       "      <td>nan</td>\n",
       "      <td>1 The Haven</td>\n",
       "      <td>Mornington</td>\n",
       "      <td>None</td>\n",
       "      <td>1</td>\n",
       "      <td>The Haven</td>\n",
       "      <td>NaN</td>\n",
       "      <td>NaN</td>\n",
       "    </tr>\n",
       "    <tr>\n",
       "      <th>4</th>\n",
       "      <td>2010-01-04</td>\n",
       "      <td>11 Melville Heights, Kilkenny</td>\n",
       "      <td>Kilkenny</td>\n",
       "      <td>nan</td>\n",
       "      <td>160000.0</td>\n",
       "      <td>No</td>\n",
       "      <td>No</td>\n",
       "      <td>Second-Hand Dwelling house /Apartment</td>\n",
       "      <td>nan</td>\n",
       "      <td>11 Melville Heights</td>\n",
       "      <td>Kilkenny</td>\n",
       "      <td>None</td>\n",
       "      <td>11</td>\n",
       "      <td>Melville Heights</td>\n",
       "      <td>NaN</td>\n",
       "      <td>NaN</td>\n",
       "    </tr>\n",
       "  </tbody>\n",
       "</table>\n",
       "</div>"
      ],
      "text/plain": [
       "        Date                                         Address    County  \\\n",
       "0 2010-01-01          5 Braemor Drive, Churchtown, Co.Dublin    Dublin   \n",
       "1 2010-01-03  134 Ashewood Walk, Summerhill Lane, Portlaoise     Laois   \n",
       "2 2010-01-04             1 Meadow Avenue, Dundrum, Dublin 14    Dublin   \n",
       "3 2010-01-04                         1 The Haven, Mornington     Meath   \n",
       "4 2010-01-04                   11 Melville Heights, Kilkenny  Kilkenny   \n",
       "\n",
       "  Eircode     Price Not Full Market Price VAT Exclusive  \\\n",
       "0     nan  343000.0                    No            No   \n",
       "1     nan  185000.0                    No           Yes   \n",
       "2     nan  438500.0                    No            No   \n",
       "3     nan  400000.0                    No            No   \n",
       "4     nan  160000.0                    No            No   \n",
       "\n",
       "                             Description  \\\n",
       "0  Second-Hand Dwelling house /Apartment   \n",
       "1          New Dwelling house /Apartment   \n",
       "2  Second-Hand Dwelling house /Apartment   \n",
       "3  Second-Hand Dwelling house /Apartment   \n",
       "4  Second-Hand Dwelling house /Apartment   \n",
       "\n",
       "                                                Size               Street  \\\n",
       "0                                                nan      5 Braemor Drive   \n",
       "1  greater than or equal to 38 sq metres and less...    134 Ashewood Walk   \n",
       "2                                                nan      1 Meadow Avenue   \n",
       "3                                                nan          1 The Haven   \n",
       "4                                                nan  11 Melville Heights   \n",
       "\n",
       "      Neighbourhood         Area SNumber             SRoad EIRRouteKey EIRUID  \n",
       "0        Churchtown    Co.Dublin       5     Braemor Drive         NaN    NaN  \n",
       "1   Summerhill Lane   Portlaoise     134     Ashewood Walk         NaN    NaN  \n",
       "2           Dundrum    Dublin 14       1     Meadow Avenue         NaN    NaN  \n",
       "3        Mornington         None       1         The Haven         NaN    NaN  \n",
       "4          Kilkenny         None      11  Melville Heights         NaN    NaN  "
      ]
     },
     "metadata": {},
     "output_type": "display_data"
    },
    {
     "name": "stdout",
     "output_type": "stream",
     "text": [
      "<class 'pandas.core.frame.DataFrame'>\n",
      "RangeIndex: 726373 entries, 0 to 726372\n",
      "Data columns (total 16 columns):\n",
      " #   Column                 Non-Null Count   Dtype         \n",
      "---  ------                 --------------   -----         \n",
      " 0   Date                   726373 non-null  datetime64[ns]\n",
      " 1   Address                726373 non-null  object        \n",
      " 2   County                 726373 non-null  object        \n",
      " 3   Eircode                726373 non-null  object        \n",
      " 4   Price                  726373 non-null  float64       \n",
      " 5   Not Full Market Price  726373 non-null  object        \n",
      " 6   VAT Exclusive          726373 non-null  object        \n",
      " 7   Description            726373 non-null  object        \n",
      " 8   Size                   726373 non-null  object        \n",
      " 9   Street                 726373 non-null  object        \n",
      " 10  Neighbourhood          726373 non-null  object        \n",
      " 11  Area                   643630 non-null  object        \n",
      " 12  SNumber                726373 non-null  object        \n",
      " 13  SRoad                  627599 non-null  object        \n",
      " 14  EIRRouteKey            189877 non-null  object        \n",
      " 15  EIRUID                 189877 non-null  object        \n",
      "dtypes: datetime64[ns](1), float64(1), object(14)\n",
      "memory usage: 88.7+ MB\n"
     ]
    },
    {
     "data": {
      "text/plain": [
       "None"
      ]
     },
     "metadata": {},
     "output_type": "display_data"
    },
    {
     "data": {
      "application/vnd.microsoft.datawrangler.viewer.v0+json": {
       "columns": [
        {
         "name": "index",
         "rawType": "object",
         "type": "string"
        },
        {
         "name": "Date",
         "rawType": "object",
         "type": "unknown"
        },
        {
         "name": "Address",
         "rawType": "object",
         "type": "unknown"
        },
        {
         "name": "County",
         "rawType": "object",
         "type": "unknown"
        },
        {
         "name": "Eircode",
         "rawType": "object",
         "type": "unknown"
        },
        {
         "name": "Price",
         "rawType": "float64",
         "type": "float"
        },
        {
         "name": "Not Full Market Price",
         "rawType": "object",
         "type": "unknown"
        },
        {
         "name": "VAT Exclusive",
         "rawType": "object",
         "type": "unknown"
        },
        {
         "name": "Description",
         "rawType": "object",
         "type": "unknown"
        },
        {
         "name": "Size",
         "rawType": "object",
         "type": "unknown"
        },
        {
         "name": "Street",
         "rawType": "object",
         "type": "unknown"
        },
        {
         "name": "Neighbourhood",
         "rawType": "object",
         "type": "unknown"
        },
        {
         "name": "Area",
         "rawType": "object",
         "type": "unknown"
        },
        {
         "name": "SNumber",
         "rawType": "object",
         "type": "unknown"
        },
        {
         "name": "SRoad",
         "rawType": "object",
         "type": "unknown"
        },
        {
         "name": "EIRRouteKey",
         "rawType": "object",
         "type": "unknown"
        },
        {
         "name": "EIRUID",
         "rawType": "object",
         "type": "unknown"
        }
       ],
       "ref": "08c0b3b3-10c0-4a9c-ab5e-69d19542232d",
       "rows": [
        [
         "count",
         "726373",
         "726373",
         "726373",
         "726373",
         "726373.0",
         "726373",
         "726373",
         "726373",
         "726373",
         "726373",
         "726373",
         "643630",
         "726373",
         "627599",
         "189877",
         "189877"
        ],
        [
         "unique",
         null,
         "647378",
         "26",
         "182872",
         null,
         "2",
         "2",
         "5",
         "7",
         "533742",
         "70110",
         "20150",
         "56333",
         "127651",
         "276",
         "51206"
        ],
        [
         "top",
         null,
         "Broomfield, Midleton",
         "Dublin",
         "nan",
         null,
         "No",
         "No",
         "Second-Hand Dwelling house /Apartment",
         "nan",
         "APT 1",
         " CLONDALKIN",
         " DUBLIN",
         "APT",
         "HOUSE",
         "V94",
         "W9NN"
        ],
        [
         "freq",
         null,
         "21",
         "227727",
         "536496",
         null,
         "689468",
         "603873",
         "601601",
         "673542",
         "1594",
         "2542",
         "26836",
         "21222",
         "4989",
         "6889",
         "34"
        ],
        [
         "mean",
         "2019-01-03 17:08:41.439535360",
         null,
         null,
         null,
         "304649.1701859513",
         null,
         null,
         null,
         null,
         null,
         null,
         null,
         null,
         null,
         null,
         null
        ],
        [
         "min",
         "2010-01-01 00:00:00",
         null,
         null,
         null,
         "5001.0",
         null,
         null,
         null,
         null,
         null,
         null,
         null,
         null,
         null,
         null,
         null
        ],
        [
         "25%",
         "2015-11-27 00:00:00",
         null,
         null,
         null,
         "138000.0",
         null,
         null,
         null,
         null,
         null,
         null,
         null,
         null,
         null,
         null,
         null
        ],
        [
         "50%",
         "2019-04-08 00:00:00",
         null,
         null,
         null,
         "231277.53",
         null,
         null,
         null,
         null,
         null,
         null,
         null,
         null,
         null,
         null,
         null
        ],
        [
         "75%",
         "2022-06-23 00:00:00",
         null,
         null,
         null,
         "348500.0",
         null,
         null,
         null,
         null,
         null,
         null,
         null,
         null,
         null,
         null,
         null
        ],
        [
         "max",
         "2025-06-06 00:00:00",
         null,
         null,
         null,
         "387665198.0",
         null,
         null,
         null,
         null,
         null,
         null,
         null,
         null,
         null,
         null,
         null
        ],
        [
         "std",
         null,
         null,
         null,
         null,
         "1168581.616077888",
         null,
         null,
         null,
         null,
         null,
         null,
         null,
         null,
         null,
         null,
         null
        ]
       ],
       "shape": {
        "columns": 16,
        "rows": 11
       }
      },
      "text/html": [
       "<div>\n",
       "<style scoped>\n",
       "    .dataframe tbody tr th:only-of-type {\n",
       "        vertical-align: middle;\n",
       "    }\n",
       "\n",
       "    .dataframe tbody tr th {\n",
       "        vertical-align: top;\n",
       "    }\n",
       "\n",
       "    .dataframe thead th {\n",
       "        text-align: right;\n",
       "    }\n",
       "</style>\n",
       "<table border=\"1\" class=\"dataframe\">\n",
       "  <thead>\n",
       "    <tr style=\"text-align: right;\">\n",
       "      <th></th>\n",
       "      <th>Date</th>\n",
       "      <th>Address</th>\n",
       "      <th>County</th>\n",
       "      <th>Eircode</th>\n",
       "      <th>Price</th>\n",
       "      <th>Not Full Market Price</th>\n",
       "      <th>VAT Exclusive</th>\n",
       "      <th>Description</th>\n",
       "      <th>Size</th>\n",
       "      <th>Street</th>\n",
       "      <th>Neighbourhood</th>\n",
       "      <th>Area</th>\n",
       "      <th>SNumber</th>\n",
       "      <th>SRoad</th>\n",
       "      <th>EIRRouteKey</th>\n",
       "      <th>EIRUID</th>\n",
       "    </tr>\n",
       "  </thead>\n",
       "  <tbody>\n",
       "    <tr>\n",
       "      <th>count</th>\n",
       "      <td>726373</td>\n",
       "      <td>726373</td>\n",
       "      <td>726373</td>\n",
       "      <td>726373</td>\n",
       "      <td>7.263730e+05</td>\n",
       "      <td>726373</td>\n",
       "      <td>726373</td>\n",
       "      <td>726373</td>\n",
       "      <td>726373</td>\n",
       "      <td>726373</td>\n",
       "      <td>726373</td>\n",
       "      <td>643630</td>\n",
       "      <td>726373</td>\n",
       "      <td>627599</td>\n",
       "      <td>189877</td>\n",
       "      <td>189877</td>\n",
       "    </tr>\n",
       "    <tr>\n",
       "      <th>unique</th>\n",
       "      <td>NaN</td>\n",
       "      <td>647378</td>\n",
       "      <td>26</td>\n",
       "      <td>182872</td>\n",
       "      <td>NaN</td>\n",
       "      <td>2</td>\n",
       "      <td>2</td>\n",
       "      <td>5</td>\n",
       "      <td>7</td>\n",
       "      <td>533742</td>\n",
       "      <td>70110</td>\n",
       "      <td>20150</td>\n",
       "      <td>56333</td>\n",
       "      <td>127651</td>\n",
       "      <td>276</td>\n",
       "      <td>51206</td>\n",
       "    </tr>\n",
       "    <tr>\n",
       "      <th>top</th>\n",
       "      <td>NaN</td>\n",
       "      <td>Broomfield, Midleton</td>\n",
       "      <td>Dublin</td>\n",
       "      <td>nan</td>\n",
       "      <td>NaN</td>\n",
       "      <td>No</td>\n",
       "      <td>No</td>\n",
       "      <td>Second-Hand Dwelling house /Apartment</td>\n",
       "      <td>nan</td>\n",
       "      <td>APT 1</td>\n",
       "      <td>CLONDALKIN</td>\n",
       "      <td>DUBLIN</td>\n",
       "      <td>APT</td>\n",
       "      <td>HOUSE</td>\n",
       "      <td>V94</td>\n",
       "      <td>W9NN</td>\n",
       "    </tr>\n",
       "    <tr>\n",
       "      <th>freq</th>\n",
       "      <td>NaN</td>\n",
       "      <td>21</td>\n",
       "      <td>227727</td>\n",
       "      <td>536496</td>\n",
       "      <td>NaN</td>\n",
       "      <td>689468</td>\n",
       "      <td>603873</td>\n",
       "      <td>601601</td>\n",
       "      <td>673542</td>\n",
       "      <td>1594</td>\n",
       "      <td>2542</td>\n",
       "      <td>26836</td>\n",
       "      <td>21222</td>\n",
       "      <td>4989</td>\n",
       "      <td>6889</td>\n",
       "      <td>34</td>\n",
       "    </tr>\n",
       "    <tr>\n",
       "      <th>mean</th>\n",
       "      <td>2019-01-03 17:08:41.439535360</td>\n",
       "      <td>NaN</td>\n",
       "      <td>NaN</td>\n",
       "      <td>NaN</td>\n",
       "      <td>3.046492e+05</td>\n",
       "      <td>NaN</td>\n",
       "      <td>NaN</td>\n",
       "      <td>NaN</td>\n",
       "      <td>NaN</td>\n",
       "      <td>NaN</td>\n",
       "      <td>NaN</td>\n",
       "      <td>NaN</td>\n",
       "      <td>NaN</td>\n",
       "      <td>NaN</td>\n",
       "      <td>NaN</td>\n",
       "      <td>NaN</td>\n",
       "    </tr>\n",
       "    <tr>\n",
       "      <th>min</th>\n",
       "      <td>2010-01-01 00:00:00</td>\n",
       "      <td>NaN</td>\n",
       "      <td>NaN</td>\n",
       "      <td>NaN</td>\n",
       "      <td>5.001000e+03</td>\n",
       "      <td>NaN</td>\n",
       "      <td>NaN</td>\n",
       "      <td>NaN</td>\n",
       "      <td>NaN</td>\n",
       "      <td>NaN</td>\n",
       "      <td>NaN</td>\n",
       "      <td>NaN</td>\n",
       "      <td>NaN</td>\n",
       "      <td>NaN</td>\n",
       "      <td>NaN</td>\n",
       "      <td>NaN</td>\n",
       "    </tr>\n",
       "    <tr>\n",
       "      <th>25%</th>\n",
       "      <td>2015-11-27 00:00:00</td>\n",
       "      <td>NaN</td>\n",
       "      <td>NaN</td>\n",
       "      <td>NaN</td>\n",
       "      <td>1.380000e+05</td>\n",
       "      <td>NaN</td>\n",
       "      <td>NaN</td>\n",
       "      <td>NaN</td>\n",
       "      <td>NaN</td>\n",
       "      <td>NaN</td>\n",
       "      <td>NaN</td>\n",
       "      <td>NaN</td>\n",
       "      <td>NaN</td>\n",
       "      <td>NaN</td>\n",
       "      <td>NaN</td>\n",
       "      <td>NaN</td>\n",
       "    </tr>\n",
       "    <tr>\n",
       "      <th>50%</th>\n",
       "      <td>2019-04-08 00:00:00</td>\n",
       "      <td>NaN</td>\n",
       "      <td>NaN</td>\n",
       "      <td>NaN</td>\n",
       "      <td>2.312775e+05</td>\n",
       "      <td>NaN</td>\n",
       "      <td>NaN</td>\n",
       "      <td>NaN</td>\n",
       "      <td>NaN</td>\n",
       "      <td>NaN</td>\n",
       "      <td>NaN</td>\n",
       "      <td>NaN</td>\n",
       "      <td>NaN</td>\n",
       "      <td>NaN</td>\n",
       "      <td>NaN</td>\n",
       "      <td>NaN</td>\n",
       "    </tr>\n",
       "    <tr>\n",
       "      <th>75%</th>\n",
       "      <td>2022-06-23 00:00:00</td>\n",
       "      <td>NaN</td>\n",
       "      <td>NaN</td>\n",
       "      <td>NaN</td>\n",
       "      <td>3.485000e+05</td>\n",
       "      <td>NaN</td>\n",
       "      <td>NaN</td>\n",
       "      <td>NaN</td>\n",
       "      <td>NaN</td>\n",
       "      <td>NaN</td>\n",
       "      <td>NaN</td>\n",
       "      <td>NaN</td>\n",
       "      <td>NaN</td>\n",
       "      <td>NaN</td>\n",
       "      <td>NaN</td>\n",
       "      <td>NaN</td>\n",
       "    </tr>\n",
       "    <tr>\n",
       "      <th>max</th>\n",
       "      <td>2025-06-06 00:00:00</td>\n",
       "      <td>NaN</td>\n",
       "      <td>NaN</td>\n",
       "      <td>NaN</td>\n",
       "      <td>3.876652e+08</td>\n",
       "      <td>NaN</td>\n",
       "      <td>NaN</td>\n",
       "      <td>NaN</td>\n",
       "      <td>NaN</td>\n",
       "      <td>NaN</td>\n",
       "      <td>NaN</td>\n",
       "      <td>NaN</td>\n",
       "      <td>NaN</td>\n",
       "      <td>NaN</td>\n",
       "      <td>NaN</td>\n",
       "      <td>NaN</td>\n",
       "    </tr>\n",
       "    <tr>\n",
       "      <th>std</th>\n",
       "      <td>NaN</td>\n",
       "      <td>NaN</td>\n",
       "      <td>NaN</td>\n",
       "      <td>NaN</td>\n",
       "      <td>1.168582e+06</td>\n",
       "      <td>NaN</td>\n",
       "      <td>NaN</td>\n",
       "      <td>NaN</td>\n",
       "      <td>NaN</td>\n",
       "      <td>NaN</td>\n",
       "      <td>NaN</td>\n",
       "      <td>NaN</td>\n",
       "      <td>NaN</td>\n",
       "      <td>NaN</td>\n",
       "      <td>NaN</td>\n",
       "      <td>NaN</td>\n",
       "    </tr>\n",
       "  </tbody>\n",
       "</table>\n",
       "</div>"
      ],
      "text/plain": [
       "                                 Date               Address  County Eircode  \\\n",
       "count                          726373                726373  726373  726373   \n",
       "unique                            NaN                647378      26  182872   \n",
       "top                               NaN  Broomfield, Midleton  Dublin     nan   \n",
       "freq                              NaN                    21  227727  536496   \n",
       "mean    2019-01-03 17:08:41.439535360                   NaN     NaN     NaN   \n",
       "min               2010-01-01 00:00:00                   NaN     NaN     NaN   \n",
       "25%               2015-11-27 00:00:00                   NaN     NaN     NaN   \n",
       "50%               2019-04-08 00:00:00                   NaN     NaN     NaN   \n",
       "75%               2022-06-23 00:00:00                   NaN     NaN     NaN   \n",
       "max               2025-06-06 00:00:00                   NaN     NaN     NaN   \n",
       "std                               NaN                   NaN     NaN     NaN   \n",
       "\n",
       "               Price Not Full Market Price VAT Exclusive  \\\n",
       "count   7.263730e+05                726373        726373   \n",
       "unique           NaN                     2             2   \n",
       "top              NaN                    No            No   \n",
       "freq             NaN                689468        603873   \n",
       "mean    3.046492e+05                   NaN           NaN   \n",
       "min     5.001000e+03                   NaN           NaN   \n",
       "25%     1.380000e+05                   NaN           NaN   \n",
       "50%     2.312775e+05                   NaN           NaN   \n",
       "75%     3.485000e+05                   NaN           NaN   \n",
       "max     3.876652e+08                   NaN           NaN   \n",
       "std     1.168582e+06                   NaN           NaN   \n",
       "\n",
       "                                  Description    Size  Street Neighbourhood  \\\n",
       "count                                  726373  726373  726373        726373   \n",
       "unique                                      5       7  533742         70110   \n",
       "top     Second-Hand Dwelling house /Apartment     nan   APT 1    CLONDALKIN   \n",
       "freq                                   601601  673542    1594          2542   \n",
       "mean                                      NaN     NaN     NaN           NaN   \n",
       "min                                       NaN     NaN     NaN           NaN   \n",
       "25%                                       NaN     NaN     NaN           NaN   \n",
       "50%                                       NaN     NaN     NaN           NaN   \n",
       "75%                                       NaN     NaN     NaN           NaN   \n",
       "max                                       NaN     NaN     NaN           NaN   \n",
       "std                                       NaN     NaN     NaN           NaN   \n",
       "\n",
       "           Area SNumber   SRoad EIRRouteKey  EIRUID  \n",
       "count    643630  726373  627599      189877  189877  \n",
       "unique    20150   56333  127651         276   51206  \n",
       "top      DUBLIN     APT   HOUSE         V94    W9NN  \n",
       "freq      26836   21222    4989        6889      34  \n",
       "mean        NaN     NaN     NaN         NaN     NaN  \n",
       "min         NaN     NaN     NaN         NaN     NaN  \n",
       "25%         NaN     NaN     NaN         NaN     NaN  \n",
       "50%         NaN     NaN     NaN         NaN     NaN  \n",
       "75%         NaN     NaN     NaN         NaN     NaN  \n",
       "max         NaN     NaN     NaN         NaN     NaN  \n",
       "std         NaN     NaN     NaN         NaN     NaN  "
      ]
     },
     "metadata": {},
     "output_type": "display_data"
    }
   ],
   "source": [
    "\n",
    "display(properties_dataset.head(5))\n",
    "display(properties_dataset.info()) \n",
    "display(properties_dataset.describe(include='all'))"
   ]
  }
 ],
 "metadata": {
  "kernelspec": {
   "display_name": "Python 3",
   "language": "python",
   "name": "python3"
  },
  "language_info": {
   "codemirror_mode": {
    "name": "ipython",
    "version": 3
   },
   "file_extension": ".py",
   "mimetype": "text/x-python",
   "name": "python",
   "nbconvert_exporter": "python",
   "pygments_lexer": "ipython3",
   "version": "3.13.3"
  }
 },
 "nbformat": 4,
 "nbformat_minor": 5
}
