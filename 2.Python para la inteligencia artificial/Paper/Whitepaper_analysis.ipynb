{
  "cells": [
    {
      "cell_type": "markdown",
      "metadata": {
        "colab_type": "text",
        "id": "view-in-github"
      },
      "source": [
        "<a href=\"https://colab.research.google.com/github/peraltarh/VIUMasterInAI/blob/main/2.Python%20para%20la%20inteligencia%20artificial/Paper/Whitepaper_analysis.ipynb\" target=\"_parent\"><img src=\"https://colab.research.google.com/assets/colab-badge.svg\" alt=\"Open In Colab\"/></a>"
      ]
    },
    {
      "cell_type": "markdown",
      "metadata": {
        "id": "wyx1bzXG-SHF"
      },
      "source": [
        "# Introduccion\n",
        "\n",
        "El articulo analizado presenta una comparativa entre el proceso de Indexing, Copia y Slicing utilziando NumPy Arrays.\n",
        "A continuacion se presentara un resumen del ariculo y un analisis de sus concluciones."
      ]
    },
    {
      "cell_type": "markdown",
      "metadata": {},
      "source": [
        "# Analysis detallado\n",
        "\n",
        "TBD"
      ]
    },
    {
      "cell_type": "code",
      "execution_count": null,
      "metadata": {},
      "outputs": [
        {
          "name": "stdout",
          "output_type": "stream",
          "text": [
            "2\n",
            "1\n",
            "4\n",
            "2\n",
            "[[False False  True False]\n",
            " [ True  True False  True]]\n",
            "[4 5 9 6]\n",
            "[3 1 5]\n",
            "[1 1]\n",
            "[4 1]\n",
            "[[1 1]\n",
            " [4 1]]\n",
            "[1 2]\n",
            "False\n",
            "2082081533888\n",
            "2082323330048\n",
            "[3, 1, 4, 1, 5, 9, 2, 6]\n",
            "[3, 1, 4, 1, 5, 9, 2, 6]\n",
            "[6, 1, 4, 1, 5, 9, 2, 6]\n",
            "[3, 1, 4, 1, 5, 9, 2, 6]\n",
            "[1, 666]\n",
            "[[3, 1, 4, 1], [5, 9, 2, 6]]\n"
          ]
        }
      ],
      "source": [
        "#Analsis del codigo propuesto y desarrollo personal\n",
        "\n",
        "# Indexado de Arrays\n",
        "\n",
        "# Indexado de enteros\n",
        "X = [3,1,4,1,5,9,2,6]\n",
        "print(X[-2]) # Al introducir un numero negativo, se cuenta desde el final de la lista\n",
        "print(X[3])\n",
        "\n",
        "Y = [[3,1,4,1],[5,9,2,6]]\n",
        "print(Y[0][2])\n",
        "print(Y[-1][2]) # Nuevamente, al introducir un numero negativo, se cuenta desde el final de la lista\n",
        "\n",
        "# Indexado de Booleans\n",
        "import numpy as np\n",
        "Y_np = np.array(Y)\n",
        "y1 = Y_np > 3\n",
        "print(y1) # Devuelve un array de booleanos, donde True indica que el elemento es mayor que 3\n",
        "print(Y_np[y1]) # Devuelve los elementos de Y que son mayores que 3\n",
        "\n",
        "# Indexado Sofisticado\n",
        "import numpy as np\n",
        "X_np = np.array(X)\n",
        "x1 = X_np[[0, 3, 4]] # Devuelve un nuevo array con los elementos en las posiciones 0, 3 y 4 de X_np\n",
        "print(x1)\n",
        "print(X_np[[1, 1]])\n",
        "print(X_np[[2, 3]]) # Devuelve un nuevo array con los elementos en las posiciones 2 y 3 de X_np])\n",
        "\n",
        "# x2 = X[np.array([1,1],[2,3])] # Esta línea no es válida, ya que np.array espera un array de una sola dimensión o una lista de listas\n",
        "x2 = np.array([[X[1], X[1]], [X[2], X[3]]])\n",
        "print(x2)\n",
        "\n",
        "# Indexado de Arrays con múltiples dimensiones\n",
        "# print (Y[np.array([0,-1)]), np.array([1,2)])]) # No es valido\n",
        "y2 = np.array([Y[0][-1], Y[1][2]])\n",
        "print(y2) \n",
        "\n",
        "# Relacion entre Indexado y copias\n",
        "\n",
        "x3 = X.copy() #En este caso esto equivale a deep copy, creando una copia independiente de X\n",
        "\n",
        "# Analisis de como la copia afecta el indexado \n",
        "print(x3 is X) # Output: False\n",
        "print(id(X)) \n",
        "print(id(x3)) # Son diferentes objetos en memoria\n",
        "print(X)\n",
        "print(x3)\n",
        "\n",
        "X[0]=6 # Modificando X no afecta a x3\n",
        "print(X)\n",
        "print(x3)\n",
        "\n",
        "y2=[Y[0][-1],Y[1][2]] # En el papar pone Y[[0,-1],[1,2]] pero no finciona.\n",
        "y2[1]=666 # Modificando y2 no afecta a Y\n",
        "print(y2)\n",
        "print(Y)\n",
        "\n",
        "# Array Slicing (TBD)\n",
        "\n",
        "\n"
      ]
    },
    {
      "cell_type": "markdown",
      "metadata": {},
      "source": [
        "# Opinion personal del articulo\n",
        "\n",
        "TBD -- Tuve que corregir bastante el codigo de los ejemplos"
      ]
    },
    {
      "cell_type": "markdown",
      "metadata": {
        "id": "Sxy49HaB-Ux-"
      },
      "source": [
        "# Referencias\n",
        "\n",
        "[1] A. A. S. de Oliveira, J. C. S. dos Santos, and J. M. de Araújo, \"A study on Fibonacci sequence and its applications,\" Journal of Physics: Conference Series, vol. 2832, no. 1, p. 012019, 2021. [Online]. Disponible: https://iopscience.iop.org/article/10.1088/1742-6596/2832/1/012019"
      ]
    }
  ],
  "metadata": {
    "colab": {
      "authorship_tag": "ABX9TyPzCTvFS2CpECQekfr+Ozih",
      "include_colab_link": true,
      "provenance": []
    },
    "kernelspec": {
      "display_name": "Python 3",
      "name": "python3"
    },
    "language_info": {
      "codemirror_mode": {
        "name": "ipython",
        "version": 3
      },
      "file_extension": ".py",
      "mimetype": "text/x-python",
      "name": "python",
      "nbconvert_exporter": "python",
      "pygments_lexer": "ipython3",
      "version": "3.13.3"
    }
  },
  "nbformat": 4,
  "nbformat_minor": 0
}
