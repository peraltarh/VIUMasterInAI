{
 "cells": [
  {
   "cell_type": "markdown",
   "id": "92baa916-e3ce-4b8a-b02c-5a7ebdd2e3f3",
   "metadata": {},
   "source": [
    "<img src=\"img/viu_logo.png\" width=\"200\">\n",
    "\n",
    "## 01MIAR - Python 101, Estructuras de Control\n",
    "\n",
    "![logo](img/python_logo.png)\n",
    "\n",
    "*Ivan Fuertes / Franklin Alvarez*"
   ]
  },
  {
   "cell_type": "markdown",
   "id": "f79d4e27-7ae4-4ac7-98e5-5ecb6c28ff84",
   "metadata": {},
   "source": [
    "# Estructuras de control"
   ]
  },
  {
   "cell_type": "markdown",
   "id": "e1681d45-f60d-4f47-97a4-f811fb0ba167",
   "metadata": {},
   "source": [
    "## Selección (sentencias condicionales)\n",
    "\n",
    "* Selección de una de varias alternativas en base a alguna condición.\n",
    "* Indentación para estructurar el código\n",
    "* Importante el símbolo ':'"
   ]
  },
  {
   "cell_type": "code",
   "execution_count": null,
   "id": "befd1e5e-bdf2-41c7-a910-27092f7b3383",
   "metadata": {},
   "outputs": [],
   "source": [
    "x = 1\n",
    "if x > 0:\n",
    "    print('Valor positivo')\n",
    "else:\n",
    "    print('Valor no positivo')"
   ]
  },
  {
   "cell_type": "markdown",
   "id": "1974de58-462f-4c3c-958d-45ade2e0c4af",
   "metadata": {},
   "source": [
    "* Las condiciones son expresiones que se evalúan a *True* o *False*.\n",
    "* Operadores de comparación, lógicos, de identidad y de pertenencia vistos anteriormente."
   ]
  },
  {
   "cell_type": "code",
   "execution_count": null,
   "id": "71b2fb1d-a99b-4acf-b1b0-fd5f312ca18c",
   "metadata": {},
   "outputs": [],
   "source": [
    "x = 3\n",
    "y = [1, 2, 3]\n",
    "\n",
    "print(x > 0)\n",
    "print(x > 0 and x < 10)\n",
    "print(x is not y)\n",
    "print(x in y)"
   ]
  },
  {
   "cell_type": "markdown",
   "id": "915fcd87-8ae7-4ea3-b640-1ff0a4cc114b",
   "metadata": {},
   "source": [
    "* Se pueden introducir más 'ramas' en sentencias condicionales a través de la palabra clave *elif*."
   ]
  },
  {
   "cell_type": "code",
   "execution_count": null,
   "id": "a91c2116-ce15-4bb0-a804-d27af78fad65",
   "metadata": {},
   "outputs": [],
   "source": [
    "x = 2\n",
    "\n",
    "if x > 0:\n",
    "    print('Valor positivo')\n",
    "elif x == 0:\n",
    "    print('Valor nulo')\n",
    "else:\n",
    "    print('Valor negativo')"
   ]
  },
  {
   "cell_type": "markdown",
   "id": "c39b9742-9a36-4d9a-a2ab-d9e7de20100a",
   "metadata": {},
   "source": [
    "* Anidamiento."
   ]
  },
  {
   "cell_type": "code",
   "execution_count": null,
   "id": "522cb13f-559c-4c70-a764-eb5680ddc5e5",
   "metadata": {},
   "outputs": [],
   "source": [
    "val = 120\n",
    "if val > 0:\n",
    "    if val < 100:\n",
    "        print('Valor positivo')\n",
    "    else:\n",
    "        print('Valor muy positivo')\n",
    "else:\n",
    "    print('Valor negativo')"
   ]
  },
  {
   "cell_type": "markdown",
   "id": "a17f5384-1f72-4d9f-8c39-f8229dd044d0",
   "metadata": {},
   "source": [
    "# Switch"
   ]
  },
  {
   "cell_type": "code",
   "execution_count": null,
   "id": "350baed0-6b02-478b-ad58-5fbf2197eec4",
   "metadata": {},
   "outputs": [],
   "source": [
    "a = 0\n",
    "\n",
    "match a:\n",
    "    case _ if a > 0:\n",
    "        print('positive')\n",
    "    case _ if a == 0:\n",
    "        print('zero')\n",
    "    case _ if a < 0:\n",
    "        print('negative')"
   ]
  },
  {
   "cell_type": "code",
   "execution_count": null,
   "id": "74090380-d6d5-4cda-b56d-7c2a4ea4524d",
   "metadata": {},
   "outputs": [],
   "source": [
    "a = 'L'   #week day\n",
    "\n",
    "match a:\n",
    "    case 'L':\n",
    "        print(\"Lunes\")\n",
    "    case 'M':\n",
    "        print(\"Martes\")\n",
    "    case 'X':\n",
    "        print(\"Miercoles\")\n",
    "    case _:\n",
    "        print(\"Wrong Day\")    "
   ]
  },
  {
   "cell_type": "markdown",
   "id": "ee017859-74fd-455d-a6c8-11d7fd8b08a6",
   "metadata": {},
   "source": [
    "#### Expresión ternaria\n",
    "\n",
    "* Estructura if-else condensado en una línea.\n",
    "* Se recomienda usar solo en casos sencillos."
   ]
  },
  {
   "cell_type": "code",
   "execution_count": null,
   "id": "e72773bb-6a6c-494b-ad48-4f455e3a6bbc",
   "metadata": {},
   "outputs": [],
   "source": [
    "# Ejemplo: cálculo del valor absoluto de un número.\n",
    "\n",
    "x = -3\n",
    "resultado = x if x >= 0 else -x\n",
    "print(resultado)"
   ]
  },
  {
   "cell_type": "code",
   "execution_count": null,
   "id": "51d56e5e-a133-45df-ab57-529ba7ef92ae",
   "metadata": {},
   "outputs": [],
   "source": [
    "val = -3\n",
    "\n",
    "if val >=0:\n",
    "    resultado = val\n",
    "else:\n",
    "    resultado = -val\n",
    "\n",
    "print(resultado)"
   ]
  },
  {
   "cell_type": "markdown",
   "id": "32f1612d-6c7c-4b26-b55e-6b09bb82c8aa",
   "metadata": {},
   "source": [
    "#### Concatenación de comparaciones\n",
    "\n",
    "* Se pueden concatenar comparaciones en una misma expresión:\n",
    "    * *and*: true, si ambos son true.\n",
    "    * *or*: true, si al menos uno es true.\n",
    "    * *not*: inversión del valor de verdad de una expresión.\n",
    "* 'elif' para comparar tras un 'if'\n",
    "    \n",
    "Enlace a [Tablas de Verdad](https://es.wikipedia.org/wiki/Tabla_de_verdad)."
   ]
  },
  {
   "cell_type": "code",
   "execution_count": null,
   "id": "0daefccb-f11c-4041-b610-c64a59e2a845",
   "metadata": {},
   "outputs": [],
   "source": [
    "genero = 'Drama'\n",
    "fecha_de_estreno = 1989\n",
    "\n",
    "if genero == 'Comedia' or genero == 'Acción':\n",
    "    print('Buena película!')\n",
    "elif fecha_de_estreno >= 1990 and fecha_de_estreno < 2000:\n",
    "    print('Buena década!')\n",
    "else:\n",
    "    print('Meh')"
   ]
  },
  {
   "cell_type": "markdown",
   "id": "b8966c65-8ee4-438a-9409-ba2ac2ec326b",
   "metadata": {},
   "source": [
    "#### Comparación de variables: '==' vs 'is'\n",
    "\n",
    "* '==' compara si el valor de las variables es el mismo\n",
    "* 'is' compara si los objetos en las variables son iguales (referencia)"
   ]
  },
  {
   "cell_type": "code",
   "execution_count": null,
   "id": "ce81b7ea-4a91-417d-a813-b92261f229db",
   "metadata": {},
   "outputs": [],
   "source": [
    "a = 1000\n",
    "b = 1000\n",
    "\n",
    "print(a is b)\n",
    "print(a == b)\n",
    "\n",
    "print(id(a))\n",
    "print(id(b))"
   ]
  },
  {
   "cell_type": "code",
   "execution_count": null,
   "id": "99f858ec-8c6d-4a9f-9a6c-493bf71e52ab",
   "metadata": {},
   "outputs": [],
   "source": [
    "a = [1, 2, 3]\n",
    "b = [1, 2, 3]\n",
    "c = a\n",
    "\n",
    "print(a is b)\n",
    "print(a is c)\n",
    "print(a == b)\n",
    "\n",
    "print(id(a))\n",
    "print(id(b))\n",
    "print(id(c))"
   ]
  },
  {
   "cell_type": "markdown",
   "id": "db01161c-8545-4c5c-89ed-5f6b6384224b",
   "metadata": {},
   "source": [
    "#### Valor booleano\n",
    "\n",
    "* Todos los objetos en Python tiene inherentemente un valor booleano: *True* o *False*.\n",
    "* Cualquier número distinto de 0 ó cualquier objeto no vacío tienen valor *True*.\n",
    "* El número 0, objetos vacíos y el objeto especial *None* tienen valor *False*."
   ]
  },
  {
   "cell_type": "code",
   "execution_count": null,
   "id": "58825f84-003b-48dc-a203-9741e0f4a46a",
   "metadata": {},
   "outputs": [],
   "source": [
    "a = -10  #True\n",
    "b = 0    #False\n",
    "\n",
    "if a:\n",
    "    print(\"a es True\")\n",
    "    \n",
    "if not b:\n",
    "     print(\"b es False\")"
   ]
  },
  {
   "cell_type": "code",
   "execution_count": null,
   "id": "478880d5-db40-42ad-aebc-40d9c37be6be",
   "metadata": {},
   "outputs": [],
   "source": [
    "# c = [1,2,3]\n",
    "c = None\n",
    "\n",
    "if c:\n",
    "    print(\"Lista no vacía\")\n",
    "else:\n",
    "    print(\"Lista vacía\")"
   ]
  },
  {
   "cell_type": "markdown",
   "id": "5c325822-49f1-4d95-95c8-dbde4904dfdb",
   "metadata": {},
   "source": [
    "# Iteración (bucles)\n",
    "\n",
    "* Repetición de un bloque de código.\n",
    "* La terminación del bucle depende del tipo de bucle.\n",
    "* Dos tipos: *while* y *for*."
   ]
  },
  {
   "cell_type": "markdown",
   "id": "2bda1e52-3bfc-4cc1-886f-4a58397fb686",
   "metadata": {},
   "source": [
    "#### Bucle 'while'\n",
    "\n",
    "* Repetición de un bloque de código hasta que se deje cumplir una expresión (es decir, hasta que una condición evalue a *False*).\n",
    "* Si la condición evalua a *False* desde el principio, el bloque de código nunca se ejecuta.\n",
    "* Cuidado con los bucles infinitos.\n",
    "\n",
    "Formato general:\n",
    "\n",
    "```\n",
    "while test:       # Mientras se cumple la condición\n",
    "    statements    # Instrucciones a ejecutar\n",
    "```"
   ]
  },
  {
   "cell_type": "code",
   "execution_count": null,
   "id": "805046dd-c513-487e-bf7e-c0d9d05b181c",
   "metadata": {},
   "outputs": [],
   "source": [
    "# Ejemplo: Mostrar los primeros 3 objetos de una lista\n",
    "\n",
    "indice = 0\n",
    "numeros = [9, 4, 7, 1, 2]\n",
    "\n",
    "while indice < 3:\n",
    "    print(numeros[indice])\n",
    "    indice += 1"
   ]
  },
  {
   "cell_type": "code",
   "execution_count": null,
   "id": "78a0c6de-3f29-465f-94b7-af3b47e7a4a0",
   "metadata": {},
   "outputs": [],
   "source": [
    "# Ejemplo: contar y mostrar los números inferiores a 10.\n",
    "\n",
    "numeros = [33, 3, 9, 21, 1, 7, 12, 10, 8]\n",
    "contador = 0\n",
    "indice = 0\n",
    "\n",
    "while indice < len(numeros):\n",
    "    if numeros[indice] < 10:\n",
    "        print(numeros[indice])\n",
    "        contador += 1\n",
    "    indice += 1\n",
    "\n",
    "print('Contador:', contador)\n",
    "print('Indice:', indice)"
   ]
  },
  {
   "cell_type": "code",
   "execution_count": null,
   "id": "f2dc6fd2-82d0-49cf-a9ac-2e03bdb5e5a8",
   "metadata": {},
   "outputs": [],
   "source": [
    "nombre = 'Pablo'\n",
    "\n",
    "while nombre: # Mientras 'nombre' no sea vacío\n",
    "    print(nombre)\n",
    "    nombre = nombre[1:]"
   ]
  },
  {
   "cell_type": "code",
   "execution_count": null,
   "id": "eabbd78f-827a-4475-99f3-2e073f94e7a1",
   "metadata": {
    "scrolled": true
   },
   "outputs": [],
   "source": [
    "#bucle infinito\n",
    "i = 0\n",
    "\n",
    "while i < 10:\n",
    "    print(i)\n",
    "    # i += 1"
   ]
  },
  {
   "cell_type": "markdown",
   "id": "02029850-5df7-45ae-9ad7-ca9ef437f321",
   "metadata": {},
   "source": [
    "#### Bucle 'for'\n",
    "\n",
    "* Permite recorrer los items de una *sequencia* o un objeto *iterable*.\n",
    "* Funciona en strings, listas, tuplas, etc.\n",
    "\n",
    "Formato general:\n",
    "\n",
    "```\n",
    "for item in objeto:   # Asigna los items del objeto a la variable item en cada iteración\n",
    "    statements        # Instrucciones a ejecutar\n",
    "```"
   ]
  },
  {
   "cell_type": "code",
   "execution_count": null,
   "id": "565f0053-84d9-4ac2-a8b2-803867152d74",
   "metadata": {},
   "outputs": [],
   "source": [
    "peliculas = ['Matrix', 'The purge', 'Avatar', 'Star Wars']\n",
    "\n",
    "for pelicula in peliculas:\n",
    "    print(pelicula)"
   ]
  },
  {
   "cell_type": "markdown",
   "id": "c827c822-2830-4a22-9c29-99375112d413",
   "metadata": {},
   "source": [
    "* También se usa para iterar un número preestablecido de veces (*counted loops*):"
   ]
  },
  {
   "cell_type": "code",
   "execution_count": null,
   "id": "8254d34b-8765-4c6a-99e2-f6170fdd6807",
   "metadata": {},
   "outputs": [],
   "source": [
    "for i in range(10):\n",
    "    print(i)"
   ]
  },
  {
   "cell_type": "markdown",
   "id": "fc633f28-333c-4b33-be7f-adc7897ea887",
   "metadata": {},
   "source": [
    "* *range* es útil en combinación con *len* porque permite acceder a los elementos de una *secuencia* por posición."
   ]
  },
  {
   "cell_type": "code",
   "execution_count": null,
   "id": "525ce4bb-deaf-4173-bd8b-ec9b2d266f45",
   "metadata": {},
   "outputs": [],
   "source": [
    "nombre = 'Pablo'\n",
    "\n",
    "for i in range(len(nombre)):\n",
    "    print(nombre[i])"
   ]
  },
  {
   "cell_type": "code",
   "execution_count": null,
   "id": "7f52bd50-bbc5-4e6d-89b8-0627171b6c8e",
   "metadata": {},
   "outputs": [],
   "source": [
    "for letra in nombre:\n",
    "    print(letra)"
   ]
  },
  {
   "cell_type": "markdown",
   "id": "d09f6992-c889-4502-a4c4-78296fc7f7c4",
   "metadata": {},
   "source": [
    "* Iteración de tuplas:"
   ]
  },
  {
   "cell_type": "code",
   "execution_count": null,
   "id": "0b1431f4-9d92-49e2-bbd1-cbb24fbb1e06",
   "metadata": {},
   "outputs": [],
   "source": [
    "tuplas = [(1, 2), (3, 4), (5, 6)]\n",
    "for a, b in tuplas:\n",
    "    print(a, b)"
   ]
  },
  {
   "cell_type": "markdown",
   "id": "aae431b7-1bca-4abf-aeb4-cba5915ae120",
   "metadata": {},
   "source": [
    "* Iteración de diccionarios. Se iteran las claves:"
   ]
  },
  {
   "cell_type": "code",
   "execution_count": null,
   "id": "51c7491c-c045-4af7-b04e-a66bd7747af1",
   "metadata": {},
   "outputs": [],
   "source": [
    "diccionario = {'a': 1, 'b': 2, 'c': 3}\n",
    "\n",
    "for key in diccionario:\n",
    "    print(f\"{key} => {diccionario[key]}\")"
   ]
  },
  {
   "cell_type": "markdown",
   "id": "375c514b-16b3-491c-b21c-206195bef222",
   "metadata": {},
   "source": [
    "* Para iterar los pares (clave-valor) o únicamente los valores, se deben usar los métodos *items* y *values*."
   ]
  },
  {
   "cell_type": "code",
   "execution_count": null,
   "id": "e6e935d4-5f18-46fa-9870-78e71abdd392",
   "metadata": {},
   "outputs": [],
   "source": [
    "for key, value in diccionario.items():\n",
    "    print(f\"{key} => {value}\")"
   ]
  },
  {
   "cell_type": "code",
   "execution_count": null,
   "id": "0f3cbda1-60b4-4a2c-9729-7121eee28697",
   "metadata": {},
   "outputs": [],
   "source": [
    "for value in diccionario.values():\n",
    "    print(value)"
   ]
  },
  {
   "cell_type": "markdown",
   "id": "af83e216-7e7e-4146-953c-62d8a9c73985",
   "metadata": {},
   "source": [
    "* La variable *item* en la cabecera del *for* puede ser cualquier expresión que sea válida como parte izquierda de una asignación convencional."
   ]
  },
  {
   "cell_type": "code",
   "execution_count": null,
   "id": "866084cc-694f-467f-bd83-bb8ecd3b1bfd",
   "metadata": {},
   "outputs": [],
   "source": [
    "for a, b, c in [(1, 2, 3), (4, 5, 6)]:\n",
    "    print(a, b, c)"
   ]
  },
  {
   "cell_type": "markdown",
   "id": "7ae10ae2-8e4c-49f4-87fc-191a462a4164",
   "metadata": {
    "tags": []
   },
   "source": [
    "## Las sentencias break, continue y else"
   ]
  },
  {
   "cell_type": "markdown",
   "id": "f6418a77-fd77-47c0-8887-f8e6afc3ded5",
   "metadata": {},
   "source": [
    "#### Break y continue\n",
    "\n",
    "* Solo tienen sentido dentro de bucles.\n",
    "* *Break* permite terminar el bucle por completo.\n",
    "* *Continue* permite saltar a la siguiente iteración, continuando con el bucle.\n",
    "* Pueden aparecer en cualquier parte de un bucle, pero normalmente aparecen dentro de sentencias condicionales (if)."
   ]
  },
  {
   "cell_type": "code",
   "execution_count": null,
   "id": "91626c1e-6505-4d09-84af-23795a518f28",
   "metadata": {},
   "outputs": [],
   "source": [
    "# Ejemplo: break\n",
    "\n",
    "rating_to_find = 4.2\n",
    "movie_ratings = [4.9, 2.5, 1.7, 4.2, 3.8, 3.3, 2.9]\n",
    "\n",
    "for rating in movie_ratings:\n",
    "    print(rating)\n",
    "    if rating == rating_to_find:\n",
    "        print(\"Found\")\n",
    "        break\n",
    "\n",
    "print(rating)"
   ]
  },
  {
   "cell_type": "code",
   "execution_count": null,
   "id": "495b2c3b-4f98-4a60-a6d2-0a56be3255c0",
   "metadata": {},
   "outputs": [],
   "source": [
    "for i in range(10):\n",
    "    if i % 2 == 0:\n",
    "        continue          # Si el número es par, salta a la siguiente iteración\n",
    "    print(f'Odd number {i}')"
   ]
  },
  {
   "cell_type": "markdown",
   "id": "daf13acd-1219-435b-8a91-d317860cd268",
   "metadata": {},
   "source": [
    "* Observa como la sentencia *continue* te puede ayudar a reducir el número de niveles de anidamiento.\n",
    "* Sin *continue* el anterior ejemplo sería:"
   ]
  },
  {
   "cell_type": "code",
   "execution_count": null,
   "id": "5d6661f3-06c9-4906-af83-27761ee20e84",
   "metadata": {},
   "outputs": [],
   "source": [
    "for i in range(10):\n",
    "    if i % 2 != 0:\n",
    "        print('Numero impar:', end=' ')\n",
    "        print(i)"
   ]
  },
  {
   "cell_type": "code",
   "execution_count": null,
   "id": "5d291d30-4d54-4c98-ab38-832b90a307b5",
   "metadata": {},
   "outputs": [],
   "source": [
    "for i in range(5):\n",
    "    for a in range(2):\n",
    "        print(f\"{i} - {a}\")\n",
    "        if i == 3 and a == 0:\n",
    "            break"
   ]
  },
  {
   "cell_type": "markdown",
   "id": "a9c120ae-8d6e-4ef4-a4ad-d2a426b54874",
   "metadata": {},
   "source": [
    "#### Else\n",
    "\n",
    "* Los bucles pueden tener una sensencia *else*.\n",
    "* Resulta poco intuitiva para muchos programadores porque esta sintaxis no existe en otros lenguajes.\n",
    "* Se ejecuta cuando el bucle termina con normalidad; es decir, cuando no termina a causa de un *break*."
   ]
  },
  {
   "cell_type": "code",
   "execution_count": null,
   "id": "58b0768e-7619-4a91-853f-88e367caf9ee",
   "metadata": {},
   "outputs": [],
   "source": [
    "lista = [10,20,30,40]\n",
    "element_to_find = 60\n",
    "\n",
    "for element in lista:\n",
    "    if element == element_to_find:\n",
    "        print(\"found\")\n",
    "        break\n",
    "else:\n",
    "    print(\"not found\")"
   ]
  },
  {
   "cell_type": "code",
   "execution_count": null,
   "id": "f15cd8ea-0fad-406d-9916-4dce7118e3dd",
   "metadata": {},
   "outputs": [],
   "source": [
    "# with flag\n",
    "lista = [10,20,30,40]\n",
    "element_to_find = 30\n",
    "found = False\n",
    "\n",
    "for element in lista:\n",
    "    if element == element_to_find:\n",
    "        found = True\n",
    "        break\n",
    "        \n",
    "if found:\n",
    "    print(\"found\")\n",
    "else:\n",
    "    print(\"not found\")"
   ]
  },
  {
   "cell_type": "markdown",
   "id": "822eb3f7-101f-4acb-ab17-8461265ddedf",
   "metadata": {},
   "source": [
    "# List Comprehensions"
   ]
  },
  {
   "cell_type": "markdown",
   "id": "8a93e9ed-a48f-4208-a9cc-ddd19b715e81",
   "metadata": {},
   "source": [
    "* Permiten construir listas a través de la ejecución repetida (sentencia *for*) de una expressión para cada *item* de un objeto *iterable*.\n",
    "\n",
    "* Van entre '[' y ']'. Esto es indicativo de que estamos construyendo una lista."
   ]
  },
  {
   "cell_type": "markdown",
   "id": "0cf03d26-f024-4bb9-8329-eda42b572166",
   "metadata": {},
   "source": [
    "Sintaxis:\n",
    "\n",
    "```\n",
    "[<expression> for <item> in <iterable>]\n",
    "```"
   ]
  },
  {
   "cell_type": "markdown",
   "id": "130bd15e-d0a9-4e78-9086-a54011055a61",
   "metadata": {},
   "source": [
    "Ejemplo: repetir los carácteres de un string."
   ]
  },
  {
   "cell_type": "code",
   "execution_count": null,
   "id": "20660087-ae00-4043-b66a-332b720897b2",
   "metadata": {},
   "outputs": [],
   "source": [
    "[char * 2 for char in 'Enrique']"
   ]
  },
  {
   "cell_type": "code",
   "execution_count": null,
   "id": "d994e5fd-78a1-4077-b74e-6ab31412f848",
   "metadata": {},
   "outputs": [],
   "source": [
    "lista = []\n",
    "\n",
    "for char in 'Enrique':\n",
    "    lista.append(char*2)\n",
    "    \n",
    "print(lista)"
   ]
  },
  {
   "cell_type": "markdown",
   "id": "5341d890-f30b-4ba0-a81d-443124abf949",
   "metadata": {},
   "source": [
    "Comúnmente, el item de la sentencia *for* aparecerá en la expresión principal, pero eso no es obligatorio."
   ]
  },
  {
   "cell_type": "code",
   "execution_count": null,
   "id": "e6952d96-5340-4e08-b288-9eebd88e8394",
   "metadata": {},
   "outputs": [],
   "source": [
    "[2 for _ in 'Enrique']"
   ]
  },
  {
   "cell_type": "markdown",
   "id": "f750d4cc-40a1-4451-841b-7ca83fdd28be",
   "metadata": {},
   "source": [
    "### Versión extendida"
   ]
  },
  {
   "cell_type": "markdown",
   "id": "8884e923-bec6-4937-8ac2-7c7938c64aa5",
   "metadata": {},
   "source": [
    "Se puede especificar un filtro (sentencia *if*) para obtener únicamente los elementos que cumplan cierta condición.\n",
    "\n",
    "Sintaxis:\n",
    "\n",
    "```\n",
    "[<expression> for <item> in <iterable> if <condition>]\n",
    "```"
   ]
  },
  {
   "cell_type": "markdown",
   "id": "52476cd8-7fda-47a2-9fc7-a654bc35508c",
   "metadata": {},
   "source": [
    "Ejemplo: obtener números pares:"
   ]
  },
  {
   "cell_type": "code",
   "execution_count": null,
   "id": "53bdab31-9dd2-463c-9036-93eb44a06bf2",
   "metadata": {},
   "outputs": [],
   "source": [
    "[x for x in range(9) if x % 2 == 0]"
   ]
  },
  {
   "cell_type": "markdown",
   "id": "3dc4512a-0bac-447a-8845-d2f44a523e51",
   "metadata": {},
   "source": [
    "* Las list comprehension no son realmente requeridas, ya que siempre podemos escribir un bucle equivalente."
   ]
  },
  {
   "cell_type": "code",
   "execution_count": null,
   "id": "6be55b82-0e4b-4844-9ce4-f325fddc2ec3",
   "metadata": {},
   "outputs": [],
   "source": [
    "pares = []\n",
    "for x in range(9):\n",
    "    if x % 2 == 0:\n",
    "        pares.append(x)\n",
    "    \n",
    "print(pares)"
   ]
  },
  {
   "cell_type": "markdown",
   "id": "d71e55b5-5ccb-4459-a9e0-1a29575bca66",
   "metadata": {},
   "source": [
    "### Versión completa"
   ]
  },
  {
   "cell_type": "markdown",
   "id": "c7494c47-ab45-4ab6-af91-24cc0b5a84d9",
   "metadata": {
    "tags": []
   },
   "source": [
    "La sentencia *if* de una list comprehension también puede contener una expresión alternativa.\n",
    "\n",
    "Sintaxis:\n",
    "\n",
    "```\n",
    "[<expression_1> if <condition> else <expression_2> for <item> in <iterable>]\n",
    "```\n",
    "\n",
    "Ejemplo: poner a cero los números pares."
   ]
  },
  {
   "cell_type": "code",
   "execution_count": null,
   "id": "ea935c7a-d397-4153-a399-527d6b54eb8d",
   "metadata": {
    "tags": []
   },
   "outputs": [],
   "source": [
    "[0 if x % 2 == 0 else x for x in range(9)]"
   ]
  },
  {
   "cell_type": "code",
   "execution_count": null,
   "id": "ed1a0acf-b031-48cb-bb9f-286ec71c27d5",
   "metadata": {},
   "outputs": [],
   "source": [
    "[x**2 if x > 2 else x for x in range(-4,5) if x > 0]"
   ]
  },
  {
   "cell_type": "code",
   "execution_count": null,
   "id": "400d6910-c218-43da-8904-fa6384a99870",
   "metadata": {},
   "outputs": [],
   "source": [
    "lista = []\n",
    "\n",
    "for x in range(-4,5):\n",
    "    if x > 0:\n",
    "        if x > 2:\n",
    "            lista.append(x**2)\n",
    "        else:\n",
    "            lista.append(x)\n",
    "\n",
    "print(lista)"
   ]
  },
  {
   "cell_type": "code",
   "execution_count": null,
   "id": "806c5705-400c-4c5d-a7e4-d65a89be257d",
   "metadata": {},
   "outputs": [],
   "source": [
    "[x**2 if x > 0 else 100 if x==0 else x for x in range(-4,5)]"
   ]
  },
  {
   "cell_type": "code",
   "execution_count": null,
   "id": "82a89f75-81f4-4af9-b50e-bae25ba55791",
   "metadata": {},
   "outputs": [],
   "source": [
    "lista = []\n",
    "\n",
    "for x in range(-4,5):\n",
    "    if x > 0:\n",
    "        lista.append(x**2)\n",
    "    elif x == 0:\n",
    "        lista.append(100)\n",
    "    else:\n",
    "        lista.append(x)\n",
    "\n",
    "print(lista)"
   ]
  },
  {
   "cell_type": "markdown",
   "id": "b23906c4-e54a-42cc-9aba-e49db842c60f",
   "metadata": {
    "tags": []
   },
   "source": [
    "### Anidamiento"
   ]
  },
  {
   "cell_type": "markdown",
   "id": "678848fe-3d43-4a20-bc5d-c71819bdc125",
   "metadata": {},
   "source": [
    "Las list comprehensions soportan anidamiento en sus expresiones.\n",
    "\n",
    "Ejemplo: bucle anidado para obtener una lista de tuplas que combinan los elementos de dos listas dadas."
   ]
  },
  {
   "cell_type": "code",
   "execution_count": null,
   "id": "86fab810-c36a-48cc-bf77-5c11c9b56b05",
   "metadata": {},
   "outputs": [],
   "source": [
    "lista_1 = [1, 2, 3]\n",
    "lista_2 = [4, 5]\n",
    "\n",
    "[(x, y) for x in lista_1 for y in lista_2]"
   ]
  },
  {
   "cell_type": "markdown",
   "id": "de0db929-3665-4351-a659-21e4847d1251",
   "metadata": {
    "tags": []
   },
   "source": [
    "### Pros y contras"
   ]
  },
  {
   "cell_type": "markdown",
   "id": "7d847b7b-8105-40a0-88d9-ffb31b296b03",
   "metadata": {},
   "source": [
    "* Principales ventajas de las comprehensions en comparación a un bucle convencional:\n",
    "\n",
    "    * Expresión compacta y legible, si estás familiarizado con la sintaxis.\n",
    "    * Mejor rendimiento.\n",
    "\n",
    "\n",
    "* Desventaja: no escalan bien. Una list comprehension se puede convertir rápidamente en una expresión difícil de entender."
   ]
  },
  {
   "cell_type": "markdown",
   "id": "c4c301d1-a76c-418b-b295-11906d28404b",
   "metadata": {},
   "source": [
    "### Otros tipos de comprehensions"
   ]
  },
  {
   "cell_type": "markdown",
   "id": "6f9b2cdc-4783-4750-94e4-fc70ba1c7b0d",
   "metadata": {},
   "source": [
    "**Dictionary comprehensions**\n",
    "\n",
    "Usando '{' y '}' como delimitadores y una expresión 'clave : valor', se obtiene un diccionario en lugar de una lista.\n",
    "\n",
    "Ejemplo: diccionario donde cada valor es el cuadrado de la clave."
   ]
  },
  {
   "cell_type": "code",
   "execution_count": null,
   "id": "0806057e-0502-4aef-92a9-b839235730d7",
   "metadata": {},
   "outputs": [],
   "source": [
    "d = {x : x*x for x in range(10)}\n",
    "\n",
    "print(d)\n",
    "print(type(d))"
   ]
  },
  {
   "cell_type": "code",
   "execution_count": null,
   "id": "2abcf22d-2659-477f-aa06-189a4dcef087",
   "metadata": {},
   "outputs": [],
   "source": [
    "items = ['Banana', 'Pear', 'Olives']\n",
    "price = [1.1, 1.4, 2.4]\n",
    "shopping = {k:v for k,v in zip(items,price)}\n",
    "print(shopping)"
   ]
  },
  {
   "cell_type": "code",
   "execution_count": null,
   "id": "466e9fd9-8dcd-4d21-af8b-405e24d6ce69",
   "metadata": {},
   "outputs": [],
   "source": [
    "items = ['Banana', 'Pear', 'Olives']\n",
    "price = [1.1, 1.4, 2.4]\n",
    "for k in zip(items, price):\n",
    "    print(type(k))\n",
    "    print(k)"
   ]
  },
  {
   "cell_type": "markdown",
   "id": "68f44320-a0de-46ac-9ab5-4e9831aa0146",
   "metadata": {},
   "source": [
    "**Set comprehensions**\n",
    "\n",
    "Usando '{' y '}' como delimitadores y una expresión simple (al igual que en las list comprehensions), se obtiene un conjunto.\n",
    "\n",
    "Ejemplo: conjunto que incluye los 10 primeros números naturales."
   ]
  },
  {
   "cell_type": "code",
   "execution_count": null,
   "id": "24e30825-941e-4ad7-b169-76aefaba29ec",
   "metadata": {},
   "outputs": [],
   "source": [
    "c = {x for x in range(10)}\n",
    "\n",
    "print(c)\n",
    "print(type(c))"
   ]
  },
  {
   "cell_type": "markdown",
   "id": "d48addd9-6186-4168-b8ba-f4e60326eff0",
   "metadata": {},
   "source": [
    "**Tuple comprehensions**"
   ]
  },
  {
   "cell_type": "code",
   "execution_count": null,
   "id": "479ebbd1-39ff-4afb-9301-09c770cede00",
   "metadata": {},
   "outputs": [],
   "source": [
    "tupla = tuple(x for x in range(4))\n",
    "print(tupla)"
   ]
  },
  {
   "cell_type": "markdown",
   "id": "a167219e-1461-427c-bcde-a52082132c54",
   "metadata": {},
   "source": [
    "# Excepciones"
   ]
  },
  {
   "cell_type": "markdown",
   "id": "d5513c33-86a8-41ec-b658-33cf902d1bf0",
   "metadata": {},
   "source": [
    "* Las excepciones son eventos que representan situaciones excepcionales.\n",
    "* Alteran el flujo de ejecución convencional.\n",
    "* Python lanza excepciones automáticamente cuando se producen errores.\n",
    "* El programador puede lanzar excepciones de manera explícita y también capturar excepciones para actuar como se crea conveniente."
   ]
  },
  {
   "cell_type": "markdown",
   "id": "f8decc3a-2ba9-484f-a231-50d9c33d9801",
   "metadata": {},
   "source": [
    "#### Try/except\n",
    "\n",
    "* Permite capturar excepciones y actuar en consecuencia.\n",
    "\n",
    "Ejemplo: error de acceso fuera de rango."
   ]
  },
  {
   "cell_type": "code",
   "execution_count": null,
   "id": "94e736b7-2e0b-47a2-8343-a11f251b9105",
   "metadata": {},
   "outputs": [],
   "source": [
    "lista = [6, 1, 0, 5]\n",
    "lista[4]\n",
    "print('Código tras el error')"
   ]
  },
  {
   "cell_type": "code",
   "execution_count": null,
   "id": "f3982a87-77e8-4434-9a65-2cd540553910",
   "metadata": {},
   "outputs": [],
   "source": [
    "lista = [6, 1, 0, 5]\n",
    "i = 300\n",
    "\n",
    "try:\n",
    "    a = lista[i]\n",
    "except IndexError:\n",
    "    print('He capturado la excepción de tipo IndexError')\n",
    "    a = 0\n",
    "    \n",
    "print('Código tras el bloque try')\n",
    "print(a)"
   ]
  },
  {
   "cell_type": "markdown",
   "id": "98040c6c-977c-48cc-9d86-6095692612f6",
   "metadata": {},
   "source": [
    "* Normalmente, al capturar excepciones, querremos ser lo más específicos posible, pero también se puedes usar una sentencia *try-except* que capture cualquier error."
   ]
  },
  {
   "cell_type": "code",
   "execution_count": null,
   "id": "b50daf53-af5b-40aa-98a4-faf964954b31",
   "metadata": {},
   "outputs": [],
   "source": [
    "try:\n",
    "    4/0\n",
    "except:\n",
    "    print('He capturado la división por cero')"
   ]
  },
  {
   "cell_type": "markdown",
   "id": "1ec43c2d-7a85-4b31-836a-0bb0baca1577",
   "metadata": {},
   "source": [
    "- Recoger la excepción e imprimir el mensaje de error"
   ]
  },
  {
   "cell_type": "code",
   "execution_count": null,
   "id": "0d798929-50f9-4d37-9e49-6f8d29dd3600",
   "metadata": {},
   "outputs": [],
   "source": [
    "lista = [6, 1, 0, 5]\n",
    "\n",
    "try:\n",
    "    print(lista[4])\n",
    "except Exception as e:\n",
    "    print(\"Error = \" + str(e))\n",
    "    \n",
    "print('Reacheable Code')"
   ]
  },
  {
   "cell_type": "markdown",
   "id": "5bb1ef58-08f6-405c-96fc-86990c0924eb",
   "metadata": {},
   "source": [
    "#### Try/finally\n",
    "\n",
    "* A través de *finally* podemos especificar código que queremos que se ejecute siempre (independientemente de si se produce la excepción o no).\n",
    "* Se suele usar para liberar recursos."
   ]
  },
  {
   "cell_type": "code",
   "execution_count": null,
   "id": "fd58eec8-5b8e-4abe-9932-2cc246c4033a",
   "metadata": {},
   "outputs": [],
   "source": [
    "lista = [6, 1, 0, 5]\n",
    "\n",
    "try:\n",
    "    a = lista[1]\n",
    "except IndexError:\n",
    "    print('Exception IndexError Captured')  \n",
    "finally:\n",
    "    print('Bloque finally')\n",
    "    b = lista[2]\n",
    "\n",
    "print('Código tras el bloque try')\n",
    "print(b)"
   ]
  },
  {
   "cell_type": "markdown",
   "id": "f2350f90-cfb4-4848-9bc0-cc2aaf44a438",
   "metadata": {},
   "source": [
    "#### raise\n",
    "\n",
    "* La sentencia *raise* nos permite lanzar excepciones de manera explícita."
   ]
  },
  {
   "cell_type": "code",
   "execution_count": null,
   "id": "031e0c88-8c60-4faa-99fd-b63301d41a76",
   "metadata": {},
   "outputs": [],
   "source": [
    "lista = [6, 1, 0, 5]\n",
    "indice = 4\n",
    "\n",
    "try:\n",
    "    if indice >= len(lista):\n",
    "        raise IndexError('Índice fuera de rango')\n",
    "except IndexError:\n",
    "    print('Excepción de tipo IndexError capturada')"
   ]
  },
  {
   "cell_type": "markdown",
   "id": "de9e56ce-90c5-4b55-a8b2-95e9939cd791",
   "metadata": {},
   "source": [
    "## Ejercicios"
   ]
  },
  {
   "cell_type": "markdown",
   "id": "62471dac-1378-4a89-8805-bd24e0f2e843",
   "metadata": {},
   "source": [
    "1. Escribe un programa que calcule la suma de todos los elementos de una *lista* dada. La lista sólo puede contener elementos numéricos.\n",
    "\n",
    "2. Dada una lista con elementos duplicados, escribir un programa que muestre una nueva lista con el mismo contenido que la primera pero sin elementos duplicados. Para este ejercicio, no puedes hacer uso de objetos de tipo 'Set'. \n",
    "\n",
    "3. Escribe un programa que construya un diccionario que contenga un número (entre 1 y *n*) de elementos de esta forma: (x, x*x). Ejemplo: para n = 5, el diccionario resultante sería {1: 1, 2: 4, 3: 9, 4: 16, 5: 25}\n",
    "\n",
    "4. Escribe un programa que, dada una lista de palabras, compruebe si alguna empieza por 'a' y tiene más de 9 caracteres. Si dicha palabra existe, el programa deberá terminar en el momento exacto de encontrarla. El programa también debe mostrar un mensaje apropiado por pantalla que indique el éxito o el fracaso de la búsqueda. En caso de éxito, también se mostrará por pantalla la palabra encontrada.\n",
    "\n",
    "5. Dada una lista *L* de números positivos, escribir un programa que muestre otra lista (ordenada) que contenga todo índice *i* que cumpla la siguiente condición: *L[i]* es múltiplo de 3. Por ejemplo, dada la lista *L* = [3,5,13,12,1,9] el programa mostrará la lista [0,3,5] dado que *L[0], L[3] y L[5]* son, respectivamente, 3, 12 y 9, que son los únicos múltiplos de 3 que hay en *L*.\n",
    "\n",
    "6. Dado un diccionario cuyos elementos son pares de tipo string y numérico (es decir, las claves son de tipo 'str' y los valores son de tipo 'int' o 'float'), escribe un programa que muestre por pantalla la clave cuyo valor asociado representa el valor númerico más alto de todo el diccionario. Por ejemplo, para el diccionario {'a': 4.3, 'b': 1, 'c': 7.8, 'd': -5} la respuesta sería 'c', dado que 7.8 es el valor más alto de los números 4.3, 1, 7.8 y -5.\n",
    "\n",
    "7. Dada la lista *a* = [2, 4, 6, 8] y la lista *b* = [7, 11, 15, 22], escribe un programa que itere las listas *a* y *b* y multiplique cada elemento de *a* que sea mayor que 5 por cada elemento de *b* que sea menor que 14. El programa debe mostrar los resultados por pantalla.\n",
    "\n",
    "8. Escribir un programa que pida un valor numérico X al usuario. Para ello podéis hacer uso de la función predefinida 'input'. El programa deberá mostrar por pantalla el resultado de la división 10/X. En caso de que el usuario introduzca valores no apropiados, el programa deberá gestionar correctamente las excepciones, por ejemplo, mostrando mensajes informativos por pantalla.\n",
    "\n",
    "9. Escribir un programa que cree un *diccionario* cualquiera. Posteriormente, el programa pedirá al usuario (a través de la función predefinida 'input') que introduzca una clave del diccionario. Si la clave introducida es correcta (es decir, existe en el diccionario), el programa mostrará por pantalla el valor asociado a dicha clave. En caso de que la clave no exista, el programa gestionará de manera apropiada el error, por ejemplo, mostrando un mensaje informativo al usuario.\n",
    "\n",
    "10. Escribe una *list comprehension* que construya una lista con los números *enteros* positivos de una lista de números dada. La lista original puede incluir números de tipo *float*, los cuales deben ser descartados.\n",
    "\n",
    "11. Escribe una *set comprehension* que, dada una palabra, construya un conjunto que contenga las vocales de dicha palabra.\n",
    "\n",
    "12. Escribe una *list comprehension* que construya una lista con todos los números del 0 al 50 que contengan el dígito 3. El resultado será: [3, 13, 23, 30, 31, 32, 33, 34, 35, 36, 37, 38, 39, 43].\n",
    "\n",
    "13. Escribe una *dictionary comprehension* que construya un diccionario que incluya los tamaños de cada palabra en una frase dada. Ejemplo: el resultado para la frase \"Soy un ser humano\" será {'Soy': 3, 'un': 2, 'ser': 3, 'humano': 6}\n",
    "\n",
    "14. Escribe una *list comprehension* que construya una lista que incluya todos los números del 1 al 10 en orden. La primera mitad se mostrarán en formato numérico; la segunda mitad en texto. Es decir, el resultado será: [1, 2, 3, 4, 5, 'seis', 'siete', 'ocho', 'nueve', 'diez']."
   ]
  },
  {
   "cell_type": "markdown",
   "id": "9c774bb3-7943-4191-ac73-02c1d93cd1b9",
   "metadata": {},
   "source": [
    "## Soluciones"
   ]
  },
  {
   "cell_type": "code",
   "execution_count": null,
   "id": "3d9fab36-61d0-485c-82f3-47169cb92c4d",
   "metadata": {},
   "outputs": [],
   "source": [
    "# Ejercicio 1\n",
    "\n",
    "numeros = [1,5,9,2,3]\n",
    "\n",
    "suma = 0\n",
    "for numero in numeros:\n",
    "    suma += numero\n",
    "    \n",
    "print(suma)"
   ]
  },
  {
   "cell_type": "code",
   "execution_count": null,
   "id": "13e890d2-cc4f-4f4b-a1e4-668256737e19",
   "metadata": {},
   "outputs": [],
   "source": [
    "# Ejercicio 2\n",
    "\n",
    "numeros = [1,2,2,3,4,5,4,5,3,3,1]\n",
    "\n",
    "resultado = []\n",
    "for numero in numeros:\n",
    "    if numero not in resultado:\n",
    "        resultado.append(numero)\n",
    "\n",
    "print(resultado)"
   ]
  },
  {
   "cell_type": "code",
   "execution_count": null,
   "id": "eebd214c-8882-4df2-b779-146d526dc262",
   "metadata": {},
   "outputs": [],
   "source": [
    "# Ejercicio 3\n",
    "\n",
    "n = 5\n",
    "diccionario = {}\n",
    "\n",
    "for i in range(1,n+1):\n",
    "    diccionario[i] = i*i\n",
    "    \n",
    "print(diccionario)"
   ]
  },
  {
   "cell_type": "code",
   "execution_count": null,
   "id": "0de3c6b8-bdf5-4c47-aff2-a23cf852e7ea",
   "metadata": {},
   "outputs": [],
   "source": [
    "# Ejercicio 4\n",
    "\n",
    "palabras = [\"\", \"Valencia\", \"python\", \"asignaturas\", \"programación\", \"java\", \"estudiantes\", \"académicos\"]\n",
    "\n",
    "for palabra in palabras:\n",
    "    if len(palabra) >= 9 and palabra[0] == 'a':\n",
    "        print(f\"Palabra encontrada: {palabra}\")\n",
    "        break\n",
    "else:\n",
    "    print(\"Palabra no encontrada\")"
   ]
  },
  {
   "cell_type": "code",
   "execution_count": null,
   "id": "6f1c5354-dc24-4aec-b2ea-17742fe59491",
   "metadata": {},
   "outputs": [],
   "source": [
    "# Ejercicio 5\n",
    "\n",
    "L = [3,5,13,12,1,9]\n",
    "\n",
    "resultado = []\n",
    "for i in range(len(L)):\n",
    "    if L[i] % 3 == 0:\n",
    "        resultado.append(i)\n",
    "        \n",
    "print(resultado)"
   ]
  },
  {
   "cell_type": "code",
   "execution_count": null,
   "id": "08329d14-2e9a-4044-9060-f59c1138760a",
   "metadata": {},
   "outputs": [],
   "source": [
    "# Ejercicio 6\n",
    "\n",
    "d = {'a':4.3, 'b':1, 'c':7.8, 'd':-5}\n",
    "\n",
    "maximo = float(\"-inf\") # Inicializamos la variable 'maximo' a -infinito. Para este ejercicio, también valdría cualquier valor negativo muy pequeño.\n",
    "\n",
    "if(len(d) == 0):\n",
    "    print(\"El diccionario está vacío\")\n",
    "\n",
    "for clave, valor in d.items():\n",
    "    if valor > maximo:\n",
    "        maximo = valor\n",
    "        resultado = clave\n",
    "        \n",
    "print(resultado)"
   ]
  },
  {
   "cell_type": "code",
   "execution_count": null,
   "id": "b3bba42f-70d2-4062-9da5-313be7d4a8aa",
   "metadata": {},
   "outputs": [],
   "source": [
    "# Ejercicio 7\n",
    "\n",
    "a = [2, 4, 6, 8]\n",
    "b = [7, 11, 15, 22]\n",
    "\n",
    "for i in a:\n",
    "    if i > 5:\n",
    "        for j in b:\n",
    "            if j < 14:\n",
    "                print(f\"{i} x {j} = {i*j}\")"
   ]
  },
  {
   "cell_type": "code",
   "execution_count": null,
   "id": "54dfc12b-d9ba-431f-ac7c-ea1b7d99ff2a",
   "metadata": {},
   "outputs": [],
   "source": [
    "# Ejercicio 8\n",
    "\n",
    "try:\n",
    "    x = input()\n",
    "    numero = float(x)\n",
    "    print(f\"El resultado de 10/{x} es: {10/numero}\")\n",
    "except ValueError:\n",
    "    print(f\"El valor '{x}' no es numérico\")\n",
    "except ZeroDivisionError:\n",
    "    print(\"Error: división por cero\")"
   ]
  },
  {
   "cell_type": "code",
   "execution_count": null,
   "id": "a63a76d0-ad98-4cdd-b997-c9cc45b65f17",
   "metadata": {},
   "outputs": [],
   "source": [
    "# Ejercicio 9\n",
    "\n",
    "notas = {'Programación': 9.5, \"Inteligencia artificial\": 7.6, \"Redes\": 5.2, \"Sistemas operativos\": 6.4}\n",
    "\n",
    "try:\n",
    "    asignatura = input(\"Introduce una asignatura\")\n",
    "    print(f\"La nota de la asignatura '{asignatura}' es: {notas[asignatura]}\")\n",
    "except KeyError:\n",
    "    print(f\"Asignatura incorrecta: {asignatura}\")"
   ]
  },
  {
   "cell_type": "code",
   "execution_count": null,
   "id": "f831a312-c0bb-4bb3-96b2-6e1a5d7fa294",
   "metadata": {},
   "outputs": [],
   "source": [
    "# Ejercicio 10\n",
    "\n",
    "lista = [1, 4, -3, -1.5, 6.5, 2, 8, 2.1]\n",
    "\n",
    "[numero for numero in lista if type(numero) == int and numero > 0]"
   ]
  },
  {
   "cell_type": "code",
   "execution_count": null,
   "id": "4ad7c4a8-5292-477e-8592-daee5462168b",
   "metadata": {},
   "outputs": [],
   "source": [
    "# Ejercicio 11\n",
    "\n",
    "palabra = \"murcielago\"\n",
    "\n",
    "{letra for letra in palabra if letra in ('a', 'e', 'i', 'o', 'u')}"
   ]
  },
  {
   "cell_type": "code",
   "execution_count": null,
   "id": "d6d5af76-7636-4e34-9ded-f28a1676e40c",
   "metadata": {},
   "outputs": [],
   "source": [
    "# Ejercicio 12\n",
    "\n",
    "[numero for numero in range(51) if '3' in str(numero)]"
   ]
  },
  {
   "cell_type": "code",
   "execution_count": null,
   "id": "4bc0dfbd-1312-45d3-928a-5373fbc78e6e",
   "metadata": {},
   "outputs": [],
   "source": [
    "# Ejercicio 13\n",
    "\n",
    "frase = \"Soy un ser humano\"\n",
    "\n",
    "{palabra : len(palabra) for palabra in frase.split() }"
   ]
  },
  {
   "cell_type": "code",
   "execution_count": null,
   "id": "c3938287-b2c7-444b-9a4d-91395c94001c",
   "metadata": {},
   "outputs": [],
   "source": [
    "# Ejercicio 14\n",
    "\n",
    "numero_a_palabra = {6 : \"seis\", 7 : \"siete\", 8 : \"ocho\", 9 : \"nueve\", 10 : \"diez\"}\n",
    "\n",
    "[numero if numero <= 5 else numero_a_palabra[numero] for numero in range(1,11)]"
   ]
  }
 ],
 "metadata": {
  "kernelspec": {
   "display_name": "Python 3 (ipykernel)",
   "language": "python",
   "name": "python3"
  },
  "language_info": {
   "codemirror_mode": {
    "name": "ipython",
    "version": 3
   },
   "file_extension": ".py",
   "mimetype": "text/x-python",
   "name": "python",
   "nbconvert_exporter": "python",
   "pygments_lexer": "ipython3",
   "version": "3.11.4"
  }
 },
 "nbformat": 4,
 "nbformat_minor": 5
}
