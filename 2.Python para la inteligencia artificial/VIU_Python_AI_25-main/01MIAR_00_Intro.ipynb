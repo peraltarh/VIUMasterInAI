{
 "cells": [
  {
   "cell_type": "markdown",
   "metadata": {
    "slideshow": {
     "slide_type": "slide"
    }
   },
   "source": [
    "<img src=\"img/viu_logo.png\" width=\"200\">\n",
    "\n",
    "## 01MIAR - Python para Inteligencia Artificial\n",
    "### Presentación de la asignatura\n",
    "\n",
    "![logo](img/python_logo.png)\n",
    "\n",
    "*Ivan Fuertes / Franklin Alvarez*"
   ]
  },
  {
   "cell_type": "markdown",
   "metadata": {},
   "source": [
    "## Presentación\n",
    "\n",
    "Profesores:\n",
    "- Grupo A: Iván Fuertes - ivan.fuertes@professor.universidadviu.com\n",
    "- Grupo B: Franklin Alvarez - falvarezc@professor.universidadviu.com"
   ]
  },
  {
   "cell_type": "markdown",
   "metadata": {
    "slideshow": {
     "slide_type": "subslide"
    }
   },
   "source": [
    "## Objetivos\n",
    "- Diseñar e implementar programas básicos en Python\n",
    "- Conocer cómo desarrollar scripts y Jupyter Notebook\n",
    "- Saber importar y configurar módulos externos comunes en un entorno propio\n",
    "- Familiarización con modulos para análisis de datos (NumPy, pandas, matplotlib)\n",
    "- Conocer las técnicas básicas de análisis de datos\n"
   ]
  },
  {
   "cell_type": "markdown",
   "metadata": {},
   "source": [
    "## Metodología\n",
    "\n",
    "- Clase Expositiva\n",
    "- Actividad en Grupo\n",
    "- Problemas\n",
    "- Foros\n",
    "- Trabajo Autónomo"
   ]
  },
  {
   "cell_type": "markdown",
   "metadata": {
    "jp-MarkdownHeadingCollapsed": true
   },
   "source": [
    "## Sesiones\n",
    "\n",
    "| Sesión | Descripción                    | Grupo A                | Grupo B               |\n",
    "|:-------|:-------------------------------| :----------------------| :---------------------|\n",
    "| TC     | Tutoria Colectiva Presentación | 05-05-25 @ 18:00/20:00 | 05-05-25 @ 20:00/22:00|\n",
    "| VC 00  | T01 Intro Python               | 07-05-25 @ 18:00/20:00 | 08-05-25 @ 20:00/22:00|\n",
    "| VC 01  | T02 Tipos de Datos             | 12-05-25 @ 18:00/20:00 | 12-05-25 @ 20:00/22:00|\n",
    "| VC 02  | T03 Estructuras de Control     | 19-05-25 @ 18:00/20:00 | 19-05-25 @ 20:00/22:00|\n",
    "| VC 03  | T04+05 Funciones y Ficheros    | 22-05-25 @ 18:00/20:00 | 22-05-25 @ 20:00/22:00|\n",
    "| VC 04  | T06+07 OOP y Python Avanzado   | 26-05-25 @ 18:00/20:00 | 26-05-25 @ 20:00/22:00|\n",
    "| VC 05  | Actividad Grupal               | 02-06-25 @ 18:00/20:00 | 02-06-25 @ 20:00/22:00|\n",
    "| VC 06  | T08 NumPy                      | 05-06-25 @ 18:00/20:00 | 05-06-25 @ 20:00/22:00|\n",
    "| VC 07  | T09 Pandas                     | 09-06-25 @ 18:00/20:00 | 09-06-25 @ 20:00/22:00|\n",
    "| VC 08  | T10 Más Pandas                 | 16-06-25 @ 18:00/20:00 | 13-06-25 @ 18:00/20:00|\n",
    "| VC 09  | T11 Visualización de Datos     | 19-06-25 @ 18:00/20:00 | 19-06-25 @ 20:00/22:00|\n",
    "| VC 10  | T12 Procesamiento de Datos     | 23-06-25 @ 18:00/20:00 | 23-06-25 @ 20:00/22:00|\n",
    "| VC 11  | T13 Generadores                | 30-06-25 @ 18:00/20:00 | 30-06-25 @ 20:00/22:00|\n"
   ]
  },
  {
   "cell_type": "markdown",
   "metadata": {},
   "source": [
    "## Comunicación\n",
    "- Blackboard, Foro\n",
    "- Clases Online\n",
    "- Email\n",
    "  - Grupo A: ivan.fuertes@professor.universidadviu.com\n",
    "  - Grupo B: falvarezc@professor.universidadviu.com\n",
    "- Soporte, soporte@campusviu.es"
   ]
  },
  {
   "cell_type": "markdown",
   "metadata": {
    "slideshow": {
     "slide_type": "slide"
    }
   },
   "source": [
    "## Recursos de la asignatura\n",
    "- En el aula virtual\n",
    " - Manual de la asignatura en el aula virtual\n",
    " - Jupyter notebooks de las clases\n",
    " - Actividades (descripción y entregas)\n",
    "\n",
    "* GitHub (send user) - https://github.com/vany-viu/01MIAR_ABR_25"
   ]
  },
  {
   "cell_type": "markdown",
   "metadata": {
    "slideshow": {
     "slide_type": "fragment"
    }
   },
   "source": [
    "- Documentación oficial \n",
    " - Python: https://docs.python.org/3/\n",
    " - NumPy: https://docs.scipy.org/doc/\n",
    " - pandas: https://pandas.pydata.org/index.html\n",
    " - matplotlib: https://matplotlib.org/"
   ]
  },
  {
   "cell_type": "markdown",
   "metadata": {},
   "source": [
    "## Actividades y Entregas\n",
    "\n",
    "\n",
    "|Nombre | Tipo | Entrega | Peso [%]| Fecha Entrega| Horario |\n",
    "| ---- | ---- | ---- | ---- | ---- | ---- |\n",
    "|Análisis y representación |  Portafolio | Notebook | 30 | 1 y 2 Conv ||\n",
    "|Video* |  Portfolio | Notebook | 10 | 20/06/2025 y 21/06/2025||\n",
    "|Paper |  Portfolio | Notebook | 10 | 1 y 2 Conv ||\n",
    "|Foros* |  Portfolio | Entradas en foro | 10 | 1 Conv ||\n",
    "|Examen |  Examen | Preguntas | 40 | 1 y 2 Conv | 12 a 14 y 20 a 22|\n",
    "\n",
    "$*$ No disponible en segunda convocatoria.\n",
    "\n",
    "### Primera convocatoria - 25/07/25\n",
    "\n",
    "### Segunda convocatoria - 25/09/25\n",
    "- No hay foro ni actividad de video en segunda convocatoria\n",
    "\n",
    "### Entrega de notebooks a través de las actividades del campus virtual"
   ]
  },
  {
   "cell_type": "markdown",
   "metadata": {
    "slideshow": {
     "slide_type": "slide"
    }
   },
   "source": [
    "## Foros\n",
    "### Introducción\n",
    "- Generar Ideas Nuevas y Llegar a Nuevos Conocimientos\n",
    "- Sentido Crítico y Concluir con Medidas, Soluciones o Nuevos Enfoques\n",
    "- Aportación de o Desarrollo de Temas Relacionando Inteligencia Artificial y el Uso de Herramientas de Programación, en concreto Python\n",
    "- Aportaciones de Referencias\n",
    "\n",
    "## Tema 1\n",
    "- Chatgpt. \n",
    "\n",
    "¿Cómo puede sacarse partido en proyectos en los que se requiere de programación para tratamiento de datos?. \n",
    "\n",
    "¿Qué usos son o podrían ser los más habituales? \n",
    "\n",
    "## Tema 2\n",
    "- Formatos de ficheros para tratamiento de datos tabulados (csv, xls, ...) y el uso en función del volumen o proyecto. \n",
    "\n",
    "¿Cuáles son los más usados y por cuáles podría ser reemplazados? \n",
    " \n",
    "## Tema 3\n",
    "- ¿Por qué Python? Alternativas a Python en la I.A. \n",
    "\n",
    "¿Qué otros lenguajes son utilizados? Casos de uso, de éxito...\n",
    "\n",
    "## Tema 4\n",
    "- Aplicaciónes para Inteligencia Artificial usando Python, \n",
    "\n",
    "casos de éxito en empresa, casos de fracaso, beneficios al trabajar en Python en un proyecto real.\n",
    "\n",
    "## Tema 5\n",
    "- ¿Cómo implementar mejoras en los tiempos de ejecución de scripts de Python para el procesamiento de datos?\n",
    "\n",
    "Exposición de fragmentos de código corto destaclables (snippets) sobre Python básico o de Pandas para el tratamiento de datos. \n",
    " \n",
    "## Evaluación\n",
    "- 10% de la Nota Final\n",
    "- Sólo se Podrá Participar en Primera Convocatoria.\n",
    "- Mínimo para Obtener una Nota Será de Dos Participaciones"
   ]
  },
  {
   "cell_type": "markdown",
   "metadata": {
    "slideshow": {
     "slide_type": "subslide"
    }
   },
   "source": [
    "## Instalación local\n",
    "\n",
    "Se puede optar por las siguientes configuraciones:\n",
    "- Local con Anaconda\n",
    "  - Incluye módulos para el curso (__NumPy__, __pandas__, __matplotlib__, __jupyter notebook__...)\n",
    "  - http://docs.anaconda.com/anaconda/install/\n",
    "  - https://www.anaconda.com/docs/getting-started/getting-started\n",
    "  - [Entornos virtuales en Anaconda](https://medium.com/@e.osovngas/tutorial-conda-enviroment-d93542dcea98)\n",
    "- Docker container\n",
    "- Instalar Python y entorno virtual\n",
    "  - Guía de instalación (para Windows, Linux y macOS): https://realpython.com/installing-python/\n",
    "  - [Python 3.12.x](https://www.python.org/downloads/) [3.9, 3.12]\n",
    "  - [3.11.9](https://www.python.org/downloads/release/python-3119/)\n",
    "  - No olvidéis marcar el checkbox con la opción de añadir Python a la variable de entorno PATH.\n",
    "- Google colab\n",
    "- IDEs: VSCode, PyCharm...\n",
    "\n",
    "\n",
    "$*$  [Tensorflow requirements](https://www.tensorflow.org/install/pip) Python 3.9 a 3.12 y Keras [Keras requirements](https://keras.io/about/) Python 3.7–3.11"
   ]
  },
  {
   "cell_type": "markdown",
   "metadata": {
    "slideshow": {
     "slide_type": "slide"
    }
   },
   "source": [
    "## Uso de Jupyter Lab / Jupyter Notebook\n",
    "- Permite intercalar el código con las explicaciones necesarias.\n",
    "- Presentaciones, ejercicios, actividades... __todo__ notebooks\n",
    "- Markdown/HTML + codigo en vivo\n",
    "- Markdown = https://www.markdownguide.org/\n",
    "- Facilita la colaboración y la presentación interactiva de código\n",
    "- Instalación\n",
    "  - *pip install jupyterlab*\n",
    "  - [Jupyter-lab](https://jupyter.org/install)\n",
    "- Levantar server\n",
    "  - En la terminal: __jupyter lab__ o __jupyter notebook__\n",
    "- Archivos _.ipynb_\n",
    "- Documentación https://jupyter.readthedocs.io/en/latest/"
   ]
  },
  {
   "cell_type": "markdown",
   "metadata": {
    "slideshow": {
     "slide_type": "subslide"
    }
   },
   "source": [
    "## Contenidos\n",
    "\n",
    "#### Introducción a la sintaxis de Python 3"
   ]
  },
  {
   "cell_type": "code",
   "execution_count": null,
   "metadata": {},
   "outputs": [],
   "source": [
    "# Hello world!!\n",
    "a = 5"
   ]
  },
  {
   "cell_type": "code",
   "execution_count": null,
   "metadata": {},
   "outputs": [],
   "source": [
    "print(f\"el valor {a} para la variable\")"
   ]
  },
  {
   "cell_type": "code",
   "execution_count": null,
   "metadata": {
    "slideshow": {
     "slide_type": "fragment"
    }
   },
   "outputs": [],
   "source": [
    "# funcion para sumar dos elementos\n",
    "def suma(a,b):\n",
    "    return a+b   "
   ]
  },
  {
   "cell_type": "code",
   "execution_count": null,
   "metadata": {},
   "outputs": [],
   "source": [
    "lista = [1,2,3]\n",
    "\n",
    "for i,value in enumerate(lista):\n",
    "    lista[i] = suma(value,10)\n",
    "\n",
    "print(lista)"
   ]
  },
  {
   "cell_type": "markdown",
   "metadata": {
    "slideshow": {
     "slide_type": "fragment"
    }
   },
   "source": [
    "#### Colecciones\n",
    "\n",
    "#### Uso de librerías fundamentales\n",
    "- NumPy"
   ]
  },
  {
   "cell_type": "code",
   "execution_count": null,
   "metadata": {
    "slideshow": {
     "slide_type": "fragment"
    }
   },
   "outputs": [],
   "source": [
    "import numpy as np\n",
    "\n",
    "random_list = np.random.randint(200,size=(10,2))\n",
    "random_list"
   ]
  },
  {
   "cell_type": "markdown",
   "metadata": {
    "slideshow": {
     "slide_type": "subslide"
    }
   },
   "source": [
    "- pandas"
   ]
  },
  {
   "cell_type": "code",
   "execution_count": null,
   "metadata": {
    "slideshow": {
     "slide_type": "fragment"
    }
   },
   "outputs": [],
   "source": [
    "import pandas as pd\n",
    "\n",
    "frame = pd.DataFrame(random_list)\n",
    "frame"
   ]
  },
  {
   "cell_type": "markdown",
   "metadata": {
    "slideshow": {
     "slide_type": "fragment"
    }
   },
   "source": [
    "- matplotlib & seaborn"
   ]
  },
  {
   "cell_type": "code",
   "execution_count": null,
   "metadata": {
    "slideshow": {
     "slide_type": "fragment"
    }
   },
   "outputs": [],
   "source": [
    "%matplotlib inline\n",
    "import matplotlib.pyplot as plt\n",
    "frame.plot()\n",
    "plt.show()"
   ]
  },
  {
   "cell_type": "markdown",
   "metadata": {
    "slideshow": {
     "slide_type": "subslide"
    }
   },
   "source": [
    "#### Introducción a análisis de datos en Python\n",
    "- Trabajar con strings\n",
    "- Limpieza de datos\n",
    "- Escritura y lectura de datos"
   ]
  },
  {
   "cell_type": "markdown",
   "metadata": {
    "slideshow": {
     "slide_type": "subslide"
    }
   },
   "source": [
    "### Homework Jupyter notebook\n",
    "- Entorno Anaconda + Python + Jupyter Notebook instalado\n",
    "- Creación de notebooks\n",
    "- Creación de tipos de celdas\n",
    "  - Markdown para texto e imágenes\n",
    "  - Code para código\n",
    "- Revisar los atajos de teclado e interiorizarlos "
   ]
  },
  {
   "cell_type": "markdown",
   "metadata": {
    "slideshow": {
     "slide_type": "slide"
    },
    "tags": []
   },
   "source": [
    "## Thx!!"
   ]
  }
 ],
 "metadata": {
  "celltoolbar": "Slideshow",
  "kernelspec": {
   "display_name": "Python 3 (ipykernel)",
   "language": "python",
   "name": "python3"
  },
  "language_info": {
   "codemirror_mode": {
    "name": "ipython",
    "version": 3
   },
   "file_extension": ".py",
   "mimetype": "text/x-python",
   "name": "python",
   "nbconvert_exporter": "python",
   "pygments_lexer": "ipython3",
   "version": "3.11.4"
  },
  "metadata": {
   "interpreter": {
    "hash": "f35a06f707b9576dd6b3ef079e74b1f578cbc33a28427aac1052a70586e6d412"
   }
  }
 },
 "nbformat": 4,
 "nbformat_minor": 4
}
