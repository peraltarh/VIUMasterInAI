{
 "cells": [
  {
   "cell_type": "markdown",
   "id": "50af40a0-166c-4c2e-a840-ecf5e7c44a3e",
   "metadata": {},
   "source": [
    "<img src=\"img/viu_logo.png\" width=\"200\">\n",
    "\n",
    "## 01MIAR - Advanced\n",
    "\n",
    "![logo](img/python_logo.png)\n",
    "\n",
    "*Ivan Fuertes / Franklin Alvarez*"
   ]
  },
  {
   "cell_type": "markdown",
   "id": "502484c8-b6f1-465d-927d-96832fe5cd07",
   "metadata": {},
   "source": [
    "# Estructuras de datos avanzadas"
   ]
  },
  {
   "cell_type": "markdown",
   "id": "9d73c17c-09d8-41d3-844a-9adf95fabc90",
   "metadata": {},
   "source": [
    "* Array.\n",
    "* 2D Array.\n",
    "* Lista enlazada (linked list).\n",
    "* Pila (stack).\n",
    "* Cola (queue).\n",
    "* Cola de prioridad (heap).\n",
    "* Tabla Hash.\n",
    "* Grafo.\n",
    "\n",
    "> Es importante elegir estructura de datos en base a qué operaciones queremos que se ejecuten de manera eficiente."
   ]
  },
  {
   "cell_type": "markdown",
   "id": "a31afa83-d80b-45de-ac32-c4cea58bdc1f",
   "metadata": {},
   "source": [
    "## Array"
   ]
  },
  {
   "cell_type": "markdown",
   "id": "a4316b7f-dc73-4935-a2f1-7ab3e11427c1",
   "metadata": {},
   "source": [
    "* Estructura contigua de memoria.\n",
    "* Las *listas* de Python están implementas como arrays.\n",
    "* Acceso aleatorio rápido a través de un índice.\n",
    "    * Dirección de memoria + offset."
   ]
  },
  {
   "cell_type": "markdown",
   "id": "a8b0dd05-3285-4817-aa87-a7047decba57",
   "metadata": {},
   "source": [
    "<img src=\"img/data_structures/array.png\" width=\"800\">"
   ]
  },
  {
   "cell_type": "code",
   "execution_count": null,
   "id": "2f76cde5-758c-4c97-8ea4-73f3db762fcb",
   "metadata": {},
   "outputs": [],
   "source": [
    "array = [0, 0, 0, 0, 0]\n",
    "array[1] = 3\n",
    "print(array)"
   ]
  },
  {
   "cell_type": "markdown",
   "id": "65214cd1-f4bc-42eb-80d1-ccb0abc97052",
   "metadata": {},
   "source": [
    "## 2D Array"
   ]
  },
  {
   "cell_type": "markdown",
   "id": "0a6bd067-00e2-436a-9978-9aaf6045fe20",
   "metadata": {},
   "source": [
    "* Estructura contigua de memoria.\n",
    "* Es un array de arrays.\n",
    "* Sirve para representación de *matrices*. Por lo tanto, puede verse como una tabla, con sus filas y columnas.\n",
    "* Acceso aleatorio rápido a través de 2 índices."
   ]
  },
  {
   "cell_type": "markdown",
   "id": "2f5cf568-6552-40ed-95a4-d7fdb247110c",
   "metadata": {},
   "source": [
    "<img src=\"img/data_structures/2D_array.png\" width=\"900\">"
   ]
  },
  {
   "cell_type": "markdown",
   "id": "ad6fa6ce-1f45-49fb-b0da-cb4e17777774",
   "metadata": {},
   "source": [
    "Ejemplo: registros de temperatura por día."
   ]
  },
  {
   "cell_type": "code",
   "execution_count": null,
   "id": "b67e30ef-a361-4527-b66d-c2a149a8c2af",
   "metadata": {},
   "outputs": [],
   "source": [
    "registros = [[10, 13, 16, 11], [5, 6, 8, 6], [11, 11, 12, 12], [7, 11, 16, 15]]\n",
    "print(registros[1][2]) #  Tercer registro del segundo día"
   ]
  },
  {
   "cell_type": "code",
   "execution_count": null,
   "id": "ce37788a-91a6-424c-bedc-a62ae7408235",
   "metadata": {},
   "outputs": [],
   "source": [
    "# Mostrar todos los registros\n",
    "for dia in registros:\n",
    "    for registro in dia:\n",
    "        print(registro, end = \" \")\n",
    "    print()"
   ]
  },
  {
   "cell_type": "markdown",
   "id": "1a3bb130-d270-4b89-a2bb-c70c8a2a3d8d",
   "metadata": {},
   "source": [
    "## Lista enlazada (Linked list)"
   ]
  },
  {
   "cell_type": "markdown",
   "id": "17c8948f-012c-48f1-bd18-4c307e214da0",
   "metadata": {},
   "source": [
    "* Similar a los arrays, pero los elementos no están en posiciones contiguas de memoria.\n",
    "* Cada elemento es un nodo que contiene dos partes:\n",
    "    * Un dato.\n",
    "    * Un enlace al siguiente nodo de la lista.\n",
    "* No permite acceso aleatorio en base a un índice.\n",
    "* Inserciones y borrados más rápidos que en un array."
   ]
  },
  {
   "cell_type": "markdown",
   "id": "a1efacb4-1780-44e6-9f83-02d9228c8631",
   "metadata": {},
   "source": [
    "<img src=\"img/data_structures/linked_list.png\" width=\"600\">"
   ]
  },
  {
   "cell_type": "markdown",
   "id": "01ce8ec9-4535-4369-a757-b7174ff17db0",
   "metadata": {},
   "source": [
    "Implementación a través de *deque* (double-ended queue)."
   ]
  },
  {
   "cell_type": "code",
   "execution_count": null,
   "id": "d8249e6e-a5c8-4353-908e-34009172c9dc",
   "metadata": {},
   "outputs": [],
   "source": [
    "from collections import deque\n",
    "\n",
    "linked_list = deque('abcd')\n",
    "print(linked_list)\n",
    "\n",
    "linked_list.append('e')\n",
    "print(linked_list)\n",
    "\n",
    "linked_list.remove('b')\n",
    "print(linked_list)"
   ]
  },
  {
   "cell_type": "markdown",
   "id": "9258d348-04ff-40b7-9c10-728b1277fdf3",
   "metadata": {
    "tags": []
   },
   "source": [
    "## Pila (Stack)"
   ]
  },
  {
   "cell_type": "markdown",
   "id": "47a511a8-9e6d-4f79-9b0a-54b1396e76c8",
   "metadata": {},
   "source": [
    "* Almacena items en orden Last-In/First-Out (LIFO).\n",
    "* Es decir, los items se extraen en orden contrario al orden de inserción.\n",
    "* Ejemplo de caso de uso: funcionalidad deshacer."
   ]
  },
  {
   "cell_type": "markdown",
   "id": "40ec4808-867f-4f10-9144-2c2b1f872023",
   "metadata": {},
   "source": [
    "<img src=\"img/data_structures/stack.png\" width=\"800\">"
   ]
  },
  {
   "cell_type": "markdown",
   "id": "1d3c9928-b42b-4e79-927f-6fa7503b645d",
   "metadata": {},
   "source": [
    "Hay varias opciones de implementación"
   ]
  },
  {
   "cell_type": "markdown",
   "id": "7ece3fab-7d10-4740-9572-6a65d7d280a8",
   "metadata": {},
   "source": [
    "#### Pilas usando Listas"
   ]
  },
  {
   "cell_type": "markdown",
   "id": "db8a05d4-267c-4a78-81ea-14152052fe0c",
   "metadata": {},
   "source": [
    "* *Push* con método *append*."
   ]
  },
  {
   "cell_type": "code",
   "execution_count": null,
   "id": "4e0acf9b-2a66-4272-bc41-9dc110bb3dbb",
   "metadata": {},
   "outputs": [],
   "source": [
    "pila = []\n",
    "\n",
    "pila.append('a')\n",
    "pila.append('b')\n",
    "pila.append('c')\n",
    "\n",
    "print(pila)\n",
    "\n",
    "print(pila.pop())\n",
    "print(pila.pop())\n",
    "print(pila.pop())\n",
    "\n",
    "print(pila)"
   ]
  },
  {
   "cell_type": "markdown",
   "id": "58464288-53cb-4a8d-be6e-3383aa47cf56",
   "metadata": {},
   "source": [
    "* Las listas están implementadas como un *array*.\n",
    "* Dado que los arrays son bloques de memoria contiguos, la operación *push* puede ocasionalmente tener un coste elevado.\n",
    "   * Esto es porque el array puede haberse quedado sin espacio. En este caso, Python internamente crea uno nuevo (más grande) y transfiere todos los elementos."
   ]
  },
  {
   "cell_type": "markdown",
   "id": "feb3467d-8e2a-4a1a-a3d9-118347a2e414",
   "metadata": {},
   "source": [
    "#### Pilas usando Deque"
   ]
  },
  {
   "cell_type": "code",
   "execution_count": null,
   "id": "f889f14c-be92-4a06-b35e-887ba85908c1",
   "metadata": {},
   "outputs": [],
   "source": [
    "from collections import deque\n",
    "pila = deque()\n",
    "\n",
    "pila.append('a')\n",
    "pila.append('b')\n",
    "pila.append('c')\n",
    "\n",
    "print(pila)\n",
    "\n",
    "print(pila.pop())\n",
    "print(pila.pop())\n",
    "print(pila.pop())\n",
    "\n",
    "print(pila)"
   ]
  },
  {
   "cell_type": "markdown",
   "id": "e6758a55-bc84-4483-ba80-fc570081419c",
   "metadata": {},
   "source": [
    "* *Deque* está implementada como *lista enlazada*.\n",
    "* La operación *pop* siempre tiene coste bajo.\n",
    "* Para implementar una pila, *deque* es más apropiado."
   ]
  },
  {
   "cell_type": "markdown",
   "id": "112f3c5e-352e-44b9-a646-57d1888c182f",
   "metadata": {},
   "source": [
    "## Cola (Queue)"
   ]
  },
  {
   "cell_type": "markdown",
   "id": "e852f606-4804-4153-947d-c6e9d2da5fde",
   "metadata": {},
   "source": [
    "* Almacena items en orden First-In/First-Out (FIFO).\n",
    "* Es decir, los items se extraen en orden de inserción.\n",
    "* Ejemplo de caso de uso: jobs de una impresora."
   ]
  },
  {
   "cell_type": "markdown",
   "id": "27d64eab-fb7e-4866-a827-7dacdb081bb9",
   "metadata": {},
   "source": [
    "<img src=\"img/data_structures/queue.png\" width=\"800\">"
   ]
  },
  {
   "cell_type": "markdown",
   "id": "7cf8693d-636e-45a1-9b47-14e4a844d24f",
   "metadata": {},
   "source": [
    "#### Colas usando Deque"
   ]
  },
  {
   "cell_type": "markdown",
   "id": "1520fe2b-64f1-45bc-a685-34f524298bb7",
   "metadata": {},
   "source": [
    "* *Enqueue* implementada como *append* y *dequeue* como *popleft*.\n",
    "* *Deque* está implementada como *lista enlazada*.\n",
    "* Ambas operaciones de las colas siempre tienen un coste bajo.\n",
    "* Es muy mala idea implementar colas usando listas de Python (arrays), ya que una de las operaciones requerirá desplazar todos los elementos."
   ]
  },
  {
   "cell_type": "code",
   "execution_count": null,
   "id": "47c4e7b6-876e-4693-84fd-4c32eebf4fde",
   "metadata": {},
   "outputs": [],
   "source": [
    "from collections import deque\n",
    "\n",
    "q = deque()\n",
    "q.append(1)\n",
    "q.append(2)\n",
    "q.append(3)\n",
    "\n",
    "print(q)\n",
    "\n",
    "print(q.popleft())\n",
    "print(q.popleft())\n",
    "print(q.popleft())\n",
    "\n",
    "print(q)"
   ]
  },
  {
   "cell_type": "markdown",
   "id": "0c03540c-6cf4-4299-ad19-429fd3aa0707",
   "metadata": {},
   "source": [
    "## Cola de prioridad (heaps)"
   ]
  },
  {
   "cell_type": "markdown",
   "id": "07f32bb8-b71b-4d22-b551-fb02de32e6b1",
   "metadata": {},
   "source": [
    "* Es como una cola, pero en lugar de extraer por orden de inserción, se extrae por orden de prioridad (en base a algún criterio de ordenación).\n",
    "* Ejemplo de caso de uso: lista de tareas, donde quieres ir abordando la más urgente.\n",
    "\n",
    "\n",
    "* Operaciones:\n",
    "    * *insert*: inserta un elemento en la cola de prioridad.\n",
    "    * *extract min/max*: extrae el elemento de mayor prioridad."
   ]
  },
  {
   "cell_type": "markdown",
   "id": "5c7913cc-162f-4ffa-b405-79f5ff20f890",
   "metadata": {},
   "source": [
    "#### Colas de prioridad usando Heapq"
   ]
  },
  {
   "cell_type": "markdown",
   "id": "b8235055-4d96-4e95-b98d-781f13e81824",
   "metadata": {},
   "source": [
    "* Implementación basada en *array*.\n",
    "* En [este enlace](https://realpython.com/python-heapq-module/) podéis encontrar detalles de cómo se implementan colas de prioridad por medio de arrays."
   ]
  },
  {
   "cell_type": "code",
   "execution_count": null,
   "id": "03dd0851-73ba-4cfb-bee7-9f76021a18de",
   "metadata": {},
   "outputs": [],
   "source": [
    "import heapq\n",
    "\n",
    "cola_prioridad = [3, 1, 9, 5]\n",
    "print('Array original:', cola_prioridad)\n",
    "heapq.heapify(cola_prioridad)\n",
    "print('Tras heapify:', cola_prioridad)\n",
    "\n",
    "heapq.heappush(cola_prioridad, 4)     # Insert\n",
    "print('Tras insertar 4: ', cola_prioridad)\n",
    "\n",
    "print('Pop devuelve:', heapq.heappop(cola_prioridad))  # Extract min\n",
    "print('Tras pop:', cola_prioridad)\n",
    "\n",
    "print('Pop devuelve:', heapq.heappop(cola_prioridad))  # Extract min\n",
    "print('Tras pop:', cola_prioridad)\n",
    "\n",
    "print('Pop devuelve:', heapq.heappop(cola_prioridad))  # Extract min\n",
    "print('Tras pop:', cola_prioridad)\n",
    "\n",
    "print('Pop devuelve:', heapq.heappop(cola_prioridad))  # Extract min\n",
    "print('Tras pop:', cola_prioridad)\n",
    "\n",
    "print('Pop devuelve:', heapq.heappop(cola_prioridad))  # Extract min\n",
    "print('Tras pop:', cola_prioridad)"
   ]
  },
  {
   "cell_type": "markdown",
   "id": "d2018991-e73f-452e-a18d-f137388e47df",
   "metadata": {},
   "source": [
    "## Tabla Hash"
   ]
  },
  {
   "cell_type": "markdown",
   "id": "517a0f5e-c8a6-4139-9a24-bd65e7393331",
   "metadata": {},
   "source": [
    "* Un array convencional + una función hash que determina el índice de cada elemento.\n",
    "* Aprovecha el acceso aleatorio de los arrays para soportar búsquedas muy eficientes.\n",
    "* Resolución de colisiones.\n",
    "    * Open addressing.\n",
    "    * Separate chaining."
   ]
  },
  {
   "cell_type": "markdown",
   "id": "3ac7081f-0ad8-4adb-a708-e2daecdccae9",
   "metadata": {},
   "source": [
    "<img src=\"img/data_structures/hash_table.png\" width=\"600\">"
   ]
  },
  {
   "cell_type": "markdown",
   "id": "88a91c86-3549-46f5-8155-136ef9539808",
   "metadata": {},
   "source": [
    "Los conjuntos (sets) y diccionarios de Python se implementan como una Tabla Hash.\n",
    "\n",
    "Ejemplo: mantener registro de personas que han acudido a un evento."
   ]
  },
  {
   "cell_type": "code",
   "execution_count": null,
   "id": "3a3935ec-7eb0-466b-bc8d-9a4d2ae50ec0",
   "metadata": {},
   "outputs": [],
   "source": [
    "personas = set()\n",
    "\n",
    "personas.add('Pablo Gil')\n",
    "personas.add('Jose Perez')\n",
    "personas.add('Beatriz Rodriguez')\n",
    "\n",
    "print(personas)\n",
    "\n",
    "print('Pablo Gil' in personas)\n",
    "print('Sofia Navarro' in personas)"
   ]
  },
  {
   "cell_type": "markdown",
   "id": "081a783e-c47b-4169-ae60-fa663aa32125",
   "metadata": {},
   "source": [
    "## Grafo"
   ]
  },
  {
   "cell_type": "markdown",
   "id": "9325c35e-3830-4485-b924-daa4d66c9629",
   "metadata": {},
   "source": [
    "* Permiten representar redes (nodos relacionados entre sí por medio de aristas).\n",
    "* Características:\n",
    "    * Dirigidos vs no dirigidos.\n",
    "    * Ponderados vs no ponderados.\n",
    "* Gran multitud de aplicaciones: los nodos pueden representar cualquier cosa que sea de interés para nuestra aplicación."
   ]
  },
  {
   "cell_type": "markdown",
   "id": "d84d2086-344e-4584-a9a3-2ed39f25b6b1",
   "metadata": {},
   "source": [
    "<img src=\"img/data_structures/graph.png\" width=\"900\">"
   ]
  },
  {
   "cell_type": "markdown",
   "id": "305b9780-a7bc-4030-a7a2-6560389b2108",
   "metadata": {},
   "source": [
    "Ejemplo: Camino más cortos ([Algoritmo de Dijkstra](https://es.wikipedia.org/wiki/Algoritmo_de_Dijkstra))."
   ]
  },
  {
   "cell_type": "markdown",
   "id": "a77f43d5-6d4b-4db1-9730-281c954dcec2",
   "metadata": {},
   "source": [
    "#### Implementación por medio de Lista de Adyacencia"
   ]
  },
  {
   "cell_type": "markdown",
   "id": "b1f492a3-b29a-4caa-bfa9-86ccf02d57da",
   "metadata": {},
   "source": [
    "* Una lista de listas enlazadas donde cada nodo del grafo se almacena junto a los vertices adyacentes."
   ]
  },
  {
   "cell_type": "code",
   "execution_count": null,
   "id": "21cde1b0-54b6-4e40-af97-79df56fc0d5f",
   "metadata": {},
   "outputs": [],
   "source": [
    "grafo = {\n",
    "    1 : [2, 3],\n",
    "    2 : [5],\n",
    "    3 : [5],\n",
    "    4 : [6],\n",
    "    5 : [4, 6],\n",
    "    6 : []\n",
    "}\n",
    "\n",
    "print(grafo)"
   ]
  },
  {
   "cell_type": "markdown",
   "id": "600aa0b2-4513-4d82-a660-967ea3e790d0",
   "metadata": {},
   "source": [
    "Mostrar los nodos de un grafo:"
   ]
  },
  {
   "cell_type": "code",
   "execution_count": null,
   "id": "5af094e3-68b6-4c6f-b12f-3eee2bbb5204",
   "metadata": {},
   "outputs": [],
   "source": [
    "print(list(grafo.keys()))"
   ]
  },
  {
   "cell_type": "markdown",
   "id": "056cc02f-49e3-4ab2-89e9-5713486e4e6c",
   "metadata": {},
   "source": [
    "Añadir nuevo nodo a un grafo:"
   ]
  },
  {
   "cell_type": "code",
   "execution_count": null,
   "id": "77b4ffc3-4d0b-47c7-8285-4af1a958e498",
   "metadata": {},
   "outputs": [],
   "source": [
    "def anyadir_nodo(nodo):\n",
    "    if nodo not in grafo:\n",
    "        grafo[nodo] = []\n",
    "\n",
    "anyadir_nodo(7)\n",
    "print(grafo)"
   ]
  },
  {
   "cell_type": "markdown",
   "id": "1ea5f51d-35d5-4ab2-9993-a74172a7c107",
   "metadata": {},
   "source": [
    "Añadir nueva arista:"
   ]
  },
  {
   "cell_type": "code",
   "execution_count": null,
   "id": "9ca42c1c-7a11-4308-8e50-e456e6c2b9d3",
   "metadata": {},
   "outputs": [],
   "source": [
    "def anyadir_arista(nodo_origen, nodo_destino):\n",
    "    if nodo_origen in grafo and nodo_destino not in grafo[nodo_origen]:\n",
    "        grafo[nodo_origen].insert(0, nodo_destino)\n",
    "        \n",
    "anyadir_arista(6, 7)\n",
    "print(grafo)"
   ]
  },
  {
   "cell_type": "markdown",
   "id": "ad31d142-432f-4b6b-8fed-2111a45c70dd",
   "metadata": {},
   "source": [
    "# Software Craftsmanship"
   ]
  },
  {
   "cell_type": "markdown",
   "id": "a54daf38-b969-4708-babc-16618d9910ab",
   "metadata": {},
   "source": [
    "* Movimiento que enfatiza la **excelencia técnica** como clave del éxito en la construcción de productos software.\n",
    "* Nace como respuesta a:\n",
    "   * Ingenieros de software que se centran más en el aprendizaje de nuevos frameworks y herramientas en lugar de buenas prácticas de ingeniería.\n",
    "   * La percepción de que en la industria del software se valora más el trabajo de gestión que el trabajo técnico.\n",
    "      * Se intenta ser productivo sin prestar atención a la excelencia técnica.\n",
    "\n",
    "> **No se puede ser productivo si el código sobre el que trabajamos es de baja calidad.**"
   ]
  },
  {
   "cell_type": "markdown",
   "id": "bccd3431-61f3-4619-af19-a08b14b76969",
   "metadata": {},
   "source": [
    "## Buenas prácticas de ingeniería software"
   ]
  },
  {
   "cell_type": "markdown",
   "id": "5b160645-5af7-4266-ac0e-ec07d44c06ab",
   "metadata": {},
   "source": [
    "#### Nombrado de variables"
   ]
  },
  {
   "cell_type": "markdown",
   "id": "facc580d-8644-432c-ada6-9963bfefcf79",
   "metadata": {},
   "source": [
    "* Se puede incrementar mucho la legibilidad del código a través de variables con nombres descriptivos.\n",
    "* Es desaconsejable el uso de \"números mágicos\": números que aparecen en el código sin explicación de su significado.\n",
    "\n",
    "Compara:"
   ]
  },
  {
   "cell_type": "code",
   "execution_count": null,
   "id": "4aa41396-903f-4340-9649-a5e4a8b1567b",
   "metadata": {},
   "outputs": [],
   "source": [
    "class Employee:\n",
    "    def pay(self, amount):\n",
    "        pass\n",
    "    \n",
    "employee = Employee()\n",
    "\n",
    "employee.pay(15 * 8)"
   ]
  },
  {
   "cell_type": "code",
   "execution_count": null,
   "id": "f1c2af2b-c851-4a3f-b74f-eadc348148fb",
   "metadata": {},
   "outputs": [],
   "source": [
    "hourly_rate = 15\n",
    "\n",
    "employee.pay(hourly_rate * 8)"
   ]
  },
  {
   "cell_type": "code",
   "execution_count": null,
   "id": "ab183be3-d292-4a9d-9b47-28fd3de2f6c3",
   "metadata": {},
   "outputs": [],
   "source": [
    "hours_per_day = 8\n",
    "\n",
    "employee.pay(hourly_rate * hours_per_day)"
   ]
  },
  {
   "cell_type": "code",
   "execution_count": null,
   "id": "90c5469b-1341-4bd7-9745-fe69e16242e5",
   "metadata": {},
   "outputs": [],
   "source": [
    "total_amount = hourly_rate * hours_per_day\n",
    "\n",
    "employee.pay(total_amount)"
   ]
  },
  {
   "cell_type": "markdown",
   "id": "dca350e3-2f6b-492d-80e9-5d563fcbadf4",
   "metadata": {},
   "source": [
    "#### Comentarios"
   ]
  },
  {
   "cell_type": "markdown",
   "id": "31d8a0c3-65db-4dba-a686-2250b6fa4266",
   "metadata": {
    "tags": []
   },
   "source": [
    "* Los comentarios son positivos para facilitar la comprensión del código, pero pueden perjudicar si se hace mal uso de ellos.\n",
    "* Un comentario no debería usarse para explicar código ilegible. La solución es reescribir el código para que sea más legible.\n",
    "* Los comentarios tienen el peligro de que pueden quedarse obsoletos y mentir acerca del código.\n",
    "\n",
    "> **La única verdad acerca de un sistema software reside en el código fuente**.\n",
    "\n",
    "Tipos de comentarios a evitar:"
   ]
  },
  {
   "cell_type": "markdown",
   "id": "a3a18f2e-081c-423b-b28d-fa0ca66f4f2b",
   "metadata": {},
   "source": [
    "**Comentarios con información inapropiada**\n",
    "\n",
    "* Es conveniente evitar comentarios que contengan información que se puede proporcionar fácilmente a través de otro medio.\n",
    "* Este tipo de comentarios es difícil de mantener."
   ]
  },
  {
   "cell_type": "code",
   "execution_count": null,
   "id": "d4e0ba35-cdb1-4149-a912-e568197e2809",
   "metadata": {},
   "outputs": [],
   "source": [
    "# Employee class.\n",
    "# History of changes.\n",
    "# 2021-02-23 - Pablo Pérez - implementation of pay method\n",
    "# 2021-02-27 - Eva López - refactoring: split pay method in two.\n",
    "# ....\n",
    "\n",
    "class Employee:\n",
    "    pass"
   ]
  },
  {
   "cell_type": "markdown",
   "id": "c5b64cb3-0cf1-4dd3-93c9-fe1fabad66fd",
   "metadata": {},
   "source": [
    "**Comentario obsoleto**\n",
    "\n",
    "* Cuando un comentario se queda obsoleto, miente y confunde en lugar de ayudar.\n",
    "* Siempre que veamos un comentario obsoleto, lo mejor es eliminarlo, o al menos tratar de actualizarlo."
   ]
  },
  {
   "cell_type": "code",
   "execution_count": null,
   "id": "fda8f87d-df02-4a49-a7cc-db6336f3cc86",
   "metadata": {},
   "outputs": [],
   "source": [
    "# Esta variable almacena el número total de empleados en la empresa\n",
    "empleados_con_contrato_parcial = 32"
   ]
  },
  {
   "cell_type": "markdown",
   "id": "b5a322cd-fd8c-425b-8829-10559b768e2b",
   "metadata": {},
   "source": [
    "**Comentario redundante**\n",
    "\n",
    "* Los comentarios no deben repetir lo que ya diga el código de manera clara.\n",
    "* Suelen aparecer cuando los comentarios son requeridos por algún tipo de convención o guía de estilo."
   ]
  },
  {
   "cell_type": "code",
   "execution_count": null,
   "id": "db06cb1a-d508-4504-9823-ff6d6747a8df",
   "metadata": {},
   "outputs": [],
   "source": [
    "i = 0\n",
    "i += 1  # Incrementa i \n",
    "\n",
    "# Esta función devuelve el número de empleados\n",
    "def obtener_numero_empleados():\n",
    "    pass"
   ]
  },
  {
   "cell_type": "markdown",
   "id": "c0ed0cf4-8709-4abf-ab53-f2d90122e253",
   "metadata": {
    "tags": []
   },
   "source": [
    "**Comentario mal escrito**\n",
    "\n",
    "* Los comentarios ocupan espacio en el código. Cuando escribamos uno, debemos esforzarnos en que sea el mejor comentario que podamos escribir: bien redactado y sin faltas de ortografía."
   ]
  },
  {
   "cell_type": "markdown",
   "id": "b445b990-8743-4ba8-a1f5-6a1df9483a9c",
   "metadata": {},
   "source": [
    "**Código comentado**\n",
    "\n",
    "* Debemos evitar dejar código comentado.\n",
    "* El sistema de control de versiones recuerda todos los estados en los cuales nuestro código ha estado en el pasado.\n",
    "* El código comentado se hace más y más irrelevante conforme pasa el tiempo."
   ]
  },
  {
   "cell_type": "markdown",
   "id": "952b6e0f-48ce-4d83-aee8-35a0620caaee",
   "metadata": {},
   "source": [
    "#### Separación vertical"
   ]
  },
  {
   "cell_type": "markdown",
   "id": "1fcacb4b-f066-45f9-a9e6-fb0d5cf88e7e",
   "metadata": {},
   "source": [
    "* Es importante que las variables se declaren cerca de su primer uso y no tengan una vida de cientos de líneas.\n",
    "* Evitar declarar todas las variables al inicio de una función.\n",
    "    * Da la sensación de que todas las variables se usan durante toda la función, lo cual no tiene porque ser cierto.\n",
    "* Cuando los usos de una variable están separados, modificaciones en el medio pueden introducir errores."
   ]
  },
  {
   "cell_type": "markdown",
   "id": "766d19a6-5b04-4334-9e16-db869592624d",
   "metadata": {},
   "source": [
    "#### Funciones"
   ]
  },
  {
   "cell_type": "markdown",
   "id": "c26d3435-1080-4647-8998-f073127172f4",
   "metadata": {},
   "source": [
    "* Es conveniente escribir funciones *cohesivas*:\n",
    "   * Cortas.\n",
    "   * Enfocadas a realizar solo una labor, no muchas.\n",
    "   * Nombres descriptivos.\n",
    "   * Pocos parámetros."
   ]
  },
  {
   "cell_type": "markdown",
   "id": "1b5ac8f3-ac5a-482b-8aeb-82dd5730fd2f",
   "metadata": {},
   "source": [
    "**Responsabilidad única**\n",
    "\n",
    "Compara:"
   ]
  },
  {
   "cell_type": "code",
   "execution_count": null,
   "id": "04eb7d64-4b79-4c1c-bd4f-116d2b26cf17",
   "metadata": {},
   "outputs": [],
   "source": [
    "def print_expenses():\n",
    "    for expense in expenses:\n",
    "        expensesStr = \"\"\n",
    "        if((expense.type == \"Breakfast\" and expense.amount >= 15) or (expense.type == \"Dinner\" and expense.amount >= 30)):\n",
    "            expenseStr += \"X | \"\n",
    "        expenseStr += (expense.type + \" | \" + expense.description + \" | \" + expense.amount)\n",
    "        print(expenseStr)"
   ]
  },
  {
   "cell_type": "code",
   "execution_count": null,
   "id": "d38524ff-3e5c-4d53-8c5d-85b350118ebf",
   "metadata": {},
   "outputs": [],
   "source": [
    "def is_overage(expense):\n",
    "    return (expense.type == \"Breakfast\" and expense.amount >= 15) or (expense.type == \"Dinner\" and expense.amount >= 30)\n",
    "\n",
    "overage_symbol = \"X\"\n",
    "\n",
    "def print_expense(expense):\n",
    "    print(expense.type + \" | \" + expense.description + \" | \" + expense.amount)\n",
    "    \n",
    "def print_expenses():\n",
    "    for expense in expenses:\n",
    "        if(is_overage(expense)):\n",
    "            print(overage_symbol + \" | \")\n",
    "        print_expense(expense)"
   ]
  },
  {
   "cell_type": "markdown",
   "id": "b2adf181-9a3d-4ac4-a9db-9a6f35c2975f",
   "metadata": {},
   "source": [
    "**Número de parámetros**\n",
    "\n",
    "Cuando una función tiene muchos parámetros:\n",
    "\n",
    "* Alto coste de mantenimiento:\n",
    "   * Cualquier modificación de la lista de parámetros impacta a todos los que llaman a la función.\n",
    "* Difícil lectura:\n",
    "   * Entender tanto la firma de la función como cualquier llamada a la función requiere mucho esfuerzo mental.\n",
    "   \n",
    "¿Cual es estas dos invocaciones a función es más fácil de entender?"
   ]
  },
  {
   "cell_type": "code",
   "execution_count": null,
   "id": "f4c825f6-97e5-4188-93dc-60cab9f340a3",
   "metadata": {},
   "outputs": [],
   "source": [
    "payment_service.deliver_pay_to(employee)\n",
    "\n",
    "payment_service.deliver_pay_to(employee, \"H_Emp\", \"SW Dept\", 2150, True, False)"
   ]
  },
  {
   "cell_type": "markdown",
   "id": "a1b182f5-d631-41f3-b0af-7e84aee10855",
   "metadata": {},
   "source": [
    "**Parámetros booleanos**\n",
    "\n",
    "* Es conveniente evitar (en la medida de lo posible) los parámetros booleanos.\n",
    "* Las funciones que reciben parámetros booleanos suelen hacer dos cosas: una para el caso 'True' y otra para el caso 'False'\n",
    "* Suele ser mejor dividir la función en dos que hagan sólo una cosa cada una.\n",
    "\n",
    "Compara:"
   ]
  },
  {
   "cell_type": "code",
   "execution_count": null,
   "id": "088e730a-6585-4f31-92ad-f3a6e624b63d",
   "metadata": {},
   "outputs": [],
   "source": [
    "def print_invoice(include_conditions):\n",
    "    # ... Code to print invoice ...\n",
    "    if(include_conditions):\n",
    "        print_conditions()\n",
    "\n",
    "# Invocaciones a la función        \n",
    "\n",
    "print_invoice(True)\n",
    "print_invoice(False)"
   ]
  },
  {
   "cell_type": "code",
   "execution_count": null,
   "id": "82feda16-6ed6-4fb7-898b-2741c326a2f7",
   "metadata": {},
   "outputs": [],
   "source": [
    "def print_invoice():\n",
    "    # ... Code to print invoice ...\n",
    "    \n",
    "def print_invoice_with_conditions():\n",
    "    print_invoice()\n",
    "    print_conditions()\n",
    "    \n",
    "# Invocaciones a las funciones\n",
    "    \n",
    "print_invoice_with_conditions()\n",
    "print_invoice()"
   ]
  },
  {
   "cell_type": "markdown",
   "id": "6def3947-7737-4ca1-9c30-b4265c73a408",
   "metadata": {},
   "source": [
    "#### Encapsulación de condicionales"
   ]
  },
  {
   "cell_type": "markdown",
   "id": "961b673f-7bbb-473c-a50b-8224011ef237",
   "metadata": {},
   "source": [
    "* Cuando una condición es compleja, es conveniente encapsularla en una función para hacer el código más legible.\n",
    "\n",
    "Compara:"
   ]
  },
  {
   "cell_type": "code",
   "execution_count": null,
   "id": "4253069e-0f24-4c58-bd27-4263b015df59",
   "metadata": {},
   "outputs": [],
   "source": [
    "if printer != None and len(jobs_queue) > 0 and printer.get_status() != 2:\n",
    "    # Print something"
   ]
  },
  {
   "cell_type": "code",
   "execution_count": null,
   "id": "a3a5fef1-9e45-42a8-a793-30243d3bec75",
   "metadata": {},
   "outputs": [],
   "source": [
    "if printer_is_ready():\n",
    "    # Print something"
   ]
  },
  {
   "cell_type": "markdown",
   "id": "ef94fd1a-7ab5-4c1e-ad12-160f9f97ada3",
   "metadata": {},
   "source": [
    "* Al encapsular condiciones, trata de evitar siempre nombres negativos. Expresar la negación de una función con nombre negativo (doble negación) es poco legible.\n",
    "\n",
    "Compara:"
   ]
  },
  {
   "cell_type": "code",
   "execution_count": null,
   "id": "809414ea-b21b-407f-9b36-33298ce85521",
   "metadata": {},
   "outputs": [],
   "source": [
    "if not printer_is_not_ready():\n",
    "    # Do something"
   ]
  },
  {
   "cell_type": "code",
   "execution_count": null,
   "id": "3addd010-68c8-4d7f-b4ee-31baf5fc34c5",
   "metadata": {},
   "outputs": [],
   "source": [
    "if printer_is_ready():\n",
    "    # Do something"
   ]
  },
  {
   "cell_type": "markdown",
   "id": "563e6bcd-b2fd-4639-8e39-32641c22c951",
   "metadata": {},
   "source": [
    "#### Argumentos selectores"
   ]
  },
  {
   "cell_type": "markdown",
   "id": "ca0fdac3-11c3-4e26-8e3c-45db7455a0ac",
   "metadata": {},
   "source": [
    "* Evita argumentos que se utilicen para indicar desde fuera lo que una función debe hacer internamente.\n",
    "* Los argumentos selectores:\n",
    "   * Rompen la encapsulación de la función.\n",
    "   * Son indicativos de que la función lleva a cabo más de una labor.\n",
    "   * Tienden a generar nombres ambiguos.\n",
    "\n",
    "Compara:"
   ]
  },
  {
   "cell_type": "code",
   "execution_count": null,
   "id": "062b4ec6-b312-420b-9666-6765d60e8257",
   "metadata": {},
   "outputs": [],
   "source": [
    "class Car:\n",
    "    def do_action(self, action):\n",
    "        if action == \"Start\":\n",
    "            # Code to start car.\n",
    "        elif action == \"Stop\":\n",
    "            # Code to stop car.\n",
    "        else:\n",
    "            # Other action"
   ]
  },
  {
   "cell_type": "code",
   "execution_count": null,
   "id": "b3c84acf-4e0c-46e1-8d0f-09448f826961",
   "metadata": {},
   "outputs": [],
   "source": [
    "class Car:\n",
    "    def start(self):\n",
    "        # Code to start car.\n",
    "        \n",
    "    def stop(self):\n",
    "        # Code to stop car."
   ]
  },
  {
   "cell_type": "markdown",
   "id": "b6449b76-374c-45e1-b0d7-708978d63501",
   "metadata": {},
   "source": [
    "* Las funciones con muchas condiciones anidadas son difíciles de modificar sin introducir errores. Es más sencillo añadir nuevas funciones y dejar las que existen sin modificar."
   ]
  },
  {
   "cell_type": "markdown",
   "id": "00ef5f9c-cfbe-4a88-b42c-98ab6cfc2ee2",
   "metadata": {},
   "source": [
    "#### Duplicación de código"
   ]
  },
  {
   "cell_type": "markdown",
   "id": "b237d6e1-8088-4728-935b-d0a7e6cd4f3f",
   "metadata": {},
   "source": [
    "* El código duplicado introduce dificultades de mantenimiento.\n",
    "    * Cuando queremos actualizarlo, hay que modificar todas las partes donde el código duplicado aparece, lo que es costoso y propenso a erorres.\n",
    "    \n",
    "* Es conveniente crear abstracciones (variables, funciones o clases) para eliminar el código duplicado.\n",
    "\n",
    "Compara:"
   ]
  },
  {
   "cell_type": "code",
   "execution_count": null,
   "id": "12cd692a-fc33-4e9f-88e3-af60dee4220a",
   "metadata": {},
   "outputs": [],
   "source": [
    "def print_expenses():\n",
    "    for expense in expenses:\n",
    "        if(expense.is_overage()):\n",
    "            print(\"X | \" + expense.type + \" | \" + expense.description + \" | \" + expense.amount)\n",
    "        print(expense.type + \" | \" + expense.description + \" | \" + expense.amount)"
   ]
  },
  {
   "cell_type": "markdown",
   "id": "bc788acc-d75d-4e24-8d1f-fa64cbcabc81",
   "metadata": {},
   "source": [
    "#### Consistencia"
   ]
  },
  {
   "cell_type": "code",
   "execution_count": null,
   "id": "5ce7c632-d261-4db5-bb3e-fc02c7cf7728",
   "metadata": {},
   "outputs": [],
   "source": [
    "def expense_to_string(expense):\n",
    "    return expense.type + \" | \" + expense.description + \" | \" + expense.amount\n",
    "\n",
    "def print_expenses():\n",
    "    for expense in expenses:\n",
    "        if(expense.is_overage()):\n",
    "            print(\"X | \" + expense_to_string(expense))\n",
    "        print(expense_to_string(expense))"
   ]
  },
  {
   "cell_type": "markdown",
   "id": "b41118cc-6050-4608-b0d3-45ac155d4621",
   "metadata": {},
   "source": [
    "* Sé consistente. Cuando hagas algo de una forma, hazlo siempre de la misma forma.\n",
    "* No hacerlo introduce complejidad innecesaria.\n",
    "* Al programar, especialmente al hacerlo en equipo, es importante definir una guía de estilo y seguirla en la medida de lo posible.\n",
    "\n",
    "Compara:"
   ]
  },
  {
   "cell_type": "code",
   "execution_count": null,
   "id": "d78691c0-93fa-4831-9cbf-7f5367291020",
   "metadata": {},
   "outputs": [],
   "source": [
    "class EmployeeRegistry:\n",
    "    def add_employee(self, employee):\n",
    "        pass\n",
    "    \n",
    "    def emp_remove(self, id):\n",
    "        pass\n",
    "    \n",
    "    def _findEmp(self, id):\n",
    "        pass"
   ]
  },
  {
   "cell_type": "code",
   "execution_count": null,
   "id": "7f5b8b9e-bd61-4b8f-806d-7f7ba42a41ab",
   "metadata": {},
   "outputs": [],
   "source": [
    "class EmployeeRegistry:\n",
    "    def add_employee(self, employee):\n",
    "        pass\n",
    "    \n",
    "    def remove_employee(self, id):\n",
    "        pass\n",
    "    \n",
    "    def find_employee(self, id):\n",
    "        pass"
   ]
  },
  {
   "cell_type": "markdown",
   "id": "f556953f-22fe-478d-b06e-7c844c1c104b",
   "metadata": {},
   "source": [
    "#### Preferencia polimorfismo sobre sentencias condicionales"
   ]
  },
  {
   "cell_type": "markdown",
   "id": "61130386-ebda-4110-9057-2f60a5a778e7",
   "metadata": {},
   "source": [
    "* Normalmente, sentencias condicionales que se utilizan para seleccionar el tipo de un objeto se pueden reemplazar por polimorfismo.\n",
    "\n",
    "Compara:"
   ]
  },
  {
   "cell_type": "code",
   "execution_count": null,
   "id": "89944c6d-ed1a-40c7-b1c8-fd18b985a276",
   "metadata": {},
   "outputs": [],
   "source": [
    "def calculate_area(figures):\n",
    "    for figure in figures:\n",
    "        if figure.type == \"Circle\":\n",
    "            calculate_circle_area(figure)\n",
    "        elif figure.type == \"Rectangle\":\n",
    "            calculate_rectangle_area(figure)\n",
    "        else:\n",
    "            calculate_triangle_area(figure)"
   ]
  },
  {
   "cell_type": "code",
   "execution_count": null,
   "id": "a58389d5-1819-48f1-80ab-910929c3e359",
   "metadata": {},
   "outputs": [],
   "source": [
    "def calculate_area(figures):\n",
    "    for figure in figures:\n",
    "        figure.calculate_area()"
   ]
  },
  {
   "cell_type": "markdown",
   "id": "601d6143-82e6-43e8-9f13-c174286814e8",
   "metadata": {},
   "source": [
    "En este ejemplo, podríamos tener una clase *Figure* y subclases para los diferentes tipos de figuras."
   ]
  },
  {
   "cell_type": "markdown",
   "id": "089baba3-426b-4ed9-b41a-a14c9be2ccec",
   "metadata": {},
   "source": [
    "# Software Testing"
   ]
  },
  {
   "cell_type": "markdown",
   "id": "db286b18-378f-4156-bac8-873be0fca51e",
   "metadata": {},
   "source": [
    "## ¿Qué es el software testing? "
   ]
  },
  {
   "cell_type": "markdown",
   "id": "6ff55091-dc2e-4c06-a77c-d545fe5ce07f",
   "metadata": {},
   "source": [
    "* Testing es la actividad de verificación de que el software funciona correctamente.\n",
    "* Puede ser manual o automático."
   ]
  },
  {
   "cell_type": "markdown",
   "id": "b67b62c6-a7bf-46f6-ae4d-ab379be35a37",
   "metadata": {},
   "source": [
    "#### Testing manual\n",
    "\n",
    "* Una persona prueba manualmente que una aplicación hace lo que se espera.\n",
    "    * Ejecución de *casos de prueba* especificados en un documento.\n",
    "    * Realización de testing *exploratorio*.\n",
    "\n",
    "Ejemplo de caso de prueba para una calculadora:\n",
    "\n",
    "* Introducir los valores 4 y 5, ejecutar la acción multiplicar y comprobar que el resultado es 20."
   ]
  },
  {
   "cell_type": "markdown",
   "id": "06a558eb-0903-4a61-bfa8-a9b5cd754513",
   "metadata": {},
   "source": [
    "#### Testing automático\n",
    "\n",
    "* Los *casos de prueba* pueden automatizarse a través de código fuente.\n",
    "    * Implementación de un \"programa que prueba otro programa\".\n",
    "\n",
    "\n",
    "* Los tests automatizados son mucho más eficientes que los tests manuales ya que se pueden ejecutar las veces que queramos sin la intervención de un ser humano."
   ]
  },
  {
   "cell_type": "markdown",
   "id": "abab9a2e-8ed4-4ff7-ba3e-e8e8066bc25e",
   "metadata": {},
   "source": [
    "De aquí en adelante, se hace referencia, salvo que se especifique lo contrario, únicamente a tests automatizados, ya que son los que como programadores más valor nos van a aportar."
   ]
  },
  {
   "cell_type": "markdown",
   "id": "1175f24c-780b-4c4c-a651-0a8b3fcc502b",
   "metadata": {},
   "source": [
    "## Tipos de tests"
   ]
  },
  {
   "cell_type": "markdown",
   "id": "d4be134a-9e48-4a6b-a375-4c209c575eba",
   "metadata": {},
   "source": [
    "Uno de los principales objetivos del testing es la **prevención** de bugs.\n",
    "\n",
    "* *Tests unitarios*: verifican módulos del software de manera aislada.\n",
    "* *Tests de aceptación*: verifican funcionalidad esperada por el usuario.\n",
    "* *Tests de interfaz gráfica (UI)*: verifican que la aplicación, a través de su interfaz gráfica, funciona correctamente.\n",
    "\n",
    "Además, también podemos probar el software de manera manual y exploratoria para **localización** de bugs que se nos hayan podido escapar."
   ]
  },
  {
   "cell_type": "markdown",
   "id": "88f4b21e-07a7-472c-9cfc-6090f7d2606e",
   "metadata": {},
   "source": [
    "<img src=\"img/testing/testing_pyramid.png\" width=\"700\">"
   ]
  },
  {
   "cell_type": "markdown",
   "id": "11337dd2-8124-4088-ace6-679e415d3e3b",
   "metadata": {},
   "source": [
    "Otra terminología que se puede encontrar dentro del campo del software testing:\n",
    "\n",
    "* *Tests de integración*: prueban varios módulos unitarios de manera integrada.\n",
    "* *Tests funcionales*: prueban funcionalidad que se espera de la aplicación. Es un término similar a tests de aceptación.\n",
    "* *Tests no funcionales*: prueban requisitos no funcionales, como rendimiento, escalabilidad, etc."
   ]
  },
  {
   "cell_type": "markdown",
   "id": "96f1c9cd-589a-473c-b5d4-af2d0a395ecf",
   "metadata": {},
   "source": [
    "## Estructura de un test automatizado"
   ]
  },
  {
   "cell_type": "markdown",
   "id": "e65354a8-0986-419d-a8b7-cb6615a1ac2a",
   "metadata": {},
   "source": [
    "Ejemplo: comprobación de que una función 'eliminar_duplicados' elimina correctamente los duplicados de una lista."
   ]
  },
  {
   "cell_type": "markdown",
   "id": "d86ebbe9-25e8-4f63-862a-cc4c3bae9307",
   "metadata": {
    "jp-MarkdownHeadingCollapsed": true,
    "tags": []
   },
   "source": [
    "#### Setup (test fixture)\n",
    "\n",
    "* En este paso se crean de todos los objetos necesarios para ejecutar el test.\n",
    "\n",
    "Ejemplo: creación de la lista [1, 2, 2, 2, 3, 4, 4]"
   ]
  },
  {
   "cell_type": "markdown",
   "id": "84af54e2-e90a-4bb3-914c-b5fbed81705c",
   "metadata": {},
   "source": [
    "#### Acción\n",
    "\n",
    "* Invocación del código que queremos probar.\n",
    "\n",
    "Ejemplo: invocación de la función 'eliminar_duplicados'"
   ]
  },
  {
   "cell_type": "markdown",
   "id": "10a8a8cb-7c7d-445e-a8ce-b5815445ff14",
   "metadata": {},
   "source": [
    "#### Verificación resultado\n",
    "\n",
    "* Comprobación de que la acción que hemos invocado ha producido el resultado esperado.\n",
    "\n",
    "Ejemplo: comprobación que la lista resultante tiene los elementos esperados, en este caso [1, 2, 3, 4]."
   ]
  },
  {
   "cell_type": "markdown",
   "id": "fc2511bb-5a44-43b3-8d5c-2a340edeaafd",
   "metadata": {},
   "source": [
    "#### Tear down\n",
    "\n",
    "* Cada test automatizado debe dejar el sistema en el mismo estado que estaba antes de ejecutar el test.\n",
    "* Así se evita que unos tests afecten los resultados de otros tests.\n",
    "* En el paso de 'tear down' se eliminan de todos los recursos persistentes creados por el test (por ejemplo, ficheros o registros en una BD).\n",
    "\n",
    "Ejemplo: no aplica en el ejemplo de la lista."
   ]
  },
  {
   "cell_type": "markdown",
   "id": "5aa2d9da-793b-48ab-a3be-441b9d358bde",
   "metadata": {},
   "source": [
    "## Beneficios del testing automático"
   ]
  },
  {
   "cell_type": "markdown",
   "id": "9f1e0d41-f551-402b-9f60-794f5e76305b",
   "metadata": {},
   "source": [
    "* Más eficiente que el testing manual, lo que conlleva una reducción de costes.\n",
    "* Reducción del número de bugs (prevención vs localización).\n",
    "* Incremento de **calidad**: permiten modificar el código para hacerlo más legible sin que tengamos miedo de introducir bugs.\n",
    "   * Los tests proporcionan una **red de seguridad**.\n",
    "* Facilitan la comprensión del sistema.\n",
    "    * Los tests proporcionan **especificaciones ejecutables** del comportamiento esperado.\n",
    "    * Estas especificaciones nos sirven como **ejemplos de código** que nos dicen cómo se debe usar el sistema."
   ]
  },
  {
   "cell_type": "markdown",
   "id": "29026407-b9c2-4fff-8571-248465df83f6",
   "metadata": {},
   "source": [
    "## Test-Driven Development (TDD)"
   ]
  },
  {
   "cell_type": "markdown",
   "id": "0aa8ad84-798f-46d2-9548-7ced5a2b4d12",
   "metadata": {},
   "source": [
    "* Un proceso de desarrollo en el cual los tests se crean antes que el código del sistema (*test-first*).\n",
    "* El código que desarrollamos va dirigido por los tests: cada test que añadimos representa una evolución del sistema.\n",
    "\n",
    "Proceso:\n",
    "\n",
    "1. Añadir test.\n",
    "2. Ejecutar test. Debe fallar porque el código para que el test pase aun no existe.\n",
    "3. Implementar código para que pase el test.\n",
    "4. Ejecutar tests. Todos los tests implementados deberían pasar.\n",
    "5. Mejorar la calidad del código (refactoring).\n",
    "6. Repetir.\n",
    "\n",
    "Más información [aquí](https://en.wikipedia.org/wiki/Test-driven_development)."
   ]
  },
  {
   "cell_type": "markdown",
   "id": "b95f25bc-b948-4135-890e-558fd5bd061e",
   "metadata": {},
   "source": [
    "## PyTest: Testing en Python"
   ]
  },
  {
   "cell_type": "markdown",
   "id": "8917acdb-556a-4186-a278-5b462ff63123",
   "metadata": {},
   "source": [
    "- [Pytest](https://docs.pytest.org/en/6.2.x/): framework de testing para Python.\n",
    "\n",
    "Para hacerlo funcionar en Jupyter-Lab, es necesario instalar un módulo de [IPython](https://ipython.org/) llamado *ipytest*.\n",
    "\n",
    "Simplemente ejecutar este comando en vuestro shell:\n",
    "```\n",
    "pip install ipytest\n",
    "```"
   ]
  },
  {
   "cell_type": "code",
   "execution_count": null,
   "id": "fbc69106-a4fc-48b4-9fcd-d6746f470045",
   "metadata": {},
   "outputs": [],
   "source": [
    "#Importación y autoconfiguración de ipyest\n",
    "\n",
    "import ipytest\n",
    "ipytest.autoconfig()"
   ]
  },
  {
   "cell_type": "code",
   "execution_count": null,
   "id": "b183b4df-7d07-4295-9bbf-12d3f22fd4f5",
   "metadata": {},
   "outputs": [],
   "source": [
    "# Ejemplo de función a testear\n",
    "\n",
    "def eliminar_duplicados(lista):\n",
    "    r = []\n",
    "    for i in range(len(lista)):\n",
    "        if lista[i] not in r:\n",
    "            r.append(lista[i])\n",
    "    return r\n",
    "\n",
    "\n",
    "# Versión refactorizada.\n",
    "# Si reemplazais la implementación de 'eliminar_duplicados' por esta veréis que los tests siguen pasando sin problemas.\n",
    "#\n",
    "#    resultado = []\n",
    "#    for item in lista:\n",
    "#       if item not in resultado:\n",
    "#           resultado.append(item)\n",
    "#    return resultado"
   ]
  },
  {
   "cell_type": "code",
   "execution_count": null,
   "id": "0afca9e2-0f58-49c2-bc55-5067d27daee1",
   "metadata": {},
   "outputs": [],
   "source": [
    "# Esta función implementa un test automático, pero este test no es invocado por el framework ya que no empieza por 'test_'\n",
    "\n",
    "def eliminar_duplicados_devuelve_resultado_correcto(lista_con_duplicados, lista_esperada):\n",
    "    # Setup\n",
    "    # No necesario. Los datos de entrada a la función (lista_con_duplicados) representan la entrada del test.\n",
    "    \n",
    "    # Acción\n",
    "    lista_obtenida = eliminar_duplicados(lista_con_duplicados)\n",
    "    \n",
    "    # Verificación resultado\n",
    "    assert lista_obtenida == lista_esperada\n",
    "    \n",
    "    # Tear down\n",
    "    # No es necesario en este ejemplo."
   ]
  },
  {
   "cell_type": "code",
   "execution_count": null,
   "id": "b939365c-e337-4762-bbc7-6b9e10f462b5",
   "metadata": {},
   "outputs": [],
   "source": [
    "%%run_pytest[clean] -qq\n",
    "\n",
    "# Esta función sí representa un test que es invocado por el framework, ya que su nombre comienza por 'test_' \n",
    "# Aquí se invoca nuestro test con diferentes valores de entrada.\n",
    "\n",
    "def test_eliminar_duplicados():\n",
    "    eliminar_duplicados_devuelve_resultado_correcto([], [])\n",
    "    eliminar_duplicados_devuelve_resultado_correcto([5,5,5,5,5], [5])\n",
    "    eliminar_duplicados_devuelve_resultado_correcto([3.5, 5,'a',5,'a', 5, 'b', 4.5, 3.5], [3.5, 5, 'a', 'b', 4.5])\n",
    "    eliminar_duplicados_devuelve_resultado_correcto([5,5,2,3,3,1,1,1], [5,2,3,1])\n",
    "    eliminar_duplicados_devuelve_resultado_correcto([1, 9, 1, 4, 7, 9, 0, 1], [1, 9, 4, 7, 0])"
   ]
  },
  {
   "cell_type": "markdown",
   "id": "20b066ef-1dbe-45d4-b1b3-80f90e4dd455",
   "metadata": {},
   "source": [
    "## El testing en el ciclo de vida del software"
   ]
  },
  {
   "cell_type": "markdown",
   "id": "8ace14b7-1386-4340-8b4d-cd04f01488bb",
   "metadata": {},
   "source": [
    "Dos ciclos de vida del software:\n",
    "   \n",
    "   * Desarrollo en cascada (waterfall).\n",
    "   * Desarrollo ágil."
   ]
  },
  {
   "cell_type": "markdown",
   "id": "b908f829-1f1f-410e-8d46-a63473570fe7",
   "metadata": {},
   "source": [
    "#### Ciclo en cascada"
   ]
  },
  {
   "cell_type": "markdown",
   "id": "c1e0e63a-1153-41fc-bac4-b4d39bfa7dee",
   "metadata": {},
   "source": [
    "* Herencia de la revolución industrial.\n",
    "  * Emula el desarrollo de productos físicos (casas, coches, puentes, etc.) en fases que se ejecutan de manera secuencial.\n",
    "  * El testing es una etapa que se ejecuta únicamente al final del proceso.\n",
    "\n",
    "\n",
    "* Los proyectos tienen una fecha de inicio y una fecha de fin, donde el alcance está prefijado de antemano y se elabora una planificación detallada.\n",
    "\n",
    "* Fases:\n",
    "  1. *Analisis*: análisis de los requisitos. Elaboración de uno o más documentos con las especificaciones de los requisitos que deberá cumplir el producto final.\n",
    "  2. *Diseño*: diseño o especificación de la solución a un alto nivel de abstracción.\n",
    "  3. *Implementación*: etapa de construcción del producto demandado por el cliente.\n",
    "  4. *Test*: etapa de pruebas donde se verifica que el producto construido cumple con los requisitos especificados.\n",
    "  5. *Mantenimiento*: fase de mantenimiento del producto, donde se realiza cualquier operación necesaria tras la entrega a cliente."
   ]
  },
  {
   "cell_type": "markdown",
   "id": "5ddb29db-0b29-466e-a00a-2000c4ecd750",
   "metadata": {},
   "source": [
    "<img src=\"img/testing/waterfall.png\" width=\"700\">"
   ]
  },
  {
   "cell_type": "markdown",
   "id": "260604df-09be-4974-b79a-232d52c605bd",
   "metadata": {},
   "source": [
    "**Problemas del ciclo en cascada**\n",
    "\n",
    "* Intenta introducir certidumbre en un proceso altamente incierto como es el desarrollo de software.\n",
    "  * Se puede tratar de planificar un proyecto de software en detalle, pero décadas de proyectos fracasados han demostrado que estas planificaciones detalladas nunca se cumplen.\n",
    "* No da soporte a introducir cambios a mitad del proceso.\n",
    "  * En la construcción de productos físicos, esto no es un problema, pero sí lo es en software que, por su naturaleza intangible, es fácil de cambiar.\n",
    "* Clientes insatisfechos que no reciben el producto que esperaban.\n",
    "* Centrado exclusivamente en el cumplimiento de plazos y contratos, no en la entrega de valor al cliente.\n",
    "  * Orientado a proyecto, no a calidad del producto."
   ]
  },
  {
   "cell_type": "markdown",
   "id": "a377c883-b87e-4d39-b9d2-ad4a087e611b",
   "metadata": {},
   "source": [
    "#### Desarrollo de software ágil"
   ]
  },
  {
   "cell_type": "markdown",
   "id": "4d58706e-abac-41d9-a3e1-a11b2aeacc1c",
   "metadata": {},
   "source": [
    "* Basado en **iteraciones** y en entregas frecuentes a cliente.\n",
    "* El producto se construye de manera **incremental**.\n",
    "* El cliente puede ver versiones funcionales del producto frecuentemente, proponer cambios y dar feedback, lo que incrementa el aporte de valor.\n",
    "* En cada iteración se construye lo más prioritario.\n",
    "* Centrado en la **excelencia técnica**, ya que no se pueden hacer entregas frecuentes si el código no es de calidad.\n",
    "* Dado que la **calidad** es tan importante, el **testing** es una actividad que se realiza constantemente, no como una fase al final del desarrollo.\n",
    "* Se suele realizar cierto nivel de planificación, pero a más corto plazo y es mucho más cambiante que en el modelo en cascada.\n",
    "* La base es establecer una relación de **confianza** con el cliente."
   ]
  },
  {
   "cell_type": "markdown",
   "id": "027a2042-ea56-44d2-ac2d-676de6b9fc1f",
   "metadata": {},
   "source": [
    "Metodología: eXtreme Programming (XP)."
   ]
  },
  {
   "cell_type": "markdown",
   "id": "17669ccb-7813-4cad-9dbc-356c4248d353",
   "metadata": {},
   "source": [
    "<img src=\"img/testing/agile.png\" width=\"950\">"
   ]
  },
  {
   "cell_type": "markdown",
   "id": "56007954-ea1c-4ff7-875f-0d5b84f8dce5",
   "metadata": {},
   "source": [
    "## Ejercicios"
   ]
  },
  {
   "cell_type": "markdown",
   "id": "95477fac-6a1a-4bcb-b409-5dcc86d457f2",
   "metadata": {},
   "source": [
    "1. Escribe una función que reciba como entrada una lista de palabras que puede contener duplicados y devuelva como resultado una lista que contenga las mismas palabras pero sin duplicados. En este ejercicio, deberás utilizar la estructura de datos auxiliar más apropiada para resolver el problema; es decir, aquella que lleve a un algoritmo eficiente. No se permite hacer un casting para transformar la lista de entrada a un objeto de tipo *set* o *dictionary*.\n",
    "\n",
    "2. Escribe una función que, dada una lista desordenada de números, utilice una cola de prioridad para devolver la lista de números ordenada.\n",
    "\n",
    "3. Escribe una función que, dada una lista desordenada de números, utilice una cola de prioridad para indicar cual es la mediana (es decir, el elemento central si la lista estuviera ordenada). Si la longitud de la lista de entrada es un número par, entonces el algoritmo puede devolver cualquiera de las 2 medianas válidas.\n",
    "\n",
    "4. Escribe una función que, dada una cadena de caracteres que puede incluir paréntesis '()' o corchetes '[]' compruebe si los paréntesis y corchetes aparecen de manera correcta, es decir, están balanceados. Ejemplo: tanto en '(aa(c))bb[a]' como en '([b])(aa)' los paréntesis y corchetes están balanceados; por lo tanto, la función devolverá *True*. En 'dd((abc[a)]' o en '[(a])' no lo están; por lo tanto, la función devolverá *False*. Pista: la estructura de datos *Pila* puede ser de gran ayuda para resolver este problema.\n",
    "\n",
    "5. Este ejercicio consiste en simular el orden LIFO (last-in first-out) de las pilas usando dos colas. En el siguiente programa, hay definidas dos colas: cola_1 y cola_2. Estas son las únicas estructuras de datos auxiliares que se permite usar para almacenar información. Estas estructuras están declaradas como deques, pero únicamente se permite usar las operaciones de las colas: enqueue (método *append*) y dequeue (método *popleft*). También se permite consultar el número de elementos existentes, por ejemplo, para comprobar si una cola está vacía. El ejercicio consiste en completar las funciones que simulan el orden LIFO (*insertar_LIFO* y *extraer_LIFO*) de manera que se satisfagan los tests definidos en la sección Tests."
   ]
  },
  {
   "cell_type": "code",
   "execution_count": null,
   "id": "4c943c85-ff82-483e-a860-f089827d808f",
   "metadata": {},
   "outputs": [],
   "source": [
    "from collections import deque\n",
    "\n",
    "# Estructuras de datos. Son las únicas permitidas en este programa.\n",
    "\n",
    "cola_1 = deque()\n",
    "cola_2 = deque()\n",
    "\n",
    "# Funciones a completar.\n",
    "\n",
    "def insertar_LIFO(elemento):\n",
    "    # ...\n",
    "\n",
    "def extraer_LIFO():\n",
    "    # ...\n",
    "\n",
    "# ------------ Tests ------------\n",
    "\n",
    "insertar_LIFO(6)\n",
    "insertar_LIFO(9)\n",
    "insertar_LIFO(1)\n",
    "insertar_LIFO(3)\n",
    "\n",
    "print(extraer_LIFO()) # Debe mostrar 3\n",
    "print(extraer_LIFO()) # Debe mostrar 1\n",
    "print(extraer_LIFO()) # Debe mostrar 9\n",
    "\n",
    "insertar_LIFO(5)\n",
    "insertar_LIFO(8)\n",
    "\n",
    "print(extraer_LIFO()) # Debe mostrar 8\n",
    "print(extraer_LIFO()) # Debe mostrar 5\n",
    "print(extraer_LIFO()) # Debe mostrar 6\n",
    "print(extraer_LIFO()) # Debe mostrar 'None'"
   ]
  },
  {
   "cell_type": "markdown",
   "id": "1c615578-3752-405b-b234-1199a28b43af",
   "metadata": {},
   "source": [
    "## Soluciones"
   ]
  },
  {
   "cell_type": "code",
   "execution_count": null,
   "id": "9e0a12f1-7d9f-4528-a5b0-d02137e49378",
   "metadata": {},
   "outputs": [],
   "source": [
    "# Ejercicio 1\n",
    "\n",
    "def eliminar_duplicados(lista):\n",
    "    objetos_ya_vistos = set()\n",
    "    lista_sin_duplicados = []\n",
    "    for objeto in lista:\n",
    "        if objeto not in objetos_ya_vistos:\n",
    "            lista_sin_duplicados.append(objeto)\n",
    "        objetos_ya_vistos.add(objeto)\n",
    "    return lista_sin_duplicados\n",
    "\n",
    "print(eliminar_duplicados([1,2,1,3,4,1,3,5,2,1,5]))"
   ]
  },
  {
   "cell_type": "code",
   "execution_count": null,
   "id": "3d0e528c-473c-4063-9133-7d35ce9ba682",
   "metadata": {},
   "outputs": [],
   "source": [
    "# Ejercicio 2\n",
    "\n",
    "import heapq\n",
    "\n",
    "def heapsort(lista):\n",
    "    cola_prioridad = []\n",
    "  \n",
    "    for elemento in lista:\n",
    "         heapq.heappush(cola_prioridad, elemento) \n",
    "        \n",
    "    lista_ordenada = []\n",
    "    while len(cola_prioridad) > 0:\n",
    "        elemento_extraido_de_cola = heapq.heappop(cola_prioridad)\n",
    "        lista_ordenada.append(elemento_extraido_de_cola)\n",
    "        \n",
    "    return lista_ordenada\n",
    "\n",
    "\n",
    "print(heapsort([6,10,1,4,9,16,2,5]))"
   ]
  },
  {
   "cell_type": "code",
   "execution_count": null,
   "id": "ab783a40-5ca7-4018-8c0e-bee1dae11c33",
   "metadata": {},
   "outputs": [],
   "source": [
    "# Ejercicio 3\n",
    "\n",
    "import heapq\n",
    "\n",
    "def obtener_mediana(lista):\n",
    "    cola_prioridad = []\n",
    "  \n",
    "    for elemento in lista:\n",
    "         heapq.heappush(cola_prioridad, elemento) \n",
    "        \n",
    "    for _ in range(len(lista)//2 + 1):\n",
    "        mediana = heapq.heappop(cola_prioridad)\n",
    "        \n",
    "    return mediana\n",
    "\n",
    "\n",
    "print(obtener_mediana([6,10,1,4,9,16,2,5]))"
   ]
  },
  {
   "cell_type": "code",
   "execution_count": null,
   "id": "fff4d079-5c0d-4bd1-b2a3-017d3f7693c0",
   "metadata": {},
   "outputs": [],
   "source": [
    "# Ejercicio 4\n",
    "\n",
    "from collections import deque\n",
    "\n",
    "def match(c1, c2):\n",
    "    return (c1 == '(' and c2 == ')') or (c1 == '[' and c2 == ']')\n",
    "\n",
    "def esta_balanceado(s):\n",
    "    pila = deque()\n",
    "    for c in s:\n",
    "        if c == '(' or c == '[':\n",
    "            pila.append(c)\n",
    "        elif c == ')' or c == ']':\n",
    "            if len(pila) == 0 or not match(pila.pop(), c):\n",
    "                return False\n",
    "    return len(pila) == 0\n",
    "\n",
    "\n",
    "print(esta_balanceado('(aa(c))bb[a]'))\n",
    "print(esta_balanceado('([b])(aa)'))\n",
    "print(esta_balanceado('dd((abc[a)]'))\n",
    "print(esta_balanceado('[(a])'))"
   ]
  },
  {
   "cell_type": "code",
   "execution_count": null,
   "id": "59deda4e-5724-4d09-b31d-a46662d4e6d7",
   "metadata": {},
   "outputs": [],
   "source": [
    "# Ejercicio 5\n",
    "\n",
    "from collections import deque\n",
    "\n",
    "# Estructuras de datos. Son las únicas permitidas en este programa.\n",
    "\n",
    "cola_1 = deque()\n",
    "cola_2 = deque()\n",
    "\n",
    "# Funciones a completar.\n",
    "\n",
    "def insertar_LIFO(elemento):\n",
    "    intercambiar_elementos(cola_1, cola_2)\n",
    "    cola_1.append(elemento)\n",
    "    intercambiar_elementos(cola_2, cola_1)\n",
    "\n",
    "def extraer_LIFO():\n",
    "    try:\n",
    "        return cola_1.popleft()\n",
    "    except:\n",
    "        return None\n",
    "\n",
    "# Funciones auxiliares\n",
    "\n",
    "def intercambiar_elementos(cola_origen, cola_destino):\n",
    "    while len(cola_origen) > 0:\n",
    "        cola_destino.append(cola_origen.popleft())\n",
    "        \n",
    "# ------------ Tests ------------\n",
    "\n",
    "insertar_LIFO(6)\n",
    "insertar_LIFO(9)\n",
    "insertar_LIFO(1)\n",
    "insertar_LIFO(3)\n",
    "\n",
    "print(extraer_LIFO()) # Debe mostrar 3\n",
    "print(extraer_LIFO()) # Debe mostrar 1\n",
    "print(extraer_LIFO()) # Debe mostrar 9\n",
    "\n",
    "insertar_LIFO(5)\n",
    "insertar_LIFO(8)\n",
    "\n",
    "print(extraer_LIFO()) # Debe mostrar 8\n",
    "print(extraer_LIFO()) # Debe mostrar 5\n",
    "print(extraer_LIFO()) # Debe mostrar 6\n",
    "print(extraer_LIFO()) # Debe mostrar 'None'"
   ]
  }
 ],
 "metadata": {
  "kernelspec": {
   "display_name": "Python 3 (ipykernel)",
   "language": "python",
   "name": "python3"
  },
  "language_info": {
   "codemirror_mode": {
    "name": "ipython",
    "version": 3
   },
   "file_extension": ".py",
   "mimetype": "text/x-python",
   "name": "python",
   "nbconvert_exporter": "python",
   "pygments_lexer": "ipython3",
   "version": "3.11.4"
  }
 },
 "nbformat": 4,
 "nbformat_minor": 5
}
