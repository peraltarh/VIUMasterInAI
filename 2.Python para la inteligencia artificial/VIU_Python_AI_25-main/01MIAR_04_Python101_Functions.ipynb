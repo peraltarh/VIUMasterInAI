{
 "cells": [
  {
   "cell_type": "markdown",
   "id": "b630feb7-ca58-4864-9354-e5eedac12ad9",
   "metadata": {},
   "source": [
    "<img src=\"img/viu_logo.png\" width=\"200\">\n",
    "\n",
    "## 01MIAR - Funciones\n",
    "\n",
    "![logo](img/python_logo.png)\n",
    "\n",
    "*Ivan Fuertes / Franklin Alvarez*"
   ]
  },
  {
   "cell_type": "markdown",
   "id": "f6dc2e10-0e30-4985-a406-af962ede3d19",
   "metadata": {},
   "source": [
    "# Funciones"
   ]
  },
  {
   "cell_type": "markdown",
   "id": "fe45ca00-725f-44a3-9494-11dab5a40994",
   "metadata": {},
   "source": [
    "## ¿Qué son?\n",
    "\n",
    "* Son un mecanismo que te ofrece el lenguaje para agrupar conjuntos de instrucciones de manera que se puedan ejecutar cuando el programador considere oportuno.\n",
    "* Las funciones van identificadas por un nombre.\n",
    "* Se debe usar este nombre para invocar (ejecutar) el código de la función.\n",
    "* Las funciones calculan un resultado (output) en base a unos parámetros de entrada (input).\n",
    "* En cada invocación de la función, los parámetros de entrada pueden variar."
   ]
  },
  {
   "cell_type": "markdown",
   "id": "ab22ae0d-97c0-49d7-9aa1-c14c707600a6",
   "metadata": {},
   "source": [
    "## Ejemplo"
   ]
  },
  {
   "cell_type": "code",
   "execution_count": null,
   "id": "3cc8e61c-b58f-4bff-9d91-7a28a5bc9e4b",
   "metadata": {},
   "outputs": [],
   "source": [
    "def sumar(x, y):\n",
    "    return x + y\n",
    "\n",
    "print(sumar(4,5))\n",
    "print(sumar(-2,0))"
   ]
  },
  {
   "cell_type": "code",
   "execution_count": null,
   "id": "eaf33bd8-4020-441b-890f-efd39562f744",
   "metadata": {},
   "outputs": [],
   "source": [
    "#f = c × 1.793 + 32\n",
    "\n",
    "c = 30\n",
    "print(c * 1.793 + 32)   # celsius to fahrenheit\n",
    "\n",
    "c = 26\n",
    "print(c * 1.793 + 32)\n"
   ]
  },
  {
   "cell_type": "code",
   "execution_count": null,
   "id": "a338d859-a8c4-43a8-b5e7-7129a69d2acd",
   "metadata": {},
   "outputs": [],
   "source": [
    "def convert_celsius_to_fahrenheit(c):\n",
    "    return c * 1.791117 + 32"
   ]
  },
  {
   "cell_type": "code",
   "execution_count": null,
   "id": "4de8f3f5-89a0-4eee-acfb-466c9093b42c",
   "metadata": {},
   "outputs": [],
   "source": [
    "degrees = 30\n",
    "print(convert_celsius_to_fahrenheit(degrees))"
   ]
  },
  {
   "cell_type": "markdown",
   "id": "fceb95c6-3249-41dc-b376-dfb45b83bc51",
   "metadata": {},
   "source": [
    "\n",
    "## ¿Qué ventajas nos proporcionan?\n",
    "\n",
    "* Eliminación de duplicación de código.\n",
    "* Incremento de la reutilización de código.\n",
    "* Manejo de complejidad: permiten descomponer grandes sistemas en piezas más pequeñas y, por tanto, más manejables y comprensibles."
   ]
  },
  {
   "cell_type": "markdown",
   "id": "ef3eaa00-19ec-46a9-91dd-42de4a9b1562",
   "metadata": {
    "tags": []
   },
   "source": [
    "## Programación de funciones en Python"
   ]
  },
  {
   "cell_type": "markdown",
   "id": "c656ac96-71b3-41e0-a9a6-736e3510d0b0",
   "metadata": {},
   "source": [
    "Las funciones se definen por medio de la palabra clave *def*.\n",
    "\n",
    "Formato general:\n",
    "\n",
    "```\n",
    "def name(arg1, arg2, ..., argN):\n",
    "    statements\n",
    "```\n",
    "\n",
    "Muy comúnmente:\n",
    "\n",
    "```\n",
    "def name(arg1, arg2, ..., argN):\n",
    "    ...\n",
    "    return value\n",
    "```"
   ]
  },
  {
   "cell_type": "markdown",
   "id": "9a764557-b285-4ec3-9a9c-6137c5984087",
   "metadata": {},
   "source": [
    "* Las funciones son instrucciones convencionales, que se ejecutan cuando el flujo de control llega a ellas.\n",
    "* La definición de la función debe ejecutarse antes de poder invocarse la función."
   ]
  },
  {
   "cell_type": "code",
   "execution_count": null,
   "id": "e90c2b31-d3e5-458a-bc63-3bb302d1d86b",
   "metadata": {
    "tags": []
   },
   "outputs": [],
   "source": [
    "# Primero, definición.\n",
    "def crear_diccionario(keys, values):\n",
    "    return dict(zip(keys, values))"
   ]
  },
  {
   "cell_type": "code",
   "execution_count": null,
   "id": "eef5e583-70ae-4f65-a79f-c9e46289fe17",
   "metadata": {},
   "outputs": [],
   "source": [
    "# Después, invocación.\n",
    "nombres = ['Alfred', 'James', 'Peter', 'Harvey']\n",
    "edades = [87, 43, 19, 16]\n",
    "usuarios = crear_diccionario(nombres, edades)\n",
    "print(usuarios)"
   ]
  },
  {
   "cell_type": "markdown",
   "id": "5b5e99f4-da79-405e-b8d2-2c4fe4696e74",
   "metadata": {},
   "source": [
    "* Las funciones pueden estar anidadas en sentencias condicionales o bucles. "
   ]
  },
  {
   "cell_type": "code",
   "execution_count": null,
   "id": "d2158c41-57cb-4d3a-aab3-dd90ba094bb4",
   "metadata": {},
   "outputs": [],
   "source": [
    "a = -1\n",
    "\n",
    "if a > 0:\n",
    "    def operacion(x, y):\n",
    "        return x + y\n",
    "else:\n",
    "    def operacion(x, y):\n",
    "        return x * y\n",
    "    \n",
    "print(operacion(3, 4))"
   ]
  },
  {
   "cell_type": "markdown",
   "id": "218da2ec-26b7-4289-afbf-29f56eeee690",
   "metadata": {},
   "source": [
    "* Argumentos y return son opcionales."
   ]
  },
  {
   "cell_type": "code",
   "execution_count": null,
   "id": "8baeb8b9-33b6-45b6-aecf-a2dc92cbfd6b",
   "metadata": {
    "tags": []
   },
   "outputs": [],
   "source": [
    "def print_hola_mundo():\n",
    "    print('Hola Mundo')\n",
    "    return # es opcional pero mejora la legibilidad\n",
    "\n",
    "print_hola_mundo()"
   ]
  },
  {
   "cell_type": "markdown",
   "id": "67e1c12b-2115-49e3-bb0c-073c20d10c32",
   "metadata": {},
   "source": [
    "* Cuando una función no tiene sentencia *return*, la función devuelve el objeto *None*."
   ]
  },
  {
   "cell_type": "code",
   "execution_count": null,
   "id": "407670b6-dc6d-4a69-9c0a-30d37a440f93",
   "metadata": {},
   "outputs": [],
   "source": [
    "def print_hola_mundo():\n",
    "    print('Hola Mundo')\n",
    "    # return None\n",
    "\n",
    "valor = print_hola_mundo()\n",
    "print(valor)"
   ]
  },
  {
   "cell_type": "markdown",
   "id": "5fc66168-2b93-4b7a-9f43-897c9d656f30",
   "metadata": {},
   "source": [
    "* La sentencia *return* puede aparecer en cualquier parte de la función."
   ]
  },
  {
   "cell_type": "code",
   "execution_count": null,
   "id": "f0a34b29-64f1-4015-b72d-b05a049aa1ba",
   "metadata": {},
   "outputs": [],
   "source": [
    "def div_safe(x,y):\n",
    "    if y == 0:\n",
    "        return 0\n",
    "    return x / y\n",
    "\n",
    "print(div_safe(6,2))\n",
    "print(div_safe(6,0))\n",
    "\n",
    "a = div_safe(6,0)\n",
    "print(type(a))"
   ]
  },
  {
   "cell_type": "code",
   "execution_count": null,
   "id": "92ad2818-31ef-4e0a-a84b-0793c128e64c",
   "metadata": {},
   "outputs": [],
   "source": [
    "def div_safe(x,y):\n",
    "    if y != 0:\n",
    "        return x / y\n",
    "    else:\n",
    "        return 0"
   ]
  },
  {
   "cell_type": "markdown",
   "id": "2ccfbe83-c2b9-434b-b156-23920ae50725",
   "metadata": {},
   "source": [
    "* Puede haber más de un valor de retorno. Se devuelve una tupla."
   ]
  },
  {
   "cell_type": "code",
   "execution_count": null,
   "id": "2f12c29e-7d2c-469f-970c-8228a8fe32a3",
   "metadata": {},
   "outputs": [],
   "source": [
    "def devolver_primero_segundo(coleccion):\n",
    "    return coleccion[0], coleccion[1]\n",
    "\n",
    "t = devolver_primero_segundo(['Alfred', 'James', 'Peter', 'Harvey'])\n",
    "print(t)\n",
    "print(t[1])\n",
    "print(type(t))"
   ]
  },
  {
   "cell_type": "code",
   "execution_count": null,
   "id": "8d632515-6b11-4a79-884a-ebb2382390b9",
   "metadata": {},
   "outputs": [],
   "source": [
    "primero, segundo = devolver_primero_segundo(['Alfred', 'James', 'Peter', 'Harvey'])\n",
    "print(primero)\n",
    "print(segundo)"
   ]
  },
  {
   "cell_type": "markdown",
   "id": "4fd2be69-181d-46b0-956c-575955839ceb",
   "metadata": {},
   "source": [
    "- El tipo de los parámetros y el valor de retorno se pueden especificar, pero son simples hints. Esto se llama annotations."
   ]
  },
  {
   "cell_type": "code",
   "execution_count": null,
   "id": "11694a5c-55b7-4c3b-b641-b299c945d543",
   "metadata": {},
   "outputs": [],
   "source": [
    "def add2(x:int, y:int) -> int:\n",
    "    return x + y\n",
    "\n",
    "print(add2(1,2))\n",
    "print(add2(\"aa\",\"ee\"))"
   ]
  },
  {
   "cell_type": "markdown",
   "id": "da15fd97-b790-4464-970f-ab6065741fe9",
   "metadata": {},
   "source": [
    "* Los argumentos pueden tener valores por defecto, siempre al final."
   ]
  },
  {
   "cell_type": "code",
   "execution_count": null,
   "id": "1ed4558b-1065-4f71-9ca6-94281b6eaffd",
   "metadata": {},
   "outputs": [],
   "source": [
    "def f(a, b, c = None):\n",
    "    if a is not None:\n",
    "        print('Se ha proporcionado a')\n",
    "    if b is not None:\n",
    "        print('Se ha proporcionado b')\n",
    "    if c is not None:\n",
    "        print('Se ha proporcionado c')\n",
    "        \n",
    "f(1, 5)"
   ]
  },
  {
   "cell_type": "markdown",
   "id": "fa5ecfd5-1fdb-454b-bb9c-5426f78b6bdf",
   "metadata": {},
   "source": [
    "* Los parámetros se pasan por posición, pero el orden se puede alterar si se especifica el nombre del parámetro en la llamada, named values."
   ]
  },
  {
   "cell_type": "code",
   "execution_count": null,
   "id": "cc424de1-71af-4454-8ca0-36405ee54851",
   "metadata": {},
   "outputs": [],
   "source": [
    "def power(base, exponente):\n",
    "    return pow(base, exponente)\n",
    "\n",
    "print(power(2,3))\n",
    "print(power(exponente = 3, base = 2))"
   ]
  },
  {
   "cell_type": "markdown",
   "id": "ef8363fe-069e-4477-bee6-6ac179e3729e",
   "metadata": {},
   "source": [
    "* Al ejecutarse una sentencia *def*, se crea un **objeto de tipo función** y éste se asocia con el nombre especificado para la función.\n",
    "* Un objeto de tipo función es como cualquier otro tipo de objeto.\n",
    "* Variables pueden referenciar objetos de tipo función."
   ]
  },
  {
   "cell_type": "code",
   "execution_count": null,
   "id": "65a50c07-1fb0-4286-804a-354ab38001d0",
   "metadata": {},
   "outputs": [],
   "source": [
    "def sumar(x, y):\n",
    "    return x + y\n",
    "\n",
    "f = sumar\n",
    "\n",
    "print(id(f))\n",
    "print(id(sumar))\n",
    "\n",
    "print(type(f))\n",
    "\n",
    "print(sumar(5,6))\n",
    "print(f(5,6))"
   ]
  },
  {
   "cell_type": "code",
   "execution_count": null,
   "id": "5f73621e-4a5e-415f-b351-75e9cec46822",
   "metadata": {},
   "outputs": [],
   "source": [
    "def clean_strings(strings, ops):\n",
    "    result = []\n",
    "    for value in strings:\n",
    "        for function in ops:\n",
    "            value = function(value)\n",
    "        result.append(value)\n",
    "    return result\n",
    "\n",
    "def concat5(x):\n",
    "    return x + '_5'\n",
    "\n",
    "strings = ['  valencia   ', '   barcelona', ' bilbao ']\n",
    "operations = [str.strip, str.title, concat5]\n",
    "print(clean_strings(strings, operations))"
   ]
  },
  {
   "cell_type": "markdown",
   "id": "92f70d75-e721-4b1d-b6e4-dfda01038ccf",
   "metadata": {},
   "source": [
    "* Se pueden crear placeholders con la palabra clave *pass*.\n",
    "* *pass* representa una sentencia que no hace nada.\n",
    "* Útil cuando la sintaxis del lenguaje requiere alguna sentencia, pero no tienes nada que escribir."
   ]
  },
  {
   "cell_type": "code",
   "execution_count": null,
   "id": "04527088-24e1-4f5d-87a0-e8b3d644830e",
   "metadata": {},
   "outputs": [],
   "source": [
    "def mi_funcion():\n",
    "    pass           #TODO implement this\n",
    "\n",
    "mi_funcion()"
   ]
  },
  {
   "cell_type": "markdown",
   "id": "aa5ac1a5-5af3-4cdf-90a1-cf042c145c1d",
   "metadata": {},
   "source": [
    "## Paso de parámetros"
   ]
  },
  {
   "cell_type": "markdown",
   "id": "72af37cd-bd29-4624-b2d1-bac0db4a6399",
   "metadata": {
    "tags": []
   },
   "source": [
    "* Tipos simples (inmutables) por **valor**: int, float, string.\n",
    "    * El efecto es como si se creara una copia dentro de la función, aunque realmente no es esto lo que ocurre.\n",
    "    * Los cambios dentro de la función no afectan fuera."
   ]
  },
  {
   "cell_type": "code",
   "execution_count": null,
   "id": "7fffba62-b7a7-4f0d-9830-0d1744dd90ed",
   "metadata": {},
   "outputs": [],
   "source": [
    "def cambiar_valor(x):\n",
    "    x += 3\n",
    "    print('Dentro de la función:', x)  # x ahora referencia a un nuevo objeto (el 3), pero esto no afecta a la variable de fuera de la función, que sigue apuntando al 2.\n",
    "    return\n",
    "\n",
    "a = 2\n",
    "cambiar_valor(a)\n",
    "print('Fuera de la función:', a)"
   ]
  },
  {
   "cell_type": "markdown",
   "id": "77d26024-b6bd-4530-b6cf-c12b4630275c",
   "metadata": {},
   "source": [
    "* Tipos complejos (mutables) por **referencia**: list, set, dictionary.\n",
    "    * Dentro de la función se maneja el mismo objeto que se ha pasado desde fuera.\n",
    "    * Los cambios dentro de la función sí afectan fuera."
   ]
  },
  {
   "cell_type": "code",
   "execution_count": null,
   "id": "94fad17e-b13a-4002-928c-1d03a7137872",
   "metadata": {},
   "outputs": [],
   "source": [
    "def anyadir_2_a(x):\n",
    "    x.append(2)\n",
    "    \n",
    "lista = [0, 1]\n",
    "anyadir_2_a(lista)\n",
    "print(lista)"
   ]
  },
  {
   "cell_type": "code",
   "execution_count": null,
   "id": "0d672983-cc9e-47f5-808e-5a3590bd5dd9",
   "metadata": {},
   "outputs": [],
   "source": [
    "# with tuples\n",
    "def anyadir_2_a(x):\n",
    "    print(id(x))\n",
    "    return\n",
    "    \n",
    "lista = (0, 1)\n",
    "print(id(lista))\n",
    "anyadir_2_a(lista)\n",
    "print(lista)"
   ]
  },
  {
   "cell_type": "markdown",
   "id": "6d9e03f6-be9d-4c13-b6aa-fa8f955c3867",
   "metadata": {},
   "source": [
    "* Si quiero modificar un objeto que es de un tipo básico, los cuales se pasan por valor, puedo simplemente devolver el resultado de la función y hacer una asignación:"
   ]
  },
  {
   "cell_type": "code",
   "execution_count": null,
   "id": "b844f6f7-79c8-4d4f-ad86-b17c9251ca1e",
   "metadata": {},
   "outputs": [],
   "source": [
    "def multiplicar_por_2(x):\n",
    "    x = x * 2\n",
    "    return x\n",
    "    \n",
    "a = 3\n",
    "a = multiplicar_por_2(a)\n",
    "print(a)"
   ]
  },
  {
   "cell_type": "markdown",
   "id": "3fae8986-cea1-45ee-8153-f17d09c5391d",
   "metadata": {},
   "source": [
    "* Si quiero que no se modifique un objeto de un tipo complejo, los cuales se pasan por referencia, puedo pasar una copia a la función:"
   ]
  },
  {
   "cell_type": "code",
   "execution_count": null,
   "id": "969b3608-0322-4a65-af2b-d45462024761",
   "metadata": {},
   "outputs": [],
   "source": [
    "def anyadir_2_a(x):\n",
    "    x.append(2)\n",
    "    print('Dentro de la función: ', x)\n",
    "    \n",
    "lista = [0, 1]\n",
    "anyadir_2_a(lista.copy())\n",
    "print('Fuera de la función: ', lista)"
   ]
  },
  {
   "cell_type": "code",
   "execution_count": null,
   "id": "0b84e3aa-2c1f-4a03-ad10-44854044f451",
   "metadata": {},
   "outputs": [],
   "source": [
    "# Alternativa para obtener una copia: slicing.\n",
    "lista = [0, 1]\n",
    "anyadir_2_a(lista[:])\n",
    "print('Fuera de la función: ', lista)"
   ]
  },
  {
   "cell_type": "markdown",
   "id": "15d963d3-4e68-47e2-b8fb-3ce3d7998443",
   "metadata": {},
   "source": [
    "* Si la lista tiene sublistas anidadas hay que hacer un deep copy"
   ]
  },
  {
   "cell_type": "code",
   "execution_count": null,
   "id": "86b62f30-a757-494c-b4c8-c0059d09e72a",
   "metadata": {},
   "outputs": [],
   "source": [
    "import copy\n",
    "lista = [2, 4, 16, 32, [34, 10, [5,5]]]\n",
    "# copia = lista.copy()\n",
    "copia = copy.deepcopy(lista)\n",
    "copia[0] = 454\n",
    "copia[4][2][0] = 64\n",
    "print(lista)\n",
    "print(copia)\n",
    "\n",
    "print(f\"{id(lista)} - {id(copia)}\")\n",
    "print(f\"{id(lista[4])} - {id(copia[4])}\")"
   ]
  },
  {
   "cell_type": "markdown",
   "id": "e2bf549d-9e23-4dc4-bc03-121602ce4738",
   "metadata": {},
   "source": [
    "* Reasignar un parámetro nunca afecta al objeto de fuera:"
   ]
  },
  {
   "cell_type": "code",
   "execution_count": null,
   "id": "1ecb531a-d92a-4c77-8eb0-96f8be45abd6",
   "metadata": {},
   "outputs": [],
   "source": [
    "def funcion_poco_util(x):\n",
    "    print(id(x))\n",
    "    x = [2, 3]\n",
    "    x.append(4)\n",
    "    print(id(x))\n",
    "    \n",
    "lista = [0, 1]\n",
    "print(id(lista))\n",
    "funcion_poco_util(lista)\n",
    "print(lista)"
   ]
  },
  {
   "cell_type": "code",
   "execution_count": null,
   "id": "7b2e61f9-f2be-4ddc-bf4c-3d26a18c8bce",
   "metadata": {},
   "outputs": [],
   "source": [
    "def modif_tupla(a):\n",
    "    print(id(a))\n",
    "\n",
    "t = (1,2)\n",
    "print(id(t))\n",
    "modif_tupla(t)\n",
    "print(t)"
   ]
  },
  {
   "cell_type": "markdown",
   "id": "4e85fb28-76ce-44de-a001-6870818f6a7d",
   "metadata": {},
   "source": [
    "## Argumentos arbitrarios"
   ]
  },
  {
   "cell_type": "markdown",
   "id": "52267835-899a-47c5-8bb4-5156868cfd29",
   "metadata": {},
   "source": [
    "* No se sabe a priori cuantos elementos se reciben.\n",
    "* Se reciben como una tupla.\n",
    "* Los parámetros se especifican con el símbolo '*'."
   ]
  },
  {
   "cell_type": "code",
   "execution_count": null,
   "id": "f7520a9c-1c35-49e7-a8b4-dbef04636373",
   "metadata": {},
   "outputs": [],
   "source": [
    "def saludar(*names):\n",
    "    print(type(names))\n",
    "    for name in names:\n",
    "        print(\"Hola \" + name)\n",
    "\n",
    "saludar()\n",
    "saludar(\"Manolo\", \"Pepe\", \"Luis\", \"Alex\", \"Juan\") "
   ]
  },
  {
   "cell_type": "code",
   "execution_count": null,
   "id": "591a6536-5663-4ffe-946d-ad0d9ca89443",
   "metadata": {},
   "outputs": [],
   "source": [
    "def consulta_sql(**kwargs):\n",
    "    print(kwargs)\n",
    "    sql = \"SELECT * FROM bicis WHERE \"\n",
    "    args = [f\"{key}={value}\" for key, value in kwargs.items()]\n",
    "    sql += \" AND \".join((args))\n",
    "    return sql\n",
    "\n",
    "print(consulta_sql(station='alameda', free=10))"
   ]
  },
  {
   "attachments": {},
   "cell_type": "markdown",
   "id": "d144da19-393e-4f8b-9a50-54a37370dccd",
   "metadata": {},
   "source": [
    "### Desempaquetado en funciones"
   ]
  },
  {
   "cell_type": "code",
   "execution_count": null,
   "id": "1f6d9de7-392c-489a-a5d8-b6b8afff45d8",
   "metadata": {},
   "outputs": [],
   "source": [
    "def saludar(quien, mensaje, gesto):\n",
    "    print(f\"Hola {quien}, {mensaje}, mira esto: {gesto}\")\n",
    "\n",
    "ls_saludo = ['Manolo', 'te quiere saludar', 'args']\n",
    "\n",
    "saludar(ls_saludo[0], ls_saludo[1], ls_saludo[2]) \n",
    "saludar(*ls_saludo)"
   ]
  },
  {
   "cell_type": "code",
   "execution_count": null,
   "id": "507e6faa-cb28-4ae8-8af4-2a3d90078f3b",
   "metadata": {},
   "outputs": [],
   "source": [
    "def saludar(quien, mensaje, gesto):\n",
    "    print(f\"Hola {quien}, {mensaje}, mira esto: {gesto}\")\n",
    "\n",
    "dc_saludo = {\n",
    "    'quien': [12, 12, 3,4 , 5,3],\n",
    "    'gesto': 'guiño',\n",
    "    'mensaje': 'te quiere enseñar esto'    \n",
    "}\n",
    "\n",
    "saludar(**dc_saludo)"
   ]
  },
  {
   "cell_type": "markdown",
   "id": "614e4b09-fddd-46b1-b9e7-dfa48abc1ae5",
   "metadata": {},
   "source": [
    "## Recursividad"
   ]
  },
  {
   "cell_type": "markdown",
   "id": "1024109e-fc26-4ddf-8465-ce6895038ffe",
   "metadata": {
    "tags": []
   },
   "source": [
    "* Funciones que se llaman a sí mismas"
   ]
  },
  {
   "cell_type": "code",
   "execution_count": null,
   "id": "09919336-9772-44a3-b98b-b6ab37dd30e4",
   "metadata": {},
   "outputs": [],
   "source": [
    "def factorial(n):      \n",
    "    if n == 0:\n",
    "        return 1\n",
    "    else:\n",
    "        return n * factorial(n-1)\n",
    "    \n",
    "print(factorial(10))\n",
    "\n",
    "def fact(n):\n",
    "    a = 1\n",
    "    for i in range(1, n+1):\n",
    "        a *= i\n",
    "    return a\n",
    "\n",
    "print(fact(10))"
   ]
  },
  {
   "cell_type": "code",
   "execution_count": null,
   "id": "11dbd213-63a9-4285-8c2e-42321c467035",
   "metadata": {},
   "outputs": [],
   "source": [
    "fact = lambda x: 1 if x == 0 else x * fact(x-1)\n",
    "\n",
    "fact(10)"
   ]
  },
  {
   "cell_type": "markdown",
   "id": "9081fcf7-a852-4a86-b3e1-c7e2db3689ee",
   "metadata": {},
   "source": [
    "## Funciones Lambda"
   ]
  },
  {
   "cell_type": "markdown",
   "id": "9dacff4d-b9da-4b6f-b129-e82d54ea91ea",
   "metadata": {},
   "source": [
    "* Es posible definir funciones anónimas (sin nombre).\n",
    "* Lambdas son expresiones; por lo tanto, puede aparecer en lugares donde una sentencia *def* no puede (por ejemplo, dentro de una lista o como parámetro de una función).\n",
    "* Útiles cuando se quiere pasar una función como argumento a otra."
   ]
  },
  {
   "cell_type": "markdown",
   "id": "cf77ff3d-ec43-4f22-85d7-d29f9e9af181",
   "metadata": {},
   "source": [
    "Formato general:\n",
    "\n",
    "```\n",
    "lambda <lista de argumentos> : <valor a retornar>\n",
    "```\n",
    "\n",
    "* Importante: *\\<valor a retornar\\>* no es un conjunto de instrucciones. Es simplemente una expresión *return* que omite esta palabra.\n",
    "* Las funciones definidas con *def* son más generales:\n",
    "    * Cualquier cosa que implementes en un lambda, lo puedes implementar como una función convencional con *def*, pero no viceversa."
   ]
  },
  {
   "cell_type": "code",
   "execution_count": null,
   "id": "7ca027f1-640f-4026-8117-d9f2d3ba7bb6",
   "metadata": {},
   "outputs": [],
   "source": [
    "# Ejemplo: función suma.\n",
    "\n",
    "def suma(x, y, z):\n",
    "    return x + y + z\n",
    "\n",
    "print(suma(1, 2, 3))\n",
    "\n",
    "# Ejemplo: función suma como expresión lambda.\n",
    "\n",
    "suma2 = lambda x, y, z : x + y + z\n",
    "\n",
    "print(suma2(1, 2, 3))"
   ]
  },
  {
   "cell_type": "code",
   "execution_count": null,
   "id": "4085b748-96e2-47d8-8fb4-17976ef50fb2",
   "metadata": {},
   "outputs": [],
   "source": [
    "# La funcion 'sort' puede recibir una función optional como parámetro.\n",
    "# Esta función 'key' se invoca para cada elemento de la lista antes de realizar las comparaciones.\n",
    "# Ejemplo: ordenar strings por número de carácteres.\n",
    "\n",
    "cities = ['Valencia', 'Lugo', 'Barcelona', 'Madrid']\n",
    "\n",
    "cities.sort()\n",
    "print(cities)\n",
    "\n",
    "cities.sort(key = lambda x : len(x))\n",
    "print(cities)\n",
    "\n",
    "cities.sort(key = len)\n",
    "print(cities)\n",
    "\n",
    "def longitud(x):\n",
    "    return len(x)\n",
    "\n",
    "cities.sort(key = longitud)\n",
    "print(cities)"
   ]
  },
  {
   "cell_type": "code",
   "execution_count": null,
   "id": "7f6e8aaf-1ce4-407b-be28-0a3fda260196",
   "metadata": {
    "tags": []
   },
   "outputs": [],
   "source": [
    "# Mismo ejemplo sin lambda\n",
    "\n",
    "cities = ['Valencia', 'Lugo', 'Barcelona', 'Madrid']\n",
    "\n",
    "def num_caracteres(x):\n",
    "    return len(x)\n",
    "\n",
    "cities.sort(key = num_caracteres)\n",
    "print(cities)"
   ]
  },
  {
   "cell_type": "markdown",
   "id": "48354cd4-17bd-47ab-b468-4e34a5a5a8b5",
   "metadata": {},
   "source": [
    "* Nos podemos guardar una referencia para utilización repetida."
   ]
  },
  {
   "cell_type": "code",
   "execution_count": null,
   "id": "de729369-54c1-440d-8848-5823d982e467",
   "metadata": {
    "tags": []
   },
   "outputs": [],
   "source": [
    "cities = ['Valencia', 'Lugo', 'Barcelona', 'Madrid']\n",
    "\n",
    "f = lambda x : len(x)\n",
    "\n",
    "for s in cities:\n",
    "    print(f(s))"
   ]
  },
  {
   "cell_type": "markdown",
   "id": "3e5097c1-b238-42b3-a332-8785b01df127",
   "metadata": {},
   "source": [
    "* Las expresiones lambda pueden formar parte de una lista."
   ]
  },
  {
   "cell_type": "code",
   "execution_count": null,
   "id": "ab732200-55d7-4e9c-9d48-fdc27584d296",
   "metadata": {},
   "outputs": [],
   "source": [
    "# Lista de lambdas para mostrar las potencias de 2.\n",
    "\n",
    "pows = [lambda x: x ** 0,\n",
    "        lambda x: x ** 1,\n",
    "        lambda x: x ** 2,\n",
    "        lambda x: x ** 3,\n",
    "        lambda x: x ** 4]\n",
    "\n",
    "for f in pows:\n",
    "    print(f(2))"
   ]
  },
  {
   "cell_type": "markdown",
   "id": "9a5f0072-824c-45af-86a0-4a4af75f7992",
   "metadata": {
    "slideshow": {
     "slide_type": "subslide"
    }
   },
   "source": [
    "- Diccionarios se pueden utilizar como 'switch' en otros lenguajes\n",
    "- Ideal para escoger entre varias opciones"
   ]
  },
  {
   "cell_type": "code",
   "execution_count": null,
   "id": "b43f5e1d-68ce-4aa7-aaa9-4df7f02373a5",
   "metadata": {
    "slideshow": {
     "slide_type": "fragment"
    }
   },
   "outputs": [],
   "source": [
    "def switch_dict(operator, x, y):\n",
    "    # crea un diccionario de opciones y selecciona 'operator'\n",
    "    return {\n",
    "        'add': lambda: x + y,\n",
    "        'sub': lambda: x - y,\n",
    "        'mul': lambda: x * y,\n",
    "        'div': lambda: x / y,\n",
    "    }.get(operator, lambda: None)() # retorna None si no encuentra 'operator'\n",
    "\n",
    "print(switch_dict('add',2,2))\n",
    "print(switch_dict('div',10,2))\n",
    "print(switch_dict('mod',17,3))"
   ]
  },
  {
   "cell_type": "markdown",
   "id": "892c2e7c-45fa-4121-9083-ee45e70f8974",
   "metadata": {},
   "source": [
    "## Scopes"
   ]
  },
  {
   "cell_type": "markdown",
   "id": "dbaa9b63-6131-43b3-8653-4a038626b7c9",
   "metadata": {},
   "source": [
    "* La localización de una asignación a una variable en el código determina desde donde puedes acceder a esa variable.\n",
    "* Por ejemplo, una variable asignada dentro de una función sólo es visible dentro de esa función.\n",
    "* El alcance de la visibilidad de una variable determina su *scope*.\n",
    "* El término *scope* hace referencia a un espacio de nombres (*namespace*). Por ejemplo, una función establece su propio *namespace*."
   ]
  },
  {
   "cell_type": "code",
   "execution_count": null,
   "id": "61bad7a4-3333-4167-aef5-1a577e67e294",
   "metadata": {},
   "outputs": [],
   "source": [
    "X = 10\n",
    "\n",
    "def func():\n",
    "    X = 20   # Local a la función. Es una variable diferente, no visible fuera de 'func'\n",
    "\n",
    "    def func_int():\n",
    "        X = 30\n",
    "        print(X)\n",
    "\n",
    "    func_int()\n",
    "\n",
    "func()"
   ]
  },
  {
   "cell_type": "markdown",
   "id": "5275bc9e-6fad-45f1-98c6-c355baae3ad5",
   "metadata": {},
   "source": [
    "#### Regla LEGB\n",
    "\n",
    "Dada una función *F*, tenemos los siguientes *scopes*:\n",
    "\n",
    "* **L**ocal: variables locales a *F*.\n",
    "* **E**nclosing: variables localizadas en funciones que contienen a (o por encima de) *F*.\n",
    "* **G**lobal: variables definidas en el módulo (fichero) que no están contenidas en ninguna función. Este scope no abarca más de un fichero.\n",
    "* **B**uilt-ins: proporcionadas por el lenguaje.\n",
    "\n",
    "La resolución de nombres ocurre de abajo a arriba."
   ]
  },
  {
   "cell_type": "markdown",
   "id": "7c7c36bb-de71-4b17-8f8c-e8efb4ac93e5",
   "metadata": {},
   "source": [
    "<img src=\"img/LEGB.png\" width=\"700\">"
   ]
  },
  {
   "cell_type": "code",
   "execution_count": null,
   "id": "bb04ee18-be84-4d8e-83f0-5b92a7c188f4",
   "metadata": {},
   "outputs": [],
   "source": [
    "# Global (X y func)\n",
    "X = 99 \n",
    "\n",
    "def func(Y):  # Local (Y y Z)\n",
    "    Z = X + Y\n",
    "    return Z\n",
    "\n",
    "print(func(1))"
   ]
  },
  {
   "cell_type": "code",
   "execution_count": null,
   "id": "f75efe88-9f13-4483-bc11-9452f9172b32",
   "metadata": {
    "tags": []
   },
   "outputs": [],
   "source": [
    "X = 1\n",
    "\n",
    "def func():\n",
    "    X = 2  # X es una variable diferente\n",
    "\n",
    "func()\n",
    "print(X)"
   ]
  },
  {
   "cell_type": "markdown",
   "id": "5f5323a9-df3f-415a-b493-0442874a172b",
   "metadata": {},
   "source": [
    "* La sentencia *global* nos permite modificar una variable global desde dentro de una función."
   ]
  },
  {
   "cell_type": "code",
   "execution_count": null,
   "id": "82e238f2-991e-4b06-b580-a0e34fec59e3",
   "metadata": {},
   "outputs": [],
   "source": [
    "X = 1\n",
    "\n",
    "def func():\n",
    "    global X\n",
    "    X = 2        \n",
    "\n",
    "func()\n",
    "print(X)"
   ]
  },
  {
   "cell_type": "markdown",
   "id": "1ac5e4ac-a8c2-494c-b1c8-6360a581ab95",
   "metadata": {},
   "source": [
    "* No hay necesidad de usar *global* para referenciar variables. Sólo es necesario para modificarlas."
   ]
  },
  {
   "cell_type": "code",
   "execution_count": null,
   "id": "5d9b20ff-33e0-488d-ab0a-29fb7cd2ac82",
   "metadata": {},
   "outputs": [],
   "source": [
    "y, z = 1, 2\n",
    "\n",
    "def todas_globales():\n",
    "    global x\n",
    "    x = y + z   # Las tres variables son globales.\n",
    "    \n",
    "todas_globales()\n",
    "print(x)\n",
    "print(y)\n",
    "print(z)"
   ]
  },
  {
   "cell_type": "code",
   "execution_count": null,
   "id": "3e586b43-571e-4a31-ba1a-7045a5df0438",
   "metadata": {},
   "outputs": [],
   "source": [
    "X = 77\n",
    "\n",
    "def f1():\n",
    "    X = 88       # Enclosing scope (para f2)\n",
    "    def f2():\n",
    "        print(X)\n",
    "    f2()\n",
    "\n",
    "f1()"
   ]
  },
  {
   "cell_type": "markdown",
   "id": "9b5df577-90dd-4074-ac8a-2446e2e7ea7d",
   "metadata": {},
   "source": [
    "#### Closures\n",
    "\n",
    "* Las funciones pueden recordar su *enclosing scope*, independientemente de si éstos continuan existiendo o no."
   ]
  },
  {
   "cell_type": "code",
   "execution_count": null,
   "id": "289f9858-5628-417c-8f86-ea54be919528",
   "metadata": {},
   "outputs": [],
   "source": [
    "def f1():\n",
    "    X = 88       # Enclosing scope (para f2)\n",
    "    def f2():\n",
    "        print(X)\n",
    "    return f2    # Devuelve f2, sin invocarla\n",
    "    \n",
    "accion = f1()\n",
    "accion()"
   ]
  },
  {
   "cell_type": "markdown",
   "id": "ba6296cc-ccdb-479a-b695-6baf669c6021",
   "metadata": {},
   "source": [
    "* Sentencia *nonlocal* para modificar variables que no son locales, pero tampoco globales."
   ]
  },
  {
   "cell_type": "code",
   "execution_count": null,
   "id": "675bfc97-ef66-45ad-b79f-5ed4e945a745",
   "metadata": {},
   "outputs": [],
   "source": [
    "def f1():\n",
    "    contador = 10\n",
    "    def f2():\n",
    "        nonlocal contador\n",
    "        contador += 1\n",
    "        print(contador)\n",
    "    return f2\n",
    "    \n",
    "accion = f1()\n",
    "accion()\n",
    "accion()\n",
    "accion()"
   ]
  },
  {
   "cell_type": "markdown",
   "id": "0da93378-f330-44eb-8dcc-1dd558dcff51",
   "metadata": {},
   "source": [
    "## Ejercicios"
   ]
  },
  {
   "cell_type": "markdown",
   "id": "ceba2bff-297a-4dc6-94ff-b2ca2522128c",
   "metadata": {},
   "source": [
    "1. Escribe una función que reciba como entrada una *lista* con números y devuelva como resultado una *lista* con los cuadrados de los números contenidos en la lista de entrada.\n",
    "\n",
    "2. Escribe una función que reciba números como entrada y devuelva la suma de los mismos. La función debe ser capaz de recibir una cantidad indeterminada de números. La función no debe recibir directamente ningún objeto complejo (lista, conjunto, etc.).\n",
    "\n",
    "3. Escribe una función que reciba un string como entrada y devuelva el string al revés. Ejemplo: si el string de entrada es 'hola', el resultado será 'aloh'.\n",
    "\n",
    "4. Escribe una función *lambda* que, al igual que la función desarrollada en el ejercicio anterior, invierta el string recibido como parámetro. Ejemplo: si el string de entrada es 'hola', el resultado será 'aloh'.\n",
    "\n",
    "5. Escribe una función que compruebe si un número se encuentra dentro de un rango específico.\n",
    "\n",
    "6. Escribe una función que reciba un número entero positivo como parámetro y devuelva una lista que contenga los 5 primeros múltiplos de dicho número. Por ejemplo, si la función recibe el número 3, devolverá la lista [3, 6, 9, 12, 15]. Si la función recibe un parámetro incorrecto (por ejemplo, un múmero menor o igual a cero), mostrará un mensaje de error por pantalla y devolverá una lista vacía.\n",
    "\n",
    "7. Escribe una función que reciba una lista como parámetro y compruebe si la lista tiene duplicados. La función devolverá *True* si la lista tiene duplicados y *False* si no los tiene.\n",
    "\n",
    "8. Escribe una función *lambda* que, al igual que la función desarrollada en el ejercicio anterior, reciba una lista como parámetro y compruebe si la lista tiene duplicados. La función devolverá *True* si la lista tiene duplicados y *False* si no los tiene.\n",
    "\n",
    "9. Escribe una función que compruebe si un string dado es un palíndromo. Un palíndromo es una secuencia de caracteres que se lee igual de izquierda a derecha que de derecha a izquierda. Por ejemplo, la función devolverá *True* si recibe el string \"reconocer\" y *False* si recibe el string \"python\"."
   ]
  },
  {
   "cell_type": "markdown",
   "id": "6c105f9b-6d63-4178-a8f7-193021f0191a",
   "metadata": {},
   "source": [
    "## Soluciones"
   ]
  },
  {
   "cell_type": "code",
   "execution_count": null,
   "id": "5de5f947-3064-4e74-910f-6ad8c3419b5f",
   "metadata": {},
   "outputs": [],
   "source": [
    "# Ejercicio 1\n",
    "\n",
    "def obtener_cuadrados(numeros):\n",
    "    resultado = []\n",
    "    for numero in numeros:\n",
    "        resultado.append(numero ** 2)\n",
    "    return resultado\n",
    "\n",
    "print(obtener_cuadrados([1,2,3,4,5]))"
   ]
  },
  {
   "cell_type": "code",
   "execution_count": null,
   "id": "4445cb45-217b-40ea-856a-74b44ef9f09c",
   "metadata": {},
   "outputs": [],
   "source": [
    "# Ejercicio 2\n",
    "\n",
    "def sumar(*numeros):\n",
    "    suma = 0\n",
    "    for numero in numeros:\n",
    "         suma += numero\n",
    "    return suma\n",
    "\n",
    "print(sumar(1,2,3,4,5))"
   ]
  },
  {
   "cell_type": "code",
   "execution_count": null,
   "id": "6147ef4c-651c-4431-a308-93bae15e30c9",
   "metadata": {},
   "outputs": [],
   "source": [
    "# Ejercicio 3\n",
    "\n",
    "def invertir(s):\n",
    "    s_invertida = \"\"\n",
    "    for caracter in s:\n",
    "        s_invertida = caracter + s_invertida\n",
    "    return s_invertida\n",
    "\n",
    "print(invertir(\"hola\"))"
   ]
  },
  {
   "cell_type": "code",
   "execution_count": null,
   "id": "7071ebf2-ebbd-4474-8f9b-7ff06a231dbb",
   "metadata": {},
   "outputs": [],
   "source": [
    "# Ejercicio 4\n",
    "\n",
    "invertir = lambda s : s[::-1]\n",
    "\n",
    "print(invertir(\"hola\"))"
   ]
  },
  {
   "cell_type": "code",
   "execution_count": null,
   "id": "9595669f-8b84-44e4-a9ec-92a14e154453",
   "metadata": {},
   "outputs": [],
   "source": [
    "# Ejercicio 5\n",
    "\n",
    "def contenido_en_rango(numero, rango):\n",
    "    return numero in range(rango[0], rango[1])\n",
    "\n",
    "rango = (1,5)\n",
    "print(contenido_en_rango(2, rango))\n",
    "print(contenido_en_rango(6, rango))"
   ]
  },
  {
   "cell_type": "code",
   "execution_count": null,
   "id": "784e2896-aa0d-4127-860c-0622806cc654",
   "metadata": {},
   "outputs": [],
   "source": [
    "# Ejercicio 6\n",
    "\n",
    "def primeros_5_multiplos(numero):\n",
    "    if numero <= 0:\n",
    "        print(\"Número incorrecto: debe ser mayor que cero.\")\n",
    "        return []\n",
    "    \n",
    "    multiplos = []\n",
    "    for i in range(1, 6):\n",
    "        multiplos.append(numero*i)\n",
    "    return multiplos\n",
    "\n",
    "print(primeros_5_multiplos(3))\n",
    "print(primeros_5_multiplos(0))"
   ]
  },
  {
   "cell_type": "code",
   "execution_count": null,
   "id": "e5af8bca-62ac-4379-9f34-e46459e99e6f",
   "metadata": {},
   "outputs": [],
   "source": [
    "# Ejercicio 7\n",
    "\n",
    "def contiene_duplicados(lista):\n",
    "    objetos_ya_vistos = set()\n",
    "    for objeto in lista:\n",
    "        if objeto in objetos_ya_vistos:\n",
    "            return True\n",
    "        objetos_ya_vistos.add(objeto)\n",
    "    return False\n",
    "\n",
    "print(contiene_duplicados([1,2,3,4,5]))\n",
    "print(contiene_duplicados([1,2,3,4,5,5,5]))"
   ]
  },
  {
   "cell_type": "code",
   "execution_count": null,
   "id": "7528aa0b-fe73-491c-9c42-9aa1de62fe27",
   "metadata": {
    "tags": []
   },
   "outputs": [],
   "source": [
    "# Ejercicio 8\n",
    "\n",
    "contiene_duplicados = lambda lista : len(lista) != len(set(lista))\n",
    "\n",
    "print(contiene_duplicados([1,2,3,4,5]))\n",
    "print(contiene_duplicados([1,2,3,4,5,5,5]))"
   ]
  },
  {
   "cell_type": "code",
   "execution_count": null,
   "id": "bdf616ed-a3b6-4818-982e-9393196e1025",
   "metadata": {},
   "outputs": [],
   "source": [
    "# Ejercicio 9\n",
    "\n",
    "def es_palindromo(s):\n",
    "    for i in range(len(s)//2):\n",
    "        if s[i] != s[len(s)-i-1]:\n",
    "            return False\n",
    "    return True\n",
    "\n",
    "print(es_palindromo(\"reconocer\"))\n",
    "print(es_palindromo(\"python\"))"
   ]
  }
 ],
 "metadata": {
  "kernelspec": {
   "display_name": "Python 3 (ipykernel)",
   "language": "python",
   "name": "python3"
  },
  "language_info": {
   "codemirror_mode": {
    "name": "ipython",
    "version": 3
   },
   "file_extension": ".py",
   "mimetype": "text/x-python",
   "name": "python",
   "nbconvert_exporter": "python",
   "pygments_lexer": "ipython3",
   "version": "3.11.4"
  }
 },
 "nbformat": 4,
 "nbformat_minor": 5
}
