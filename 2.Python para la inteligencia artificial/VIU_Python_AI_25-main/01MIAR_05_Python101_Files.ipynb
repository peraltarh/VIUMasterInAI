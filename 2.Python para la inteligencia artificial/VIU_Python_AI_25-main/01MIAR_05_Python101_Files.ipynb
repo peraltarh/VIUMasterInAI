{
 "cells": [
  {
   "cell_type": "markdown",
   "id": "64a35764-acdd-4305-89f8-18fc2098a1ef",
   "metadata": {},
   "source": [
    "<img src=\"img/viu_logo.png\" width=\"200\">\n",
    "\n",
    "## 01MIAR - Ficheros\n",
    "\n",
    "![logo](img/python_logo.png)\n",
    "\n",
    "*Ivan Fuertes / Franklin Alvarez*"
   ]
  },
  {
   "cell_type": "markdown",
   "id": "19c7f39d-ba33-4509-b741-70ea8dab6da9",
   "metadata": {},
   "source": [
    "# Acceso a ficheros"
   ]
  },
  {
   "cell_type": "markdown",
   "id": "993158b7-0178-469f-a9a6-cdee6fdd27d3",
   "metadata": {},
   "source": [
    "## Ficheros"
   ]
  },
  {
   "cell_type": "markdown",
   "id": "a973d1ed-b618-411a-9df3-bbae0a6327f0",
   "metadata": {},
   "source": [
    "* *File* es un tipo de objeto predefinido en Python (*built-in*).\n",
    "* Permite acceder a ficheros desde programas Python.\n",
    "* Los ficheros son de un tipo especial:\n",
    "    * Son *built-in*, pero no son ni *números*, ni *secuencias*, ni *mappings*. Tampoco responden a operadores en expresiones.\n",
    "* La función *open* permite crear objetos de tipo fichero."
   ]
  },
  {
   "cell_type": "markdown",
   "id": "64ad3e23-5a68-486c-a6af-35eeb8fa98c8",
   "metadata": {},
   "source": [
    "Formato general para abrir un fichero:\n",
    "\n",
    "```\n",
    "afile = open(filename, mode)\n",
    "```\n",
    "\n",
    "* *mode* es opcional. Por defecto, los ficheros se abren en modo lectura.\n",
    "* Los datos leidos de un fichero siempre se obtienen en formato *string*. Lo mismo ocurre con escritura.\n",
    "* Los ficheros se deben cerrar invocando *close* (liberación de recursos)."
   ]
  },
  {
   "cell_type": "code",
   "execution_count": null,
   "id": "1851523c-9fd6-4354-a257-cd23e8aac7f2",
   "metadata": {},
   "outputs": [],
   "source": [
    "# Lectura desde fichero usando método 'read'. Devuelve todo el contenido del fichero.\n",
    "mi_fichero = open('res/one_line.txt')\n",
    "print(mi_fichero.read())\n",
    "mi_fichero.close()"
   ]
  },
  {
   "cell_type": "code",
   "execution_count": null,
   "id": "3e3ea4ea-3465-44d6-8254-937e7754c6be",
   "metadata": {},
   "outputs": [],
   "source": [
    "# Lectura linea a linea a través del bucle 'for'.\n",
    "mi_fichero = open('res/multiple_lines.txt')\n",
    "for linea in mi_fichero:\n",
    "    print(linea, end= '')\n",
    "mi_fichero.close()"
   ]
  },
  {
   "cell_type": "code",
   "execution_count": null,
   "id": "9654cbbc-7ee8-4448-8ba0-d3f84971d863",
   "metadata": {},
   "outputs": [],
   "source": [
    "# leer de un archivo a una lista.\n",
    "mi_fichero = open('res/multiple_lines.txt')\n",
    "lineas = mi_fichero.readlines()\n",
    "mi_fichero.close()\n",
    "\n",
    "print(lineas)"
   ]
  },
  {
   "cell_type": "markdown",
   "id": "1ecdc36b-2af3-4cf7-a404-6111af6f72c2",
   "metadata": {},
   "source": [
    "- Resolución de paths independiente de plataforma"
   ]
  },
  {
   "cell_type": "code",
   "execution_count": null,
   "id": "cf7452a5-3a09-41de-9df1-65b0e5c8ce03",
   "metadata": {},
   "outputs": [],
   "source": [
    "import os\n",
    "ruta = os.path.join(\"res\", \"multiple_lines.txt\")\n",
    "print(ruta)"
   ]
  },
  {
   "cell_type": "code",
   "execution_count": null,
   "id": "34ee10e4-fee1-4c7a-a44e-b551bdd72a56",
   "metadata": {},
   "outputs": [],
   "source": [
    "dataset_file_path = [\"res\", \"multiple_lines.txt\"]\n",
    "ruta = os.path.join(*dataset_file_path)\n",
    "print(ruta)"
   ]
  },
  {
   "cell_type": "markdown",
   "id": "631c1035-60d0-41a1-8c86-62f71aa0464d",
   "metadata": {},
   "source": [
    "* *close* autómatico con sentencia *with.* Esta es la forma habitual de leer de fichero en Python, context manager"
   ]
  },
  {
   "cell_type": "code",
   "execution_count": null,
   "id": "c9601a35-df69-4344-ba27-4fa9bf009d73",
   "metadata": {},
   "outputs": [],
   "source": [
    "with open(ruta) as mi_fichero:\n",
    "    for linea in mi_fichero:\n",
    "        print(linea, end= '')"
   ]
  },
  {
   "cell_type": "markdown",
   "id": "818d2597-10a8-4bca-a260-9060da7c76bb",
   "metadata": {},
   "source": [
    "* Se puede abrir varios ficheros en un mismo *with*."
   ]
  },
  {
   "cell_type": "code",
   "execution_count": null,
   "id": "45874f5a-20e7-4dbc-a86f-92ddc0624a48",
   "metadata": {},
   "outputs": [],
   "source": [
    "#abrir varios ficheros en el mismo with\n",
    "ruta1 = os.path.join(\"res\", \"one_line.txt\")\n",
    "ruta2 = os.path.join(\"res\", \"multiple_lines.txt\")\n",
    "with open(ruta1) as fichero1, open(ruta2) as fichero2:\n",
    "    print(fichero1.readlines())\n",
    "    print(fichero2.readlines())"
   ]
  },
  {
   "cell_type": "markdown",
   "id": "5da52919-f9e1-4b0d-aa04-0c33df20129b",
   "metadata": {},
   "source": [
    "## Modos de acceso"
   ]
  },
  {
   "cell_type": "markdown",
   "id": "2c240e7b-21cd-496b-a48d-48a583e1c311",
   "metadata": {},
   "source": [
    "* Al crear un objeto de tipo *File* se puede espeficiar el modo de acceso (lectura/escritura).\n",
    "\n",
    "| Modo Acceso | Descripción |\n",
    "|:---------|:-----|\n",
    "| r | Solo Lectura |\n",
    "| w | Solo Escritura (Borra si el archivo ya existe) |\n",
    "| x | Solo Escritura (Falla si el archivo ya existe) |\n",
    "| a | Crea Fichero (Si existe lo abre y se añade al final) |\n",
    "| r+ | Lectura y Escritura |\n",
    "| b | Se puede añadir a otros modos para acceso binario\n",
    "| t | Acceso para archivos de texto (default) |"
   ]
  },
  {
   "cell_type": "markdown",
   "id": "68bc84d8-92d1-4b89-b0e2-b64ea09e0586",
   "metadata": {},
   "source": [
    "## Acceso para escritura"
   ]
  },
  {
   "cell_type": "code",
   "execution_count": null,
   "id": "f2bf8a24-ac3f-443d-b3fc-c6b2a7f2a3ac",
   "metadata": {},
   "outputs": [],
   "source": [
    "def crear_lista(tamanyo):\n",
    "    lista = []\n",
    "    for i in range(tamanyo):\n",
    "        lista.append(str(i) + '\\n')\n",
    "    return lista\n",
    "\n",
    "ruta = os.path.join(\"res\", \"o_dummy.txt\")\n",
    "with open(ruta, 'wt') as fichero:\n",
    "    fichero.write('Cabecera\\n')\n",
    "    lista = crear_lista(10)\n",
    "    fichero.writelines(lista)"
   ]
  },
  {
   "cell_type": "markdown",
   "id": "899e3a5d-f4ec-4ba7-b439-1f587a0ff542",
   "metadata": {},
   "source": [
    "#### Buffering"
   ]
  },
  {
   "cell_type": "markdown",
   "id": "ebb46d3f-d85c-4e02-8e4b-8584a3f4041b",
   "metadata": {},
   "source": [
    "* Por defecto, el texto que transfieres desde tu programa a un fichero no se guarda en disco inmediatamente. Se almacena en un buffer.\n",
    "* Acciones como cerrar un fichero o invocar el método **flush** fuerzan que se transfiera el contenido del buffer a disco."
   ]
  },
  {
   "cell_type": "code",
   "execution_count": null,
   "id": "0989d125-365f-44a2-8be6-e7311dacea2b",
   "metadata": {},
   "outputs": [],
   "source": [
    "ruta = os.path.join(\"res\", \"FicheroParaEscritura.txt\")\n",
    "fichero_write = open(ruta, 'w')\n",
    "fichero_write.write('foo')\n",
    "\n",
    "fichero_read = open(ruta, \"r\")\n",
    "print(fichero_read.readlines())\n",
    "\n",
    "fichero_write.flush()\n",
    "\n",
    "print(fichero_read.readlines())\n",
    "\n",
    "fichero_write.close()\n",
    "fichero_read.close()"
   ]
  },
  {
   "cell_type": "markdown",
   "id": "a440cdad-4a8a-4dc3-977f-ac358817ac35",
   "metadata": {},
   "source": [
    "## Archivos CSV"
   ]
  },
  {
   "cell_type": "markdown",
   "id": "db4aa09f-2046-4915-b075-bbb4506ec11e",
   "metadata": {
    "tags": []
   },
   "source": [
    "* Python permite leer datos de ficheros CSV y también escribir ficheros en este formato.\n",
    "* Popular formato en ciencia de datos."
   ]
  },
  {
   "cell_type": "code",
   "execution_count": null,
   "id": "7272687a-ef89-4628-b6c5-d9607fb1b2d1",
   "metadata": {},
   "outputs": [],
   "source": [
    "# tabla_operaciones.csv contiene valores separados por comas\n",
    "import csv\n",
    "ruta = os.path.join(\"res\", \"tabla_operaciones.csv\")\n",
    "\n",
    "with open(ruta) as fichero:\n",
    "    data_reader = csv.reader(fichero, delimiter=',')\n",
    "    for linea in data_reader:\n",
    "        print(linea[0] + '  ----  ' + linea[1])"
   ]
  },
  {
   "cell_type": "code",
   "execution_count": null,
   "id": "59434ab7-ef76-46ec-95c1-8552f7ecac16",
   "metadata": {},
   "outputs": [],
   "source": [
    "ruta = os.path.join(\"res\", \"tabla_operaciones.csv\")\n",
    "f = open(ruta)\n",
    "data_reader = csv.reader(f, delimiter = ',')\n",
    "\n",
    "ruta_o = os.path.join(\"res\", \"o_tabla_operaciones.csv\")\n",
    "with open(ruta_o, 'w') as f2:\n",
    "    csv_writer = csv.writer(f2, delimiter = '|')\n",
    "    for line in data_reader:\n",
    "        print(line)\n",
    "        csv_writer.writerow(line)\n",
    "        \n",
    "f.close()"
   ]
  },
  {
   "cell_type": "markdown",
   "id": "a2097f2f-627c-45b6-8fe6-0cb86790a988",
   "metadata": {},
   "source": [
    "# Docstrings"
   ]
  },
  {
   "cell_type": "markdown",
   "id": "8e891d46-6144-4742-b599-d3a303544533",
   "metadata": {},
   "source": [
    "* Python permite adjuntar documentación a los objetos e inspeccionarla a través de la línea de comandos o durante la ejecución del programa.\n",
    "* Los docstrings se almacenan en el atributo *\\_\\_doc\\_\\_* de cada objeto.\n",
    "* El valor de dicho atributo se puede mostrar por medio de la función *help*."
   ]
  },
  {
   "cell_type": "code",
   "execution_count": null,
   "id": "b245f99a-5a4c-45cf-8209-6f3d66c617c5",
   "metadata": {},
   "outputs": [],
   "source": [
    "help(open)"
   ]
  },
  {
   "cell_type": "markdown",
   "id": "12066f71-3ad4-454d-8482-b0f4c659f369",
   "metadata": {},
   "source": [
    "* No es necesario editar este atributo directamente.\n",
    "* Para asociar un docstring a un objeto basta con escribir el texto (entre triples comillas) al principio de los modulos, funciones o clases, antes del codigo ejecutable."
   ]
  },
  {
   "cell_type": "code",
   "execution_count": null,
   "id": "545e588e-e64e-42f6-9446-101dbc5ca709",
   "metadata": {},
   "outputs": [],
   "source": [
    "def funcion_de_prueba():\n",
    "    \"\"\"Esta es la documentación de la función de prueba\"\"\"\n",
    "    pass\n",
    "\n",
    "help(funcion_de_prueba)"
   ]
  },
  {
   "cell_type": "markdown",
   "id": "8893426e-51a1-4559-9f0d-bff3f152fa3c",
   "metadata": {},
   "source": [
    "* Accediendo al atributo *\\_\\_doc\\_\\_* sólo se obtiene el docstring."
   ]
  },
  {
   "cell_type": "code",
   "execution_count": null,
   "id": "2743e60a-d531-478f-a1c4-c2ef8b7e57be",
   "metadata": {},
   "outputs": [],
   "source": [
    "print(funcion_de_prueba.__doc__)"
   ]
  },
  {
   "cell_type": "markdown",
   "id": "7ae0885c-63db-4058-bddb-7dbf40f66576",
   "metadata": {},
   "source": [
    "Como se puede observar, *help* añade información adicional. Por ejemplo, para entidades más grandes, *help* muestra el docstring dividido en secciones."
   ]
  },
  {
   "cell_type": "code",
   "execution_count": null,
   "id": "977dbe7a-8834-4ae9-84dc-901385af1599",
   "metadata": {},
   "outputs": [],
   "source": [
    "import sys\n",
    "help(sys)"
   ]
  },
  {
   "cell_type": "markdown",
   "id": "0eb1d4cd-49c4-47f0-ad77-165e1be8b928",
   "metadata": {},
   "source": [
    "Los docstrings que ocupan más de una línea suelen tener estas partes:\n",
    "\n",
    "* Resumen en la primera línea.\n",
    "* Línea en blanco.\n",
    "* Descripción detallada.\n",
    "* Otra línea en blanco antes del código."
   ]
  },
  {
   "cell_type": "code",
   "execution_count": null,
   "id": "c5fa0c88-4e07-49ba-972a-8789f9733e81",
   "metadata": {},
   "outputs": [],
   "source": [
    "def funcion_de_prueba2():\n",
    "    \"\"\"Esta es la línea para el resumen.\n",
    "    \n",
    "    Este es el párrafo donde se puede escribir una descripción más\n",
    "    detallada de la función. Observa que el resumen y la descripción\n",
    "    detallada van separados por una línea en blanco. También hay\n",
    "    otra línea en blanco antes de empezar el código.\n",
    "    \"\"\"\n",
    "    \n",
    "    pass\n",
    "\n",
    "help(funcion_de_prueba2)"
   ]
  },
  {
   "cell_type": "markdown",
   "id": "5f4c2916-0205-4aab-858d-bd5e3dccb33f",
   "metadata": {},
   "source": [
    "Algunos comentarios adicionales:\n",
    "\n",
    "* Comentarios con '#' suelen asociarse a expresiones sencillas, instrucciones individuales o pequeños bloques de código.\n",
    "* Los docstrings son más apropiados para construcciones de más alto nivel: funciones, clases y módulos."
   ]
  },
  {
   "cell_type": "markdown",
   "id": "3fdb0467-b6d2-4222-9b4b-125fa58880c3",
   "metadata": {},
   "source": [
    "## Sphinx"
   ]
  },
  {
   "cell_type": "markdown",
   "id": "6312137c-122d-4272-868b-9756d2b142c0",
   "metadata": {},
   "source": [
    "* Herramienta de documentación.\n",
    "* Especialmente útil para sistemas grandes.\n",
    "* Da soporte a una gran variedad de formatos de salida: HTML, LaTeX, ePub, ..."
   ]
  },
  {
   "cell_type": "markdown",
   "id": "2fa123d2-4093-4cb1-89fb-790f93f6890d",
   "metadata": {},
   "source": [
    "Web de [Sphinx](https://www.sphinx-doc.org/)."
   ]
  },
  {
   "cell_type": "markdown",
   "id": "3d65b30a-3c07-4394-9f9c-5995756ae97c",
   "metadata": {},
   "source": [
    "[Proyectos](https://www.sphinx-doc.org/en/master/examples.html) que usan Sphinx."
   ]
  },
  {
   "cell_type": "markdown",
   "id": "b955fefb-5d6b-41cd-9784-99667997de0b",
   "metadata": {},
   "source": [
    "## Estilo"
   ]
  },
  {
   "cell_type": "markdown",
   "id": "6e557bcd-62a4-472a-b731-ae4663d0c15e",
   "metadata": {},
   "source": [
    "* Es importante que los docstrings sean consistentes.\n",
    "* El equipo de desarrollo debe acordar un formato y seguirlo rigurosamente."
   ]
  },
  {
   "cell_type": "markdown",
   "id": "5c5d03ca-8f3e-42b4-b36f-0bed2caa911e",
   "metadata": {},
   "source": [
    "#### Google Python Style Guide"
   ]
  },
  {
   "cell_type": "markdown",
   "id": "58c5a205-3e1d-44f2-a3af-9107060f7624",
   "metadata": {},
   "source": [
    "Google define la siguiente [guía de estilo](https://github.com/google/styleguide/blob/gh-pages/pyguide.md#38-comments-and-docstrings)."
   ]
  },
  {
   "cell_type": "markdown",
   "id": "9f393ac5-8fd6-4603-8dc0-a7fd2c1a1792",
   "metadata": {},
   "source": [
    "Contiene reglas para los docstrings de:\n",
    "\n",
    "* Módulos.\n",
    "* Métodos y funciones.\n",
    "* Clases."
   ]
  },
  {
   "cell_type": "markdown",
   "id": "d9e230da-6f4a-4f20-b517-5161c83a5174",
   "metadata": {},
   "source": [
    "## Ejercicios"
   ]
  },
  {
   "cell_type": "markdown",
   "id": "1b6df8c5-c421-4d2b-b794-6a2515995efc",
   "metadata": {},
   "source": [
    "1. Escribe una función que reciba una ruta de un fichero de texto y una cadena de caracteres a buscar y determine si la cadena aparece en el fichero.\n",
    "\n",
    "2. Escribe una función que reciba una lista, una ruta destino y un número *n*. La función debe crear un fichero en la ruta especificada. El contenido del fichero serán los primeros *n* elementos de la lista. La función debe controlar de manera apropiada los posibles valores de *n* que estén fuera de rango.\n",
    "\n",
    "3. Escribe una función que reciba una ruta de un fichero de texto devuelva un diccionario con la frecuencia de aparición de cada palabra. Ejemplo: un fichero que contenga la frase 'es mejor que venga que que no venga' devolverá el siguiente diccionario: {'es' : 1, 'mejor' : 1, 'que' : 3, 'venga' : 2, 'no' : 1}. Para dividir un string en palabras puedes hacer uso del método *split*."
   ]
  },
  {
   "cell_type": "code",
   "execution_count": null,
   "id": "02ae07ae-8277-4243-8ed3-dc7f809f24e1",
   "metadata": {},
   "outputs": [],
   "source": [
    "# Ejercicio 1\n",
    "\n",
    "def existe_en_fichero(ruta_fichero, patron_a_buscar):\n",
    "    with open(ruta_fichero) as fichero:\n",
    "        for linea in fichero:\n",
    "            if patron_a_buscar in linea:\n",
    "                return True\n",
    "    return False\n",
    "        \n",
    "        \n",
    "print(existe_en_fichero('res/VariasLineas.txt', 'tres')) # True\n",
    "print(existe_en_fichero('res/VariasLineas.txt', 'hola')) # False"
   ]
  },
  {
   "cell_type": "code",
   "execution_count": null,
   "id": "b82b8288-0d71-410f-9f68-acd76b4cb41c",
   "metadata": {},
   "outputs": [],
   "source": [
    "# Ejercicio 2\n",
    "\n",
    "def escribir_objetos(lista, ruta_fichero, n):\n",
    "    with open(ruta_fichero, 'w') as fichero:\n",
    "        try:\n",
    "            if(n < 0):\n",
    "                raise IndexError\n",
    "                \n",
    "            for i in range(n):\n",
    "                fichero.write(f\"{lista[i]}\\n\")\n",
    "            \n",
    "            print(f\"Fichero creado satisfactoriamente. Se escribieron {n} elementos en el fichero.\")\n",
    "        except IndexError:\n",
    "            print(f\"Acceso fuera de rango. Valor n incorrecto: {n}.\")\n",
    "            \n",
    "escribir_objetos(['a', 'b', 'c', 'd', 'e', 'f'], 'res/Ejercicio2.txt', 2)"
   ]
  },
  {
   "cell_type": "code",
   "execution_count": null,
   "id": "66c5ba69-932c-4300-b965-31a1fa79334f",
   "metadata": {},
   "outputs": [],
   "source": [
    "# Ejercicio 3\n",
    "\n",
    "def anyadir_palabra(frecuencias, palabra):\n",
    "    if palabra in frecuencias:\n",
    "        frecuencias[palabra] += 1\n",
    "    else:\n",
    "        frecuencias[palabra] = 1\n",
    "\n",
    "def obtener_frecuencias(ruta_fichero):\n",
    "    frecuencias = {}\n",
    "    with open(ruta_fichero) as fichero:\n",
    "        for linea in fichero:\n",
    "            for palabra in linea.split():\n",
    "                anyadir_palabra(frecuencias, palabra)\n",
    "    return frecuencias\n",
    "\n",
    "obtener_frecuencias('res/Ejercicio3.txt')"
   ]
  }
 ],
 "metadata": {
  "kernelspec": {
   "display_name": "Python 3 (ipykernel)",
   "language": "python",
   "name": "python3"
  },
  "language_info": {
   "codemirror_mode": {
    "name": "ipython",
    "version": 3
   },
   "file_extension": ".py",
   "mimetype": "text/x-python",
   "name": "python",
   "nbconvert_exporter": "python",
   "pygments_lexer": "ipython3",
   "version": "3.11.4"
  }
 },
 "nbformat": 4,
 "nbformat_minor": 5
}
