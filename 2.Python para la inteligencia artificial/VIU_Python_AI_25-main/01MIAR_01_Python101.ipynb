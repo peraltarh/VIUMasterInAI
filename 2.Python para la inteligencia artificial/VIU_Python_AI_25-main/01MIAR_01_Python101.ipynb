{
 "cells": [
  {
   "cell_type": "markdown",
   "id": "8ae94a92-fdfb-41d4-a1bc-5256470610c5",
   "metadata": {},
   "source": [
    "<img src=\"img/viu_logo.png\" width=\"200\">\n",
    "\n",
    "## 01MIAR - Python 101\n",
    "\n",
    "![logo](img/python_logo.png)\n",
    "\n",
    "*Ivan Fuertes / Franklin Alvarez*"
   ]
  },
  {
   "cell_type": "markdown",
   "id": "159b885d-760b-49d1-8530-3cceb4763e90",
   "metadata": {},
   "source": [
    "# Introducción a Python"
   ]
  },
  {
   "cell_type": "markdown",
   "id": "3fbe0887-17fd-4050-86c8-4620ade0d3f6",
   "metadata": {
    "tags": []
   },
   "source": [
    "### Principales características\n",
    "\n",
    "* Lenguaje de propósito general\n",
    "* Interpretado, no compilado. Más flexible y portable\n",
    "* Tipado dinámico\n",
    "* Fuertemente tipado\n",
    "* Énfasis en la legibilidad\n",
    "* Lenguaje de alto nivel\n",
    "* Gestión automática de memoria. Cuando el rendimiento es crítico, hay lenguajes más apropiados\n",
    "* Multiparadigma: orientado a objetos, procedural y funcional\n",
    "* Indentación para delimitar bloques de código\n",
    "* Gran librería con módulos para múltiples tareas\n",
    "* Multiplataforma"
   ]
  },
  {
   "cell_type": "markdown",
   "id": "12ce3e3a-fb76-41f6-9f2a-2ed4ea4dbd4c",
   "metadata": {},
   "source": [
    "### ¿Por qué Python?\n",
    "\n",
    "> “Python is used in pursuits as diverse as data science, film-making,\n",
    "computer science education, IT management, and much more. There really\n",
    "is no computing field that Python has not touched (except maybe kernel\n",
    "development). Python is loved for its flexibility, beautiful and succinct\n",
    "syntax, object-oriented purity, and bustling community. The strong\n",
    "community is important because it means Python is welcoming to\n",
    "newcomers and has a large ecosystem of available libraries for developers\n",
    "to build upon.”\n",
    "\n",
    "Kopec, D. (2019). Classic computer science problems in Python. Simon\n",
    "and Schuster.\n",
    "\n",
    "* Uno de los lenguajes más usados en todo el mundo\n",
    "* Perfecto para introducción a la programación\n",
    "* Ecosistema amplio con librerías estables para múltiples áreas\n",
    "* Comunidad muy participativa y mucha documentación\n",
    "* Incrementa productividad del desarrollador.\n",
    "  * Menos programación. Código más compacto.\n",
    "  * No largas compilaciones.\n",
    "  * Código legible, facilmente mantenible\n",
    "* Fácil integración con herramientas y otros lenguajes\n",
    "* Versátil en la tipología de programación\n",
    "* Es multiplataforma, portable\n",
    "* Compilable para mejorar ejecución\n",
    "* Trabajo en memoria con gran cantidad de datos\n",
    "\n",
    "[Stack Overflow Developer Survey 2023](https://survey.stackoverflow.co/2023/)\n",
    "\n",
    "[IEEE, The Top Programming Languages 2032](https://spectrum.ieee.org/top-programming-languages-2023)\n",
    "\n",
    "[Tiobe Index](https://www.tiobe.com/tiobe-index/)\n",
    "\n",
    "[HackerRank Developer Skills Report](https://info.hackerrank.com/rs/487-WAY-049/images/HackerRank-2020-Developer-Skills-Report.pdf)"
   ]
  },
  {
   "cell_type": "markdown",
   "id": "4f0d91fa-eaaa-4595-b9cd-5ca3beb7ad62",
   "metadata": {},
   "source": [
    "### ¿Qué puedo hacer con Python?\n",
    "\n",
    "* Herramientas shell (administración de sistemas).\n",
    "  * Manipulación de ficheros.\n",
    "  * Ejecución de comandos.\n",
    "* Desarrollo de Interfaces Gráficas de Usuario (GUIs).\n",
    "* Internet and network communication.\n",
    "  * Generación y parseado de XML y JSON.\n",
    "  * Recuperación de webs por URL.\n",
    "  * Comunicación a través de sockets.\n",
    "  * Transferencia de ficheros por FTP.\n",
    "* Programación de base de datos.\n",
    "* Computación numérica (NumPy).\n",
    "* Análisis lenguaje natural.\n",
    "* Aprendizaje automático e inteligencia artificial.\n",
    "* Programación multimedia.\n",
    "* Tratamiento de datos\n",
    "  * linear algebra\n",
    "  * statistical modeling\n",
    "  * visualization\n",
    "  * computational linguistics\n",
    "  * graph analysis \n",
    "  * machine learning\n",
    "  * business intelligence\n",
    "  * data storage and retrieval\n",
    "  "
   ]
  },
  {
   "cell_type": "markdown",
   "id": "112b4013-fc3b-4587-a134-96deb22cabf1",
   "metadata": {
    "tags": []
   },
   "source": [
    "### Filosofía Python"
   ]
  },
  {
   "cell_type": "code",
   "execution_count": null,
   "id": "57222417-fed9-4ceb-a527-0bced0977a17",
   "metadata": {},
   "outputs": [],
   "source": [
    "import this"
   ]
  },
  {
   "cell_type": "markdown",
   "id": "d06d86d7-4e28-41bd-a428-d254d4d6fd67",
   "metadata": {},
   "source": [
    "### Documentación\n",
    "\n",
    "* Python Enhancement Proposals (PEP)\n",
    "\n",
    "  * [Index](https://www.python.org/dev/peps/)\n",
    "  * [Purpose and Guidelines](https://www.python.org/dev/peps/pep-0001/)\n",
    "\n",
    "\n",
    "* [Python Style Guide](https://www.python.org/dev/peps/pep-0008/)"
   ]
  },
  {
   "cell_type": "markdown",
   "id": "4cdd8994-3842-4c64-ae65-11afffc3ecf6",
   "metadata": {},
   "source": [
    "# Intérprete de Python y ejecución de scripts"
   ]
  },
  {
   "cell_type": "markdown",
   "id": "59430a06-1202-4f2c-b5ab-16973854ee27",
   "metadata": {
    "slideshow": {
     "slide_type": "slide"
    }
   },
   "source": [
    "### Antes de empezar\n",
    "#### Se puede utilizar diferentes formas para ejecutar código:\n",
    "* Línea de comandos o terminal, Shell de python o interactivo, python/ipython\n",
    "* IDE -> Eclipse, Pycharm, Sublime, Nano, VSCode, Atom, Spyder, ...\n",
    "* Google Colab, Azure Notebooks, Jupyter"
   ]
  },
  {
   "cell_type": "markdown",
   "id": "3982350a-777f-4432-92e7-11759f8546a8",
   "metadata": {},
   "source": [
    "### ¿Qué es un intérprete?\n",
    "\n",
    "* Un programa que ejecuta otros programas.\n",
    "\n",
    "* Una capa de software entre tu código y el hardware que lo ejecuta.\n",
    "\n",
    "* Debe estar instalado en tu ordenador para poder ejecutar código Python.\n",
    "\n",
    "* Para la [especificación de Python](https://docs.python.org/3/reference/index.html), existen varias implementaciones:\n",
    "\n",
    "   * CPython (implementación en C). Es el más común.\n",
    "   * Jython (implementación en Java).\n",
    "   * IronPython (implementación en .NET)."
   ]
  },
  {
   "cell_type": "markdown",
   "id": "2f49ccdf-8e7a-4e30-aae2-66975e9cb1fb",
   "metadata": {},
   "source": [
    "### ¿Cómo se lleva a cabo la ejecución de scripts?"
   ]
  },
  {
   "cell_type": "code",
   "execution_count": null,
   "id": "fc73d7ed-ede9-4fb4-91f2-4cc43f9b02a0",
   "metadata": {
    "tags": []
   },
   "outputs": [],
   "source": [
    "print('Hello World')"
   ]
  },
  {
   "cell_type": "markdown",
   "id": "5b5a4747-961b-4557-a01c-ca544703639b",
   "metadata": {},
   "source": [
    "Guía con detalles para Windows, Linux y macOS: https://realpython.com/run-python-scripts/"
   ]
  },
  {
   "cell_type": "markdown",
   "id": "7c918036-fd33-4d0b-937b-d40777a913c8",
   "metadata": {},
   "source": [
    "### Perspectiva del desarrollador\n",
    "\n",
    "* Un script en Python es un fichero de texto que:\n",
    "\n",
    "  * Contiene instrucciones Python.\n",
    "  * Tiene extension *.py*.\n",
    "\n",
    "\n",
    "* Puedes ejecutar scripts:\n",
    "\n",
    "  * Línea de comandos\n",
    "  * IDE"
   ]
  },
  {
   "cell_type": "markdown",
   "id": "3306d8c6-4124-4772-91ff-fe7d6589d61a",
   "metadata": {},
   "source": [
    "### Perspectiva de Python\n",
    "\n",
    "1. Compilación de código fuente a *byte code*.\n",
    "\n",
    "    * Código byte code se ejecuta más rápido.\n",
    "    * Ficheros *.pyc* que se almacenan en caché.\n",
    "    * Permite saltarse el paso de compilación.\n",
    "\n",
    "\n",
    "2. Python Virtual Machine (PVM)\n",
    "\n",
    "    * Ejecuta las instrucciones en *byte code*."
   ]
  },
  {
   "cell_type": "markdown",
   "id": "5a3a3774-1c9e-4f79-a906-cb4edf8711b0",
   "metadata": {},
   "source": [
    "<img src=\"img/interpreter.png\" width=\"600\">"
   ]
  },
  {
   "cell_type": "markdown",
   "id": "c25ab0f0-732a-491e-a115-f6e2b7f6c0fe",
   "metadata": {},
   "source": [
    "### ¿Cómo puedes ejecutar tus scripts?"
   ]
  },
  {
   "cell_type": "markdown",
   "id": "15a89fec-0f50-4480-b92a-51c261cc3d92",
   "metadata": {},
   "source": [
    "### Línea de comandos\n",
    "\n",
    "* Ejecutar \"py\" o \"python\" para abrir una sesión interactiva del intérprete.\n",
    "* También ejecutando la aplicación \"Python\" desde el menú inicio.\n",
    "* Los caracteres \">>>\" indican que estás en una sesión interactiva.\n",
    "* Útil para experimentación y testing.\n",
    "\n",
    "```\n",
    ">>> print('Hello world')\n",
    "Hello world\n",
    "```\n",
    "\n",
    "Inconveniente: los programas que ejecutas en la línea de comandos desaparecen tras ser ejecutados."
   ]
  },
  {
   "cell_type": "markdown",
   "id": "0767fecd-bbe4-4b6d-9182-b4fe5f3b3a3e",
   "metadata": {
    "slideshow": {
     "slide_type": "slide"
    }
   },
   "source": [
    "### REPL\n",
    "Sistema interactivo para comunicarse con el ordenador en un leguaje, Python. Se debe cumplir:\n",
    "* Read. El ordenador pueda leer unidades como entrada\n",
    "* Evaluate. El código pueda ser procesado\n",
    "* Print. Los resultados puedan verse\n",
    "* Loop. Continuar con la conversación"
   ]
  },
  {
   "cell_type": "markdown",
   "id": "651db278-ca7b-4908-9a48-63ce2fdfe5ab",
   "metadata": {},
   "source": [
    "### Ficheros\n",
    "\n",
    "* Permite almacenar programas.\n",
    "* Ficheros de texto con instrucciones Python.\n",
    "  * No olvidar *shebang* en Linux -> `#!/usr/bin/env python3`\n",
    "* Terminología (varía segun fuentes):\n",
    "  * *Scripts* o *programas:* programa principal.\n",
    "  * *Módulos:* ficheros importados desde otros ficheros.\n",
    "\n",
    "\n",
    "* Se puede lanzar pasando nombre de fichero a comando *python*.\n",
    "\n",
    "```\n",
    "> python ./script1.py\n",
    "Hello world\n",
    "```\n",
    "\n",
    "* Otra alternativa (a partir the Python 3.3) es:\n",
    "\n",
    "```\n",
    "> py ./script1.py\n",
    "Hello world\n",
    "```\n",
    "\n",
    "* O incluso:\n",
    "\n",
    "```\n",
    "> ./script1.py\n",
    "Hello world\n",
    "```\n",
    "\n",
    "* También es posible hacer doble-click sobre fichero .py."
   ]
  },
  {
   "cell_type": "markdown",
   "id": "991ca5f4-3fc5-48e7-892b-71fbbd02dd72",
   "metadata": {},
   "source": [
    "### Instalación de librerías\n",
    "\n",
    "* pip (built-in >Python3.4)\n",
    "* pipenv (gestiona paquetes y entornos virtuales) o virtualenv"
   ]
  },
  {
   "cell_type": "markdown",
   "id": "5978c28d-4ffc-459e-9e41-70ea8ac46a3e",
   "metadata": {},
   "source": [
    "### Jupyter"
   ]
  },
  {
   "cell_type": "code",
   "execution_count": null,
   "id": "a71a9832-4a15-46fa-871d-c10e6be4356a",
   "metadata": {
    "slideshow": {
     "slide_type": "slide"
    }
   },
   "outputs": [],
   "source": [
    "# Preguntar de forma interactiva\n",
    "# print?\n",
    "\n",
    "# Usar shift + tab para hint con ayuda\n",
    "\n",
    "# Comentar una linea\n",
    "\n",
    "\"\"\"\n",
    "Se puede comentar un texto\n",
    "más grande para hacer descripciones detalladas con más de una línea\n",
    "\"\"\"\n",
    "\n",
    "print(\"Siempre podremos 'poner' los comentarios en forma de salida, para ver resultados\")\n",
    "print('Siempre podremos \"poner\" los comentarios en forma de salida, para ver resultados')\n",
    "\n",
    "# universidad = 'VIU'\n",
    "\n",
    "# print(universidad)"
   ]
  },
  {
   "attachments": {},
   "cell_type": "markdown",
   "id": "51a9c744-eada-4dfc-b600-7abaf2bfb8b4",
   "metadata": {
    "jp-MarkdownHeadingCollapsed": true
   },
   "source": [
    "Celdas Python\n",
    "- Marca el número de la ejecución\n",
    "- Marca si está en ejecución con *\n",
    "\n",
    "Kernel\n",
    "- Se puede resetear el kernel cuando haya problemas\n",
    "- Limpiar y resetear kernel\n",
    "\n",
    "Comandos especiales ([IPython](https://ipython.readthedocs.io/en/stable/index.html)): \n",
    "- %run: ejecuta un script \n",
    "```python\n",
    "%run ./miprograma.py\n",
    "```\n",
    "- %time: ejecuta una línea de código y devuelve el tiempo de ejecución\n",
    "- %%time: ejecuta una celda de código y devuelve el tiempo de ejecución\n",
    "- !: ejecuta un comando de consola \n",
    "- %%bash: ejecuta un comando en bash en un subproceso\n",
    "```bash\n",
    "ls -la\n",
    "```\n",
    "- %%js: ejecuta javascript\n",
    "```js\n",
    "%%js\n",
    "var master = \"Máster en Inteligencia Artificial\";\n",
    "var codigo = 1;\n",
    "alert(\"Esta asinatura tiene el código: \" + codigo)\n",
    "```\n",
    "\n",
    "Atajos de teclado (shortcuts): [Documentación de Jupyter](https://jupyterlab.readthedocs.io/en/stable/user/interface.html)"
   ]
  },
  {
   "cell_type": "code",
   "execution_count": null,
   "id": "6ac613fa-08a0-487e-8c8a-96672ab56cef",
   "metadata": {},
   "outputs": [],
   "source": [
    "ls"
   ]
  },
  {
   "cell_type": "code",
   "execution_count": null,
   "id": "1e62deb0-0662-489b-aafe-215313fdbe34",
   "metadata": {},
   "outputs": [],
   "source": [
    "%%js\n",
    "var master = \"Máster en Inteligencia Artificial\";\n",
    "var codigo = 1;\n",
    "alert(\"Esta asinatura tiene el código: \" + codigo)"
   ]
  },
  {
   "cell_type": "markdown",
   "id": "33413289-7ca2-42e0-a751-60d7a3c1741d",
   "metadata": {},
   "source": [
    "### Performance Sample, NumPy vs Plain Python"
   ]
  },
  {
   "cell_type": "code",
   "execution_count": null,
   "id": "ffa0b467-500f-423f-a4ad-9bdf224e5f4e",
   "metadata": {},
   "outputs": [],
   "source": [
    "import numpy as np\n",
    "\n",
    "my_arr = np.arange(10000000)  # Utilizando NumPy Arrays\n",
    "\n",
    "my_list = list(range(10000000)) # Utilizando Listas Python"
   ]
  },
  {
   "cell_type": "code",
   "execution_count": null,
   "id": "878fedc5-c064-4bb4-9e8d-649f72d6f3a5",
   "metadata": {},
   "outputs": [],
   "source": [
    "%time for _ in range(10): my_arr2 = my_arr * 2\n",
    "\n",
    "%time for _ in range(10): my_list2 = [x * 2 for x in my_list]"
   ]
  },
  {
   "cell_type": "markdown",
   "id": "86f59cf6-17dd-4fd0-abfb-d83a011bc816",
   "metadata": {
    "slideshow": {
     "slide_type": "slide"
    },
    "tags": []
   },
   "source": [
    "# Referencias\n",
    "\n",
    "González Duque, R. Python para todos. Licencia Creative Commons.\n",
    "\n",
    "Boschetti, A. y Massaron, L (2016). Python Data Science Essentials, Second edition. Birminghan - Munbai: Packt\n",
    "\n",
    "Python Software Foundation. 2. Built-in Functions — Python 3.6.7 documentation. Recuperado el 16 noviembre 2018 de \n",
    "https://docs.python.org/3.6/library/functions.html\n",
    "\n",
    "Tutorialspoint, Python Tutorial. Recuperado el 16 noviembre 2018 de https://www.tutorialspoint.com/python/\n",
    "\n",
    "Kenneth Reitz (2018), Code Style — The Hitchhiker's Guide to Python. Recuperado el 16 noviembre 2018 de https://docs.python-guide.org/writing/style/\n",
    "\n",
    "Frank Hofmann (2018), Introduction to the Python Coding Style. Recuperado el 16 noviembre 2018 de https://stackabuse.com/introduction-to-the-python-coding-style/\n",
    "\n",
    "Design At Large: Fernando Perez: The Architecture of Jupyter. Perez, Fernando (2017).  https://www.youtube.com/watch?v=dENc0gwzySc&t=131s YouTube.\n"
   ]
  }
 ],
 "metadata": {
  "kernelspec": {
   "display_name": "Python 3 (ipykernel)",
   "language": "python",
   "name": "python3"
  },
  "language_info": {
   "codemirror_mode": {
    "name": "ipython",
    "version": 3
   },
   "file_extension": ".py",
   "mimetype": "text/x-python",
   "name": "python",
   "nbconvert_exporter": "python",
   "pygments_lexer": "ipython3",
   "version": "3.11.4"
  }
 },
 "nbformat": 4,
 "nbformat_minor": 5
}
