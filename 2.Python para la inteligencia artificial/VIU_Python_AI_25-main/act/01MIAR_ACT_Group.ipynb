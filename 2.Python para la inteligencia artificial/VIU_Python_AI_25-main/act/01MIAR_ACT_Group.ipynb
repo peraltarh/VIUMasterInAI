{
 "cells": [
  {
   "cell_type": "markdown",
   "id": "a2eea98a-4a8d-47fd-9bbf-19fa4c134d1e",
   "metadata": {
    "tags": []
   },
   "source": [
    "## Actividad 01\n",
    "\n",
    "- Crear una lista con números que comiencen por 30 y que termine en 42 haciendo que el paso entre cada número consecutivo sea de 0.4. Sin usar Numpy."
   ]
  },
  {
   "cell_type": "code",
   "execution_count": null,
   "id": "d85c47ce-eaff-4caa-856f-0c43eafe9e72",
   "metadata": {
    "tags": []
   },
   "outputs": [
    {
     "name": "stdout",
     "output_type": "stream",
     "text": [
      "[30, 30.4, 30.8, 31.2, 31.6, 32.0, 32.4, 32.8, 33.2, 33.6, 34.0, 34.4, 34.8, 35.2, 35.6, 36.0, 36.4, 36.8, 37.2, 37.6, 38.0, 38.4, 38.8, 39.2, 39.6, 40.0, 40.4, 40.8, 41.2, 41.6, 42.0]\n"
     ]
    }
   ],
   "source": [
    "# Your Solution Here!!!\n",
    "lista = []\n",
    "i = 30\n",
    "while i <= 42:\n",
    "    lista.append(i)\n",
    "    i = round(i + 0.4,2)\n",
    "print(lista)\n",
    "\n",
    "import math\n",
    "def frange (init =0, end = 1, step = 0.1):\n",
    "    numbers = []\n",
    "    while init < end or math.isclose(init, end):\n",
    "        numbers.append(round(init, 2))\n",
    "        init += step\n",
    "    return numbers\n",
    "\n",
    "print(frange(30, 42, 0.4))"
   ]
  },
  {
   "cell_type": "markdown",
   "id": "3cc2f1bf",
   "metadata": {},
   "source": []
  },
  {
   "cell_type": "markdown",
   "id": "3ca8b783-fb88-4eb7-8379-3aae550d15b4",
   "metadata": {},
   "source": [
    "## Actividad 02\n",
    "\n",
    "- Dataset -> https://raw.githubusercontent.com/grammakov/USA-cities-and-states/master/us_cities_states_counties.csv\n",
    "- Header -> City|State short|State full|County|City alias\n",
    "- Obtener el número de ciudades que tiene el estado de Florida, usando dicho Dataset\n",
    "- Sin usar Pandas"
   ]
  },
  {
   "cell_type": "code",
   "execution_count": null,
   "id": "e9fcaff1-f4c8-44b6-bf84-826558901a2f",
   "metadata": {
    "tags": []
   },
   "outputs": [],
   "source": [
    "import urllib\n",
    "\n",
    "url = \"https://raw.githubusercontent.com/grammakov/USA-cities-and-states/master/us_cities_states_counties.csv\"\n",
    "\n",
    "# Devuelve un fichero desde una url como cadena de caracteres\n",
    "def read_url(url):\n",
    "    return urllib.request.urlopen(url).read().decode('utf-8')\n",
    "\n",
    "# Descargar un fichero desde una url a una ruta local\n",
    "def download_file(url, dest):\n",
    "    urllib.request.urlretrieve(url, dest)\n",
    "    return"
   ]
  },
  {
   "cell_type": "code",
   "execution_count": null,
   "id": "168f097e-9311-4e2a-88ab-bf8c6242b7ca",
   "metadata": {
    "scrolled": true,
    "tags": []
   },
   "outputs": [
    {
     "name": "stdout",
     "output_type": "stream",
     "text": [
      "Hay 537 ciudades en Florida\n"
     ]
    }
   ],
   "source": [
    "# Your Solution Here!!!\n",
    "url = \"https://raw.githubusercontent.com/grammakov/USA-cities-and-states/master/us_cities_states_counties.csv\"\n",
    "\n",
    "# Devuelve un fichero desde una url como cadena de caracteres\n",
    "def read_url(url):\n",
    "    return urllib.request.urlopen(url).read().decode('utf-8')\n",
    "\n",
    "# Descargar un fichero desde una url a una ruta local\n",
    "def download_file(url, dest):\n",
    "    urllib.request.urlretrieve(url, dest)\n",
    "    return\n",
    "\n",
    "file = open('cities.csv', 'r')\n",
    "cities = set()\n",
    "\n",
    "for i in file.readlines():\n",
    "    elements = i.split('|')\n",
    "    if elements[1] == 'FL':\n",
    "        cities.add(elements[0])\n",
    "\n",
    "print(f'Hay {len(cities)} ciudades en Florida')\n",
    "file.close()\n",
    "\n",
    "\n",
    "# Your Solution Here!!!\n",
    "online_file = read_url(url)\n",
    "entradas_online = online_file.strip().split('\\n')\n",
    "cities_online = set()\n",
    "\n",
    "for i in entradas_online:\n",
    "    elements = i.split('|')\n",
    "    if elements[1] == 'FL':\n",
    "        cities_online.add(elements[0])\n",
    "\n",
    "print(f'Hay {len(cities_online)} ciudades en Florida')\n"
   ]
  }
 ],
 "metadata": {
  "kernelspec": {
   "display_name": "Python 3",
   "language": "python",
   "name": "python3"
  },
  "language_info": {
   "codemirror_mode": {
    "name": "ipython",
    "version": 3
   },
   "file_extension": ".py",
   "mimetype": "text/x-python",
   "name": "python",
   "nbconvert_exporter": "python",
   "pygments_lexer": "ipython3",
   "version": "3.13.3"
  }
 },
 "nbformat": 4,
 "nbformat_minor": 5
}
