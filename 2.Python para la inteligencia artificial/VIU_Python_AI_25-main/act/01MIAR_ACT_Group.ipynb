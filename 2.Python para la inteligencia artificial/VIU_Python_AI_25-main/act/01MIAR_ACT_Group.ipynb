{
 "cells": [
  {
   "cell_type": "markdown",
   "id": "a2eea98a-4a8d-47fd-9bbf-19fa4c134d1e",
   "metadata": {
    "tags": []
   },
   "source": [
    "## Actividad 01\n",
    "\n",
    "- Crear una lista con números que comiencen por 30 y que termine en 42 haciendo que el paso entre cada número consecutivo sea de 0.4. Sin usar Numpy."
   ]
  },
  {
   "cell_type": "code",
   "execution_count": null,
   "id": "d85c47ce-eaff-4caa-856f-0c43eafe9e72",
   "metadata": {
    "tags": []
   },
   "outputs": [],
   "source": [
    "# Your Solution Here!!!\n",
    "start = 30\n",
    "end = 42\n",
    "interval = 0.4\n",
    "list_numbers = []\n",
    "\n",
    "while start <= end:\n",
    "  list_numbers.append(start)\n",
    "  start += 0.4\n",
    "  start = round(start, 2)\n",
    "\n",
    "print(list_numbers)"
   ]
  },
  {
   "cell_type": "code",
   "execution_count": null,
   "id": "43d2cbd2",
   "metadata": {},
   "outputs": [],
   "source": [
    "numero_lista_inicio = 30\n",
    "numero_lista_fin = 42\n",
    "paso = 0.4\n",
    "lista_con_paso = []\n",
    "\n",
    "i = numero_lista_inicio\n",
    "while i <= numero_lista_fin:\n",
    "  lista_con_paso.append(round(i,1))\n",
    "  i += paso\n",
    "\n",
    "print(lista_con_paso)"
   ]
  },
  {
   "cell_type": "code",
   "execution_count": null,
   "id": "57b437e1",
   "metadata": {},
   "outputs": [],
   "source": [
    "print([round(x*0.1,2) for x in list(range(300, 421, 4))])"
   ]
  },
  {
   "cell_type": "code",
   "execution_count": null,
   "id": "519eeeca",
   "metadata": {},
   "outputs": [],
   "source": [
    "import math\n",
    "\n",
    "def frange(init = 0, end = 1, step = 0.1):\n",
    "    numbers = []\n",
    "    while init < end or math.isclose(init, end):\n",
    "        numbers.append(round(init, 2))\n",
    "        init += step\n",
    "    return numbers\n",
    "\n",
    "print(frange(30,42,0.4))"
   ]
  },
  {
   "cell_type": "code",
   "execution_count": null,
   "id": "c597a431",
   "metadata": {},
   "outputs": [],
   "source": [
    "import numpy as np\n",
    "\n",
    "mi_lista = np.arange(30,42,0.4)\n",
    "\n",
    "print(mi_lista)"
   ]
  },
  {
   "cell_type": "code",
   "execution_count": null,
   "id": "de364e5c",
   "metadata": {},
   "outputs": [],
   "source": [
    "[30 + 0.4 * i for i in range(int((42 - 30) / 0.4) + 1)]"
   ]
  },
  {
   "cell_type": "code",
   "execution_count": null,
   "id": "ac4b3fe7",
   "metadata": {},
   "outputs": [],
   "source": [
    "lista = range(300, 424, 4)\n",
    "for item in lista:\n",
    "  print(item/10)"
   ]
  },
  {
   "cell_type": "markdown",
   "id": "3ca8b783-fb88-4eb7-8379-3aae550d15b4",
   "metadata": {},
   "source": [
    "## Actividad 02\n",
    "\n",
    "- Dataset -> https://raw.githubusercontent.com/grammakov/USA-cities-and-states/master/us_cities_states_counties.csv\n",
    "- Header -> City|State short|State full|County|City alias\n",
    "- Obtener el número de ciudades que tiene el estado de Florida, usando dicho Dataset\n",
    "- Sin usar Pandas"
   ]
  },
  {
   "cell_type": "code",
   "execution_count": null,
   "id": "e9fcaff1-f4c8-44b6-bf84-826558901a2f",
   "metadata": {
    "tags": []
   },
   "outputs": [],
   "source": [
    "import urllib\n",
    "\n",
    "url = \"https://raw.githubusercontent.com/grammakov/USA-cities-and-states/master/us_cities_states_counties.csv\"\n",
    "\n",
    "# Devuelve un fichero desde una url como cadena de caracteres\n",
    "def read_url(url):\n",
    "    return urllib.request.urlopen(url).read().decode('utf-8')\n",
    "\n",
    "# Descargar un fichero desde una url a una ruta local\n",
    "def download_file(url, dest):\n",
    "    urllib.request.urlretrieve(url, dest)\n",
    "    return"
   ]
  },
  {
   "cell_type": "code",
   "execution_count": null,
   "id": "168f097e-9311-4e2a-88ab-bf8c6242b7ca",
   "metadata": {
    "scrolled": true,
    "tags": []
   },
   "outputs": [],
   "source": [
    "# Your Solution Here!!!\n",
    "import os\n",
    "import csv\n",
    "ruta_fichero = os.path.join(os.getcwd() ,'..','res','us_cities_states_counties.csv')\n",
    "download_file(url, ruta_fichero)"
   ]
  },
  {
   "cell_type": "code",
   "execution_count": null,
   "id": "ab4dca1d",
   "metadata": {},
   "outputs": [],
   "source": [
    "ciudades = set()\n",
    "\n",
    "with open(ruta_fichero) as fichero:\n",
    "    data_reader = csv.reader(fichero, delimiter='|')\n",
    "    for linea in data_reader:\n",
    "        if linea[1] == 'FL':\n",
    "            ciudades.add(linea[0])"
   ]
  },
  {
   "cell_type": "code",
   "execution_count": null,
   "id": "2a443880",
   "metadata": {},
   "outputs": [],
   "source": [
    "len(ciudades)"
   ]
  },
  {
   "cell_type": "markdown",
   "id": "36b68daa",
   "metadata": {},
   "source": [
    "### Sus soluciones"
   ]
  },
  {
   "cell_type": "code",
   "execution_count": null,
   "id": "75e132b6",
   "metadata": {},
   "outputs": [],
   "source": [
    "with open(ruta_fichero, newline='') as file:\n",
    "\n",
    "  cities = csv.reader(file, delimiter='|')\n",
    "\n",
    "  names = next(cities)\n",
    "  \n",
    "  print(names)\n",
    "\n",
    "  cities_florida = set()\n",
    "\n",
    "  for line in csv.DictReader(file, delimiter='|', fieldnames=names):     \n",
    "\n",
    "    if line['State full'] == 'Florida':       \n",
    "\n",
    "      cities_florida.add(line['City'])\n",
    "\n",
    "  print(len(cities_florida))"
   ]
  },
  {
   "cell_type": "code",
   "execution_count": null,
   "id": "75db0f8d",
   "metadata": {},
   "outputs": [],
   "source": [
    "data_csv = read_url(url).split(\"\\n\")\n",
    "\n",
    "# list_fl = {parts[0] for row in data_csv if (parts := row.split('|')) and len(parts) > 1 and parts[1] == 'FL'}\n",
    "\n",
    "# Para mi versión vieja de python\n",
    "list_fl = {row.split('|')[0] for row in data_csv if len(row.split('|'))>1 and row.split('|')[1] == 'FL'}\n",
    "\n",
    "print(f'La cantidad es: {len(list_fl)}')"
   ]
  },
  {
   "cell_type": "code",
   "execution_count": null,
   "id": "b22899dc",
   "metadata": {},
   "outputs": [],
   "source": [
    "def cuenta_ciudades_florida(data):\n",
    "  lineas = data.split(\"\\n\")\n",
    "  ciudades_de_florida = set()\n",
    "\n",
    "  for linea in lineas[1:]:\n",
    "    parte = linea.strip().split(\"|\")\n",
    "    if len(parte) < 5:\n",
    "      continue\n",
    "    ciudad = parte[0].strip()\n",
    "    estado = parte[2].strip()\n",
    "    if estado.lower() == \"florida\":\n",
    "      ciudades_de_florida.add(ciudad)\n",
    "    \n",
    "  return len(ciudades_de_florida)\n",
    "\n",
    "data = read_url(url)\n",
    "total = cuenta_ciudades_florida(data)\n",
    "\n",
    "print(\"Número de ciudades de Florida: \", total)"
   ]
  },
  {
   "cell_type": "code",
   "execution_count": null,
   "id": "0b72e0bd",
   "metadata": {},
   "outputs": [],
   "source": [
    "with open(ruta_fichero, encoding='utf-8') as f:\n",
    "  florida_cities = {row[0] for i, row in enumerate(csv.reader(f, delimiter='|')) if i and row[1] == \"FL\"}\n",
    "\n",
    "print(len(florida_cities), florida_cities)"
   ]
  },
  {
   "cell_type": "code",
   "execution_count": null,
   "id": "872744de",
   "metadata": {},
   "outputs": [],
   "source": [
    "contents = read_url(url)"
   ]
  },
  {
   "cell_type": "code",
   "execution_count": null,
   "id": "0ca8ef2f",
   "metadata": {},
   "outputs": [],
   "source": [
    "lista_ciudades = contents.strip().split('\\n')\n",
    "\n",
    "ciudades_florida = set()\n",
    "for ciudad in lista_ciudades:\n",
    "    datos = ciudad.split('|')\n",
    "    if datos[1] == 'FL':\n",
    "        ciudades_florida.add(datos[0])\n",
    "\n",
    "print(len(ciudades_florida))"
   ]
  },
  {
   "cell_type": "code",
   "execution_count": null,
   "id": "285fd86b",
   "metadata": {},
   "outputs": [],
   "source": [
    "online_file = read_url(url)"
   ]
  },
  {
   "cell_type": "code",
   "execution_count": null,
   "id": "e489dafd",
   "metadata": {},
   "outputs": [],
   "source": [
    "%%timeit\n",
    "entradas_online = online_file.strip().split('\\n')\n",
    "cities_online = set()\n",
    "for i in entradas_online:\n",
    "    elements = i.split('|')\n",
    "    if elements[1] == 'FL':\n",
    "        cities_online.add(elements[0])\n",
    "\n",
    "# print(f'Hay {len(cities_online)} ciudades en Florida')"
   ]
  },
  {
   "cell_type": "code",
   "execution_count": null,
   "id": "206ed2f4",
   "metadata": {},
   "outputs": [],
   "source": [
    "import pandas as pd\n",
    "dataframe = pd.read_table(url, sep = '|')"
   ]
  },
  {
   "cell_type": "code",
   "execution_count": null,
   "id": "2a2139b0",
   "metadata": {},
   "outputs": [],
   "source": [
    "%%timeit\n",
    "len(dataframe[dataframe[\"State short\"] == 'FL'].groupby('City'))"
   ]
  },
  {
   "cell_type": "code",
   "execution_count": null,
   "id": "748dd669",
   "metadata": {},
   "outputs": [],
   "source": []
  }
 ],
 "metadata": {
  "kernelspec": {
   "display_name": "Python 3 (ipykernel)",
   "language": "python",
   "name": "python3"
  },
  "language_info": {
   "codemirror_mode": {
    "name": "ipython",
    "version": 3
   },
   "file_extension": ".py",
   "mimetype": "text/x-python",
   "name": "python",
   "nbconvert_exporter": "python",
   "pygments_lexer": "ipython3",
   "version": "3.7.3"
  }
 },
 "nbformat": 4,
 "nbformat_minor": 5
}
