{
 "cells": [
  {
   "cell_type": "markdown",
   "id": "cffbcd0e-dc00-4547-ac87-ef95eb5bbb51",
   "metadata": {},
   "source": [
    "# Examen Demo"
   ]
  },
  {
   "cell_type": "code",
   "execution_count": 24,
   "id": "8ef7d433-2f37-43b7-95ad-5c65b99f39b9",
   "metadata": {},
   "outputs": [],
   "source": [
    "# Your imports HERE !!!!\n",
    "import numpy as np\n",
    "import pandas as pd"
   ]
  },
  {
   "cell_type": "markdown",
   "id": "c9b31578-ccb1-4e0a-a8f8-e5934eb77244",
   "metadata": {
    "tags": []
   },
   "source": [
    "## 01\n",
    "- Dado un diccionario con una lista de nombres de películas y el año concatenado, crear una función que devuelva un DataFrame con dos columnas:\n",
    "  - Columna 1, el nombre de la película sin el año\n",
    "  - Columna 2, el año de la película"
   ]
  },
  {
   "cell_type": "code",
   "execution_count": null,
   "id": "7f9d090c-d087-4694-8249-3e89f5e866cb",
   "metadata": {},
   "outputs": [],
   "source": [
    "# Your solution HERE !!!!\n",
    "\n",
    "\n",
    "def extract_year(movies):\n",
    "    df = pd.DataFrame(movies)\n",
    "    df[['Name', 'Year']] = df['Name'].str.split(' - ', n=1, expand=True)\n",
    "    return df\n",
    "\n",
    "#Other:\n",
    "def extract_year2(movies):\n",
    "    df = pd.DataFrame(movies)\n",
    "    # Extract year (last 4 digits)\n",
    "    df['Year'] = df['Name'].str.extract(r'(\\d{4})$') # last 4 digits\n",
    "    # Remove ' - YEAR' from the name\n",
    "    df['Name'] = df['Name'].str.replace(r'\\s*-\\s*\\d{4}$', '', regex=True) # - and last 4 digits\n",
    "    return df"
   ]
  },
  {
   "cell_type": "code",
   "execution_count": 32,
   "id": "43205b0e-36f7-4eae-be56-9a281ae978a5",
   "metadata": {},
   "outputs": [
    {
     "data": {
      "application/vnd.microsoft.datawrangler.viewer.v0+json": {
       "columns": [
        {
         "name": "index",
         "rawType": "int64",
         "type": "integer"
        },
        {
         "name": "Name",
         "rawType": "object",
         "type": "string"
        },
        {
         "name": "Year",
         "rawType": "object",
         "type": "string"
        }
       ],
       "ref": "1806d9b5-397c-4cfd-95ba-b21fea6f8703",
       "rows": [
        [
         "0",
         "Matrix",
         "1999"
        ],
        [
         "1",
         "Cadena Perpetua",
         "1994"
        ],
        [
         "2",
         "Parasitos",
         "2019"
        ],
        [
         "3",
         "Vengadores, Endgame",
         "2019"
        ],
        [
         "4",
         "Interstellar",
         "2014"
        ],
        [
         "5",
         "Django Desencadenado",
         "2012"
        ],
        [
         "6",
         "El Padrino",
         "1972"
        ],
        [
         "7",
         "El Caballero Oscuro",
         "2008"
        ],
        [
         "8",
         "Erase Una Vez En America",
         "1984"
        ],
        [
         "9",
         "El Senyor de los Anillos, La Comunidad del Anillo",
         "2001"
        ]
       ],
       "shape": {
        "columns": 2,
        "rows": 10
       }
      },
      "text/html": [
       "<div>\n",
       "<style scoped>\n",
       "    .dataframe tbody tr th:only-of-type {\n",
       "        vertical-align: middle;\n",
       "    }\n",
       "\n",
       "    .dataframe tbody tr th {\n",
       "        vertical-align: top;\n",
       "    }\n",
       "\n",
       "    .dataframe thead th {\n",
       "        text-align: right;\n",
       "    }\n",
       "</style>\n",
       "<table border=\"1\" class=\"dataframe\">\n",
       "  <thead>\n",
       "    <tr style=\"text-align: right;\">\n",
       "      <th></th>\n",
       "      <th>Name</th>\n",
       "      <th>Year</th>\n",
       "    </tr>\n",
       "  </thead>\n",
       "  <tbody>\n",
       "    <tr>\n",
       "      <th>0</th>\n",
       "      <td>Matrix</td>\n",
       "      <td>1999</td>\n",
       "    </tr>\n",
       "    <tr>\n",
       "      <th>1</th>\n",
       "      <td>Cadena Perpetua</td>\n",
       "      <td>1994</td>\n",
       "    </tr>\n",
       "    <tr>\n",
       "      <th>2</th>\n",
       "      <td>Parasitos</td>\n",
       "      <td>2019</td>\n",
       "    </tr>\n",
       "    <tr>\n",
       "      <th>3</th>\n",
       "      <td>Vengadores, Endgame</td>\n",
       "      <td>2019</td>\n",
       "    </tr>\n",
       "    <tr>\n",
       "      <th>4</th>\n",
       "      <td>Interstellar</td>\n",
       "      <td>2014</td>\n",
       "    </tr>\n",
       "    <tr>\n",
       "      <th>5</th>\n",
       "      <td>Django Desencadenado</td>\n",
       "      <td>2012</td>\n",
       "    </tr>\n",
       "    <tr>\n",
       "      <th>6</th>\n",
       "      <td>El Padrino</td>\n",
       "      <td>1972</td>\n",
       "    </tr>\n",
       "    <tr>\n",
       "      <th>7</th>\n",
       "      <td>El Caballero Oscuro</td>\n",
       "      <td>2008</td>\n",
       "    </tr>\n",
       "    <tr>\n",
       "      <th>8</th>\n",
       "      <td>Erase Una Vez En America</td>\n",
       "      <td>1984</td>\n",
       "    </tr>\n",
       "    <tr>\n",
       "      <th>9</th>\n",
       "      <td>El Senyor de los Anillos, La Comunidad del Anillo</td>\n",
       "      <td>2001</td>\n",
       "    </tr>\n",
       "  </tbody>\n",
       "</table>\n",
       "</div>"
      ],
      "text/plain": [
       "                                                Name  Year\n",
       "0                                             Matrix  1999\n",
       "1                                    Cadena Perpetua  1994\n",
       "2                                          Parasitos  2019\n",
       "3                                Vengadores, Endgame  2019\n",
       "4                                       Interstellar  2014\n",
       "5                               Django Desencadenado  2012\n",
       "6                                         El Padrino  1972\n",
       "7                                El Caballero Oscuro  2008\n",
       "8                           Erase Una Vez En America  1984\n",
       "9  El Senyor de los Anillos, La Comunidad del Anillo  2001"
      ]
     },
     "metadata": {},
     "output_type": "display_data"
    }
   ],
   "source": [
    "movies = {'Name': [\"Matrix - 1999\", \"Cadena Perpetua - 1994\", \"Parasitos - 2019\", \"Vengadores, Endgame - 2019\", \"Interstellar - 2014\",\n",
    "                   \"Django Desencadenado - 2012\", \"El Padrino - 1972\", \"El Caballero Oscuro - 2008\", \"Erase Una Vez En America - 1984\",\n",
    "                   \"El Senyor de los Anillos, La Comunidad del Anillo - 2001\"]}\n",
    "expected_output = pd.DataFrame({'Name':[\"Matrix\", \"Cadena Perpetua\", \"Parasitos\", \"Vengadores, Endgame\", \"Interstellar\", \"Django Desencadenado\",\n",
    "                                        \"El Padrino\", \"El Caballero Oscuro\", \"Erase Una Vez En America\", \"El Senyor de los Anillos, La Comunidad del Anillo\"],\n",
    "                                'Year':[\"1999\", \"1994\", \"2019\", \"2019\", \"2014\", \"2012\", \"1972\", \"2008\", \"1984\", \"2001\"]})\n",
    "output = extract_year(movies)   # This will call your function extract_year\n",
    "display(output)\n",
    "assert(expected_output.equals(output))  # This will fail if the result is not as expected"
   ]
  },
  {
   "cell_type": "markdown",
   "id": "3168850c-f9bb-4060-b6e3-06813ec86e54",
   "metadata": {},
   "source": [
    "## 02\n",
    "- Crear una función que reciba un array de NumPy y devuelva otro en el cual estén marcados como True los elementos duplicados (a partir de la segunda ocurrencia), y como False los no repetidos o las primeras ocurrencias de los duplicados."
   ]
  },
  {
   "cell_type": "code",
   "execution_count": 46,
   "id": "76618e23-4928-4040-9f7f-f4b08ff4abb2",
   "metadata": {},
   "outputs": [
    {
     "name": "stdout",
     "output_type": "stream",
     "text": [
      "[False  True  True False False False False False  True False  True  True\n",
      " False False]\n"
     ]
    }
   ],
   "source": [
    "# Your solution HERE !!!!\n",
    "\n",
    "def find_duplicates(arr):\n",
    "    numbers = np.array([4, 4, 4, 3, 8, 1, 9, 6, 1, 5, 9, 4, 0, 2])\n",
    "    nondup = set(numbers)\n",
    "    result = []\n",
    "    for element in numbers:\n",
    "        if element in nondup:\n",
    "            nondup.discard(element)\n",
    "            result.append(False)\n",
    "        else: \n",
    "            result.append(True)\n",
    "    return np.array(result)\n",
    "\n",
    "numbers = np.array([4, 4, 4, 3, 8, 1, 9, 6, 1, 5, 9, 4, 0, 2])\n",
    "output = find_duplicates(numbers)\n",
    "print(output)"
   ]
  },
  {
   "cell_type": "code",
   "execution_count": 47,
   "id": "bcc96612-dff4-4779-b4df-2595aa235309",
   "metadata": {},
   "outputs": [
    {
     "name": "stdout",
     "output_type": "stream",
     "text": [
      "[False  True  True False False False False False  True False  True  True\n",
      " False False]\n"
     ]
    }
   ],
   "source": [
    "numbers = np.array([4, 4, 4, 3, 8, 1, 9, 6, 1, 5, 9, 4, 0, 2])\n",
    "expected_output = np.array([False, True, True, False, False, False, False, False, True, False, True, True, False, False])\n",
    "output = find_duplicates(numbers)   # This calls your function find_duplicates\n",
    "print(output)\n",
    "assert(np.array_equal(expected_output, output))  # This will fail if the result is not as expected\n"
   ]
  },
  {
   "cell_type": "markdown",
   "id": "93e1a9cd-ee85-48b0-b5e5-3d37aeeddb6e",
   "metadata": {
    "tags": []
   },
   "source": [
    "## 03\n",
    "- Resolución de dos sistemas de ecuaciones\n",
    "    - $ A : \\begin{cases} -9x +  4y = 20 \\\\ -7y + 16x = 80                         \\end{cases}$\n",
    "    \n",
    "    - $ B : \\begin{cases} x - 2y + 3z = 7 \\\\ 2x + y + z = 4 \\\\ -3x + 2y -2z = -10 \\end{cases}$\n",
    "- Verifica por código los resultados"
   ]
  },
  {
   "cell_type": "code",
   "execution_count": 57,
   "id": "bbcc2811-859f-4023-bdbd-298750502ead",
   "metadata": {
    "jupyter": {
     "source_hidden": true
    }
   },
   "outputs": [
    {
     "name": "stdout",
     "output_type": "stream",
     "text": [
      "x=460 y=1040\n",
      "True\n",
      "True\n",
      "x=2 y=-1 z=1\n",
      "True\n",
      "True\n",
      "True\n"
     ]
    }
   ],
   "source": [
    "# Your solution HERE !!!!\n",
    "\n",
    "import numpy.linalg as linalg\n",
    "import math\n",
    "\n",
    "# resolver sistema de ecuaciones\n",
    "# Ax = b --> resolver para x\n",
    "\n",
    "# -9x + 4y = 20\n",
    "# 16x - 7y = 80\n",
    "\n",
    "a1 = np.array([ [-9,4], [16,-7] ])\n",
    "a2 = np.array([20,80])\n",
    "\n",
    "x,y = linalg.solve(a1,a2)\n",
    "print(f'x={round(x)} y={round(y)}')\n",
    "\n",
    "# Validate\n",
    "print(math.isclose(-9*x + 4*y, 20))\n",
    "print(math.isclose(16*x - 7*y, 80))\n",
    "\n",
    "# x -2y + 3z = 7\n",
    "# 2x + y + z =4\n",
    "# -3x + 2y -2z = -10 \n",
    "\n",
    "b1 = np.array([ [1,-2,3], [2,1,1], [-3,2,-2] ])\n",
    "b2 = np.array([7,4,-10])\n",
    "\n",
    "x,y,z = linalg.solve(b1,b2)\n",
    "print(f'x={round(x)} y={round(y)} z={round(z)}')\n",
    "\n",
    "#validate\n",
    "\n",
    "print(math.isclose(x - 2*y +3*z, 7))\n",
    "print(math.isclose(2*x + y + z, 4))\n",
    "print(math.isclose(-3*x + 2*y - 2*z, -10))\n"
   ]
  },
  {
   "cell_type": "markdown",
   "id": "655fe747-7f14-42dd-8a9a-6b532517bede",
   "metadata": {
    "tags": []
   },
   "source": [
    "## 04\n",
    "- Crear un objeto Series con 10 elementos, que contenga más de un tipo básico, con índices de tipo string\n",
    "- Demuestra que los datos con índices posicionales son los mismos que los obtenidos con índices semánticos, seleccionando a través de slicing, al menos 4 elementos de la serie anterior"
   ]
  },
  {
   "cell_type": "code",
   "execution_count": 59,
   "id": "ce7f3e5d-781e-49f5-9ab8-f8e6593ab327",
   "metadata": {},
   "outputs": [
    {
     "name": "stdout",
     "output_type": "stream",
     "text": [
      "a        1\n",
      "b      dos\n",
      "c      3.0\n",
      "d     True\n",
      "e     None\n",
      "f        5\n",
      "g     seis\n",
      "h      7.7\n",
      "i    False\n",
      "j     diez\n",
      "dtype: object\n",
      "c     3.0\n",
      "d    True\n",
      "e    None\n",
      "f       5\n",
      "dtype: object\n",
      "c     3.0\n",
      "d    True\n",
      "e    None\n",
      "f       5\n",
      "dtype: object\n"
     ]
    }
   ],
   "source": [
    "# Your solution HERE !!!!\n",
    "\n",
    "import pandas as pd\n",
    "\n",
    "serie = pd.Series(\n",
    "    [1, \"dos\", 3.0, True, None, 5, \"seis\", 7.7, False, \"diez\"],\n",
    "    index=[\"a\", \"b\", \"c\", \"d\", \"e\", \"f\", \"g\", \"h\", \"i\", \"j\"]\n",
    ")\n",
    "print(serie)\n",
    "\n",
    "# Selección por índices posicionales (del 2 al 5, sin incluir el 6)\n",
    "print(serie[2:6])\n",
    "\n",
    "# Selección por índices semánticos equivalentes ('c' a 'f', incluyendo ambos)\n",
    "print(serie['c':'f'])"
   ]
  },
  {
   "cell_type": "markdown",
   "id": "3f12a152-8257-491a-9b2f-270607831cc0",
   "metadata": {
    "tags": []
   },
   "source": [
    "## 05\n",
    "- Crear un DataFrame de dimensiones 10x10, con números aleatorios en el rango `[0,20]`\n",
    "- Reemplazar todos aquellos elementos menores de 5 por NaN\n",
    "- Averiguar cuantos elementos tienen Nan por fila"
   ]
  },
  {
   "cell_type": "code",
   "execution_count": 60,
   "id": "e6c62f70-14cb-446c-86eb-5428f36f627f",
   "metadata": {},
   "outputs": [
    {
     "name": "stdout",
     "output_type": "stream",
     "text": [
      "0    1\n",
      "1    1\n",
      "2    3\n",
      "3    5\n",
      "4    4\n",
      "5    2\n",
      "6    1\n",
      "7    1\n",
      "8    2\n",
      "9    1\n",
      "dtype: int64\n"
     ]
    }
   ],
   "source": [
    "# Your solution HERE !!!!\n",
    "\n",
    "import pandas as pd\n",
    "import numpy as np\n",
    "\n",
    "# Crear DataFrame 10x10 con números aleatorios entre 0 y 20\n",
    "df = pd.DataFrame(np.random.randint(0, 21, size=(10, 10)))\n",
    "\n",
    "# Reemplazar elementos menores de 5 por NaN\n",
    "df[df < 5] = np.nan\n",
    "\n",
    "# Contar cuántos NaN hay por fila\n",
    "nans_por_fila = df.isna().sum(axis=1)\n",
    "print(nans_por_fila)"
   ]
  },
  {
   "cell_type": "markdown",
   "id": "8ba8d87a-190e-48ab-9235-04d875ef994e",
   "metadata": {
    "tags": []
   },
   "source": [
    "## 06\n",
    "- Dada una lista de elementos, crea una función que devuelva un dataframe sin los elementos duplicados"
   ]
  },
  {
   "cell_type": "code",
   "execution_count": null,
   "id": "ee636cf0-9bff-497e-b4d9-ab42ac4b166a",
   "metadata": {},
   "outputs": [],
   "source": [
    "# Your solution HERE !!!!\n",
    "def remove_duplicates(serie):\n",
    "    return pd.DataFrame(pd.Series(serie).unique())\n",
    "\n",
    "    #df = pd.DataFrame(serie)\n",
    "    #df = np.unique(df)\n",
    "    #return pd.DataFrame(df)\n"
   ]
  },
  {
   "cell_type": "code",
   "execution_count": 83,
   "id": "18d7bb34-b613-497e-b59b-aca2ec09863d",
   "metadata": {},
   "outputs": [],
   "source": [
    "serie = ['a','b','c','a','c','a','g']\n",
    "expected_output = pd.DataFrame(['a','b','c','g'])\n",
    "output = remove_duplicates(serie)   # This will call tour function remove_duplicates\n",
    "assert(expected_output.equals(output))  # This will fail if the result is not as expected"
   ]
  },
  {
   "cell_type": "markdown",
   "id": "211cff7b-d71d-4db8-bd16-71f09ca57399",
   "metadata": {},
   "source": [
    "## 07 - 1pt\n",
    "- Escribir un generador `frange` que simule el comportamiento de la función `arange` de NumPy\n",
    "- Esta función cada vez que se invoque debe devolver valores espaciados uniformemente a partir de un valor inicial. Se debe proveer a dicha función un valor inicial para la secuencia de números y un valor para el step\n",
    "- Debe soportar valores númericos en coma flotante\n",
    "- La función potencialmente se puede llamar un número infinito de veces\n",
    "- Usando plain Python, sin ninguna librería"
   ]
  },
  {
   "cell_type": "code",
   "execution_count": null,
   "id": "9d395c62-a894-48ce-990b-cf60d34ec065",
   "metadata": {},
   "outputs": [],
   "source": [
    "# Your solution HERE !!!!\n",
    "def frange(start, step):\n",
    "    current = start\n",
    "    while True: # This creates an infinite loop, so the function can generate an unlimited sequence of numbers.\n",
    "        yield current \n",
    "        # The function yields (returns) the current value. This makes frange a generator, so each time you call next() on it, it resumes from here.\n",
    "        current += step"
   ]
  },
  {
   "cell_type": "code",
   "execution_count": null,
   "id": "19be50b6-7a52-4dd1-a081-2e483cb3bbf8",
   "metadata": {},
   "outputs": [
    {
     "name": "stdout",
     "output_type": "stream",
     "text": [
      "[10.6, 11.4, 12.200000000000001, 13.000000000000002, 13.800000000000002, 14.600000000000003, 15.400000000000004, 16.200000000000003, 17.000000000000004, 17.800000000000004]\n"
     ]
    }
   ],
   "source": [
    "import math\n",
    "\n",
    "init = 10.6\n",
    "step = 0.8\n",
    "g = frange(init, step)  # This calls your function frange and initializaes it\n",
    "\n",
    "iters = 10\n",
    "numbers = [next(g) for n in range(iters)]\n",
    "# The loop repeats: the next call to next() yields the new current value, and so on, forever.\n",
    "for i, n in enumerate(numbers):\n",
    "    assert(math.isclose(n, init + (step * i)))  # This will fail if the range is not properly created\n",
    "print(numbers)"
   ]
  },
  {
   "cell_type": "markdown",
   "id": "ae093f1d-b4e5-4ac3-a0a8-c6aecb8a084d",
   "metadata": {
    "tags": []
   },
   "source": [
    "## 08\n",
    "- Crear una función que reciba una Serie de Pandas y devuelva esa misma serie, reemplazando los espacios en blanco por el carácter menos frecuente en dicha serie."
   ]
  },
  {
   "cell_type": "code",
   "execution_count": 86,
   "id": "0472c9a4-ce23-42e2-9090-ee4695d6057a",
   "metadata": {},
   "outputs": [],
   "source": [
    "# Your solution HERE !!!!\n",
    "\n",
    "import pandas as pd\n",
    "\n",
    "def clean_whitespace_replace(serie):\n",
    "    # Exclude spaces to find the least frequent character\n",
    "    value_counts = serie[serie != ' '].value_counts()\n",
    "    least_frequent = value_counts.idxmin()\n",
    "    # Replace spaces with the least frequent character\n",
    "    return serie.replace(' ', least_frequent)"
   ]
  },
  {
   "cell_type": "code",
   "execution_count": 87,
   "id": "02390a36-6e74-4e34-b46a-e1612771863e",
   "metadata": {},
   "outputs": [],
   "source": [
    "serie = pd.Series(list('bba cabc faabba aacbbfe'))\n",
    "expected_output = pd.Series(list('bbaecabcefaabbaeaacbbfe'))\n",
    "output = clean_whitespace_replace(serie)  # This calls your function clean_whitespace_replace\n",
    "assert(expected_output.equals(output))  # This will fail if result is not as expected"
   ]
  }
 ],
 "metadata": {
  "kernelspec": {
   "display_name": "Python 3",
   "language": "python",
   "name": "python3"
  },
  "language_info": {
   "codemirror_mode": {
    "name": "ipython",
    "version": 3
   },
   "file_extension": ".py",
   "mimetype": "text/x-python",
   "name": "python",
   "nbconvert_exporter": "python",
   "pygments_lexer": "ipython3",
   "version": "3.13.3"
  }
 },
 "nbformat": 4,
 "nbformat_minor": 5
}
