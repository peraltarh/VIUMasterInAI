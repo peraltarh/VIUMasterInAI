{
 "cells": [
  {
   "cell_type": "markdown",
   "id": "c64a58eb-2c64-48b7-98dc-306458267708",
   "metadata": {
    "slideshow": {
     "slide_type": "slide"
    }
   },
   "source": [
    "<img src=\"img/viu_logo.png\" width=\"200\">\n",
    "\n",
    "## 01MIAR - Python 101, Data Types\n",
    "\n",
    "![logo](img/python_logo.png)\n",
    "\n",
    "*Ivan Fuertes / Franklin Alvarez*"
   ]
  },
  {
   "cell_type": "markdown",
   "id": "531ad96b-10a1-457e-9508-10adc3a4e64c",
   "metadata": {},
   "source": [
    "# Comentarios"
   ]
  },
  {
   "cell_type": "markdown",
   "id": "b9281979-1f36-4a27-b992-7bbc41de0075",
   "metadata": {},
   "source": [
    "### ¿Qué son?\n",
    "\n",
    "Texto contenido en ficheros Python que es ignorado por el intérprete; es decir, no es ejecutado."
   ]
  },
  {
   "cell_type": "markdown",
   "id": "5f1ad803-0cb1-4f86-848b-af2d3637bad5",
   "metadata": {},
   "source": [
    "### ¿Cuál es su utilidad?\n",
    "\n",
    "* Se puede utilizar para documentar código y hacerlo más legible\n",
    "\n",
    "* Preferiblemente, trataremos de hacer código fácil de entender y que necesite pocos comentarios, en lugar de vernos forzados a recurrir a los comentarios para explicar el código."
   ]
  },
  {
   "cell_type": "markdown",
   "id": "b8a9458d-8e9a-4957-bce9-756d6bbaeb12",
   "metadata": {},
   "source": [
    "### Tipos de comentarios\n",
    "\n",
    "**Comentarios de una línea**\n",
    "\n",
    "* Texto precedido por '#'\n",
    "* Se suele usar para documentar expresiones sencillas."
   ]
  },
  {
   "cell_type": "code",
   "execution_count": null,
   "id": "c1f80655-679a-4f28-b1d6-b6a15bb5112e",
   "metadata": {},
   "outputs": [],
   "source": [
    "# Esto es una instrucción print\n",
    "print('Hello world')   # Esto es una instrucción print"
   ]
  },
  {
   "cell_type": "markdown",
   "id": "b9a55dce-321a-4bce-8c5a-4ee260827557",
   "metadata": {},
   "source": [
    "**Comentarios de varias líneas**\n",
    "\n",
    "* Texto encapsulado en triples comillas (que pueden ser tanto comillas simples como dobles).\n",
    "* Se suele usar para documentar bloques de código más significativos."
   ]
  },
  {
   "cell_type": "code",
   "execution_count": null,
   "id": "f4a1daee-4482-4223-ac73-a7af39f9e588",
   "metadata": {},
   "outputs": [],
   "source": [
    "def producto(x, y):\n",
    "    '''\n",
    "    Esta función recibe dos números como parámetros y devuelve\n",
    "    como resultado el producto de los mismos.\n",
    "    '''\n",
    "    return x * y"
   ]
  },
  {
   "cell_type": "markdown",
   "id": "9daf838c-ee19-42f7-b5ce-69f3eb73dca6",
   "metadata": {},
   "source": [
    "# Literales, variables y tipos de datos básicos"
   ]
  },
  {
   "cell_type": "markdown",
   "id": "e73e106e-d8f1-4747-a2c9-3fa40f7c97f7",
   "metadata": {},
   "source": [
    "De forma muy genérica, al ejecutarse un programa Python, simplemente se realizan *operaciones* sobre *objetos*.\n",
    "\n",
    "Estos dos términos son fundamentales.\n",
    "\n",
    "* *Objetos*: cualquier tipo de datos (números, caracteres o datos más complejos).\n",
    "\n",
    "* *Operaciones*: cómo manipulamos estos datos.\n",
    "\n",
    "Ejemplo:\n"
   ]
  },
  {
   "cell_type": "code",
   "execution_count": null,
   "id": "3a3f43fc-c525-46d3-b40d-5bf67052cd90",
   "metadata": {},
   "outputs": [],
   "source": [
    "4 + 3"
   ]
  },
  {
   "cell_type": "markdown",
   "id": "c9e1bcad-02fb-4308-a1a7-eefaa09567f2",
   "metadata": {},
   "source": [
    "## Literales\n",
    "\n",
    "* Python tiene una serie de tipos de datos integrados en el propio lenguaje.\n",
    "* Los literales son expresiones que generan objetos de estos tipos.\n",
    "* Estos objetos, según su tipo, pueden ser:\n",
    "    * Simples o compuestos.\n",
    "    * Mutables o immutables."
   ]
  },
  {
   "cell_type": "markdown",
   "id": "b554db09-f2a6-414f-929b-691fb5d1d2dd",
   "metadata": {},
   "source": [
    "#### Literales simples\n",
    "- Enteros\n",
    "- Decimales o punto flotante\n",
    "- Booleano"
   ]
  },
  {
   "cell_type": "code",
   "execution_count": null,
   "id": "81f9284e-2018-461d-8a45-25e90f6c4583",
   "metadata": {},
   "outputs": [],
   "source": [
    "print(4)            # número entero\n",
    "print(4.2)          # número en coma flotante\n",
    "print('Hello world!')  # string\n",
    "print(False)"
   ]
  },
  {
   "cell_type": "markdown",
   "id": "75c1e2a8-9ade-4a9e-b625-621ca44b75af",
   "metadata": {},
   "source": [
    "#### Literales compuestos\n",
    "- Tuplas\n",
    "- Listas\n",
    "- Diccionarios\n",
    "- Conjuntos"
   ]
  },
  {
   "cell_type": "code",
   "execution_count": null,
   "id": "201264c7-0157-4f0c-ba01-8116f09f7109",
   "metadata": {},
   "outputs": [],
   "source": [
    "print([1, 2, 3, 3])                         # lista - mutable\n",
    "print({'Nombre' : 'John Doe', \"edad\": 30})  # Diccionario - mutable\n",
    "print({1, 2, 3, 3})                         # Conjunto - mutable\n",
    "print((4, 5))                               # tupla - inmutable\n",
    "2, 4                                        # tupla"
   ]
  },
  {
   "cell_type": "markdown",
   "id": "bed8e619-c1f0-4606-b796-99f0c230403e",
   "metadata": {},
   "source": [
    "## Variables\n",
    "\n",
    "* Referencias a objetos.\n",
    "* Las variables y los objetos se almacenan en diferentes zonas de memoria.\n",
    "* Las variables siempre referencian a objetos y nunca a otras variables.\n",
    "* Objetos sí que pueden referenciar a otros objetos. Ejemplo: listas."
   ]
  },
  {
   "cell_type": "markdown",
   "id": "2f746056-9344-49d5-ade9-f410af9d9d34",
   "metadata": {},
   "source": [
    "<img src=\"img/variablereferences.png\" width=\"550\">"
   ]
  },
  {
   "cell_type": "markdown",
   "id": "fa44f530-30d4-4129-8f9f-10a9f44aa40f",
   "metadata": {},
   "source": [
    "* Sentencia de asignación:\n",
    "\n",
    "```\n",
    "<nombre_variable> '=' <objeto>\n",
    "```"
   ]
  },
  {
   "cell_type": "code",
   "execution_count": null,
   "id": "0371b1f3-21d3-4d8d-bb88-7af317002579",
   "metadata": {},
   "outputs": [],
   "source": [
    "# Asignación de variables\n",
    "a = 5\n",
    "print(a)"
   ]
  },
  {
   "cell_type": "code",
   "execution_count": null,
   "id": "df3aac25-a4ad-4ff2-9cbe-7d180727f834",
   "metadata": {},
   "outputs": [],
   "source": [
    "a = 1                 # entero\n",
    "b = 4.0               # coma flotante\n",
    "c = \"VIU\"             # string\n",
    "d = 10 + 1j           # numero complejo\n",
    "e = True  #False      # boolean\n",
    "f = None              # None\n",
    "\n",
    "# visualizar valor de las variables y su tipo\n",
    "print(a)\n",
    "print(type(a))\n",
    "\n",
    "print(b)\n",
    "print(type(b))\n",
    "\n",
    "print(c)\n",
    "print(type(c))\n",
    "\n",
    "print(d)\n",
    "print(type(d))\n",
    "\n",
    "print(e)\n",
    "print(type(e))\n",
    "\n",
    "print(f)\n",
    "print(type(f))"
   ]
  },
  {
   "cell_type": "markdown",
   "id": "95f76871-b8c0-424e-bf31-467b7ac8f51d",
   "metadata": {},
   "source": [
    "* Las variables no tienen tipo.\n",
    "* Las variables apuntan a objetos que sí lo tienen.\n",
    "* Dado que Python es un lenguaje de tipado dinámico, la misma variable puede apuntar, en momentos diferentes de la ejecución del programa, a objetos de diferente tipo."
   ]
  },
  {
   "cell_type": "code",
   "execution_count": null,
   "id": "1c332280-114e-4099-890f-a6ccb1c10ebd",
   "metadata": {
    "tags": []
   },
   "outputs": [],
   "source": [
    "a = 3\n",
    "print(a)\n",
    "print(type(a))\n",
    "\n",
    "a = 'Pablo García'\n",
    "print(a)\n",
    "print(type(a))\n",
    "\n",
    "a = 4.5\n",
    "print(a)\n",
    "print(type(a))"
   ]
  },
  {
   "cell_type": "markdown",
   "id": "45585ddd-ab48-4e97-b0db-91795555bbdf",
   "metadata": {},
   "source": [
    "* *Garbage collection*: Cuando un objeto deja de estar referenciado, se elimina automáticamente. "
   ]
  },
  {
   "cell_type": "markdown",
   "id": "8949ca55-b8f0-4b2c-b7de-0a66f82f0377",
   "metadata": {},
   "source": [
    "#### Identificadores"
   ]
  },
  {
   "cell_type": "markdown",
   "id": "9ea1445d-645c-4bd7-bcef-291085d01979",
   "metadata": {},
   "source": [
    "* Podemos obtener un identificador único para los objetos referenciados por variables.\n",
    "* Este identificador se obtiene a partir de la dirección de memoria."
   ]
  },
  {
   "cell_type": "code",
   "execution_count": null,
   "id": "387e62f3-0f97-4589-a5be-408790430b25",
   "metadata": {},
   "outputs": [],
   "source": [
    "a = 3\n",
    "print(id(a))\n",
    "\n",
    "a = 'Pablo García'\n",
    "print(id(a))\n",
    "\n",
    "a = 4.5\n",
    "print(id(a))"
   ]
  },
  {
   "cell_type": "markdown",
   "id": "567eb1d9-c914-44c0-9103-343e31dbea69",
   "metadata": {},
   "source": [
    "* *Referencias compartidas*: un mismo objeto puede ser referenciado por más de una variable.\n",
    "\n",
    "    * Variables que referencian al mismo objeto tienen mismo identificador."
   ]
  },
  {
   "cell_type": "code",
   "execution_count": null,
   "id": "e820ca88-d1e4-4a5e-b562-2d8b42c7cc39",
   "metadata": {
    "tags": []
   },
   "outputs": [],
   "source": [
    "a = 4567\n",
    "print(id(a))"
   ]
  },
  {
   "cell_type": "code",
   "execution_count": null,
   "id": "393e9917-12bd-490e-9c9f-8bcdba316b5a",
   "metadata": {},
   "outputs": [],
   "source": [
    "b = a\n",
    "print(id(b))"
   ]
  },
  {
   "cell_type": "code",
   "execution_count": null,
   "id": "dbb237a3-56c1-45c0-848a-be8a0260b7b7",
   "metadata": {},
   "outputs": [],
   "source": [
    "c = 4567\n",
    "print(id(c))"
   ]
  },
  {
   "cell_type": "code",
   "execution_count": null,
   "id": "699705a6-d3f7-4b1b-9413-4193660e9464",
   "metadata": {},
   "outputs": [],
   "source": [
    "a = 25\n",
    "b = 25\n",
    "\n",
    "print(id(a))\n",
    "print(id(b))\n",
    "print(id(25))"
   ]
  },
  {
   "cell_type": "code",
   "execution_count": null,
   "id": "1f8bcb2a-b8d8-48ac-b9c8-8c37ec154773",
   "metadata": {},
   "outputs": [],
   "source": [
    "# Ojo con los enteros \"grandes\" [-5, 256]\n",
    "a = 258\n",
    "b = 258\n",
    "\n",
    "print(id(a))\n",
    "print(id(b))\n",
    "print(id(258))"
   ]
  },
  {
   "cell_type": "markdown",
   "id": "c1556b4a-4313-42f0-b032-8bf0b5a49a09",
   "metadata": {},
   "source": [
    "* Referencia al mismo objeto a través de asignar una variable a otra."
   ]
  },
  {
   "cell_type": "code",
   "execution_count": null,
   "id": "f0d44b8d-3a8a-4809-8d8d-d6c8619034a9",
   "metadata": {},
   "outputs": [],
   "source": [
    "a = 400\n",
    "b = a\n",
    "print(id(a))\n",
    "print(id(b))"
   ]
  },
  {
   "cell_type": "markdown",
   "id": "9d93cfef-b7a2-46f6-96e0-072e9b686ae8",
   "metadata": {},
   "source": [
    "* Las variables pueden aparecer en expresiones."
   ]
  },
  {
   "cell_type": "code",
   "execution_count": null,
   "id": "5b314b93-0bb7-429f-a432-f51b13c4b8df",
   "metadata": {},
   "outputs": [],
   "source": [
    "a = 3\n",
    "b = 5\n",
    "print (a + b)"
   ]
  },
  {
   "cell_type": "code",
   "execution_count": null,
   "id": "24183bfa-7586-4775-9164-be9c1b69489d",
   "metadata": {
    "tags": []
   },
   "outputs": [],
   "source": [
    "c = a + b\n",
    "print(c)\n",
    "print(id(c))"
   ]
  },
  {
   "cell_type": "markdown",
   "id": "68a5ab6f-f50f-44f7-b8f1-309ea15add26",
   "metadata": {},
   "source": [
    "#### Respecto a los nombres de las variables ...\n",
    "\n",
    "* No se puede poner números delante del nombre de las variables.\n",
    "* Por convención, evitar *CamelCase*. Mejor usar *snake_case*: uso de \"_\" para separar palabras.\n",
    "* El lenguaje diferencia entre mayúsculas y minúsculas.\n",
    "* Deben ser descriptivos.\n",
    "* Hay palabras o métodos reservados -> [Built-ins](https://docs.python.org/3/library/functions.html) y [KeyWords](https://docs.python.org/3/reference/lexical_analysis.html#keywords)\n",
    "    * **Ojo** con reasignar un nombre reservado!"
   ]
  },
  {
   "cell_type": "code",
   "execution_count": null,
   "id": "56cef354-41be-4f91-9e01-9750688c4eaf",
   "metadata": {},
   "outputs": [],
   "source": [
    "print(pow(3,2))"
   ]
  },
  {
   "cell_type": "code",
   "execution_count": null,
   "id": "7bf7ec12-70d4-4369-86e2-8ccaf4310fb0",
   "metadata": {},
   "outputs": [],
   "source": [
    "print(pow(3,2))\n",
    "\n",
    "# pow = 1  # built-in reasignado\n",
    "# print(pow)\n",
    "\n",
    "# print(pow(3,2))"
   ]
  },
  {
   "cell_type": "code",
   "execution_count": null,
   "id": "b9dba09f-670e-4f7f-b740-c76591b9e0c5",
   "metadata": {},
   "outputs": [],
   "source": [
    "def pow(a, b):\n",
    "    return a + b"
   ]
  },
  {
   "cell_type": "markdown",
   "id": "abc88d38-d309-46b9-b87b-ccb8c5d2508d",
   "metadata": {},
   "source": [
    "#### Asignación múltiple de variables"
   ]
  },
  {
   "cell_type": "code",
   "execution_count": null,
   "id": "a6ad314e-c80c-41e1-ab61-2e4acbea8222",
   "metadata": {},
   "outputs": [],
   "source": [
    "x, y, z = 1, 2, 3\n",
    "print(x, y, z)\n",
    "\n",
    "t = x, y, z, 7, \"Python\"\n",
    "print(t)\n",
    "print(type(t))"
   ]
  },
  {
   "cell_type": "markdown",
   "id": "60785fb4-ca3c-4215-9b25-372cdfe4abcb",
   "metadata": {},
   "source": [
    "* Esta técnica tiene un uso interesante: el intercambio de valores entre dos variables."
   ]
  },
  {
   "cell_type": "code",
   "execution_count": null,
   "id": "dc991a9b-2317-440a-8e17-739a2b16db2b",
   "metadata": {},
   "outputs": [],
   "source": [
    "a = 1\n",
    "b = 2\n",
    "\n",
    "a, b = b, a\n",
    "print(a, b)"
   ]
  },
  {
   "cell_type": "code",
   "execution_count": null,
   "id": "e3a59403-f8dd-4e0c-8e9d-bb4a7886e5a7",
   "metadata": {},
   "outputs": [],
   "source": [
    "a = 1\n",
    "b = 2\n",
    "\n",
    "c = a\n",
    "a = b\n",
    "b = c\n",
    "print(a, b)"
   ]
  },
  {
   "cell_type": "markdown",
   "id": "ebec46de-3cbe-44fa-be42-a5c417e67cea",
   "metadata": {},
   "source": [
    "## Tipos de datos básicos"
   ]
  },
  {
   "cell_type": "markdown",
   "id": "cad92dce-25e0-40a6-814b-edb336a8dd92",
   "metadata": {},
   "source": [
    "#### Bool"
   ]
  },
  {
   "cell_type": "markdown",
   "id": "0d20ea0e-b3eb-471d-8392-47997af93bab",
   "metadata": {},
   "source": [
    "* 2 posibles valores: 'True' o 'False'."
   ]
  },
  {
   "cell_type": "code",
   "execution_count": null,
   "id": "2bea604f-4df8-4020-a628-395d820594e0",
   "metadata": {},
   "outputs": [],
   "source": [
    "a = False\n",
    "b = True\n",
    "\n",
    "print(a)\n",
    "print(type(a))\n",
    "\n",
    "print(b)\n",
    "print(type(b))"
   ]
  },
  {
   "cell_type": "markdown",
   "id": "5a220164-c69f-4f40-b3ea-9e7db40b4db9",
   "metadata": {},
   "source": [
    "* 'True' y 'False' también son objetos que se guardan en caché, al igual que los enteros pequeños."
   ]
  },
  {
   "cell_type": "code",
   "execution_count": null,
   "id": "d4fc285f-1cba-415c-b512-ad11c74d33ff",
   "metadata": {},
   "outputs": [],
   "source": [
    "a = True\n",
    "b = True\n",
    "\n",
    "print(id(a))\n",
    "print(id(b))\n",
    "\n",
    "print(a is b)\n",
    "print(a == b)"
   ]
  },
  {
   "cell_type": "markdown",
   "id": "d8d0d915-74c0-424d-890e-0150251646de",
   "metadata": {},
   "source": [
    "#### Números"
   ]
  },
  {
   "cell_type": "code",
   "execution_count": null,
   "id": "9096fb0f-4716-4c32-8f60-4971a0b068bf",
   "metadata": {},
   "outputs": [],
   "source": [
    "print(2)     # Enteros, sin parte fraccional.\n",
    "print(3.4)   # Números en coma flotante, con parte fraccional.\n",
    "print(2+4j)  # Números complejos.\n",
    "print(1/2)   # Numeros racionales."
   ]
  },
  {
   "cell_type": "markdown",
   "id": "8a8f0a2c-25ee-482b-81c9-244a7ae5f327",
   "metadata": {},
   "source": [
    "* Diferentes representaciones: base 10, 2, 8, 16."
   ]
  },
  {
   "cell_type": "code",
   "execution_count": null,
   "id": "7af9a7af-39ab-43cd-86de-69338d22aeac",
   "metadata": {},
   "outputs": [],
   "source": [
    "x = 58          # decimal\n",
    "z = 0b00111010  # binario\n",
    "w = 0o72        # octal\n",
    "y = 0x3A        # hexadecimal\n",
    "\n",
    "print(x == y == z == w)"
   ]
  },
  {
   "cell_type": "markdown",
   "id": "f5a6e2a8-9545-4b83-8d69-516caee8942a",
   "metadata": {},
   "source": [
    "#### Strings"
   ]
  },
  {
   "cell_type": "markdown",
   "id": "894c9bd4-9dfb-41b7-9afc-262b7921c625",
   "metadata": {
    "tags": []
   },
   "source": [
    "* Cadenas de caracteres.\n",
    "* Son *secuencias*: la posición de los caracteres es importante.\n",
    "* Son immutables: las operaciones sobre strings no cambian el string original."
   ]
  },
  {
   "cell_type": "code",
   "execution_count": null,
   "id": "94c75301-ea99-4a68-a436-5dc548f32b90",
   "metadata": {},
   "outputs": [],
   "source": [
    "s = 'John \"ee\" Doe'\n",
    "print(s[0])     # Primer carácter del string.\n",
    "print(s[-1])    # Último carácter del string.\n",
    "print(s[1:8:2]) # Substring desde el segundo carácter (inclusive) hasta el octavo (exclusive). Esta técnica se la conoce como 'slicing'.\n",
    "print(s[:])     # Todo el string.\n",
    "print(s + \"e\")  # Concatenación."
   ]
  },
  {
   "cell_type": "markdown",
   "id": "03f38eb8-b826-4419-8649-c72dfd548e33",
   "metadata": {
    "tags": []
   },
   "source": [
    "## Conversión entre tipos"
   ]
  },
  {
   "cell_type": "markdown",
   "id": "30c6a41c-801f-4ee5-ba84-9f7463284b58",
   "metadata": {},
   "source": [
    "* A veces queremos que un objeto sea de un tipo específico. \n",
    "* Podemos obtener objetos de un tipo a partir de objetos de un tipo diferente (*casting*)."
   ]
  },
  {
   "cell_type": "code",
   "execution_count": null,
   "id": "3987a57c-7f83-43b6-ae0e-85ed95629037",
   "metadata": {},
   "outputs": [],
   "source": [
    "a = int(2.8)    # a será 2\n",
    "b = int(\"3\")    # b será 3\n",
    "c = float(1)    # c será 1.0\n",
    "d = float(\"3\")  # d será 3.0\n",
    "e = str(2)      # e será '2'\n",
    "f = str(3.0)    # f será '3.0'\n",
    "g = bool(\"a\")   # g será True\n",
    "h = bool(\"\")    # h será False\n",
    "i = bool(3)     # i será True\n",
    "j = bool(0)     # j será False\n",
    "k = bool(None)\n",
    "\n",
    "print(a)\n",
    "print(type(a))\n",
    "print(b)\n",
    "print(type(b))\n",
    "print(c)\n",
    "print(type(c))\n",
    "print(d)\n",
    "print(type(d))\n",
    "print(e)\n",
    "print(type(e))\n",
    "print(f)\n",
    "print(type(f))\n",
    "print(g)\n",
    "print(type(g))\n",
    "print(h)\n",
    "print(type(h))\n",
    "print(i)\n",
    "print(type(i))\n",
    "print(j)\n",
    "print(type(j))\n",
    "print(k)"
   ]
  },
  {
   "cell_type": "code",
   "execution_count": null,
   "id": "1a9e3a0a-bac2-477c-951f-4012bbfc5bdf",
   "metadata": {},
   "outputs": [],
   "source": [
    "print(7/4)       # División convencional. Resultado de tipo 'float'\n",
    "print(7//4)      # División entera. Resultado de tipo 'int'\n",
    "print(int(7/4))  # Divisón convencional. Conversión del resultado de 'float' a 'int'"
   ]
  },
  {
   "cell_type": "markdown",
   "id": "5562cf16-bc28-4954-982a-09f7116919ba",
   "metadata": {},
   "source": [
    "## Operadores\n",
    "[Python3 precedencia en operaciones](https://docs.python.org/3/reference/expressions.html#operator-precedence)\n",
    "\n",
    "- Combinación de valores, variables y operadores\n",
    "- Operadores y operandos"
   ]
  },
  {
   "cell_type": "markdown",
   "id": "1f3f06d2-3a57-4f0b-a8be-f3a861b9be46",
   "metadata": {},
   "source": [
    "#### Operatores aritméticos\n",
    "\n",
    "| Operador | Desc |\n",
    "|:---------|:-----|\n",
    "| a + b    | Suma |\n",
    "| a - b    | Resta |\n",
    "| a / b    | División |\n",
    "| a // b   | División Entera |\n",
    "| a % b    | Modulo / Resto |\n",
    "| a * b    | Multiplicacion |\n",
    "| a ** b   | Exponenciación |"
   ]
  },
  {
   "cell_type": "code",
   "execution_count": null,
   "id": "908634f9-9580-40af-b08d-ff701d14f5ed",
   "metadata": {},
   "outputs": [],
   "source": [
    "x = 3\n",
    "y = 2\n",
    "\n",
    "print('x + y = ', x + y)\n",
    "print('x - y = ', x - y)\n",
    "print('x * y = ', x * y)\n",
    "print('x / y = ', x / y)\n",
    "print('x // y = ', x // y)\n",
    "print('x % y = ', x % y)\n",
    "print('x ** y = ', x ** y)"
   ]
  },
  {
   "cell_type": "markdown",
   "id": "36f955b5-5afb-4545-8dc3-0fb6add73c55",
   "metadata": {},
   "source": [
    "#### Operadores de comparación\n",
    "\n",
    "| Operador | Desc |\n",
    "|:---------|:-----|\n",
    "| a > b    | Mayor |\n",
    "| a < b    | Menor |\n",
    "| a == b    | Igualdad |\n",
    "| a != b   | Desigualdad |\n",
    "| a >= b    | Mayor o Igual |\n",
    "| a <= b    | Menor o Igual |"
   ]
  },
  {
   "cell_type": "code",
   "execution_count": null,
   "id": "7ce8385f-abf5-4a06-9deb-6fed52e45249",
   "metadata": {},
   "outputs": [],
   "source": [
    "x = 10\n",
    "y = 12\n",
    "\n",
    "print('x > y  es ', x > y)\n",
    "print('x < y  es ', x < y)\n",
    "print('x == y es ', x == y)\n",
    "print('x != y es ', x != y)\n",
    "print('x >= y es ', x >= y)\n",
    "print('x <= y es ', x <= y)"
   ]
  },
  {
   "cell_type": "markdown",
   "id": "bebf0696-8f67-40e0-a5d6-018a15d4c0ea",
   "metadata": {},
   "source": [
    "#### Operadores Lógicos\n",
    "\n",
    "\n",
    "| Operador | Desc |\n",
    "|:---------|:-----|\n",
    "| a and b  | True, si ambos son True |\n",
    "| a or b   | True, si alguno de los dos es True |\n",
    "| a ^ b   | XOR - True, si solo uno de los dos es True |\n",
    "| not a    | Negación |"
   ]
  },
  {
   "cell_type": "markdown",
   "id": "da629d20-fe66-4b35-89d3-e9656ac2e8e1",
   "metadata": {},
   "source": [
    "Enlace a [Tablas de Verdad](https://en.wikipedia.org/wiki/Truth_table)."
   ]
  },
  {
   "cell_type": "code",
   "execution_count": null,
   "id": "72dab28b-a42e-46a1-a22c-adb482f28b83",
   "metadata": {},
   "outputs": [],
   "source": [
    "x = True\n",
    "y = False\n",
    "\n",
    "print('x and y es :', x and y)\n",
    "print('x or y es  :', x or y)\n",
    "print('x xor y es  :', x ^ y)\n",
    "print('not x es   :', not x)"
   ]
  },
  {
   "cell_type": "markdown",
   "id": "de37c483-078b-4fa6-a1e3-277e01d0e85b",
   "metadata": {},
   "source": [
    "#### Operadores Bitwise / Binarios\n",
    "\n",
    "| Operador | Desc |\n",
    "|:---------|:-----|\n",
    "| a & b  | And binario |\n",
    "| a \\| b   | Or binario |\n",
    "| a ^ b   | Xor binario |\n",
    "| ~ a    | Not binario |\n",
    "| a >> b   | Desplazamiento binario a derecha |\n",
    "| a << b   | Desplazamiento binario a izquierda |"
   ]
  },
  {
   "cell_type": "code",
   "execution_count": null,
   "id": "601ed055-f43c-4172-b5fa-b5a33848b3fb",
   "metadata": {
    "tags": []
   },
   "outputs": [],
   "source": [
    "x = 0b01100110\n",
    "y = 0b00110011\n",
    "print(\"Not x = \" + bin(~x))\n",
    "print(\"x and y = \" + bin(x & y))\n",
    "print(\"x or y = \" + bin(x | y))\n",
    "print(\"x xor y = \" + bin(x ^ y))\n",
    "print(\"x << 2 = \" + bin(x << 2))\n",
    "print(\"x >> 2 = \" + bin(x >> 2))"
   ]
  },
  {
   "cell_type": "markdown",
   "id": "c03d590b-14ba-4122-b8bd-06e743fdcd28",
   "metadata": {},
   "source": [
    "#### Operadores de Asignación\n",
    "\n",
    "| Operador | Desc |\n",
    "|:---------|:-----|\n",
    "| =   | Asignación |\n",
    "| +=  | Suma y asignación |\n",
    "| -=  | Resta y asignación|\n",
    "| *=  | Multiplicación y asignación |\n",
    "| /=  | División y asignación |\n",
    "| %=  | Módulo y asignación |\n",
    "| //= | División entera y asignación |\n",
    "| **= | Exponencial y asignación |\n",
    "| &=  | And y asignación |\n",
    "| \\|=  | Or y asignación |\n",
    "| ^=  | Xor y asignación |\n",
    "| >>= | Despl. Derecha y asignación |\n",
    "| <<= | DEspl. Izquierda y asignación |"
   ]
  },
  {
   "cell_type": "code",
   "execution_count": null,
   "id": "a4a3af29-15c2-4385-8f56-3368eb1a2d2d",
   "metadata": {},
   "outputs": [],
   "source": [
    "a = 5\n",
    "a *= 3   # a = a * 3\n",
    "a += 1   # No existe a++, ni ++a\n",
    "print(a)\n",
    "\n",
    "b = 6\n",
    "b -= 2   # b = b - 2\n",
    "print(b)"
   ]
  },
  {
   "cell_type": "markdown",
   "id": "13b74ca9-9555-4eac-9007-d4179d39ef8b",
   "metadata": {},
   "source": [
    "#### Operadores de Identidad\n",
    "\n",
    "| Operador | Desc |\n",
    "|:---------|:-----|\n",
    "| a is b  | True, si ambos operadores son una referencia al mismo objeto |\n",
    "| a is not b | True, si ambos operadores *no* son una referencia al mismo objeto |"
   ]
  },
  {
   "cell_type": "code",
   "execution_count": null,
   "id": "37602739-e531-48d3-9264-87e3fa418692",
   "metadata": {},
   "outputs": [],
   "source": [
    "a = 4444\n",
    "b = a\n",
    "print(a is b)\n",
    "print(a is not b)"
   ]
  },
  {
   "cell_type": "markdown",
   "id": "901e9739-520b-46e6-8b10-834517162684",
   "metadata": {},
   "source": [
    "#### Operadores de Pertenencia\n",
    "\n",
    "| Operador | Desc |\n",
    "|:---------|:-----|\n",
    "| a in b  | True, si *a* se encuentra en la secuencia *b* |\n",
    "| a not in b | True, si *a* no se encuentra en la secuencia *b* |"
   ]
  },
  {
   "cell_type": "code",
   "execution_count": null,
   "id": "04fa442b-f6c6-4844-ae4e-ca623c25a456",
   "metadata": {},
   "outputs": [],
   "source": [
    "x = 'Hola Mundo'\n",
    "y = {1:'a',2:'b'}\n",
    "\n",
    "print('H' in x)         # True\n",
    "print('hola' not in x)  # True\n",
    "\n",
    "print(1 in y)           # True\n",
    "print('a' in y)         # False"
   ]
  },
  {
   "attachments": {},
   "cell_type": "markdown",
   "id": "6c7a12a1-7b53-4c4c-8f71-75814ee5f341",
   "metadata": {},
   "source": [
    "## Entrada de valores"
   ]
  },
  {
   "cell_type": "code",
   "execution_count": null,
   "id": "39abf3da-8ace-43da-aee3-1e5212e01c0b",
   "metadata": {},
   "outputs": [],
   "source": [
    "valor = input(\"Inserte valor:\")\n",
    "print(valor)"
   ]
  },
  {
   "cell_type": "code",
   "execution_count": null,
   "id": "f84abe27-3466-4c8c-9e7a-d59a2c402b23",
   "metadata": {},
   "outputs": [],
   "source": [
    "grados_c = input(\"Conversión de grados a fahrenheit, inserte un valor: \")\n",
    "print(f\"Grados F: {1.8 * int(grados_c) + 32}\")"
   ]
  },
  {
   "cell_type": "markdown",
   "id": "476bf1d3-4885-45d2-8a9b-c909006c617b",
   "metadata": {},
   "source": [
    "# Tipos de datos compuestos (colecciones)"
   ]
  },
  {
   "cell_type": "markdown",
   "id": "f4bc9a9b-e870-422a-907d-f70403d0f452",
   "metadata": {},
   "source": [
    "## Listas\n",
    "\n",
    "* Una colección de objetos.\n",
    "* Mutables.\n",
    "* Tipos arbitrarios heterogeneos.\n",
    "* Puede contener duplicados.\n",
    "* No tienen tamaño fijo. Pueden contener tantos elementos como quepan en memoria.\n",
    "* Los elementos van ordenados por posición.\n",
    "* Se acceden usando la sintaxis: **[index]**.\n",
    "* Los índices van de *0* a *n-1*, donde *n* es el número de elementos de la lista.\n",
    "* Son un tipo de *Secuencia*, al igual que los strings; por lo tanto, el orden (es decir, la posición de los objetos de la lista) es importante.\n",
    "* Soportan anidamiento.\n",
    "* Son una implementación del tipo abstracto de datos: *Array Dinámico*."
   ]
  },
  {
   "cell_type": "markdown",
   "id": "070d0007-6de9-4e73-9b68-7a002c7e4a5d",
   "metadata": {},
   "source": [
    "<img src=\"img/data_types/list.png\" width=\"800\">"
   ]
  },
  {
   "cell_type": "markdown",
   "id": "3efdeceb-5acf-4432-b2da-7453e2a34e0f",
   "metadata": {
    "tags": []
   },
   "source": [
    "#### Operaciones con listas"
   ]
  },
  {
   "cell_type": "markdown",
   "id": "477776d2-8ebe-4a34-a76e-ce169383ab77",
   "metadata": {},
   "source": [
    "* Creación de listas."
   ]
  },
  {
   "cell_type": "code",
   "execution_count": null,
   "id": "f7e8d1fc-81d0-435d-a6fc-ffad3d85fda1",
   "metadata": {},
   "outputs": [],
   "source": [
    "letras = ['a', 'b', 'c', 'd']\n",
    "palabras = 'Hola mundo'.split()\n",
    "numeros = list(range(5))\n",
    "\n",
    "print(letras)\n",
    "print(palabras)\n",
    "print(numeros)\n",
    "print(type(numeros))"
   ]
  },
  {
   "cell_type": "code",
   "execution_count": null,
   "id": "5521e8dc-1958-4106-9e24-dfa23ca1330c",
   "metadata": {},
   "outputs": [],
   "source": [
    "# Pueden contener elementos arbitrarios / heterogeneos\n",
    "mezcla = [1, 3.4, 'a', None, False]\n",
    "print(mezcla)\n",
    "print(len(mezcla))"
   ]
  },
  {
   "cell_type": "code",
   "execution_count": null,
   "id": "b3769dc4-f3e4-400f-82ce-82b1c935e852",
   "metadata": {},
   "outputs": [],
   "source": [
    "# Pueden incluso contener objetos más \"complejos\"\n",
    "lista_con_funcion = [1, 2, len]\n",
    "print(lista_con_funcion)"
   ]
  },
  {
   "cell_type": "code",
   "execution_count": null,
   "id": "33ad7a04-a5cf-4504-9122-7a352d31fe87",
   "metadata": {},
   "outputs": [],
   "source": [
    "# Pueden contener duplicados\n",
    "lista_con_duplicados = [1, 2, 3, 3, 3, 4]\n",
    "print(lista_con_duplicados)"
   ]
  },
  {
   "cell_type": "markdown",
   "id": "1f37ad40-e178-47e4-b114-b17be78e1472",
   "metadata": {},
   "source": [
    "* Obtención de la longitud de una lista."
   ]
  },
  {
   "cell_type": "code",
   "execution_count": null,
   "id": "a5ac8f22-25b5-400b-871a-341d743755bb",
   "metadata": {},
   "outputs": [],
   "source": [
    "letras = ['a', 'b', 'c', 'd']\n",
    "print(len(letras))"
   ]
  },
  {
   "cell_type": "markdown",
   "id": "90a27399-4a0c-4acf-958f-fb4af75ba596",
   "metadata": {},
   "source": [
    "* Acceso a un elemento de una lista"
   ]
  },
  {
   "cell_type": "code",
   "execution_count": null,
   "id": "c9342038-1884-4935-969d-e6b95c435cd4",
   "metadata": {},
   "outputs": [],
   "source": [
    "print(letras[2])\n",
    "print(letras[-1])"
   ]
  },
  {
   "cell_type": "markdown",
   "id": "199f6e1e-901c-4664-b319-b8f9209170db",
   "metadata": {},
   "source": [
    "* **Slicing**: obtención de un fragmento de una lista, devuelve una copia de una parte de la lista\n",
    "\n",
    "    * Sintaxis:  *lista [ inicio : fin : paso ]*"
   ]
  },
  {
   "cell_type": "code",
   "execution_count": null,
   "id": "c240169c-ee78-4b06-9ba6-dce8a5488a06",
   "metadata": {},
   "outputs": [],
   "source": [
    "letras = ['a', 'b', 'c', 'd']\n",
    "\n",
    "print(letras[1:3])\n",
    "print(letras[:1])\n",
    "print(letras[:-1])\n",
    "print(letras[2:])\n",
    "print(letras[:])\n",
    "print(letras[::2])"
   ]
  },
  {
   "cell_type": "code",
   "execution_count": null,
   "id": "546fe79f-df90-4121-8f97-88bef37fcc49",
   "metadata": {},
   "outputs": [],
   "source": [
    "letras = ['a', 'b', 'c', 'd']\n",
    "\n",
    "print(letras)\n",
    "print(id(letras))\n",
    "\n",
    "a = letras[:]\n",
    "print(a)\n",
    "print(id(a))\n",
    "\n",
    "print(letras.copy())\n",
    "print(id(letras.copy()))"
   ]
  },
  {
   "cell_type": "markdown",
   "id": "df20402b-82db-4c6d-bec7-cee337d37899",
   "metadata": {},
   "source": [
    "* Añadir un elemento al final de la lista"
   ]
  },
  {
   "cell_type": "code",
   "execution_count": null,
   "id": "8e6a65b0-687a-42f4-a839-e84c11ea1cc3",
   "metadata": {},
   "outputs": [],
   "source": [
    "letras.append('e')\n",
    "print(letras)\n",
    "print(id(letras))"
   ]
  },
  {
   "cell_type": "code",
   "execution_count": null,
   "id": "3e48014e-b444-4c8a-99e1-87f05c326dcb",
   "metadata": {},
   "outputs": [],
   "source": [
    "letras += 'e'\n",
    "print(letras)\n",
    "print(id(letras))"
   ]
  },
  {
   "cell_type": "markdown",
   "id": "838580af-810c-4fc2-b896-0e4671c5b98d",
   "metadata": {},
   "source": [
    "* Insertar en posición."
   ]
  },
  {
   "cell_type": "code",
   "execution_count": null,
   "id": "3f3879c9-2a6a-484b-86c3-00b55ace7997",
   "metadata": {},
   "outputs": [],
   "source": [
    "letras.insert(1,'g')\n",
    "print(letras)\n",
    "print(id(letras))"
   ]
  },
  {
   "cell_type": "markdown",
   "id": "b880e597-bfc6-484b-a8c6-47e1e65fc5d2",
   "metadata": {},
   "source": [
    "* Modificación de la lista (individual)."
   ]
  },
  {
   "cell_type": "code",
   "execution_count": null,
   "id": "e663fb81-8ea5-4673-adae-5a90b449bd26",
   "metadata": {},
   "outputs": [],
   "source": [
    "letras[5] = 'f'\n",
    "print(letras)\n",
    "print(id(letras))"
   ]
  },
  {
   "cell_type": "code",
   "execution_count": null,
   "id": "a80ab691-ac84-400d-bcd0-f6c730a48765",
   "metadata": {},
   "outputs": [],
   "source": [
    "# index tiene que estar en rango\n",
    "letras[8] = 'r'"
   ]
  },
  {
   "cell_type": "markdown",
   "id": "19b6a4da-6316-4ecb-8ba3-af6581443377",
   "metadata": {},
   "source": [
    "* Modificación múltiple usando slicing."
   ]
  },
  {
   "cell_type": "code",
   "execution_count": null,
   "id": "1f2df989-2c3b-46bf-b978-dfd077a7e9dd",
   "metadata": {},
   "outputs": [],
   "source": [
    "letras = ['a', 'b', 'c', 'f', 'g', 'h', 'i', 'j', 'k']\n",
    "print(id(letras))"
   ]
  },
  {
   "cell_type": "code",
   "execution_count": null,
   "id": "821d30d8-d5e1-4632-9eac-d25c1ef2c774",
   "metadata": {},
   "outputs": [],
   "source": [
    "letras[0:6:2] = ['z', 'z', 'z']\n",
    "print(letras)\n",
    "print(id(letras))"
   ]
  },
  {
   "cell_type": "code",
   "execution_count": null,
   "id": "9403460a-0d2a-44b2-bfac-0219b6e73737",
   "metadata": {
    "scrolled": true
   },
   "outputs": [],
   "source": [
    "# Ojo con la diferencia entre modificación individual y múltiple. Asignación individual de lista crea anidamiento.\n",
    "numeros = [1, 2, 3]\n",
    "numeros[1] = [10, 20, 30]\n",
    "\n",
    "print(numeros)\n",
    "print(numeros[1][2])\n",
    "\n",
    "numeros[1][2] = [100, 200]\n",
    "print(numeros)\n",
    "\n",
    "print(numeros[1][2][1])"
   ]
  },
  {
   "cell_type": "markdown",
   "id": "a1857184-a3fa-48b2-b46b-555349fefe30",
   "metadata": {},
   "source": [
    "* Eliminar un elemento."
   ]
  },
  {
   "cell_type": "code",
   "execution_count": null,
   "id": "bd80c92b-1bb8-43d5-b890-26d963f02885",
   "metadata": {},
   "outputs": [],
   "source": [
    "# letras.remove('f')\n",
    "if 'z' in letras:\n",
    "    letras.remove('z')\n",
    "# letras.remove('z')\n",
    "print(letras)"
   ]
  },
  {
   "cell_type": "code",
   "execution_count": null,
   "id": "592294bb-6bcc-4975-a059-b792c2356e29",
   "metadata": {},
   "outputs": [],
   "source": [
    "# elimina el elemento en posición -1 y lo devuelve\n",
    "elemento = letras.pop()\n",
    "print(elemento)\n",
    "print(letras)"
   ]
  },
  {
   "cell_type": "code",
   "execution_count": null,
   "id": "d14ba1d8-2c28-46a0-affe-90c9de1aded1",
   "metadata": {},
   "outputs": [],
   "source": [
    "numeros = [1, 2, 3]\n",
    "numeros[2] = [10, 20, 30]\n",
    "print(numeros)\n",
    "\n",
    "n = numeros[2].pop()\n",
    "print(numeros)\n",
    "print(n)"
   ]
  },
  {
   "cell_type": "code",
   "execution_count": null,
   "id": "d558dc45-2fe2-403b-a564-2e20cdd45b9f",
   "metadata": {},
   "outputs": [],
   "source": [
    "lista = []\n",
    "a = lista.pop()"
   ]
  },
  {
   "cell_type": "markdown",
   "id": "368ed516-daa7-4296-8e7c-886f13d99729",
   "metadata": {},
   "source": [
    "* Encontrar índice de un elemento."
   ]
  },
  {
   "cell_type": "code",
   "execution_count": null,
   "id": "5fd0af10-1bcb-4bcc-90ad-e86bd51a4bff",
   "metadata": {},
   "outputs": [],
   "source": [
    "letras = ['a', 'b', 'c', 'c']\n",
    "\n",
    "if 'd' in letras:\n",
    "    print(letras.index('d'))"
   ]
  },
  {
   "cell_type": "markdown",
   "id": "b2b4e3b3-1eb2-4212-aad8-d8141dc3b093",
   "metadata": {},
   "source": [
    "* Concatenar listas."
   ]
  },
  {
   "cell_type": "code",
   "execution_count": null,
   "id": "ad9ca3e7-fde1-4f88-891f-00f2708565ee",
   "metadata": {},
   "outputs": [],
   "source": [
    "lacteos = ['queso', 'leche']\n",
    "frutas = ['naranja', 'manzana']\n",
    "print(id(lacteos))\n",
    "print(id(frutas))\n",
    "\n",
    "compra = lacteos + frutas\n",
    "print(id(compra))\n",
    "print(compra)"
   ]
  },
  {
   "cell_type": "code",
   "execution_count": null,
   "id": "62985740-5fc3-4641-af82-72104e738aab",
   "metadata": {},
   "outputs": [],
   "source": [
    "# Concatenación sin crear una nueva lista\n",
    "frutas = ['naranja', 'manzana']\n",
    "print(id(frutas))\n",
    "frutas.extend(['pera', 'uvas'])\n",
    "print(frutas)\n",
    "print(id(frutas))"
   ]
  },
  {
   "cell_type": "code",
   "execution_count": null,
   "id": "40b5f068-2bd0-45c9-a510-b838973ce1ba",
   "metadata": {},
   "outputs": [],
   "source": [
    "# Anidar sin crear una nueva lista\n",
    "frutas = ['naranja', 'manzana']\n",
    "print(id(frutas))\n",
    "frutas.append(['pera', 'uvas'])\n",
    "print(frutas)\n",
    "print(id(frutas))"
   ]
  },
  {
   "cell_type": "markdown",
   "id": "56beb7a5-7692-4b70-9db6-0af08153e7f9",
   "metadata": {},
   "source": [
    "* Replicar una lista."
   ]
  },
  {
   "cell_type": "code",
   "execution_count": null,
   "id": "59d953dc-3a58-4a0e-9da1-faae6fe78dc6",
   "metadata": {},
   "outputs": [],
   "source": [
    "lacteos = ['queso', 'leche']\n",
    "print(lacteos * 3)\n",
    "print(id(lacteos))\n",
    "\n",
    "a = 3 * lacteos\n",
    "print(a)\n",
    "print(id(a))"
   ]
  },
  {
   "cell_type": "markdown",
   "id": "3a7c0c48-a56e-494c-93a6-7bf93f7b2421",
   "metadata": {},
   "source": [
    "* Copiar una lista"
   ]
  },
  {
   "cell_type": "code",
   "execution_count": null,
   "id": "25b5ce92-517e-4e16-9e9a-df0167b0b376",
   "metadata": {},
   "outputs": [],
   "source": [
    "frutas2 = frutas.copy()\n",
    "# frutas2 = frutas[:]\n",
    "print(frutas2)\n",
    "print('id frutas = ' + str(id(frutas)))\n",
    "print('id frutas2 = ' + str(id(frutas2)))"
   ]
  },
  {
   "cell_type": "markdown",
   "id": "eb67defa-4dac-4e56-9cee-f3787aa99e84",
   "metadata": {},
   "source": [
    "* Ordenar una lista."
   ]
  },
  {
   "cell_type": "code",
   "execution_count": null,
   "id": "be4ad70c-8825-4f22-b4b3-8dd8dcee7aa4",
   "metadata": {},
   "outputs": [],
   "source": [
    "lista = [4,3,8,1]\n",
    "lista.sort()\n",
    "print(lista)\n",
    "\n",
    "lista.sort(reverse=True)\n",
    "print(lista)"
   ]
  },
  {
   "cell_type": "code",
   "execution_count": null,
   "id": "dd284d40-9ae1-4c5e-b982-297e19d43ae8",
   "metadata": {
    "tags": []
   },
   "outputs": [],
   "source": [
    "# Los elementos deben ser comparables para poderse ordenar\n",
    "lista = [1, 'a']\n",
    "lista.sort()"
   ]
  },
  {
   "cell_type": "code",
   "execution_count": null,
   "id": "dfff8b61-f1c7-4705-8dd6-b900d5f87a87",
   "metadata": {},
   "outputs": [],
   "source": [
    "compra = ['Huevos','Pan','Leche']\n",
    "print(sorted(compra))\n",
    "print(compra)"
   ]
  },
  {
   "cell_type": "markdown",
   "id": "7c0c74ea-898a-44df-8f91-903fda54c7d0",
   "metadata": {},
   "source": [
    "* Pertenencia."
   ]
  },
  {
   "cell_type": "code",
   "execution_count": null,
   "id": "228fab49-66d5-40e5-85be-37940af8267f",
   "metadata": {},
   "outputs": [],
   "source": [
    "lista = [1, 2, 3, 4]\n",
    "print(1 in lista)\n",
    "print(5 in lista)"
   ]
  },
  {
   "cell_type": "markdown",
   "id": "10d6fcc6-07b9-43ff-b378-383d97b4bee7",
   "metadata": {},
   "source": [
    "* Anidamiento."
   ]
  },
  {
   "cell_type": "code",
   "execution_count": null,
   "id": "eb8fc826-7f6b-44c4-a395-1b3ebac0443c",
   "metadata": {},
   "outputs": [],
   "source": [
    "letras = ['a', 'b', 'c', ['x', 'y', ['i', 'j', 'k']]]\n",
    "print(letras[0])\n",
    "print(letras[3][0])\n",
    "print(letras[3][2][0])"
   ]
  },
  {
   "cell_type": "code",
   "execution_count": null,
   "id": "cad762b9-5e91-48a1-ba66-ba8a2c81dc55",
   "metadata": {},
   "outputs": [],
   "source": [
    "print(letras[3])"
   ]
  },
  {
   "cell_type": "markdown",
   "id": "83e7ad15-209c-434a-8865-944eeed59d3d",
   "metadata": {},
   "source": [
    "<img src=\"img/data_types/nestedlist.png\" width=\"900\">"
   ]
  },
  {
   "cell_type": "code",
   "execution_count": null,
   "id": "ee11537d-2db2-4089-a0dd-e834ca37fbbe",
   "metadata": {},
   "outputs": [],
   "source": [
    "a =[1000,2,3]\n",
    "b = a[:] #a.copy() #[:]\n",
    "\n",
    "print(id(a))\n",
    "print(id(b))\n",
    "\n",
    "print(id(a[0]))\n",
    "print(id(b[0]))"
   ]
  },
  {
   "cell_type": "markdown",
   "id": "53366e51-3230-4232-ac3d-adb645aee6b6",
   "metadata": {},
   "source": [
    "#### Alias/Referencias en las listas\n",
    "- Son mutables y las asignaciones a un objeto alteran el primero\n",
    "- Pasar listas a funciones puede suponer un riesgo\n",
    "- Clonar o copiar listas\n"
   ]
  },
  {
   "cell_type": "code",
   "execution_count": null,
   "id": "f20a402b-e261-4fd1-b6cb-53317aaa8917",
   "metadata": {},
   "outputs": [],
   "source": [
    "lista = [2, 4, 16, 32]\n",
    "ref = lista\n",
    "\n",
    "print(id(lista))\n",
    "print(id(ref))\n",
    "\n",
    "ref[2] = 64\n",
    "\n",
    "print(ref)\n",
    "print(lista)"
   ]
  },
  {
   "cell_type": "code",
   "execution_count": null,
   "id": "a149c481-7212-4615-a9cc-36d638ba9829",
   "metadata": {},
   "outputs": [],
   "source": [
    "lista = [2000, 4, 16, 32]\n",
    "copia = lista[:]\n",
    "# copia = lista.copy()\n",
    "\n",
    "copia[2] = 64\n",
    "\n",
    "print(lista)\n",
    "print(copia)\n",
    "\n",
    "print(id(lista))\n",
    "print(id(copia))\n",
    "\n",
    "print(id(lista[2]))\n",
    "print(id(copia[2]))"
   ]
  },
  {
   "cell_type": "code",
   "execution_count": null,
   "id": "df43db03-908d-4d18-8b24-7a34cfdf5d46",
   "metadata": {},
   "outputs": [],
   "source": [
    "#listas anidadas se copian por referencia\n",
    "lista = [2, 4, 16, 32, [34, 10, [5,5]]]\n",
    "copia = lista.copy()\n",
    "\n",
    "copia[3] = 20\n",
    "copia[4][0] = 28\n",
    "\n",
    "print(copia)\n",
    "print(lista)"
   ]
  },
  {
   "cell_type": "code",
   "execution_count": null,
   "id": "05c78517-5064-4af1-8f8c-98adbb6c50ee",
   "metadata": {},
   "outputs": [],
   "source": [
    "lista = [0, 1, [10, 20]]\n",
    "print(id(lista))\n",
    "\n",
    "lista2 = [10, 20]\n",
    "lista = [0, 1, lista2]\n",
    "\n",
    "copia = lista[:] #.copy()\n",
    "print(copia)\n",
    "print(id(copia))\n",
    "\n",
    "print(id(lista[2]))\n",
    "print(id(copia[2]))\n",
    "\n",
    "copia[2][0] = 40\n",
    "print(copia)\n",
    "print(lista)"
   ]
  },
  {
   "cell_type": "code",
   "execution_count": null,
   "id": "0acc65c5-d33b-4906-ab39-8ae9a3da92b3",
   "metadata": {},
   "outputs": [],
   "source": [
    "# evitar que listas anidadas se copien por referencia\n",
    "import copy\n",
    "\n",
    "lista = [2, 4, 16, 32, [34, 10, [5,5]]]\n",
    "\n",
    "copia = copy.deepcopy(lista)\n",
    "copia[0] = 454\n",
    "copia[4][2][0] = 64\n",
    "print(lista)\n",
    "print(copia)\n",
    "\n",
    "print(f\"{id(lista)} - {id(copia)}\")\n",
    "print(f\"{id(lista[4])} - {id(copia[4])}\")"
   ]
  },
  {
   "cell_type": "markdown",
   "id": "79507626-79df-45d8-9209-a4860258f363",
   "metadata": {},
   "source": [
    "## Diccionarios\n",
    "\n",
    "* Colección de parejas clave-valor.\n",
    "* Son mutables.\n",
    "* Claves:\n",
    "   * Cualquier objeto inmutable.\n",
    "   * Sólo pueden aparecer una vez en el diccionario.\n",
    "* Valores:\n",
    "   * Sin restricciones. Cualquier objeto (enteros, strings, listas, etc.) puede hacer de valor.\n",
    "* Desde la versión 3.7 están ordenados.\n",
    "* Se pueden ver como listas indexadas por cualquier objeto inmutable, no necesariamente por números enteros.\n",
    "* A diferencia de las listas, no son *secuencias*. Son *mappings*."
   ]
  },
  {
   "cell_type": "markdown",
   "id": "ef831e61-1354-40b5-a463-4681eddd7e8a",
   "metadata": {},
   "source": [
    "#### Operaciones con diccionarios"
   ]
  },
  {
   "cell_type": "markdown",
   "id": "17d3b6fc-28b9-4e59-9442-35674206ed9b",
   "metadata": {},
   "source": [
    "* Creación de diccionarios."
   ]
  },
  {
   "cell_type": "code",
   "execution_count": null,
   "id": "15d91f54-20e8-42e3-9410-00e47f116624",
   "metadata": {},
   "outputs": [],
   "source": [
    "# Creación simple, usando una expresión literal.\n",
    "\n",
    "persona = {'DNI' : '11111111D', 'Nombre' : 'Carlos', 'Edad' : 34}\n",
    "print(persona)"
   ]
  },
  {
   "cell_type": "code",
   "execution_count": null,
   "id": "c6a0dc86-38de-4276-b9f7-bb41a972d99e",
   "metadata": {},
   "outputs": [],
   "source": [
    "# Creación uniendo dos colecciones.\n",
    "\n",
    "nombres = ['Pablo', 'Manolo', 'Pepe', 'Juan']\n",
    "edades = [52, 14, 65]\n",
    "\n",
    "datos = dict(zip(nombres,edades))\n",
    "print(datos)"
   ]
  },
  {
   "cell_type": "code",
   "execution_count": null,
   "id": "41216474-6d60-4a23-a294-88c4c6331221",
   "metadata": {
    "tags": []
   },
   "outputs": [],
   "source": [
    "# Creación pasando claves y valores a la función 'dict'\n",
    "persona2 = dict(nombre='Rosa', apellido='Garcia')\n",
    "print(persona2)"
   ]
  },
  {
   "cell_type": "code",
   "execution_count": null,
   "id": "a47dbc5f-ea49-4b87-8262-879d278a0836",
   "metadata": {},
   "outputs": [],
   "source": [
    "# Creación usando una lista de tuplas de dos elementos.\n",
    "\n",
    "persona2 = dict([('nombre', 'Rosa'), ('apellido','Garcia')])\n",
    "print(persona2)"
   ]
  },
  {
   "cell_type": "code",
   "execution_count": null,
   "id": "3270dc1e-2952-4209-8375-ecae533ae0c1",
   "metadata": {},
   "outputs": [],
   "source": [
    "# Creación incremental por medio de asignación (como las claves no existen, se crean nuevos items)\n",
    "\n",
    "persona = {}\n",
    "# print(persona['DNI'])\n",
    "persona['DNI'] = '11111111D'\n",
    "persona['Nombre'] = 'Carlos'\n",
    "persona['Edad'] = 34\n",
    "persona['DNI'] = '222222222'\n",
    "\n",
    "print(persona)"
   ]
  },
  {
   "cell_type": "markdown",
   "id": "b053379e-fd07-44cc-a0a5-28bf7b9fe012",
   "metadata": {},
   "source": [
    "* Acceso a un valor a través de la clave."
   ]
  },
  {
   "cell_type": "code",
   "execution_count": null,
   "id": "2e52a9f4-9e14-473f-ba63-654aa558da8c",
   "metadata": {},
   "outputs": [],
   "source": [
    "persona = {'DNI' : '11111111D', 'Nombre' : 'Carlos', 'Edad' : 34}\n",
    "print(persona['Nombre'])"
   ]
  },
  {
   "cell_type": "code",
   "execution_count": null,
   "id": "5118da5e-58e9-4e02-9f30-c0e05bfad06f",
   "metadata": {
    "tags": []
   },
   "outputs": [],
   "source": [
    "# Acceso a claves inexistentes o por índice produce error\n",
    "\n",
    "# persona[1]\n",
    "print(persona['Nombre'])\n",
    "\n",
    "if 'Trabajo' in persona:\n",
    "    print(persona['Trabajo'])\n",
    "else:\n",
    "    print(\"En el paro\")\n",
    "\n",
    "persona.get('Trabajo', \"En el paro\")"
   ]
  },
  {
   "cell_type": "markdown",
   "id": "11146de5-cb46-4075-af18-9232e2fa57ab",
   "metadata": {},
   "source": [
    "* Modificación de un valor a través de la clave."
   ]
  },
  {
   "cell_type": "code",
   "execution_count": null,
   "id": "155395b9-0a32-488c-b519-bbcd57b65d2a",
   "metadata": {},
   "outputs": [],
   "source": [
    "persona = {'DNI' : '11111111D', 'Nombre' : 'Carlos', 'Edad' : 34}\n",
    "\n",
    "persona['Nombre'] = 'Fernando'\n",
    "persona['Edad'] += 1\n",
    "\n",
    "print(persona)"
   ]
  },
  {
   "cell_type": "markdown",
   "id": "b064bc7a-4004-4401-b961-b0000e196e74",
   "metadata": {},
   "source": [
    "* Añadir un valor a través de la clave."
   ]
  },
  {
   "cell_type": "code",
   "execution_count": null,
   "id": "8d04ba06-40c2-4db1-bc51-a62f126c38ff",
   "metadata": {},
   "outputs": [],
   "source": [
    "persona = {'DNI' : '11111111D', 'Nombre' : 'Carlos', 'Edad' : 34}\n",
    "persona['Ciudad'] = 'Valencia'\n",
    "\n",
    "print(persona)"
   ]
  },
  {
   "cell_type": "markdown",
   "id": "2c5e7921-589c-4b71-86d4-2d4cb5e78785",
   "metadata": {},
   "source": [
    "* Eliminación de un valor a través de la clave."
   ]
  },
  {
   "cell_type": "code",
   "execution_count": null,
   "id": "e0f39b5a-18ac-4fff-bd37-1574c4195705",
   "metadata": {},
   "outputs": [],
   "source": [
    "del persona['Ciudad']\n",
    "value = persona.pop('Edad')\n",
    "\n",
    "print(persona)\n",
    "print(value)"
   ]
  },
  {
   "cell_type": "markdown",
   "id": "c2ea332e-813c-4490-a3ab-f55cf59e3f63",
   "metadata": {},
   "source": [
    "* Comprobación de existencia de clave."
   ]
  },
  {
   "cell_type": "code",
   "execution_count": null,
   "id": "54aa187f-cff3-487b-aa61-777a206b4e0a",
   "metadata": {},
   "outputs": [],
   "source": [
    "print('Nombre' in persona)\n",
    "print('Apellido' in persona)"
   ]
  },
  {
   "cell_type": "markdown",
   "id": "2e7e19de-8a35-4302-8e8b-cc5826acbd79",
   "metadata": {},
   "source": [
    "* Recuperación del valor de una clave, indicando valor por defecto en caso de ausencia."
   ]
  },
  {
   "cell_type": "code",
   "execution_count": null,
   "id": "72b935cf-962b-45c4-bfe3-f77012f098ad",
   "metadata": {},
   "outputs": [],
   "source": [
    "persona = {'Nombre' : 'Carlos'}\n",
    "\n",
    "value = persona.get('Nombre')\n",
    "print(value)\n",
    "\n",
    "# persona['Estatura']\n",
    "\n",
    "value = persona.get('Estatura', 180)\n",
    "print(value)"
   ]
  },
  {
   "cell_type": "markdown",
   "id": "e3d20afd-0492-4a5b-8e65-c6da16129978",
   "metadata": {},
   "source": [
    "* Anidamiento."
   ]
  },
  {
   "cell_type": "code",
   "execution_count": null,
   "id": "689fdd48-2559-4e8a-9fb5-4ab0fdff9686",
   "metadata": {},
   "outputs": [],
   "source": [
    "persona = {\n",
    "    'Trabajos' : ['desarrollador', 'gestor'],\n",
    "    'Direccion' : {'Calle' : 'Pintor Sorolla', 'Ciudad' : 'Valencia'}\n",
    "}\n",
    "\n",
    "print(persona['Direccion'])\n",
    "print(persona['Direccion']['Ciudad'])"
   ]
  },
  {
   "cell_type": "markdown",
   "id": "58084be1-3a9e-4ed8-a1df-1ab6098c084c",
   "metadata": {},
   "source": [
    "* Métodos *items*, *keys* y *values*."
   ]
  },
  {
   "cell_type": "code",
   "execution_count": null,
   "id": "15bca98e-7b7f-41a4-a3e5-6007aa1c40a8",
   "metadata": {},
   "outputs": [],
   "source": [
    "persona = {'DNI' : '11111111D', 'Nombre' : 'Carlos', 'Edad' : 34}\n",
    "\n",
    "print(list(persona.items()))\n",
    "print(list(persona.keys()))\n",
    "print(list(persona.values()))"
   ]
  },
  {
   "cell_type": "code",
   "execution_count": null,
   "id": "cbf01b96-4d1d-49c9-81ef-149d857835c0",
   "metadata": {
    "slideshow": {
     "slide_type": "fragment"
    }
   },
   "outputs": [],
   "source": [
    "dict_simple = {'ID' : 'XCSDe1194', 'Nombre' : 'Carlos', 'Edad' : 34}\n",
    "\n",
    "# iterar sobre las claves\n",
    "print('Claves\\n')\n",
    "for key in dict_simple.keys(): # o dict_simple\n",
    "    print(key)\n",
    "    \n",
    "print('\\nValores\\n')\n",
    "# iterar sobre los valores\n",
    "for value in dict_simple.values():\n",
    "    print(value)"
   ]
  },
  {
   "cell_type": "code",
   "execution_count": null,
   "id": "c12ef338-3133-413c-b126-a30781545824",
   "metadata": {
    "slideshow": {
     "slide_type": "fragment"
    }
   },
   "outputs": [],
   "source": [
    "dict_simple = {'ID' : 'XCSDe1194', 'Nombre' : 'Carlos', 'Edad' : 34}\n",
    "# iterar sobre ambos, directamente con items().\n",
    "for key, value in dict_simple.items():\n",
    "    print('Clave: ' + str(key) + ', valor: ' + str(value))\n",
    "    \n",
    "for item in dict_simple.items():  # devuelve tuplas\n",
    "    print('Item: ' + str(item))\n",
    "\n",
    "# # usar zip para iterar sobre Clave-Valor\n",
    "# for key, value in zip(dict_simple.keys(),dict_simple.values()):\n",
    "#     print('Clave: ' + str(key) + ', valor: ' + str(value))"
   ]
  },
  {
   "cell_type": "markdown",
   "id": "26aab94f-6dc3-43eb-9fe5-a086f67521da",
   "metadata": {},
   "source": [
    "## Sets (Conjuntos)\n",
    "\n",
    "Al igual que las listas:\n",
    "\n",
    "* Colección de elementos.\n",
    "* Tipos arbitrarios.\n",
    "* Mutables.\n",
    "* No tienen tamaño fijo. Pueden contener tantos elementos como quepan en memoria.\n",
    "\n",
    "A diferencia de las listas:\n",
    "\n",
    "* No puede tener duplicados.\n",
    "* Se definen por medio de llaves.\n",
    "* Los elementos no van ordenados por posición. No hay orden establecido.\n",
    "* Solo pueden contener objetos inmutables.\n",
    "* No soportan anidamiento."
   ]
  },
  {
   "cell_type": "markdown",
   "id": "a71f4b87-f568-4487-b2eb-af6ea9c03e1c",
   "metadata": {},
   "source": [
    "#### Operaciones con conjuntos"
   ]
  },
  {
   "cell_type": "markdown",
   "id": "3da6a069-e19b-4d54-9789-ae963a137ca9",
   "metadata": {},
   "source": [
    "* Creación de conjuntos."
   ]
  },
  {
   "cell_type": "code",
   "execution_count": null,
   "id": "f997c205-5d60-4af6-8bf5-ba6b8a08c353",
   "metadata": {},
   "outputs": [],
   "source": [
    "set1 = {0, 1, 1, 2, 3, 4, 4}\n",
    "print(set1)\n",
    "  \n",
    "set2 = {'user1', 12, 2}\n",
    "print(set2)\n",
    "\n",
    "set3 = set(range(7))\n",
    "print(set3)\n",
    "\n",
    "set4 = set([0, 1, 2, 3, 4, 0, 1])\n",
    "print(set4)"
   ]
  },
  {
   "cell_type": "code",
   "execution_count": null,
   "id": "e9b4e034-6a94-4daf-9896-15aede726125",
   "metadata": {},
   "outputs": [],
   "source": [
    "# Observa la diferencia entre listas y conjuntos\n",
    "s = 'aabbc'\n",
    "print(list(s))\n",
    "print(set(s))"
   ]
  },
  {
   "cell_type": "markdown",
   "id": "c3c32c31-4569-410b-b958-62a8208cb42a",
   "metadata": {},
   "source": [
    "* Acceso por índice genera error."
   ]
  },
  {
   "cell_type": "code",
   "execution_count": null,
   "id": "ea63b968-e24d-4368-93b6-0defbf3341ea",
   "metadata": {},
   "outputs": [],
   "source": [
    "set1 = {0, 1, 2}\n",
    "print(set1[0])"
   ]
  },
  {
   "cell_type": "markdown",
   "id": "ed7491c0-1cb3-4aa7-926c-e261e6719d6e",
   "metadata": {},
   "source": [
    "* Unión, intersección y diferencia."
   ]
  },
  {
   "cell_type": "code",
   "execution_count": null,
   "id": "49ce2fb8-ff1a-4911-aaf8-cdd2c8ffc7a8",
   "metadata": {},
   "outputs": [],
   "source": [
    "set1 = {0, 1, 1, 2, 3, 4, 5, 8, 13, 21}\n",
    "set2 = set([0, 1, 2, 3, 4, 42])\n",
    "\n",
    "# union\n",
    "print(set1 | set2)\n",
    "\n",
    "# intersección\n",
    "print(set1 & set2)\n",
    "\n",
    "# diferencia\n",
    "print(set1 - set2)\n",
    "print(set2 - set1)"
   ]
  },
  {
   "cell_type": "code",
   "execution_count": null,
   "id": "c565aac8-fab5-4272-bbe1-4f94ad5c8e0b",
   "metadata": {},
   "outputs": [],
   "source": [
    "a = [1,2]\n",
    "b = [2,3]\n",
    "print(set(a) & set(b))"
   ]
  },
  {
   "cell_type": "markdown",
   "id": "3d4160df-dfb1-4a92-b563-dd18519cf0c3",
   "metadata": {},
   "source": [
    "<img src=\"img/data_types/setops.png\" width=\"500\">"
   ]
  },
  {
   "cell_type": "code",
   "execution_count": null,
   "id": "d0718680-1928-458b-a1d9-d18ff0a51de4",
   "metadata": {},
   "outputs": [],
   "source": [
    "# Además de los operadores, que operan únicamente con Sets, también se pueden usar métodos que pueden operar sobre cualquier objeto iterable.\n",
    "conjunto = {0, 1, 2}\n",
    "lista = [1, 3, 3]\n",
    "\n",
    "print(conjunto.union(lista))\n",
    "print(conjunto.intersection(lista))\n",
    "print(conjunto.difference(lista))"
   ]
  },
  {
   "cell_type": "markdown",
   "id": "8e2e4fe9-11c9-4887-be01-27693e6d7171",
   "metadata": {},
   "source": [
    "* comparación de conjuntos."
   ]
  },
  {
   "cell_type": "code",
   "execution_count": null,
   "id": "75b21350-37b6-44d6-a25f-11fae316273b",
   "metadata": {},
   "outputs": [],
   "source": [
    "set1 = {0, 1, 1, 2, 3, 4, 5, 8, 13, 21}\n",
    "set2 = set([0, 1, 2, 3, 4])\n",
    "\n",
    "print(set2.issubset(set1))\n",
    "print(set1.issuperset(set2))\n",
    "print(set1.isdisjoint(set2))"
   ]
  },
  {
   "cell_type": "markdown",
   "id": "7af692d1-81da-495f-b9c4-b46c7ec144fd",
   "metadata": {},
   "source": [
    "* Pertenencia."
   ]
  },
  {
   "cell_type": "code",
   "execution_count": null,
   "id": "95593a9c-b4e2-451b-abd3-9ae058c653e2",
   "metadata": {},
   "outputs": [],
   "source": [
    "words = {'calm', 'balm'}\n",
    "print('calm' in words)"
   ]
  },
  {
   "cell_type": "markdown",
   "id": "28d52e6f-ec0b-4cd8-ba1a-8bd40d8663d7",
   "metadata": {},
   "source": [
    "* Anidamiento."
   ]
  },
  {
   "cell_type": "code",
   "execution_count": null,
   "id": "2d3d4916-3d5b-4825-b303-e53b1444dfbf",
   "metadata": {},
   "outputs": [],
   "source": [
    "# Los conjuntos no soportan anidamiento, pero como permite elementos inmutables, se pueden \"anidar\" tuplas.\n",
    "\n",
    "nested_set = {1, (1, 1, 1), 2, 3, (1,1,1)}\n",
    "print(nested_set)"
   ]
  },
  {
   "cell_type": "markdown",
   "id": "3b79cae0-7c32-46b5-8b70-536a02094a4e",
   "metadata": {},
   "source": [
    "* Modificación de conjuntos."
   ]
  },
  {
   "cell_type": "code",
   "execution_count": null,
   "id": "1e7204bb-a54e-4174-9642-6f7bd5304599",
   "metadata": {},
   "outputs": [],
   "source": [
    "# A través de operador de asignación\n",
    "\n",
    "set1 = {'a', 'b', 'c'}\n",
    "set2 = {'a', 'd'}\n",
    "\n",
    "# set1 |= set2 # set1 = set1 | set2\n",
    "# set1 &= set2\n",
    "set1 -= set2\n",
    "\n",
    "print(set1)"
   ]
  },
  {
   "cell_type": "code",
   "execution_count": null,
   "id": "f175e712-9cad-46ba-8efb-d1da7e25a18c",
   "metadata": {},
   "outputs": [],
   "source": [
    "# A través de método 'update'.\n",
    "\n",
    "set1 = {'a', 'b', 'c'}\n",
    "set2 = {'a', 'd'}\n",
    "\n",
    "# set1.update(set2)\n",
    "# set1.intersection_update(set2)\n",
    "set1.difference_update(set2)\n",
    "\n",
    "print(set1)"
   ]
  },
  {
   "cell_type": "code",
   "execution_count": null,
   "id": "3b7c4e3a-1606-4254-8b4b-e693d8d06759",
   "metadata": {},
   "outputs": [],
   "source": [
    "# A través de métodos 'add' y 'remove'.\n",
    "\n",
    "set1 = {'a', 'b', 'c'}\n",
    "\n",
    "set1.add('d')\n",
    "set1.remove('a')\n",
    "\n",
    "print(set1)"
   ]
  },
  {
   "cell_type": "markdown",
   "id": "36f268b5-c025-437a-bbe4-f94b5264b531",
   "metadata": {},
   "source": [
    "## Tuplas\n",
    "\n",
    "Al igual que las listas:\n",
    "\n",
    "* Colección de elementos.\n",
    "* Tipos arbitrarios.\n",
    "* Puede contener duplicados.\n",
    "* No tienen tamaño fijo. Pueden contener tantos elementos como quepan en memoria.\n",
    "* Los elementos van ordenados por posición.\n",
    "* Acceso a través de la sintaxis: __[index]__\n",
    "* Índices van de *0* a *n-1*, donde *n* es el número de elementos de la tupla.\n",
    "* Son *secuencias* donde el orden de los elementos importa.\n",
    "* Soportan anidamiento.\n",
    "\n",
    "A diferencia de las listas:\n",
    "\n",
    "* Se definen por medio de paréntesis.\n",
    "* Inmutables."
   ]
  },
  {
   "cell_type": "markdown",
   "id": "12ef1ab2-02f2-4bc7-959f-a3f06ee02cbb",
   "metadata": {},
   "source": [
    "#### ¿Por qué tuplas?\n",
    "\n",
    "* Representación de una colección fija de elementos (por ejemplo, una fecha).\n",
    "* Pueden usarse en contextos que requieren inmutabilidad (por ejemplo, como claves de un diccionario)."
   ]
  },
  {
   "cell_type": "markdown",
   "id": "18b8c5b6-8eb9-4aff-b904-49db5665818b",
   "metadata": {},
   "source": [
    "#### Operaciones con tuplas"
   ]
  },
  {
   "cell_type": "markdown",
   "id": "a3ef3b13-3414-4a14-a361-e0118d82814e",
   "metadata": {},
   "source": [
    "* Creación de tuplas."
   ]
  },
  {
   "cell_type": "code",
   "execution_count": null,
   "id": "150fc09b-e786-4163-86ab-a9e2519ee72c",
   "metadata": {},
   "outputs": [],
   "source": [
    "tuple1 = ('Foo', 34, 5.0, 34)\n",
    "print(tuple1)\n",
    "\n",
    "tuple2 = 1, 2, 3\n",
    "print(tuple2)\n",
    "\n",
    "tuple3 = tuple(range(10))\n",
    "print(tuple3)\n",
    "\n",
    "tuple4 = tuple([0, 1, 2, 3, 4])\n",
    "print(tuple4)"
   ]
  },
  {
   "cell_type": "code",
   "execution_count": null,
   "id": "60ffc8c5-4ebc-416d-bded-50db339a44a6",
   "metadata": {},
   "outputs": [],
   "source": [
    "# Ojo con las tuplas de un elemento. Los paréntesis se intepretan como indicadores de precedencia de operadores.\n",
    "singleton_number = (1)\n",
    "type(singleton_number)"
   ]
  },
  {
   "cell_type": "code",
   "execution_count": null,
   "id": "c9125be8-72ab-4023-9ecf-3e4c105050d9",
   "metadata": {},
   "outputs": [],
   "source": [
    "# Creación de tupla de un elemento.\n",
    "singleton_tuple = (1,)\n",
    "print(type(singleton_tuple))\n",
    "print(singleton_tuple)"
   ]
  },
  {
   "cell_type": "markdown",
   "id": "63189360-39fd-4c2c-93d7-64d54df43109",
   "metadata": {},
   "source": [
    "* Obtención del número de elementos."
   ]
  },
  {
   "cell_type": "code",
   "execution_count": null,
   "id": "0390a0d3-3825-44da-a8c1-55fffeebe81f",
   "metadata": {},
   "outputs": [],
   "source": [
    "print(len(tuple1))"
   ]
  },
  {
   "cell_type": "markdown",
   "id": "07b28f30-38ae-4d86-a322-11ce8db98ec1",
   "metadata": {},
   "source": [
    "* Acceso por índice."
   ]
  },
  {
   "cell_type": "code",
   "execution_count": null,
   "id": "75270b66-a02c-484f-9e6c-4d4d616c17c2",
   "metadata": {},
   "outputs": [],
   "source": [
    "tuple1 = ('Foo', 1, 2, 3)\n",
    "\n",
    "print(tuple1[0]) # Primer elemento\n",
    "print(tuple1[len(tuple1)-1]) # Último elemento\n",
    "\n",
    "print(tuple1[-1]) # Índices negativos comienzan desde el final\n",
    "print(tuple1[-len(tuple1)]) # primer elemento"
   ]
  },
  {
   "cell_type": "markdown",
   "id": "4965ed09-c370-478d-b502-d7b5e52bc904",
   "metadata": {},
   "source": [
    "* Asignación a tuplas falla. Son immutables."
   ]
  },
  {
   "cell_type": "code",
   "execution_count": null,
   "id": "f5d50aed-6513-4947-9903-69b9e7cf3ed3",
   "metadata": {},
   "outputs": [],
   "source": [
    "tuple1[0] = 'bar'"
   ]
  },
  {
   "cell_type": "code",
   "execution_count": null,
   "id": "6d66e7fc-586d-45a2-a845-59e5e9242393",
   "metadata": {},
   "outputs": [],
   "source": [
    "print(id(tuple1))\n",
    "lista = list(tuple1)\n",
    "lista[0] = 'bar'\n",
    "tuple1 = tuple(lista)\n",
    "print(id(tuple1))\n",
    "\n",
    "print(tuple1)"
   ]
  },
  {
   "cell_type": "markdown",
   "id": "deaf83d4-700d-47c3-847f-166b5db9e9da",
   "metadata": {},
   "source": [
    "* Contar número de ocurrencias de un elemento."
   ]
  },
  {
   "cell_type": "code",
   "execution_count": null,
   "id": "2b4e8add-6c34-46c8-a426-52ae994bf4b6",
   "metadata": {},
   "outputs": [],
   "source": [
    "tuple1 = ('Foo',34, 5.0, 34)\n",
    "print(tuple1.count(34))"
   ]
  },
  {
   "cell_type": "markdown",
   "id": "eb3bf371-f691-462d-b7f8-06a979d8405d",
   "metadata": {},
   "source": [
    "* Encontrar el índice de un elemento."
   ]
  },
  {
   "cell_type": "code",
   "execution_count": null,
   "id": "7a6e7e5a-6d05-4004-84eb-a06be7836a8b",
   "metadata": {},
   "outputs": [],
   "source": [
    "tuple1 = ('Foo', 34, 5.0, 34)\n",
    "indice = tuple1.index(34)\n",
    "\n",
    "print(indice)\n",
    "print(tuple1[indice])"
   ]
  },
  {
   "cell_type": "code",
   "execution_count": null,
   "id": "0a192352-07aa-4c9a-af05-233387f357a0",
   "metadata": {},
   "outputs": [],
   "source": [
    "# Si el elemento no existe, error\n",
    "\n",
    "tuple1 = ('Foo', 34, 5.0, 34)\n",
    "print(tuple1.index(1))"
   ]
  },
  {
   "cell_type": "code",
   "execution_count": null,
   "id": "7413c28f-257e-43a5-bb31-fdcb813c203c",
   "metadata": {},
   "outputs": [],
   "source": [
    "# comprobar si existe antes\n",
    "tuple1 = ('Foo',34, 5.0, 34)\n",
    "\n",
    "elemento = 35\n",
    "if elemento in tuple1:\n",
    "    print(tuple1.index(elemento))\n",
    "else:\n",
    "    print(str(elemento) + ' not found')"
   ]
  },
  {
   "cell_type": "markdown",
   "id": "27fd75a1-c4ab-4a7d-a819-c059ea6db38b",
   "metadata": {},
   "source": [
    "* Desempaquetar una tupla."
   ]
  },
  {
   "cell_type": "code",
   "execution_count": null,
   "id": "253b1f65-0048-4945-8632-4ecf62ce2340",
   "metadata": {},
   "outputs": [],
   "source": [
    "tuple1 = (1, 2, 3, 4)\n",
    "a, b, c, d = tuple1  # a,b,c - a,b,c,d - a,b,_,_ - a, *_ \n",
    "\n",
    "print(a)\n",
    "print(b)\n",
    "print(_)\n",
    "print(d)"
   ]
  },
  {
   "cell_type": "code",
   "execution_count": null,
   "id": "0ac911f2-9aa5-4894-8ef8-7c453b460289",
   "metadata": {},
   "outputs": [],
   "source": [
    "a, b, *resto = tuple1\n",
    "print(a)\n",
    "print(b)\n",
    "print(resto)"
   ]
  },
  {
   "cell_type": "markdown",
   "id": "2bb731d9-91b0-4e26-b0e7-1d077fa730f7",
   "metadata": {},
   "source": [
    "<img src=\"img/data_types/tuplepacking.png\" width=\"550\">"
   ]
  },
  {
   "cell_type": "markdown",
   "id": "f0ba6293-886a-46ae-a333-e854e5fb5304",
   "metadata": {},
   "source": [
    "<img src=\"img/data_types/tupleunpacking.png\" width=\"450\">"
   ]
  },
  {
   "cell_type": "markdown",
   "id": "71894835-652c-43df-9e59-ae45738b0cef",
   "metadata": {
    "slideshow": {
     "slide_type": "subslide"
    }
   },
   "source": [
    "## Secuencias\n",
    "- Formalmente, objetos iterables no materializados\n",
    "- No son listas. 'list()' para materializarla \n",
    "- 'range' o 'enumerate'"
   ]
  },
  {
   "cell_type": "code",
   "execution_count": null,
   "id": "ef17add9-1d7a-4b00-94f9-ed03a22375f0",
   "metadata": {},
   "outputs": [],
   "source": [
    "list(range(0,10,2))"
   ]
  },
  {
   "cell_type": "code",
   "execution_count": null,
   "id": "aaa6a8e7-d98b-4fc4-ae56-25ee0b42786f",
   "metadata": {
    "tags": []
   },
   "outputs": [],
   "source": [
    "lista = [10, 20, 30]\n",
    "print(list(enumerate(lista)))"
   ]
  },
  {
   "cell_type": "code",
   "execution_count": null,
   "id": "5bd9d21c-86cb-4245-8fc1-e455ec1fe07f",
   "metadata": {
    "slideshow": {
     "slide_type": "fragment"
    }
   },
   "outputs": [],
   "source": [
    "# enumerate para iterar una colección (índice y valor)\n",
    "lista = [10, 20, 30]\n",
    "for index, value in enumerate(lista):\n",
    "    print('Index = ' + str(index) + '. Value = ' + str(value))\n",
    "    \n",
    "for index, value in [(0,10), (1,20), (2,30)]:\n",
    "    print('Index = ' + str(index) + '. Value = ' + str(value))    "
   ]
  },
  {
   "cell_type": "code",
   "execution_count": null,
   "id": "d69ffdd1-cf0c-4553-9cf4-337929432baf",
   "metadata": {
    "slideshow": {
     "slide_type": "fragment"
    }
   },
   "outputs": [],
   "source": [
    "# enumerate para iterar una colección (índice y valor)\n",
    "for index, value in enumerate(range(0,10,2)):\n",
    "    print('Index = ' + str(index) + '. Value = ' + str(value))\n",
    "    \n",
    "for value in enumerate(range(0,10,2)):\n",
    "    print(value) "
   ]
  },
  {
   "cell_type": "code",
   "execution_count": null,
   "id": "51c93d43-6334-45f6-afbd-a1e407e8f9b3",
   "metadata": {
    "slideshow": {
     "slide_type": "fragment"
    }
   },
   "outputs": [],
   "source": [
    "# zip para unir, elemento a elemento, dos colecciones, retornando lista de tuplas\n",
    "# útil para iterar dos listas al mismo tiempo\n",
    "nombres = ['Manolo','Pepe','Luis']\n",
    "edades = [31,34,34,45]\n",
    "\n",
    "for nombre,edad in zip(nombres,edades):\n",
    "    print('Nombre: ' + nombre + ', edad: ' + str(edad))"
   ]
  },
  {
   "cell_type": "code",
   "execution_count": null,
   "id": "5724ead0-7a88-43ee-8329-788f67246b92",
   "metadata": {},
   "outputs": [],
   "source": [
    "nombres = ['Manolo','Pepe','Luis']\n",
    "edades = [31,34,34]\n",
    "\n",
    "for i in range(0,len(nombres)):\n",
    "    print(f\"Nombre es {nombres[i]} y edad es {edades[i]}\")"
   ]
  },
  {
   "cell_type": "code",
   "execution_count": null,
   "id": "73b4e9fa-af4c-4ec1-a245-45f0ec3d42c2",
   "metadata": {
    "scrolled": true,
    "slideshow": {
     "slide_type": "fragment"
    }
   },
   "outputs": [],
   "source": [
    "nombres = ['Manolo','Pepe','Luis']\n",
    "edades = [31,34,34]\n",
    "jugadores = zip(nombres,edades)   # genera secuencia\n",
    "print(list(jugadores))\n",
    "print(type(jugadores))"
   ]
  },
  {
   "cell_type": "code",
   "execution_count": null,
   "id": "bce4fc0f-b458-4476-bc0f-19cbcca30f8c",
   "metadata": {
    "slideshow": {
     "slide_type": "fragment"
    }
   },
   "outputs": [],
   "source": [
    "# listas de diferentes longitudes\n",
    "nombres = ['Manolo','Pepe','Luis']\n",
    "edades = [31,34,34,44,33]\n",
    "jugadores = zip(nombres,edades)\n",
    "print(list(jugadores))"
   ]
  },
  {
   "cell_type": "code",
   "execution_count": null,
   "id": "adf67288-14ea-40da-8c3b-dee3ce845f7c",
   "metadata": {
    "scrolled": true,
    "slideshow": {
     "slide_type": "fragment"
    }
   },
   "outputs": [],
   "source": [
    "# unzip \n",
    "nombres = ['Manolo','Pepe','Luis']\n",
    "edades = [31,34,34]\n",
    "alturas = [120, 130, 140]\n",
    "jugadores = zip(nombres,edades, alturas)\n",
    "# print(list(jugadores))\n",
    "\n",
    "ns, es, al = zip(*jugadores)\n",
    "print(list(ns))\n",
    "print(es)\n",
    "print(al)"
   ]
  },
  {
   "cell_type": "code",
   "execution_count": null,
   "id": "4eb07c11-cbe5-48dd-bd36-2f273e5f9d88",
   "metadata": {
    "slideshow": {
     "slide_type": "fragment"
    }
   },
   "outputs": [],
   "source": [
    "nombres = ['Manolo','Pepe','Luis']\n",
    "edades = [31,34,34]\n",
    "dd = [23,34,45]\n",
    "jugadores_z = zip(nombres,edades, dd)\n",
    "# print(list(jugadores_z))\n",
    "\n",
    "jugadores_uz = zip(*jugadores_z)\n",
    "print(list(jugadores_uz))"
   ]
  },
  {
   "cell_type": "markdown",
   "id": "da329a00-a02a-4932-857c-052d4b46d869",
   "metadata": {},
   "source": [
    "## Para terminar, volvemos a enfatizar un matiz importante ...\n",
    "\n",
    "> **En Python todo son objetos**\n",
    "\n",
    "Cada objeto tiene:\n",
    "\n",
    "* **Identidad**: Nunca cambia una vez creado. Es como la dirección de memoria. Operador **is** compara identidad. Función **id()** devuelve identidad.\n",
    "* **Tipo**: determina posibles valores y operaciones. Función **type()** devuelve el tipo. No cambia.\n",
    "* **Valor**: que pueden ser *mutables* e *inmutables*.\n",
    "\n",
    "   * Tipos mutables: list, dictionary, set y tipos definidos por el usuario.\n",
    "   * Tipos inmutables: int, float, bool, string y tuple."
   ]
  },
  {
   "cell_type": "code",
   "execution_count": null,
   "id": "aa46863f-bb96-42f1-94de-4b3dbe9c4619",
   "metadata": {
    "tags": []
   },
   "outputs": [],
   "source": [
    "# Asignación\n",
    "\n",
    "list_numbers = [1, 2, 3]  # Lista (mutable)\n",
    "tuple_numbers = (1, 2, 3) # Tupla (inmutable)\n",
    "\n",
    "print(list_numbers[0])\n",
    "print(tuple_numbers[0])\n",
    "\n",
    "list_numbers[0] = 100\n",
    "# tuple_numbers[0] = 100 \n",
    "\n",
    "print(list_numbers)\n",
    "print(tuple_numbers)\n",
    "\n",
    "tuple_l_numbers = list(tuple_numbers)\n",
    "tuple_l_numbers[0] = 100\n",
    "tuple_numbers = tuple(tuple_l_numbers)\n",
    "print(tuple_numbers)\n"
   ]
  },
  {
   "cell_type": "code",
   "execution_count": null,
   "id": "f012a644-9ebd-432c-b6c4-07532883c804",
   "metadata": {},
   "outputs": [],
   "source": [
    "# Identidad\n",
    "\n",
    "list_numbers = [1, 2, 3] \n",
    "tuple_numbers = (1, 2, 3)\n",
    "\n",
    "print('Id list_numbers:  ' + str(id(list_numbers)))\n",
    "print('Id tuple_numbers: ' + str(id(tuple_numbers)))\n",
    "\n",
    "list_numbers += [4, 5, 6]  # La lista original se extiende\n",
    "tuple_numbers += (4, 5, 6) # Se crea un nuevo objeto\n",
    "\n",
    "print(list_numbers)\n",
    "print(tuple_numbers)\n",
    "\n",
    "print('Id list_numbers:  ' + str(id(list_numbers)))\n",
    "print('Id tuple_numbers: ' + str(id(tuple_numbers)))"
   ]
  },
  {
   "cell_type": "code",
   "execution_count": null,
   "id": "f0c7b0ff-0ecb-4828-b906-387ba40918e6",
   "metadata": {},
   "outputs": [],
   "source": [
    "# Referencias\n",
    "\n",
    "list_numbers = [1, 2, 3]\n",
    "list_numbers_2 = list_numbers  # list_numbers_2 referencia a list_numbers\n",
    "\n",
    "print('Id list_numbers:  ' + str(id(list_numbers)))\n",
    "print('Id list_numbers_2:  ' + str(id(list_numbers_2)))\n",
    "\n",
    "list_numbers.append(4) # Se actualiza list_numbers2 también\n",
    "\n",
    "print(list_numbers)\n",
    "print(list_numbers_2)\n",
    "\n",
    "print('Id list_numbers:  ' + str(id(list_numbers)))\n",
    "print('Id list_numbers_2:  ' + str(id(list_numbers_2)))"
   ]
  },
  {
   "cell_type": "code",
   "execution_count": null,
   "id": "093e9d6b-54b4-43c4-b23d-2c5353b14452",
   "metadata": {},
   "outputs": [],
   "source": [
    "text = \"Hola\" # Inmutable\n",
    "text_2 = text  # Referencia\n",
    "\n",
    "print('Id text:  ' + str(id(text)))\n",
    "print('Id text_2:  ' + str(id(text_2)))\n",
    "\n",
    "text += \" Mundo\"\n",
    "\n",
    "print(text)\n",
    "print(text_2)\n",
    "\n",
    "print('Id text:  ' + str(id(text)))\n",
    "print('Id text_2:  ' + str(id(text_2)))"
   ]
  },
  {
   "cell_type": "code",
   "execution_count": null,
   "id": "e3973668-058c-4a8d-b15f-31fb79a631b5",
   "metadata": {
    "tags": []
   },
   "outputs": [],
   "source": [
    "teams = [\"Team A\", \"Team B\", \"Team C\"] # Mutable\n",
    "player = (23, teams) # Inmutable\n",
    "\n",
    "print(type(player))\n",
    "print(player)\n",
    "print(id(player))\n",
    "\n",
    "teams[2] = \"Team J\"\n",
    "\n",
    "print(player)\n",
    "print(id(player))\n",
    "\n",
    "player[1][0] = 'Team XX'\n",
    "print(teams)"
   ]
  },
  {
   "cell_type": "markdown",
   "id": "79f3899e-2084-41e3-b007-232cd9e299a1",
   "metadata": {},
   "source": [
    "## Ejercicios"
   ]
  },
  {
   "cell_type": "markdown",
   "id": "3a5e500a-84d5-425d-af25-b35d9af05567",
   "metadata": {},
   "source": [
    "1. Escribe un programa que muestre por pantalla la concatenación de un número y una cadena de caracteres. Para obtener esta concatenación puedes usar uno de los operadores explicados en este tema. Ejemplo: dado el número 3 y la cadena 'abc', el programa mostrará la cadena '3abc'.\n",
    "\n",
    "2. Escribe un programa que muestre por pantalla un valor booleano que indique si un número entero *N* está contenido en un intervalo semiabierto *[a,b)*, el cual establece una cota inferior *a* (inclusive) y una cota superior *b* (exclusive) para *N*.\n",
    "\n",
    "3. Escribe un programa que, dado dos strings *S1* y *S2* y dos números enteros *N1* y *N2*, determine si el substring que en *S1* se extiende desde la posición *N1* a la *N2* (ambos inclusive) está contenido en *S2*.\n",
    "\n",
    "4. Dada una *lista* con elementos duplicados, escribir un programa que muestre una nueva *lista* con el mismo contenido que la primera pero sin elementos duplicados.\n",
    "\n",
    "5. Escribe un programa que, dada una *lista* de strings *L*, un string *s* perteneciente a *L* y un string *t*, reemplace *s* por *t* en *L*. El programa debe mostrar la lista resultante por pantalla.\n",
    "\n",
    "6. Escribe un programa que defina una *tupla* con elementos numéricos, reemplace el valor del último por un valor diferente y muestre la *tupla* por pantalla. Recuerda que las *tuplas* son inmutables. Tendrás que usar objetos intermedios.\n",
    "\n",
    "7. Dada la lista [1,2,3,4,5,6,7,8] escribe un programa que, a partir de esta lista, obtenga la lista [8,6,4,2] y la muestre por pantalla.\n",
    "\n",
    "8. Escribe un programa que, dada una tupla y un índice válido *i*, elimine el elemento de la tupla que se encuentra en la posición *i*. Para este ejercicio sólo puedes usar objetos de tipo tupla. No puedes convetir la *tupla* a una *lista*, por ejemplo.\n",
    "\n",
    "9. Escribe un programa que obtenga la mediana de una *lista* de números. Recuerda que la mediana *M* de una lista de números *L* es el número que cumple la siguiente propiedad: la mitad de los números de *L* son superiores a *M* y la otra mitad son inferiores. Cuando el número de elementos de *L* es par, se puede considerar que hay dos medianas. No obstante, en este ejercicio consideraremos que únicamente existe una mediana."
   ]
  },
  {
   "cell_type": "markdown",
   "id": "1315b158-c243-4b22-b32f-9ea09b050b65",
   "metadata": {},
   "source": [
    "## Soluciones"
   ]
  },
  {
   "cell_type": "code",
   "execution_count": null,
   "id": "8d5117e6-25ee-46b1-8c9d-6300700e09a0",
   "metadata": {},
   "outputs": [],
   "source": [
    "# Ejercicio 1\n",
    "\n",
    "x = 3\n",
    "y = 'abc'\n",
    "\n",
    "print(str(x) + y)"
   ]
  },
  {
   "cell_type": "code",
   "execution_count": null,
   "id": "9f1ac037-8d58-4680-a2f3-b447005b3013",
   "metadata": {},
   "outputs": [],
   "source": [
    "# Ejercicio 2\n",
    "\n",
    "N = 5\n",
    "a = 0\n",
    "b = 6\n",
    "\n",
    "print(a <= N and N < b)"
   ]
  },
  {
   "cell_type": "code",
   "execution_count": null,
   "id": "02585deb-1b5b-4baa-81b7-7209bbc80f08",
   "metadata": {},
   "outputs": [],
   "source": [
    "# Ejercicio 3\n",
    "\n",
    "S1 = 'Java'\n",
    "S2 = 'JavaScript'\n",
    "N1 = 0\n",
    "N2 = 3\n",
    "\n",
    "print(S1[N1:N2+1] in S2)"
   ]
  },
  {
   "cell_type": "code",
   "execution_count": null,
   "id": "4b72a690-121f-40a4-a410-924779905a85",
   "metadata": {},
   "outputs": [],
   "source": [
    "# Ejercicio 4\n",
    "\n",
    "L = [1,2,2,3,3,2,3,1,4,5,4,5,5]\n",
    "\n",
    "print(list(set(a)))"
   ]
  },
  {
   "cell_type": "code",
   "execution_count": null,
   "id": "1ce25faa-418e-483d-875c-fdf435106402",
   "metadata": {},
   "outputs": [],
   "source": [
    "# Ejercicio 5\n",
    "\n",
    "L = [\"Python\", \"Java\", \"C++\", \"Kotlin\"]\n",
    "s = \"Java\"\n",
    "t = \"JavaScript\"\n",
    "\n",
    "indice = L.index(s)\n",
    "L[indice] = t\n",
    "\n",
    "print(L)"
   ]
  },
  {
   "cell_type": "code",
   "execution_count": null,
   "id": "6423e04f-75df-4ca5-89bf-60b51835ef4c",
   "metadata": {},
   "outputs": [],
   "source": [
    "# Ejercicio 6\n",
    "\n",
    "tupla = (1,2,3,4)\n",
    "\n",
    "lista = list(tupla)\n",
    "lista[-1] = 5\n",
    "\n",
    "print(tuple(lista))"
   ]
  },
  {
   "cell_type": "code",
   "execution_count": null,
   "id": "c944b10d-91d5-4e24-8685-61cdc3f45942",
   "metadata": {},
   "outputs": [],
   "source": [
    "# Ejercicio 7\n",
    "\n",
    "lista = [1,2,3,4,5,6,7,8]\n",
    "\n",
    "print(lista[-1::-2])"
   ]
  },
  {
   "cell_type": "code",
   "execution_count": null,
   "id": "714b38eb-4087-4dfe-b761-e23d23af5066",
   "metadata": {},
   "outputs": [],
   "source": [
    "# Ejercicio 8\n",
    "\n",
    "tupla = ('a', 'b', 'c', 'd', 'e', 'f')\n",
    "i = 2\n",
    "\n",
    "print(tupla[:i] + tupla[i+1:])"
   ]
  },
  {
   "cell_type": "code",
   "execution_count": null,
   "id": "c85ac90b-50c9-411c-b4f2-24747c5ac5a6",
   "metadata": {},
   "outputs": [],
   "source": [
    "# Ejercicio 9\n",
    "\n",
    "L = [21, 9, 1, 5.5, 19, 3, 15]\n",
    "\n",
    "L.sort()\n",
    "mediana = L[len(L)//2]\n",
    "\n",
    "print(mediana)"
   ]
  }
 ],
 "metadata": {
  "kernelspec": {
   "display_name": "Python 3 (ipykernel)",
   "language": "python",
   "name": "python3"
  },
  "language_info": {
   "codemirror_mode": {
    "name": "ipython",
    "version": 3
   },
   "file_extension": ".py",
   "mimetype": "text/x-python",
   "name": "python",
   "nbconvert_exporter": "python",
   "pygments_lexer": "ipython3",
   "version": "3.11.4"
  }
 },
 "nbformat": 4,
 "nbformat_minor": 5
}
