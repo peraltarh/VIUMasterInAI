{
 "cells": [
  {
   "cell_type": "markdown",
   "id": "1be02f32-cc4c-4836-b09a-79906f81b78d",
   "metadata": {},
   "source": [
    "<img src=\"img/viu_logo.png\" width=\"200\">\n",
    "\n",
    "## 01MIAR - OOP\n",
    "\n",
    "![logo](img/python_logo.png)\n",
    "\n",
    "*Ivan Fuertes / Franklin Alvarez*"
   ]
  },
  {
   "cell_type": "markdown",
   "id": "9a6a650f-5cae-4728-822c-744870c63d41",
   "metadata": {},
   "source": [
    "# Programación Orientada a Objetos (OOP)"
   ]
  },
  {
   "cell_type": "markdown",
   "id": "7bc910e4-3e0e-4739-9f64-079196c632e3",
   "metadata": {},
   "source": [
    "* En Python, todo son *objetos*.\n",
    "\n",
    "* Vamos a formalizar está noción, detallando como Python da soporte al paradigma de *Programación Orientada a Objetos*.\n",
    "\n",
    "* **Importante**: uso de la sentencia *class* para definir nuestros propios *tipos* de objetos."
   ]
  },
  {
   "cell_type": "markdown",
   "id": "3528dbe5-005e-4f55-8d07-baf4db673dc5",
   "metadata": {},
   "source": [
    "## ¿Qué son las clases?"
   ]
  },
  {
   "cell_type": "markdown",
   "id": "ae9373b8-624f-478a-b81d-caf0960885b6",
   "metadata": {},
   "source": [
    "Imagina que en Python escribes la siguiente expresión:\n",
    "    \n",
    "```\n",
    "3 + 4 \n",
    "```\n",
    "\n",
    "* '3' y '4' son objetos de tipo *int*.\n",
    "\n",
    "* '+' representa una operación (suma) que se puede realizar sobre ellos.\n",
    "\n",
    "El hecho de que estos objetos sean de tipo *int* establece:\n",
    "\n",
    "* **Datos**: los objetos son bits almacenados en memoria. Los bits que se almacenan en memoria, y como éstos son interpretados, viene determinado por el tipo. No es lo mismo un objeto de tipo *bool* que un objeto de tipo *int*.\n",
    "* **Comportamiento**: las operaciones soportadas por los objetos. No se pueden realizar las mismas operaciones sobre un objeto de tipo *str* que sobre uno de tipo *int*.\n",
    "\n",
    "Las clases permiten definir nuevos tipos de objetos, especificando:\n",
    "\n",
    "* Qué *datos* encapsulan los objetos.\n",
    "* El *comportamiento* (operaciones) que estos objetos soportan.\n",
    "\n",
    "Ejemplo:\n",
    "\n",
    "   * *Empleado* puede ser un tipo de objeto que contenga *nombre* y *edad* como datos, y cuyas operaciones soportadas sean *pagar* y *despedir*."
   ]
  },
  {
   "cell_type": "markdown",
   "id": "d559c1fd-063a-4b01-abe7-6196cf1243b7",
   "metadata": {},
   "source": [
    "<img src=\"img/oop/class_employee.png\" width=\"600\">"
   ]
  },
  {
   "cell_type": "markdown",
   "id": "dda92b55-6128-4f73-b885-5bd0fbf011b2",
   "metadata": {},
   "source": [
    "## Lenguajes estáticos vs lenguages dinámicos"
   ]
  },
  {
   "cell_type": "markdown",
   "id": "da6a20f7-1aa4-4e55-ab7d-b255d063c300",
   "metadata": {},
   "source": [
    "Diferencia importante:\n",
    "\n",
    "* Lenguajes de tipado estático (Java, C++, ...):\n",
    "\n",
    "   * Los datos y las operaciones de los objetos vienen determinados en tiempo de compilación.\n",
    "\n",
    "\n",
    "* Lenguajes de tipado dinámico (Python, JavaScript, ...):\n",
    "\n",
    "   * Las clases definen datos y operaciones, pero éstos pueden modificarse dinámicamente en ejecución."
   ]
  },
  {
   "cell_type": "code",
   "execution_count": null,
   "id": "3bd7f352-859e-480b-b80a-88ade2289266",
   "metadata": {},
   "outputs": [],
   "source": [
    "# Definición de la clase.\n",
    "\n",
    "class Empleado:\n",
    "    pass\n",
    "\n",
    "# Instanciación de la clase: creación de un objeto.\n",
    "\n",
    "empleado = Empleado()\n",
    "empleado.nombre = 'Pablo García'  # La clase no define nada, pero puedo añadir el dato 'nombre' al empleado.\n",
    "print(empleado.nombre)"
   ]
  },
  {
   "cell_type": "code",
   "execution_count": null,
   "id": "bb9c69b2-582f-4074-937e-0a6a0f200f12",
   "metadata": {},
   "outputs": [],
   "source": [
    "# Definición de la clase.\n",
    "\n",
    "class Empleado:\n",
    "    def __init__(self, nombre_empleado):\n",
    "        self.nombre = nombre_empleado  # El dato 'nombre' también puede ser definido en la clase.\n",
    "\n",
    "# Instanciación de la clase: creación de un objeto.\n",
    "\n",
    "empleado = Empleado('Carlos López')\n",
    "print(empleado.nombre)"
   ]
  },
  {
   "cell_type": "markdown",
   "id": "5850a82b-1c88-4b89-8f0c-d06faf0ac777",
   "metadata": {},
   "source": [
    "### ¿Y cómo puedo definir comportamiento?"
   ]
  },
  {
   "cell_type": "markdown",
   "id": "f3a67c10-ccd0-4dd0-9454-7d0cb60b36ae",
   "metadata": {},
   "source": [
    "* Definiendo funciones *dentro* de la clase.\n",
    "\n",
    "* Cada una de estas funciones establece una operación que se puede ejecutar sobre objetos del tipo definido por la clase.\n",
    "\n",
    "* Cuando una función pertenece a una clase, a la función se le llama **método**."
   ]
  },
  {
   "cell_type": "code",
   "execution_count": null,
   "id": "688c1f06-b9f9-4294-9617-4abe093af8c3",
   "metadata": {},
   "outputs": [],
   "source": [
    "class Empleado:\n",
    "    def __init__(self, nombre_empleado):\n",
    "        self.nombre = nombre_empleado\n",
    "        \n",
    "    def presentar(self):\n",
    "        print(f'Hola, me llamo {self.nombre}.')\n",
    "\n",
    "empleado = Empleado('Carlos López')\n",
    "empleado.presentar()\n",
    "\n",
    "empleado_2 = Empleado('Manolo Garcia')\n",
    "empleado_2.presentar()"
   ]
  },
  {
   "attachments": {},
   "cell_type": "markdown",
   "id": "c92f5ce4-a3f6-4b5c-a6da-cb58da3c628a",
   "metadata": {},
   "source": [
    "### Self\n",
    "\n",
    "Cuando un método es invocado sobre un objeto, implícitamente recibe *self* como primer argumento.\n",
    "\n",
    "*self* siempre hace referencia al 'objeto actual'. En este caso, el objeto (instancia de la clase) sobre el que se invoca el método: el sujeto de la llamada.\n",
    "\n",
    "```\n",
    "instance.method(args)\n",
    "```\n",
    "\n",
    "Se podría ver como una llamada de esta forma:\n",
    "\n",
    "```\n",
    "method(instance, args)\n",
    "```"
   ]
  },
  {
   "cell_type": "markdown",
   "id": "ca8f6e72-6c63-4050-8e52-0d6d9ccd1493",
   "metadata": {},
   "source": [
    "### Constructor"
   ]
  },
  {
   "cell_type": "markdown",
   "id": "07f02689-c32d-4333-a491-d7601a9d903d",
   "metadata": {},
   "source": [
    "* El método *\\_\\_init\\_\\_* se invoca al crear instancias de la clase.\n",
    "\n",
    "* Se suele usar para inicializar los datos de los objetos."
   ]
  },
  {
   "cell_type": "code",
   "execution_count": null,
   "id": "537dda92-209b-476b-882b-d6307a626175",
   "metadata": {},
   "outputs": [],
   "source": [
    "class Persona():\n",
    "    def __init__(self, dni, nombre, apellido, altura):\n",
    "        self.dni = dni\n",
    "        self.nombre = nombre\n",
    "        self.apellido = apellido\n",
    "        self.edad = 0\n",
    "        self.altura = altura\n",
    "\n",
    "persona = Persona(\"11111111A\", \"Ana\", \"López\", 175)\n",
    "\n",
    "print(persona.dni)\n",
    "print(persona.nombre)\n",
    "print(persona.apellido)\n",
    "print(persona.edad)"
   ]
  },
  {
   "cell_type": "markdown",
   "id": "890f5011-89d0-4adc-a583-4c2112f3307e",
   "metadata": {},
   "source": [
    "## Atributos: la notación '.'"
   ]
  },
  {
   "cell_type": "markdown",
   "id": "a7312d83-fbd0-4be2-bf5c-078e52e899e2",
   "metadata": {},
   "source": [
    "La notación ...\n",
    "\n",
    "```\n",
    "objeto.atributo\n",
    "```\n",
    "\n",
    "... es muy importante, ya que nos permite acceder a los datos y métodos de la clase, y también nos permite añadir datos y métodos dinámicamente.\n",
    "\n",
    "*Atributo* es un nombre genérico que se le puede dar a los datos y métodos de las clases."
   ]
  },
  {
   "cell_type": "markdown",
   "id": "f70987aa-e5b9-43b2-95df-d6ff6812e990",
   "metadata": {},
   "source": [
    "## Datos y comportamiento de instancia y de clase"
   ]
  },
  {
   "cell_type": "markdown",
   "id": "0c36dcc1-52f3-4fb6-b12d-29dfe9aeb171",
   "metadata": {},
   "source": [
    "\n",
    "**Datos**\n",
    "\n",
    "* La asignación de un objeto (dato) dentro de una sentencia *class* se convierte en un **dato de clase** si no es asociado a *self*.\n",
    "\n",
    "* Estos objetos establecerán **datos compartidos** por todas las instancias.\n",
    "\n",
    "* Si un objeto es asociado a self, representará **datos de instancia**.\n",
    "\n",
    "**Comportamiento**\n",
    "\n",
    "* Una función definida dentro de una sentencia *class* establece **comportamiento compartido** por todas las instancias.\n",
    "\n",
    "    * Esto son los *métodos* de la clase.\n",
    "\n",
    "\n",
    "* Cuando una función definida dentro de una clase no tiene acceso a *self*, se dice que es una **función de clase**."
   ]
  },
  {
   "cell_type": "code",
   "execution_count": null,
   "id": "b6911340-ec49-4e1c-9580-c25262667d11",
   "metadata": {},
   "outputs": [],
   "source": [
    "class Empleado:\n",
    "    empresa = \"Google\"  # dato compartido por todas las instancias\n",
    "    \n",
    "    def mostrar_empresa():    # Función de clase\n",
    "        print(f\"Todos los empleados trabajan en {Empleado.empresa}\")\n",
    "    \n",
    "    def __init__(self):\n",
    "        self.salario = 1000  # dato de instancia\n",
    "    \n",
    "    def incrementar_salario(self, incremento):  # comportamiento compartido por todas las instancias\n",
    "        self.salario += incremento\n",
    "\n",
    "        \n",
    "empleado_1 = Empleado()\n",
    "empleado_2 = Empleado()\n",
    "\n",
    "# print(empleado_1.empresa)\n",
    "# print(empleado_2.empresa)\n",
    "print(Empleado.empresa)\n",
    "\n",
    "# empleado_1.mostrar_empresa()\n",
    "# empleado_2.mostrar_empresa()\n",
    "Empleado.mostrar_empresa()\n",
    "\n",
    "empleado_1.incrementar_salario(200)\n",
    "empleado_2.incrementar_salario(500)\n",
    "\n",
    "print(empleado_1.salario)\n",
    "print(empleado_2.salario)"
   ]
  },
  {
   "cell_type": "markdown",
   "id": "7588bd6f-fca8-4ca1-ab75-c551e98506b5",
   "metadata": {},
   "source": [
    "## Herencia"
   ]
  },
  {
   "cell_type": "markdown",
   "id": "5c1f8727-561f-4dda-852d-1aca617c7772",
   "metadata": {},
   "source": [
    "* Una clase puede *heredar* de otra clase.\n",
    "\n",
    "    * Una relación de herencia es una relación *es-un*. Por ejemplo: un Estudiante *es una* Persona.\n",
    "\n",
    "\n",
    "* La **subclase** (o clase hija)  obtiene todos los datos y comportamientos de la **superclase** (clase padre).\n",
    "\n",
    "* Una subclase puede añadir datos y comportamientos nuevos, más específicos.\n",
    "\n",
    "* Una subclase puede reemplazar o extender comportamientos heredados de la superclase."
   ]
  },
  {
   "cell_type": "markdown",
   "id": "3f8c6e2a-8cf9-462f-8ddd-7a4fdf55d1b1",
   "metadata": {},
   "source": [
    "<img src=\"img/oop/inheritance.png\" width=\"700\">"
   ]
  },
  {
   "cell_type": "code",
   "execution_count": null,
   "id": "3ccf45b0-579f-4b69-956b-4989e75346eb",
   "metadata": {},
   "outputs": [],
   "source": [
    "class Persona:\n",
    "    def __init__(self, nombre):\n",
    "        self.nombre = nombre\n",
    "        \n",
    "    def presentar(self):\n",
    "        print(f'Hola, me llamo {self.nombre}.')\n",
    "        \n",
    "class Estudiante(Persona):\n",
    "    def __init__(self, nombre):\n",
    "        super().__init__(nombre)\n",
    "        self.asignaturas = []\n",
    "        \n",
    "    def matricular(self, asignatura):\n",
    "        self.asignaturas.append(asignatura)\n",
    "        \n",
    "class Profesor(Persona):\n",
    "    def __init__(self, nombre, salario):\n",
    "        super().__init__(nombre)\n",
    "        self.salario = salario\n",
    "        \n",
    "    def presentar(self):\n",
    "        print(f'Hola, soy la profesora {self.nombre}.')\n",
    "\n",
    "    def anyadir_sexenio(self):\n",
    "        self.salario += 100\n",
    "\n",
    "persona = Persona(\"Ana López\")\n",
    "persona.presentar()\n",
    "# persona.matricular('Introducción a la Programación')  # Error\n",
    "\n",
    "estudiante = Estudiante(\"Ana López\")\n",
    "estudiante.presentar()\n",
    "estudiante.matricular('Introducción a la Programación')\n",
    "estudiante.matricular('Inteligencia Artificial')\n",
    "print(estudiante.asignaturas)\n",
    "\n",
    "profesor = Profesor(\"Ana López\", 1500)\n",
    "profesor.presentar()\n",
    "profesor.anyadir_sexenio()\n",
    "print(profesor.salario)"
   ]
  },
  {
   "cell_type": "markdown",
   "id": "bb24e5df-7276-4312-8853-2aaf58c81ff5",
   "metadata": {},
   "source": [
    "## Sintaxis general de la sentencia 'class'"
   ]
  },
  {
   "cell_type": "markdown",
   "id": "60912d92-2f34-4b96-af61-2891244bf608",
   "metadata": {},
   "source": [
    "```\n",
    "class nombre_clase(superclases, ...):    # Nombre de la clase y superclases.\n",
    "   \n",
    "   dato = valor                          # Datos de clase: compartidos por todas las instancias.\n",
    "   \n",
    "   def funcion(args):                    # Funciones de clase.\n",
    "      ...\n",
    "   \n",
    "   def metodo(self, args):               # Métodos: comportamiento compartido por todas las instancias.\n",
    "      self.dato = valor                  # Datos de instancia.\n",
    "```"
   ]
  },
  {
   "cell_type": "markdown",
   "id": "a53192f9-8fc8-40f6-b39e-cc26ef58a404",
   "metadata": {
    "tags": []
   },
   "source": [
    "## Visibilidad"
   ]
  },
  {
   "cell_type": "markdown",
   "id": "41cd0ec6-7990-47c7-873a-f9d45fcf4abb",
   "metadata": {},
   "source": [
    "* Garantiza el principio de la encapsulación de datos"
   ]
  },
  {
   "cell_type": "markdown",
   "id": "3d65818d-e459-4d1a-a336-459cc2552397",
   "metadata": {
    "tags": []
   },
   "source": [
    "### Público\n",
    "- Accesibles desde fuera de la clase. Es la opción por defecto en Python."
   ]
  },
  {
   "cell_type": "code",
   "execution_count": null,
   "id": "071886f3-6540-4e53-a854-4e439ac71eb7",
   "metadata": {
    "tags": []
   },
   "outputs": [],
   "source": [
    "class Estudiante:\n",
    "    schoolName = 'XYZ School' # atributo de clase\n",
    "\n",
    "    def __init__(self, name, age):\n",
    "        self.name = name # atributo de instancia publico\n",
    "        self.age = age\n",
    "        \n",
    "    def es_mayor_de_edad(self):  # funcion publica\n",
    "        return self.age > 18"
   ]
  },
  {
   "cell_type": "code",
   "execution_count": null,
   "id": "bbb3593c-879f-47e1-9df1-b77acf055e08",
   "metadata": {
    "tags": []
   },
   "outputs": [],
   "source": [
    "est = Estudiante('Manolo', 25)\n",
    "print(est.name)\n",
    "print(est.es_mayor_de_edad())"
   ]
  },
  {
   "cell_type": "markdown",
   "id": "ed1c9d1e-3eae-493f-a796-95891212821a",
   "metadata": {
    "tags": []
   },
   "source": [
    "### Protegido\n",
    "- Accesibles desde la propia clase y sus subclases. Para hacer un miembro protegido hay que añadir el prefijo \"_\" (un solo underscore) a su nombre.\n",
    "- Es una convención, y no se garantiza por el lenguaje."
   ]
  },
  {
   "cell_type": "code",
   "execution_count": null,
   "id": "4bfe7629-2c59-4858-a600-e3a439dcf6d4",
   "metadata": {
    "tags": []
   },
   "outputs": [],
   "source": [
    "class Estudiante:\n",
    "    _schoolName = 'XYZ School' # atributo de clase\n",
    "\n",
    "    def __init__(self, name, age):\n",
    "        self._name = name # atributo de instancia\n",
    "        self._age = age"
   ]
  },
  {
   "cell_type": "code",
   "execution_count": null,
   "id": "96581432-ee69-4f3a-b1bf-ee4f8449a886",
   "metadata": {
    "tags": []
   },
   "outputs": [],
   "source": [
    "est = Estudiante('Manolo', 25)\n",
    "print(est._name)"
   ]
  },
  {
   "cell_type": "markdown",
   "id": "4eeef500-7db2-4b45-a8d1-6725d0cd18e7",
   "metadata": {
    "tags": []
   },
   "source": [
    "### Privado\n",
    "- Accesibles solo desde la propia clase.  Para hacer un miembro protegido hay que añadir el prefijo \"__\" (dos underscores) a su nombre."
   ]
  },
  {
   "cell_type": "code",
   "execution_count": 2,
   "id": "9f246e67-2634-4e01-a7af-bfdf57cfd302",
   "metadata": {
    "tags": []
   },
   "outputs": [],
   "source": [
    "class Estudiante:\n",
    "    __schoolName = 'XYZ School' # atributo de clase\n",
    "\n",
    "    def __init__(self, name, age):\n",
    "        self.__name = name # atributo de instancia\n",
    "        self.__age = age\n",
    "        \n",
    "    def presentar(self):\n",
    "        print(self.__name)"
   ]
  },
  {
   "cell_type": "code",
   "execution_count": null,
   "id": "5c2c7270-35c3-46cc-9c6c-d18040b7abe8",
   "metadata": {
    "tags": []
   },
   "outputs": [
    {
     "name": "stdout",
     "output_type": "stream",
     "text": [
      "Manolo\n"
     ]
    },
    {
     "ename": "AttributeError",
     "evalue": "'Estudiante' object has no attribute '__name'",
     "output_type": "error",
     "traceback": [
      "\u001b[31m---------------------------------------------------------------------------\u001b[39m",
      "\u001b[31mAttributeError\u001b[39m                            Traceback (most recent call last)",
      "\u001b[36mCell\u001b[39m\u001b[36m \u001b[39m\u001b[32mIn[3]\u001b[39m\u001b[32m, line 3\u001b[39m\n\u001b[32m      1\u001b[39m est = Estudiante(\u001b[33m'\u001b[39m\u001b[33mManolo\u001b[39m\u001b[33m'\u001b[39m, \u001b[32m25\u001b[39m)\n\u001b[32m      2\u001b[39m est.presentar()\n\u001b[32m----> \u001b[39m\u001b[32m3\u001b[39m \u001b[38;5;28mprint\u001b[39m(\u001b[43mest\u001b[49m\u001b[43m.\u001b[49m\u001b[43m__name\u001b[49m)\n",
      "\u001b[31mAttributeError\u001b[39m: 'Estudiante' object has no attribute '__name'"
     ]
    }
   ],
   "source": [
    "est = Estudiante('Manolo', 25)\n",
    "est.presentar()\n",
    "# print(est.__name)"
   ]
  },
  {
   "cell_type": "markdown",
   "id": "6cb4c708-2c20-477c-b53d-8670eb24899f",
   "metadata": {},
   "source": [
    "## Extensión vs reemplazo"
   ]
  },
  {
   "cell_type": "markdown",
   "id": "b83e265a-1b73-40ac-a02e-a7c176b8f5f8",
   "metadata": {},
   "source": [
    "* Redefinir en una subclase un atributo (dato o método) que ya existe en la superclase **reemplaza** dicho atributo.\n",
    "\n",
    "* En el caso de métodos, este reemplazo puede convertirse en **extensión**, si la función invoca al método de la superclase."
   ]
  },
  {
   "cell_type": "markdown",
   "id": "77cd1798-23c2-4892-80bb-fd4d7fab6d0f",
   "metadata": {},
   "source": [
    "**Reemplazo**"
   ]
  },
  {
   "cell_type": "code",
   "execution_count": null,
   "id": "8555671f-c98e-4800-a12e-314380d8d745",
   "metadata": {},
   "outputs": [],
   "source": [
    "class Persona:\n",
    "    def __init__(self, nombre):\n",
    "        self.nombre = nombre\n",
    "        \n",
    "    def obtener_descripcion(self):\n",
    "        print(f\"Nombre: {self.nombre}\")\n",
    "\n",
    "class Empleado(Persona):\n",
    "    def __init__(self, empresa):\n",
    "        self.empresa = empresa\n",
    "\n",
    "    def obtener_descripcion(self):\n",
    "        print(f\"Empresa: {self.empresa}\")\n",
    "\n",
    "\n",
    "persona = Persona(\"Eva Sánchez\")\n",
    "persona.obtener_descripcion()\n",
    "        \n",
    "print(\"---\")\n",
    "    \n",
    "empleado = Empleado(\"Google\")\n",
    "empleado.obtener_descripcion()"
   ]
  },
  {
   "cell_type": "markdown",
   "id": "468fc42d-947d-46ca-a2be-851e8ea4d937",
   "metadata": {},
   "source": [
    "**Extensión**"
   ]
  },
  {
   "cell_type": "code",
   "execution_count": null,
   "id": "69ba422c-1c47-4fa0-8d08-5797ae81b3a3",
   "metadata": {},
   "outputs": [],
   "source": [
    "class Persona:\n",
    "    def __init__(self, nombre):\n",
    "        self.nombre = nombre\n",
    "        \n",
    "    def obtener_descripcion(self):\n",
    "        print(f\"Nombre: {self.nombre}\")\n",
    "\n",
    "class Empleado(Persona):\n",
    "    def __init__(self, nombre, empresa):\n",
    "        super().__init__(nombre)\n",
    "        self.empresa = empresa\n",
    "\n",
    "    def obtener_descripcion(self):\n",
    "        super().obtener_descripcion()\n",
    "        print(f\"Empresa: {self.empresa}\")\n",
    "\n",
    "persona = Persona(\"Eva Sánchez\")\n",
    "persona.obtener_descripcion()\n",
    "\n",
    "print(\"---\")\n",
    "\n",
    "empleado = Empleado(\"Jorge Pérez\", \"Google\")\n",
    "empleado.obtener_descripcion()"
   ]
  },
  {
   "cell_type": "markdown",
   "id": "716fe65c-85fb-466a-a093-6849621e33ba",
   "metadata": {},
   "source": [
    "## Delegación (clases abstractas)"
   ]
  },
  {
   "cell_type": "markdown",
   "id": "773b0906-3093-455a-b349-ded10c6a27aa",
   "metadata": {},
   "source": [
    "* A veces, una clase no tiene el conocimiento necesario para implementar un comportamiento (método).\n",
    "\n",
    "* En estos casos, el método se puede dejar como abstracto, *delegando* la implementación a las subclases.\n",
    "\n",
    "* Una **clase abstracta** es una clase \"incompleta\" que espera que las subclases implementen parte del comportamiento.\n",
    "\n",
    "* Debe considerarse como un error que las subclases no implementen los métodos que se dejan como abstractos."
   ]
  },
  {
   "cell_type": "code",
   "execution_count": null,
   "id": "8f4a2e33-eeb2-4910-840b-7ddb99413bf3",
   "metadata": {},
   "outputs": [],
   "source": [
    "class JuegoMesa:\n",
    "    def inicializar_juego(self):\n",
    "        print('Comienza inicialización del juego de mesa')  # Esto aplica a cualquier tipo de juego de mesa y por lo tanto se puede implementar aquí.\n",
    "        self.inicializar_tablero()    # Delega a la subclase. Esta clase representa un juego de mesa genérico y por lo tanto no tiene conocimiento de cómo inicializar el tablero.\n",
    "        self.colocar_fichas()         # Idem.\n",
    "        \n",
    "class Ajedrez(JuegoMesa):\n",
    "    def inicializar_tablero(self):\n",
    "        print('Inicializando tablero de ajedrez')     # Esta clase representa el juego del ajedrez y por lo tanto sí sabe cómo inicializar el tablero.\n",
    "    \n",
    "    def colocar_fichas(self):\n",
    "        print('Colocando las fichas de ajedrez')      # Esta clase representa el juego del ajedrez y por lo tanto sí sabe cómo colocar las fichas.\n",
    "\n",
    "class Backgammon(JuegoMesa):\n",
    "    def inicializar_tablero(self):\n",
    "        print('Inicializando tablero de backgammon')  # Esta clase representa el juego del backgammon y por lo tanto sí sabe cómo inicializar el tablero.\n",
    "    \n",
    "    def colocar_fichas(self):\n",
    "        print('Colocando las fichas de backgammon')   # Esta clase representa el juego del backgammon y por lo tanto sí sabe cómo colocar las fichas.\n",
    "        \n",
    "juego_1 = Ajedrez()\n",
    "juego_2 = Backgammon()\n",
    "\n",
    "juego_1.inicializar_juego()\n",
    "print('---')\n",
    "juego_2.inicializar_juego()"
   ]
  },
  {
   "cell_type": "markdown",
   "id": "65cc5d3d-2dd2-405e-b5b4-af8276a6ac1a",
   "metadata": {},
   "source": [
    "* La necesidad de implementación de un método abstracto se puede hacer más obvia por medio de un *assert*."
   ]
  },
  {
   "cell_type": "code",
   "execution_count": null,
   "id": "186b17b2-81a9-4b76-8341-6d3558b6589e",
   "metadata": {},
   "outputs": [],
   "source": [
    "class JuegoMesa:\n",
    "    def inicializar_juego(self):\n",
    "        print('Comienza inicialización del juego de mesa') \n",
    "        self.inicializar_tablero()\n",
    "        \n",
    "    def inicializar_tablero(self):\n",
    "        assert False, 'inicializar_tablero debe ser implementado!'\n",
    "        \n",
    "class Ajedrez(JuegoMesa):\n",
    "    pass\n",
    "    #def inicializar_tablero(self):\n",
    "    #    print('Inicializando tablero de ajedrez')\n",
    "\n",
    "juego_1 = Ajedrez()\n",
    "\n",
    "juego_1.inicializar_juego()"
   ]
  },
  {
   "cell_type": "markdown",
   "id": "ce78d19b-d68a-4bae-99d5-212a5881fddd",
   "metadata": {},
   "source": [
    "#### En Python 3.X"
   ]
  },
  {
   "cell_type": "markdown",
   "id": "d4791b3c-9fb3-41c6-beab-81f8806ae17a",
   "metadata": {},
   "source": [
    "A partir de la versión 3.X de Python, las clases abstractas se pueden implementar con una sintaxis especial."
   ]
  },
  {
   "cell_type": "code",
   "execution_count": null,
   "id": "4aa349ff-69d3-4a92-9940-f88cc0356d5f",
   "metadata": {},
   "outputs": [],
   "source": [
    "from abc import ABC             # Abstract Base Class\n",
    "from abc import abstractmethod  # Abstract methods\n",
    "\n",
    "class ClaseAbstracta(ABC):\n",
    "    @abstractmethod              # Decorador\n",
    "    def metodo_abstracto(self):\n",
    "        pass\n",
    "    \n",
    "class ClaseConcreta(ClaseAbstracta):\n",
    "    def metodo_concreto(self):\n",
    "        print('metodo concreto')\n",
    "        \n",
    "    def metodo_abstracto(self):\n",
    "        print('metodo abstracto')\n",
    "        \n",
    "# a = ClaseAbstracta()  # No se puede instanciar clase abstracta\n",
    "b = ClaseConcreta()    # Fallaría si no se implementara 'metodo_abstracto'"
   ]
  },
  {
   "cell_type": "markdown",
   "id": "89b24a69-eb97-4b8d-a2ec-5b679f4265cf",
   "metadata": {},
   "source": [
    "#### Decoradores\n",
    "\n",
    "* En el anterior ejemplo, *abstractmethod* es un decorador.\n",
    "\n",
    "* Un decorador añade metadatos al objeto que acompaña.\n",
    "\n",
    "**Ejemplo: métodos class vs métodos static**\n",
    "\n",
    "* Método de clase:\n",
    "   * Recibe el objeto de clase como primer argumento.\n",
    "   * Puede manipular el estado de dicho objeto.\n",
    "\n",
    "\n",
    "* Método estático:\n",
    "   * Es una función normal, simplemente ubicada dentro de una clase por conveniencia o legibilidad."
   ]
  },
  {
   "cell_type": "code",
   "execution_count": null,
   "id": "cf0e3cf3-fd95-4c5b-9244-ab81d3384186",
   "metadata": {},
   "outputs": [],
   "source": [
    "class Calculator:\n",
    "\n",
    "    @staticmethod\n",
    "    def sumar_numeros(x, y):\n",
    "        return x + y\n",
    "\n",
    "print('Suma:', Calculator.sumar_numeros(20, 32))"
   ]
  },
  {
   "cell_type": "code",
   "execution_count": null,
   "id": "d8cd44de-7375-432f-a3ba-cf0abbfdddd5",
   "metadata": {},
   "outputs": [],
   "source": [
    "class Pizza:\n",
    "    def __init__(self, ingredientes):\n",
    "        self.ingredientes = ingredientes\n",
    "\n",
    "    @classmethod\n",
    "    def crear_pizza_margarita(cls):\n",
    "        return cls(['mozzarella', 'tomate'])\n",
    "    \n",
    "    @classmethod\n",
    "    def crear_pizza_diavola(cls):\n",
    "        return cls(['mozzarella', 'tomate', 'salami picante'])\n",
    "    \n",
    "pizza1 = Pizza.crear_pizza_margarita()\n",
    "print(pizza1.ingredientes)\n",
    "\n",
    "print(\"---\")\n",
    "\n",
    "pizza2 = Pizza.crear_pizza_diavola()\n",
    "print(pizza2.ingredientes)"
   ]
  },
  {
   "cell_type": "markdown",
   "id": "284af82f-3df3-41f2-9f7c-bdc3fba7d16b",
   "metadata": {},
   "source": [
    "- Property, se usa como getter para acceder a métodos privados"
   ]
  },
  {
   "cell_type": "code",
   "execution_count": null,
   "id": "39321999-27e4-4e21-81fa-d9f0a7fe8214",
   "metadata": {
    "tags": []
   },
   "outputs": [],
   "source": [
    "class Estudiante:\n",
    "    def __init__(self, name, age):\n",
    "        self.__name = name # atributo de instancia\n",
    "        \n",
    "    @property\n",
    "    def name(self):\n",
    "        return self.__name"
   ]
  },
  {
   "cell_type": "code",
   "execution_count": null,
   "id": "1b1cdb85-e397-4f6f-bb88-6e9e2dde397f",
   "metadata": {
    "tags": []
   },
   "outputs": [],
   "source": [
    "est = Estudiante('Manolo', 25)\n",
    "print(est.name)"
   ]
  },
  {
   "cell_type": "markdown",
   "id": "74a2d161-6840-4a2c-8156-f65b7d611c8c",
   "metadata": {
    "tags": []
   },
   "source": [
    "- Property setter, se usa para modificar los valores de una property"
   ]
  },
  {
   "cell_type": "code",
   "execution_count": null,
   "id": "3bdb48fd-f713-4333-b320-c273264bd496",
   "metadata": {
    "tags": []
   },
   "outputs": [],
   "source": [
    "class Estudiante:\n",
    "    def __init__(self, name, age):\n",
    "        self.__name = name # atributo de instancia\n",
    "        \n",
    "    @property\n",
    "    def name(self):\n",
    "        return self.__name\n",
    "    \n",
    "    @name.setter\n",
    "    def name(self, value):\n",
    "        self.__name = value"
   ]
  },
  {
   "cell_type": "code",
   "execution_count": null,
   "id": "26896d31-ae0f-44bf-9614-9c477e1c329d",
   "metadata": {
    "tags": []
   },
   "outputs": [],
   "source": [
    "est = Estudiante('Manolo', 25)\n",
    "est.name = 'Pepe'\n",
    "print(est.name)"
   ]
  },
  {
   "cell_type": "markdown",
   "id": "1bba3fb4-bec6-4125-9591-4ce02be97e81",
   "metadata": {},
   "source": [
    "- Property deleter, se usa para borrar una property"
   ]
  },
  {
   "cell_type": "code",
   "execution_count": null,
   "id": "9f6737c7-0aed-4b9e-a7ac-23ab44f028f6",
   "metadata": {
    "tags": []
   },
   "outputs": [],
   "source": [
    "class Estudiante:\n",
    "    def __init__(self, name, age):\n",
    "        self.__name = name # atributo de instancia\n",
    "        \n",
    "    @property\n",
    "    def name(self):\n",
    "        return self.__name\n",
    "    \n",
    "    @name.setter\n",
    "    def name(self, value):\n",
    "        self.__name = value\n",
    "        \n",
    "    @name.deleter\n",
    "    def name(self):\n",
    "        print('Deleting..')\n",
    "        del self.__name"
   ]
  },
  {
   "cell_type": "code",
   "execution_count": null,
   "id": "e106eb95-f4b1-449c-9e58-0ac27c3407d2",
   "metadata": {
    "tags": []
   },
   "outputs": [],
   "source": [
    "est = Estudiante('Manolo', 25)\n",
    "del est.name\n",
    "print(est.name)"
   ]
  },
  {
   "cell_type": "markdown",
   "id": "4120b197-374d-4a25-87e6-61e0133b3285",
   "metadata": {},
   "source": [
    "## Sobreescritura de operadores"
   ]
  },
  {
   "cell_type": "markdown",
   "id": "f815e8b1-780c-42c4-a850-0afd493088d4",
   "metadata": {},
   "source": [
    "* Objetos creados a partir de clases pueden participar en expresiones con operadores (+, -, *, /, &, |, % ...), de la misma forma que los objetos de tipos *built-in*.\n",
    "\n",
    "* Permiten a nuestros objetos integrarse mejor con código que haya sido programado para funcionar con objetos de tipo *built-in*.\n",
    "\n",
    "* En Python, métodos entre '__' con nombres especiales representan implementación de operadores."
   ]
  },
  {
   "cell_type": "code",
   "execution_count": null,
   "id": "d693ae4a-2a38-4ab1-bdbd-a47b4f8a076e",
   "metadata": {},
   "outputs": [],
   "source": [
    "class A():\n",
    "    def __add__(self, otro):\n",
    "        return \"Se ha invocado el operador +\"\n",
    "\n",
    "a = A()\n",
    "b = A()\n",
    "\n",
    "print(a + b)  # 'a' sería 'self' y 'b' sería 'otro'. El resultado de la operación es un string, que se pasa a 'print'."
   ]
  },
  {
   "cell_type": "markdown",
   "id": "e18511e2-631a-416b-8bc1-5fd779f10f39",
   "metadata": {},
   "source": [
    "- Salvo en algunas excepciones, no hay comportamiento por defecto para los operadores que no se implementan."
   ]
  },
  {
   "cell_type": "code",
   "execution_count": null,
   "id": "08ee0a9f-0c4e-4e8d-b6b6-6fe5e49b7539",
   "metadata": {},
   "outputs": [],
   "source": [
    "class A():\n",
    "    pass\n",
    "\n",
    "a = A()\n",
    "b = A()\n",
    "\n",
    "print(a + b)  # Error"
   ]
  },
  {
   "cell_type": "markdown",
   "id": "1ccd6a3a-11b8-4379-b6ac-2159f2517460",
   "metadata": {},
   "source": [
    "* Un ejemplo de estas excepciones es *\\_\\_str\\_\\_* (utilizado, por ejemplo, por *print* para obtener una representación del objeto en formato string).\n",
    "\n",
    "* Aunque una clase no sobreescriba el operador *\\_\\_str\\_\\_*, hay comportamiento por defecto."
   ]
  },
  {
   "cell_type": "code",
   "execution_count": null,
   "id": "29df2a7a-f4cd-4f58-b177-a18f02618f40",
   "metadata": {},
   "outputs": [],
   "source": [
    "class A():\n",
    "    pass\n",
    "\n",
    "a = A()\n",
    "\n",
    "print(a)"
   ]
  },
  {
   "cell_type": "code",
   "execution_count": null,
   "id": "db94ca80-e53c-4109-a178-67cb771f4ecf",
   "metadata": {},
   "outputs": [],
   "source": [
    "class B():\n",
    "    def __str__(self):\n",
    "        return \"Operador str. Representación del objeto en formato string\"\n",
    "\n",
    "b = B()\n",
    "\n",
    "print(b)"
   ]
  },
  {
   "cell_type": "markdown",
   "id": "7722070e-e82b-47ef-b03d-15158c0dfcfa",
   "metadata": {},
   "source": [
    "**Constructor**\n",
    "\n",
    "* Un ejemplo importante de operador que se sobreescribe casi siempre es el construtor: *\\_\\_init\\_\\_*\n",
    "\n",
    "* Se invoca al crear instancias de la clase."
   ]
  },
  {
   "cell_type": "markdown",
   "id": "059983ac-b599-428f-b55b-118e0760af6e",
   "metadata": {},
   "source": [
    "**Otros ejemplos de operadores**"
   ]
  },
  {
   "cell_type": "code",
   "execution_count": 4,
   "id": "7183db6c-50ad-4390-b628-a58c5939415c",
   "metadata": {},
   "outputs": [
    {
     "name": "stdout",
     "output_type": "stream",
     "text": [
      "Operador +\n",
      "Operador -\n",
      "Operador *\n",
      "Operador /\n",
      "Operador //\n",
      "Operador %\n",
      "Operador ==\n",
      "Operador !=\n",
      "Operador &\n",
      "Operador |\n"
     ]
    }
   ],
   "source": [
    "class A():\n",
    "    def __add__(self, otro):\n",
    "        return \"Operador +\"\n",
    "    \n",
    "    def __sub__(self, otro):\n",
    "        return \"Operador -\"\n",
    "    \n",
    "    def __mul__(self, otro):\n",
    "        return \"Operador *\"\n",
    "    \n",
    "    def __truediv__(self, otro):\n",
    "        return \"Operador /\"\n",
    "    \n",
    "    def __floordiv__(self, otro):\n",
    "        return \"Operador //\"\n",
    "    \n",
    "    def __mod__(self, otro):\n",
    "        return \"Operador %\"\n",
    "    \n",
    "    def __eq__(self, otro):\n",
    "        return \"Operador ==\"\n",
    "    \n",
    "    def __ne__(self, otro):\n",
    "        return \"Operador !=\"\n",
    "    \n",
    "    def __and__(self, otro):\n",
    "        return \"Operador &\"\n",
    "    \n",
    "    def __or__(self, otro):\n",
    "        return \"Operador |\"\n",
    "\n",
    "a = A()\n",
    "b = A()\n",
    "\n",
    "print(a + b) \n",
    "print(a - b) \n",
    "print(a * b) \n",
    "print(a / b)\n",
    "print(a // b)\n",
    "print(a % b)\n",
    "print(a == b)\n",
    "print(a != b)\n",
    "print(a & b)\n",
    "print(a | b)"
   ]
  },
  {
   "cell_type": "markdown",
   "id": "e5a3267c-79e2-4222-adf5-6c9ca9561873",
   "metadata": {},
   "source": [
    "**¿Cuándo sobreescribir operadores?**\n",
    "\n",
    "* Es poco habitual.\n",
    "* Se hace cuando quieres que tus objetos se comporten como objetos proporcionados por el lenguaje (*built-in*).\n",
    "* Un objeto matemático por naturaleza (por ejemplo, una matriz) tiene sentido que sobreescriba el '+'.\n",
    "* Un objeto como *Empleado* o *Persona* probablemente no lo hará."
   ]
  },
  {
   "cell_type": "markdown",
   "id": "cb48cb72-6e53-417b-9d9b-c2366c90ac9f",
   "metadata": {},
   "source": [
    "## Ventajas de la Programación Orientada a Objetos"
   ]
  },
  {
   "cell_type": "markdown",
   "id": "68277e85-8ef3-4940-ab30-eee039b8046f",
   "metadata": {},
   "source": [
    "#### Reutilización\n",
    "\n",
    "* Las clases permiten reutilización de código de formas que no permiten otras construcciones (como funciones o módulos).\n",
    "\n",
    "* Por ejemplo, por medio de herencia puedes programar adaptando código existente, sin necesidad de módificar éste.\n",
    "\n",
    "   * Extensión, reemplazo y delegación."
   ]
  },
  {
   "cell_type": "markdown",
   "id": "bcdc87f1-263b-482c-8664-a0ba766086f4",
   "metadata": {},
   "source": [
    "#### Polimorfismo\n",
    "\n",
    "* Polimorfismo: el significado de una operación viene determinado por los tipos de los operandos, y estos pueden adoptar diferentes formas.\n",
    "\n",
    "    * Por ejemplo:\n",
    "       * La operación '+' en la expresión 'a + b' tiene un comportamiento diferente según si las variables 'a' y 'b' son números, strings o listas.\n",
    "       * En el caso de números, se realizará la suma; en el caso de strings o listas, la concatenación.\n",
    "\n",
    "\n",
    "* OOP facilita el desarrollo de código abstracto que funciona independientemente del tipo concreto de objeto que recibe.\n",
    "\n",
    "* Código abstracto suele necesitar menos mantenimiento."
   ]
  },
  {
   "cell_type": "code",
   "execution_count": 5,
   "id": "dbf08f0d-3e89-48c4-8ff2-86a20d3fab7c",
   "metadata": {},
   "outputs": [
    {
     "name": "stdout",
     "output_type": "stream",
     "text": [
      "Quack\n",
      "Miau\n",
      "Quack\n",
      "Guau\n",
      "Miau\n",
      "Guau\n"
     ]
    }
   ],
   "source": [
    "from abc import ABC, abstractmethod\n",
    "\n",
    "def emitir_sonidos(animales):  # Esta función desconoce los tipos concretos de animales. Se abstrae de estos detalles.\n",
    "    for animal in animales:\n",
    "        animal.emitir_sonido() # Llamada polimórfica: el método emitir_sonido adoptará \"diferentes formas\" según el tipo específico de animal.\n",
    "    \n",
    "class Animal(ABC):\n",
    "    @abstractmethod\n",
    "    def emitir_sonido(self):\n",
    "        pass\n",
    "\n",
    "class Perro(Animal):\n",
    "    def emitir_sonido(self):\n",
    "        print(\"Guau\")\n",
    "\n",
    "class Gato(Animal):\n",
    "    def emitir_sonido(self):\n",
    "        print(\"Miau\")\n",
    "        \n",
    "class Pato(Animal):\n",
    "    def emitir_sonido(self):\n",
    "        print(\"Quack\")\n",
    "        \n",
    "animales = [Pato(), Gato(), Pato(), Perro(), Gato(), Perro()]\n",
    "emitir_sonidos(animales)"
   ]
  },
  {
   "cell_type": "markdown",
   "id": "3ef7690b-3886-4ad1-a38a-81869bd3bc07",
   "metadata": {
    "tags": []
   },
   "source": [
    "## Búsqueda de atributos"
   ]
  },
  {
   "cell_type": "markdown",
   "id": "275ac9bf-6dfd-413f-9b77-c7854b7b896e",
   "metadata": {},
   "source": [
    "Cuando especificamos ...\n",
    "\n",
    "```\n",
    "objeto.atributo\n",
    "```\n",
    "\n",
    "¿Cómo sabe Python si el atributo existe o no existe? ¿Cómo lo busca?\n",
    "\n",
    "Para responder esta pregunta, primero hay que ser consciente de la existencia de 2 tipos de objetos:\n",
    "\n",
    "   * **Objetos clase**: como todo en Python, las clases son objetos también. Cuando se ejecuta una sentencia *class*, se crea un objeto clase, cuyo tipo es *type*.\n",
    "\n",
    "\n",
    "   * **Objetos instancia**: cada vez que se invoca una clase usando paréntesis, se crea una objeto instancia de la clase y éste objeto instancia se enlaza con el objeto clase que lo origina.\n",
    "\n",
    "      * En este sentido, los objetos clase se pueden ver como *fábricas* de objetos instancia."
   ]
  },
  {
   "cell_type": "code",
   "execution_count": 12,
   "id": "05cc2e7c-e37b-4abb-911b-92e769e0635c",
   "metadata": {},
   "outputs": [
    {
     "name": "stdout",
     "output_type": "stream",
     "text": [
      "Modulo: <module '__main__'>\n",
      "<class '__main__.A'>\n",
      "<class 'type'>\n"
     ]
    }
   ],
   "source": [
    "import sys\n",
    "\n",
    "class A:\n",
    "    pass\n",
    "\n",
    "instancia_de_A = A()\n",
    "\n",
    "este_modulo = sys.modules[__name__]\n",
    "\n",
    "print(\"Modulo:\", este_modulo)   # El módulo que contiene el código de este ejemplo es '__main__'\n",
    "print(type(instancia_de_A))               # La instancia de A es de tipo __main__.A (la clase se ha convertido en un atributo del módulo)\n",
    "print(type(este_modulo.A))                     # El tipo del objeto clase es 'type'."
   ]
  },
  {
   "cell_type": "markdown",
   "id": "7d3f2992-c109-456b-9311-c97367d44e08",
   "metadata": {},
   "source": [
    "Cada vez que escribimos una expresión de la forma:\n",
    "\n",
    "```\n",
    "objeto.atributo\n",
    "```\n",
    "\n",
    "Python inicia una búsqueda que comienza en el *objeto* (instancia), luego en el objeto *clase* que ha creado el objeto instancia, y luego en las *superclases* de la clase, de izquierda a derecha."
   ]
  },
  {
   "cell_type": "markdown",
   "id": "f36b6b1c-e4d1-4d70-938f-564e38ff906c",
   "metadata": {},
   "source": [
    "<img src=\"img/oop/inheritance_search.png\" width=\"500\">*Imagen extraída de [1]*"
   ]
  },
  {
   "cell_type": "markdown",
   "id": "31390226-065f-4bbe-ae0a-bae9d5df8db2",
   "metadata": {},
   "source": [
    "* *I1.name* y *I2.name* no necesitan buscar en las clases. Los datos se encuentran en los propios objetos.\n",
    "* *I1.x* y *I2.x* iniciarían una búsqueda que empieza en *I1* y *I2*, respectivamente, y que tendría éxito en *C1*. No se llegaría a explorar *C2*.\n",
    "* *I1.y* y *I2.y* iniciarían una búsqueda que empieza en *I1* y *I2*, respectivamente, y que tendría éxito en *C1*. Este atributo no se encuentra en otro lugar al fin y al cabo.\n",
    "* *I1.z* y *I2.z* tendrían éxito en *C2* porque está más a la izquierda que *C3*."
   ]
  },
  {
   "cell_type": "markdown",
   "id": "fd079442-7ce2-4d39-b75a-e11282fb9532",
   "metadata": {},
   "source": [
    "* Cada objeto representa su propio **espacio de nombres**. Esto aplica tanto a los objetos clase como a los objetos instancia.\n",
    "\n",
    "* Cada atributo (dato y comportamiento) que se le asigne a un objeto pertenece sólo a él."
   ]
  },
  {
   "cell_type": "code",
   "execution_count": 13,
   "id": "a0f8cd50-76c6-405f-9db3-d33cb6cec055",
   "metadata": {
    "tags": []
   },
   "outputs": [
    {
     "name": "stdout",
     "output_type": "stream",
     "text": [
      "Pablo\n",
      "Eva\n",
      "30\n"
     ]
    }
   ],
   "source": [
    "class Empleado:\n",
    "    def asignar_nombre(self, nombre_empleado):\n",
    "        self.nombre = nombre_empleado    # atributo añadido/asignado al objeto instancia (self) desde dentro de la clase\n",
    "\n",
    "empleado_1 = Empleado()\n",
    "empleado_2 = Empleado()\n",
    "\n",
    "empleado_1.asignar_nombre(\"Pablo\")\n",
    "empleado_2.asignar_nombre(\"Eva\")\n",
    "print(empleado_1.nombre)\n",
    "print(empleado_2.nombre)\n",
    "\n",
    "empleado_1.edad = 30      # atributo añadido al objeto 'empleado_1' desde fuera de la clase. Otras instancias de Empleado no tienen este atributo.\n",
    "print(empleado_1.edad)\n",
    "#print(empleado_2.edad)   # Error: este objeto no tiene el atributo 'edad'"
   ]
  },
  {
   "cell_type": "markdown",
   "id": "0217efcc-de9d-4529-8970-29b2bb2e8f08",
   "metadata": {},
   "source": [
    "<img src=\"img/oop/class_objects.png\" width=\"600\">"
   ]
  },
  {
   "cell_type": "markdown",
   "id": "0d3ccb18-93fa-4805-a9b5-7580d55b8e89",
   "metadata": {},
   "source": [
    "* De la misma forma que un objeto hereda los atributos de la clase a partir de la cual se crea, una clase hereda los atributos de sus superclases.\n",
    "\n",
    "* Esto es lo que permite crear jerarquías de clases.\n",
    "\n",
    "* Cuando especificamos un atributo en una subclase, sobreescribimos el más general que hay en la superclase.\n",
    "\n",
    "* Una clase se puede customizar/extender sin necesidad de ser modificada, simplemente creando otra clase que herede de ella."
   ]
  },
  {
   "cell_type": "code",
   "execution_count": 14,
   "id": "d658c130-d480-4d78-9d2f-6e6fc7205412",
   "metadata": {},
   "outputs": [
    {
     "name": "stdout",
     "output_type": "stream",
     "text": [
      "Nombre de la persona: Natalia\n",
      "Nombre del empleado: Pedro\n"
     ]
    }
   ],
   "source": [
    "class Persona:\n",
    "    def asignar_nombre(self, nombre_persona):\n",
    "        self.nombre = nombre_persona\n",
    "        \n",
    "    def obtener_descripcion(self):\n",
    "        return f\"Nombre de la persona: {self.nombre}\"\n",
    "    \n",
    "class Empleado (Persona):\n",
    "    def obtener_descripcion(self):\n",
    "        return f\"Nombre del empleado: {self.nombre}\"\n",
    "    \n",
    "persona_1 = Persona()\n",
    "empleado_1 = Empleado()\n",
    "\n",
    "persona_1.asignar_nombre(\"Natalia\")\n",
    "empleado_1.asignar_nombre(\"Pedro\")  # Puedo usar asignar_nombre porque esta definido en la superclase 'Persona'\n",
    "\n",
    "print(persona_1.obtener_descripcion())   # Ejecuta la versión general definida en 'Persona'\n",
    "print(empleado_1.obtener_descripcion())  # Ejecuta la versión específica definida en 'Empleado'"
   ]
  },
  {
   "cell_type": "markdown",
   "id": "debbde50-d202-487e-b265-29dddceb867f",
   "metadata": {},
   "source": [
    "<img src=\"img/oop/class_objects_2.png\" width=\"900\">"
   ]
  },
  {
   "cell_type": "markdown",
   "id": "5e36997b-9007-4ed0-b23d-a10b29752f5d",
   "metadata": {},
   "source": [
    "## Ejercicios"
   ]
  },
  {
   "cell_type": "markdown",
   "id": "0908537e-898c-4f50-b329-74a0a1fb419b",
   "metadata": {},
   "source": [
    "1. Implementa una jerarquía de clases que representen figuras (por ejemplo, cuadrados, círculos o triángulos). Posteriormente, implementa una función que muestre por pantalla, una a una, todas las áreas de una lista de figuras dada.\n",
    "\n",
    "2. Implementa una clase que represente números racionales y almacene de manera explícita el numerador y el denominador. La clase debe permitir instanciar números racionales, con los cuales se podrá operar a través de los operadores convencionales: +, -, *, /. En caso de error (por ejemplo, división por cero) la clase generará un error apropiado.\n",
    "\n",
    "3. Implementa una clase *ColaPrioridad* que permita el almacenamiento de objetos ordenados por prioridad. A diferencia de los heaps vistos en el tema de estructuras de datos, esta cola de prioridad tiene la peculiaridad de que mantiene un rango de prioridades (numéricas de tipo entero) válidas. Es decir, al instanciar objetos de la clase *ColaPrioridad*, se debe especificar una prioridad máxima *N*, y ninguna prioridad fuera del rango *[0, N-1]* será válida. Podéis asumir que *N* siempre será un número relativamente pequeño, y que este rango no puede modificarse una vez el objeto de tipo *ColaPrioridad* ha sido creado. Teniendo esto en cuenta, la clase *ColaPrioridad* permitirá:\n",
    "\n",
    "   * Insertar un objeto con una prioridad dada. Ejemplo: inserción del objeto *'a'* con prioridad 3.\n",
    "   * Extraer el objeto más prioritario dada una prioridad concreta. Si existe más de un objeto con la misma prioridad, el orden de extración será en base al orden de inserción (FIFO - first in, first out). Es decir, para cada posible prioridad, se debe mantener una cola de objetos.\n",
    "   * Extraer el objeto de mayor prioridad en toda la cola de prioridad. En caso de empate (es decir, si más de un objeto tiene la prioridad mayor), el orden de extración será en base al orden de inserción (FIFO - first in, first out).\n",
    "   * Funcionalidades extra.\n",
    "      * En este ejercicio, podéis añadir a la clase *ColaPrioridad* más funcionalidades de vuestra elección. Ejemplo: un método para vaciar la cola.\n",
    "      * Podéis también definir vuestras propias excepciones, heredando de la clase *Exception* proporcionada por Python. Ejemplo: podéis implementar la clase *ExcepcionPrioridadFueraDeRango* y lanzar este tipo de error siempre que se intente insertar un objeto con una prioridad que quede fuera del rango válido.\n"
   ]
  },
  {
   "cell_type": "markdown",
   "id": "ee2f6253-2faa-4f6b-b2cc-af6836aa8f6c",
   "metadata": {},
   "source": [
    "## Soluciones"
   ]
  },
  {
   "cell_type": "code",
   "execution_count": 15,
   "id": "2a675e9f-0f3d-425b-a794-36d78976900d",
   "metadata": {},
   "outputs": [
    {
     "name": "stdout",
     "output_type": "stream",
     "text": [
      "Figura de tipo Círculo. El área de la figura es: 13.85\n",
      "Figura de tipo Círculo. El área de la figura es: 78.54\n",
      "Figura de tipo Cuadrado. El área de la figura es: 10.24\n",
      "Figura de tipo Círculo. El área de la figura es: 196.07\n",
      "Figura de tipo Cuadrado. El área de la figura es: 4.41\n"
     ]
    }
   ],
   "source": [
    "# Ejercicio 1\n",
    "\n",
    "from abc import ABC, abstractmethod\n",
    "import math\n",
    "\n",
    "class Figura(ABC):\n",
    "    def __init__(self, tipo):\n",
    "        self.tipo = tipo\n",
    "        \n",
    "    def __str__(self):\n",
    "        return f\"Figura de tipo {self.tipo}. El área de la figura es: {self.area()}\"\n",
    "        \n",
    "    @abstractmethod\n",
    "    def area(self):\n",
    "        pass\n",
    "\n",
    "    \n",
    "class Cuadrado(Figura):\n",
    "    def __init__(self, lado):\n",
    "        super().__init__(\"Cuadrado\")\n",
    "        self.lado = lado\n",
    "        \n",
    "    def area(self):\n",
    "        area_cuadrado = self.lado ** 2\n",
    "        return f'{area_cuadrado:.2f}'\n",
    "    \n",
    "    \n",
    "class Circulo(Figura):\n",
    "    def __init__(self, radio):\n",
    "        super().__init__(\"Círculo\")\n",
    "        self.radio = radio\n",
    "        \n",
    "    def area(self):\n",
    "        area_circulo = math.pi * (self.radio ** 2)\n",
    "        return f'{area_circulo:.2f}'\n",
    "    \n",
    "    \n",
    "def mostrar_areas(figuras):\n",
    "    for figura in figuras:\n",
    "        print(figura)\n",
    "        # Para mostrar sólo las áreas, sería válido: print(figura.area())\n",
    "        \n",
    "        \n",
    "figuras = [Circulo(2.1), Circulo(5), Cuadrado(3.2), Circulo(7.9), Cuadrado(2.1)]\n",
    "mostrar_areas(figuras)"
   ]
  },
  {
   "cell_type": "code",
   "execution_count": 16,
   "id": "1dde4cc8-f84c-433e-9960-df4311aecf8c",
   "metadata": {},
   "outputs": [
    {
     "name": "stdout",
     "output_type": "stream",
     "text": [
      "1/2\n"
     ]
    }
   ],
   "source": [
    "# Ejercicio 2\n",
    "\n",
    "import math\n",
    "\n",
    "class DenominadorCero(Exception):\n",
    "    '''\n",
    "    Excepción que indica que el denominador del número racional es cero.\n",
    "    '''\n",
    "    pass\n",
    "\n",
    "class DivisionPorCero(Exception):\n",
    "    '''\n",
    "    Excepción que indica que se está tratando de realizar una división por cero.\n",
    "    '''\n",
    "    pass\n",
    "\n",
    "class NumeroRacional:\n",
    "    def __init__(self, numerador, denominador):\n",
    "        if denominador == 0:\n",
    "            raise DenominadorCero(\"El denominador no puede ser cero.\")  \n",
    "        self.numerador = numerador\n",
    "        self.denominador = denominador\n",
    "        \n",
    "    # Operadores principales\n",
    "        \n",
    "    def __add__(self, otro):\n",
    "        minimo_comun_multiplo = math.lcm(self.denominador, otro.denominador)\n",
    "        numerador_resultante = (minimo_comun_multiplo/self.denominador) * self.numerador + (minimo_comun_multiplo/otro.denominador) * otro.numerador\n",
    "        return NumeroRacional(numerador_resultante, minimo_comun_multiplo)\n",
    "    \n",
    "    def __sub__(self, otro):\n",
    "        minimo_comun_multiplo = math.lcm(self.denominador, otro.denominador)\n",
    "        numerador_resultante = (minimo_comun_multiplo/self.denominador) * self.numerador - (minimo_comun_multiplo/otro.denominador) * otro.numerador\n",
    "        return NumeroRacional(numerador_resultante, minimo_comun_multiplo)\n",
    "        \n",
    "    def __mul__(self, otro):\n",
    "        return NumeroRacional(self.numerador * otro.numerador, self.denominador * otro.denominador)\n",
    "    \n",
    "    def __truediv__(self, otro):\n",
    "        if otro.numerador == 0:\n",
    "            raise DivisionPorCero(\"No es posible llevar a cabo una división por cero\")\n",
    "        return NumeroRacional(self.numerador * otro.denominador, self.denominador * otro.numerador)\n",
    "    \n",
    "    # Operadores auxiliares\n",
    "    \n",
    "    def __eq__(self, otro):\n",
    "        return self.numerador == otro.numerador and self.denominador == otro.denominador\n",
    "    \n",
    "    def __str__(self):\n",
    "        return f\"{self.numerador}/{self.denominador}\"\n",
    "    \n",
    "    \n",
    "\n",
    "# ---------- Tests ----------\n",
    "\n",
    "\n",
    "def test_suma_de_numeros_racionales_funciona_correctamente():\n",
    "    a = NumeroRacional(2,5)\n",
    "    b = NumeroRacional(4,5)\n",
    "    c = NumeroRacional(2,5)\n",
    "    d = NumeroRacional(3,6)\n",
    "    \n",
    "    assert a + b == NumeroRacional(6,5)\n",
    "    assert c + d == NumeroRacional(27,30)\n",
    "\n",
    "    \n",
    "    \n",
    "def test_resta_de_numeros_racionales_funciona_correctamente():\n",
    "    a = NumeroRacional(2,5)\n",
    "    b = NumeroRacional(4,5)\n",
    "    c = NumeroRacional(2,5)\n",
    "    d = NumeroRacional(3,6)\n",
    "    \n",
    "    assert a - b == NumeroRacional(-2,5)\n",
    "    assert c - d == NumeroRacional(-3,30)\n",
    "    \n",
    "\n",
    "def test_multiplicacion_de_numeros_racionales_funciona_correctamente():\n",
    "    a = NumeroRacional(2,5)\n",
    "    b = NumeroRacional(3,-2)\n",
    "    \n",
    "    assert a * b == NumeroRacional(6,-10)\n",
    "\n",
    "    \n",
    "\n",
    "def test_division_de_numeros_racionales_funciona_correctamente():\n",
    "    a = NumeroRacional(2,5)\n",
    "    b = NumeroRacional(3,-2)\n",
    "    \n",
    "    assert a / b == NumeroRacional(-4,15)\n",
    "\n",
    "\n",
    "    \n",
    "def test_denominador_cero_lanza_excepcion():\n",
    "    try:\n",
    "        NumeroRacional(4,0)\n",
    "        assert False, 'No se debe poder especificar un denominador igual a cero'\n",
    "    except DenominadorCero:\n",
    "        pass # El test funciona.\n",
    "    except:\n",
    "        assert False, 'No se debe poder especificar un denominador igual a cero'\n",
    "\n",
    "\n",
    "\n",
    "def test_division_por_cero_lanza_excepcion():\n",
    "    try:\n",
    "        a = NumeroRacional(2,5)\n",
    "        b = NumeroRacional(0,2)\n",
    "        a / b\n",
    "        assert False, 'No se debe poder dividir por cero'\n",
    "    except DivisionPorCero:\n",
    "        pass # El test funciona.\n",
    "    except:\n",
    "        assert False, 'No se debe poder dividir por cero'\n",
    "\n",
    "\n",
    "        \n",
    "# ---------- Ejecución de los tests ----------\n",
    "\n",
    "test_suma_de_numeros_racionales_funciona_correctamente()\n",
    "test_resta_de_numeros_racionales_funciona_correctamente()\n",
    "test_multiplicacion_de_numeros_racionales_funciona_correctamente()\n",
    "test_division_de_numeros_racionales_funciona_correctamente()\n",
    "test_denominador_cero_lanza_excepcion()\n",
    "test_division_por_cero_lanza_excepcion()\n",
    "\n",
    "\n",
    "\n",
    "# ---------- Visualización ----------\n",
    "\n",
    "a = NumeroRacional(1,2)\n",
    "print(a)"
   ]
  },
  {
   "cell_type": "code",
   "execution_count": 17,
   "id": "bbb2b8bc-6ee5-42d9-a03a-d58e5fb1cf2c",
   "metadata": {},
   "outputs": [
    {
     "name": "stdout",
     "output_type": "stream",
     "text": [
      "0 : [ d f ]\n",
      "1 : [ a e g ]\n",
      "2 : [ ]\n",
      "3 : [ b c ]\n",
      "\n"
     ]
    }
   ],
   "source": [
    "# Ejercicio 3\n",
    "\n",
    "from collections import deque\n",
    "\n",
    "class PrioridadFueraDeRango(Exception):\n",
    "    '''\n",
    "    Excepción que indica que una prioridad especificada está fuera del rango [0, prioridad máxima - 1].\n",
    "    '''\n",
    "    pass\n",
    "\n",
    "class PrioridadNoNumerica(Exception):\n",
    "    '''\n",
    "    Excepción que indica que una prioridad especificada no tiene un valor numérico (de tipo entero).\n",
    "    '''\n",
    "    pass\n",
    "\n",
    "class ColaPrioridad:\n",
    "    '''\n",
    "    Cola que permite almacenar objetos por prioridad. Los objetos con la misma prioridad se recuperan en orden de inserción (FIFO).\n",
    "    Los objetos se almacenan en un array (lista) de deques. Cada índice del array representa una prioridad, y los objetos almacenados\n",
    "    en el deque de ese índice son los objetos que tienen dicha prioridad.\n",
    "    '''\n",
    "    \n",
    "    def __init__(self, prioridad_maxima):\n",
    "        self.prioridad_maxima = prioridad_maxima\n",
    "        self.__inicializar_cola_prioridad()\n",
    "    \n",
    "    # Funcionalidades básicas\n",
    "    \n",
    "    def insertar(self, objeto, prioridad):\n",
    "        self.__validar_prioridad(prioridad)\n",
    "        self.cola_prioridad[prioridad].append(objeto)\n",
    "    \n",
    "    def extraer_con_prioridad(self, prioridad):\n",
    "        self.__validar_prioridad(prioridad)\n",
    "        deq = self.cola_prioridad[prioridad]\n",
    "        if len(deq) != 0:\n",
    "            return deq.popleft()\n",
    "        return None\n",
    "    \n",
    "    def extraer_maximo(self):\n",
    "        for i in range(len(self.cola_prioridad)-1, -1, -1):\n",
    "            deq = self.cola_prioridad[i]\n",
    "            if len(deq) != 0:\n",
    "                return deq.popleft()\n",
    "        return None\n",
    "    \n",
    "    # Funcionalidades extra\n",
    "    \n",
    "    def numero_de_elementos(self):\n",
    "        contador = 0  \n",
    "        for deq in self.cola_prioridad:\n",
    "            contador += len(deq)\n",
    "        return contador\n",
    "    \n",
    "    def numero_de_elementos_con_prioridad(self, prioridad):\n",
    "        self.__validar_prioridad(prioridad)\n",
    "        return len(self.cola_prioridad[prioridad])\n",
    "    \n",
    "    def esta_vacia(self):\n",
    "        return self.numero_de_elementos() == 0\n",
    "    \n",
    "    def vaciar(self):\n",
    "        self.__inicializar_cola_prioridad()\n",
    "        \n",
    "    # Métodos auxiliares\n",
    "\n",
    "    def __inicializar_cola_prioridad(self):\n",
    "        self.cola_prioridad = []\n",
    "        for _ in range(self.prioridad_maxima):\n",
    "             self.cola_prioridad.append(deque())\n",
    "    \n",
    "    def __validar_prioridad(self, prioridad):\n",
    "        if type(prioridad) is not int:\n",
    "            raise PrioridadNoNumerica('La prioridad debe ser un número entero.')       \n",
    "        if prioridad < 0 or prioridad >= self.prioridad_maxima:\n",
    "            raise PrioridadFueraDeRango(f'La prioridad {prioridad} está fuera de rango.')\n",
    "    \n",
    "    def __str__(self):\n",
    "        cola_str = ''\n",
    "        for i in range(len(self.cola_prioridad)):\n",
    "            deq = self.cola_prioridad[i]\n",
    "            cola_str += f'{i} : [ '\n",
    "            for item in deq:\n",
    "                cola_str += str(item) + ' '\n",
    "            cola_str += ']\\n'\n",
    "        return cola_str\n",
    "\n",
    "\n",
    "    \n",
    "# ---------- Tests ----------\n",
    "\n",
    "\n",
    "def test_extraer_con_prioridad_funciona_correctamente_tras_insertar():\n",
    "    cola = ColaPrioridad(4)\n",
    "    cola.insertar('a', 1)\n",
    "    cola.insertar('b', 2)\n",
    "    cola.insertar('c', 3)\n",
    "    cola.insertar('d', 1)\n",
    "    \n",
    "    assert cola.extraer_con_prioridad(2) == 'b'\n",
    "    assert cola.extraer_con_prioridad(1) == 'a'\n",
    "    assert cola.extraer_con_prioridad(1) == 'd'\n",
    "    assert cola.extraer_con_prioridad(3) == 'c'\n",
    "    assert cola.extraer_con_prioridad(0) == None\n",
    "    \n",
    "    \n",
    "\n",
    "def test_extraer_maximo_funciona_correctamente_tras_insertar():\n",
    "    cola = ColaPrioridad(4)\n",
    "    cola.insertar('a', 1)\n",
    "    cola.insertar('b', 2)\n",
    "    cola.insertar('c', 3)\n",
    "    cola.insertar('d', 1)\n",
    "    \n",
    "    assert cola.extraer_maximo() == 'c'\n",
    "    assert cola.extraer_maximo() == 'b'\n",
    "    assert cola.extraer_maximo() == 'a'\n",
    "    assert cola.extraer_maximo() == 'd'\n",
    "    assert cola.extraer_maximo() == None\n",
    "\n",
    "\n",
    "\n",
    "def test_tamanyo_correcto_tras_insertar():\n",
    "    cola = ColaPrioridad(4)\n",
    "    cola.insertar('a', 1)\n",
    "    cola.insertar('b', 2)\n",
    "    cola.insertar('c', 3)\n",
    "    cola.insertar('d', 1)\n",
    "    cola.insertar('e', 1)\n",
    "    \n",
    "    assert cola.numero_de_elementos() == 5\n",
    "\n",
    "\n",
    "\n",
    "def test_tamanyo_correcto_por_prioridad_tras_insertar():\n",
    "    cola = ColaPrioridad(4)\n",
    "    cola.insertar('a', 1)\n",
    "    cola.insertar('b', 0)\n",
    "    cola.insertar('c', 3)\n",
    "    cola.insertar('d', 1)\n",
    "    cola.insertar('e', 1)\n",
    "    \n",
    "    assert cola.numero_de_elementos_con_prioridad(0) == 1\n",
    "    assert cola.numero_de_elementos_con_prioridad(1) == 3\n",
    "    assert cola.numero_de_elementos_con_prioridad(2) == 0\n",
    "    assert cola.numero_de_elementos_con_prioridad(3) == 1\n",
    "\n",
    "    \n",
    "\n",
    "def test_tamanyo_cero_tras_vaciar():\n",
    "    cola = ColaPrioridad(4)\n",
    "    cola.insertar('a', 1)\n",
    "    cola.insertar('b', 2)\n",
    "    cola.insertar('c', 3)\n",
    "    \n",
    "    cola.vaciar()\n",
    "    \n",
    "    assert cola.numero_de_elementos() == 0\n",
    "    assert cola.esta_vacia()\n",
    "    \n",
    "    \n",
    "    \n",
    "def test_insertar_prioridad_no_numerica_lanza_excepcion():\n",
    "    try:\n",
    "        cola = ColaPrioridad(4)\n",
    "        cola.insertar('a', 'a')\n",
    "        assert False, 'No se debe poder especificar prioridad no numérica'\n",
    "    except PrioridadNoNumerica:\n",
    "        pass # El test funciona.\n",
    "    except:\n",
    "        assert False, 'No se debe poder especificar prioridad no numérica'\n",
    "\n",
    "        \n",
    "    \n",
    "def test_insertar_fuera_de_rango_lanza_excepcion():\n",
    "    try:\n",
    "        cola = ColaPrioridad(4)\n",
    "        cola.insertar('a', 5)\n",
    "        assert False, 'No se debe poder insertar objeto con prioridad fuera de rango'\n",
    "    except PrioridadFueraDeRango:\n",
    "        pass # El test funciona.\n",
    "    except:\n",
    "        assert False, 'No se debe poder insertar objeto con prioridad fuera de rango'\n",
    "\n",
    "\n",
    "        \n",
    "# ---------- Ejecución de los tests ----------\n",
    "\n",
    "test_extraer_con_prioridad_funciona_correctamente_tras_insertar()\n",
    "test_extraer_maximo_funciona_correctamente_tras_insertar()\n",
    "test_tamanyo_correcto_tras_insertar()\n",
    "test_tamanyo_correcto_por_prioridad_tras_insertar()\n",
    "test_tamanyo_cero_tras_vaciar()\n",
    "test_insertar_prioridad_no_numerica_lanza_excepcion()\n",
    "test_insertar_fuera_de_rango_lanza_excepcion()\n",
    "\n",
    "\n",
    "\n",
    "# ---------- Visualización ----------\n",
    "\n",
    "cola = ColaPrioridad(4)\n",
    "\n",
    "cola.insertar('a', 1)\n",
    "cola.insertar('b', 3)\n",
    "cola.insertar('c', 3)\n",
    "cola.insertar('d', 0)\n",
    "cola.insertar('e', 1)\n",
    "cola.insertar('f', 0)\n",
    "cola.insertar('g', 1)\n",
    "\n",
    "print(cola)"
   ]
  }
 ],
 "metadata": {
  "kernelspec": {
   "display_name": "Python 3",
   "language": "python",
   "name": "python3"
  },
  "language_info": {
   "codemirror_mode": {
    "name": "ipython",
    "version": 3
   },
   "file_extension": ".py",
   "mimetype": "text/x-python",
   "name": "python",
   "nbconvert_exporter": "python",
   "pygments_lexer": "ipython3",
   "version": "3.13.3"
  }
 },
 "nbformat": 4,
 "nbformat_minor": 5
}
