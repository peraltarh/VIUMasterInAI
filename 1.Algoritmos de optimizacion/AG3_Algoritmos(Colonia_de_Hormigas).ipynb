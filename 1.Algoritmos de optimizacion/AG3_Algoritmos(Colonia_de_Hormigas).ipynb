{
  "cells": [
    {
      "cell_type": "code",
      "execution_count": null,
      "metadata": {
        "id": "Ku6PrPEl9V4u"
      },
      "outputs": [],
      "source": [
        "#Modulo de llamadas http para descargar ficheros\n",
        "!pip install requests\n",
        "\n",
        "#Libreria del problema TSP: http://elib.zib.de/pub/mp-testdata/tsp/tsplib/tsplib.html\n",
        "!pip install tsplib95"
      ]
    },
    {
      "cell_type": "code",
      "execution_count": 2,
      "metadata": {
        "id": "lwwwi-Rr9haG"
      },
      "outputs": [],
      "source": [
        "import tsplib95\n",
        "import random\n",
        "from math import e\n",
        "import urllib.request\n",
        "import gzip\n",
        "import shutil"
      ]
    },
    {
      "cell_type": "code",
      "execution_count": 3,
      "metadata": {
        "id": "NpUqeOgl9yiK"
      },
      "outputs": [],
      "source": [
        "#DATOS DEL PROBLEMA\n",
        "file = \"swiss42.tsp\" ; urllib.request.urlretrieve(\"http://comopt.ifi.uni-heidelberg.de/software/TSPLIB95/tsp/swiss42.tsp.gz\", file + '.gz')\n",
        "\n",
        "with gzip.open('swiss42.tsp.gz', 'rb') as f_in:\n",
        "    with open('swiss42.tsp', 'wb') as f_out:\n",
        "        shutil.copyfileobj(f_in, f_out)\n",
        "\n",
        "\n",
        "#!gzip -d swiss42.tsp.gz     #Descomprimir el fichero de datos\n",
        "problem = tsplib95.load(file)\n",
        "\n",
        "#Nodos\n",
        "Nodos = list(problem.get_nodes())\n",
        "\n",
        "#Devuelve la distancia entre dos nodos\n",
        "def distancia(a,b, problem):\n",
        "  return problem.get_weight(a,b)\n",
        "\n",
        "#Devuelve la distancia total de una trayectoria/solucion(lista de nodos)\n",
        "def distancia_total(solucion, problem):\n",
        "  distancia_total = 0\n",
        "  for i in range(len(solucion)-1):\n",
        "    distancia_total += distancia(solucion[i] ,solucion[i+1] ,  problem)\n",
        "  return distancia_total + distancia(solucion[len(solucion)-1] ,solucion[0], problem)\n"
      ]
    },
    {
      "cell_type": "markdown",
      "metadata": {
        "id": "hil3PCXB9iWf"
      },
      "source": [
        "##Algoritmo de colonia de hormigas\n",
        "\n",
        "La función Add_Nodo selecciona al azar un nodo con probabilidad uniforme.\n",
        "Para ser mas eficiente debería seleccionar el próximo nodo siguiendo la probabilidad correspondiente a la ecuación:\n",
        "\n",
        "$p^k_{ij}(t) = \\frac{[\\tau_{ij}(t)]^\\alpha[\\nu_{ij}]^\\beta}{\\sum_{l\\in J^k_i} [\\tau_{il}(t)]^\\alpha[\\nu_{il}]^\\beta}$, si $j \\in J^k_i$\n",
        "\n",
        "$p^k_{ij}(t) = 0$, si $j \\notin J^k_i$"
      ]
    },
    {
      "cell_type": "code",
      "execution_count": 25,
      "metadata": {
        "id": "BzzL8A_w-BeZ"
      },
      "outputs": [],
      "source": [
        "import numpy\n",
        "def Add_Nodo(problem, H ,T ) :\n",
        "  # Mejora:Establecer una funcion de probabilidad para\n",
        "  # añadir un nuevo nodo dependiendo de los nodos mas cercanos y de las feromonas depositadas\n",
        "  Nodos = list(problem.get_nodes())\n",
        "  return random.choice(   list(set(range(1,len(Nodos))) - set(H) )  )\n",
        "\n",
        "\n",
        "def Add_Nodo_improved(problem, H ,T ) :\n",
        "  # Mejora:Establecer una funcion de probabilidad para\n",
        "  # añadir un nuevo nodo dependiendo de los nodos mas cercanos y de las feromonas depositadas\n",
        "  Nodos = list(problem.get_nodes())\n",
        "  alfa = 0.5\n",
        "  beta = 1-alfa\n",
        "  nodos_pend = list(set(range(1,len(Nodos))) - set(H))\n",
        "  i = H[-1]\n",
        "  v = [(1/problem.get_weight(i, n))**alfa for n in nodos_pend]\n",
        "  tau = [T[i][n]**beta for n in nodos_pend]\n",
        "  p_ik = [v[i]*tau[i] for i in range(len(nodos_pend))]\n",
        "  sp = sum(p_ik)\n",
        "  p_ik = [p/sp for p in p_ik]\n",
        "\n",
        "  return numpy.random.choice(list(set(range(1,len(Nodos))) - set(H)), p=p_ik, size=1)[0]\n",
        "\n",
        "\n",
        "def Incrementa_Feromona(problem, T, H ) :\n",
        "  #Incrementa segun la calidad de la solución. Añadir una cantidad inversamente proporcional a la distancia total\n",
        "  for i in range(len(H)-1):\n",
        "    T[H[i]][H[i+1]] += 1000/distancia_total(H, problem)\n",
        "  return T\n",
        "\n",
        "def Evaporar_Feromonas(T ):\n",
        "  #Evapora 0.3 el valor de la feromona, sin que baje de 1\n",
        "  #Mejora:Podemos elegir diferentes funciones de evaporación dependiendo de la cantidad actual y de la suma total de feromonas depositadas,...\n",
        "  T = [[ max(T[i][j] - 0.3 , 1) for i in range(len(Nodos)) ] for j in range(len(Nodos))]\n",
        "  return T\n",
        "\n",
        "\n",
        "def Evaporar_Feromonas2(T ):\n",
        "  for j in range(len(Nodos)):\n",
        "    for i in range(len(Nodos)):\n",
        "      T[i][j] = max(T[i][j] - 0.3 , 1)  \n",
        "  return T"
      ]
    },
    {
      "cell_type": "code",
      "execution_count": 28,
      "metadata": {
        "colab": {
          "base_uri": "https://localhost:8080/"
        },
        "id": "8H08lRY7-Emq",
        "outputId": "71c15d2d-a03a-4ee0-a00a-2db946745e15"
      },
      "outputs": [
        {
          "name": "stdout",
          "output_type": "stream",
          "text": [
            "[0, np.int64(26), np.int64(19), np.int64(5), np.int64(18), np.int64(3), np.int64(29), np.int64(28), np.int64(36), np.int64(15), np.int64(14), np.int64(13), np.int64(16), np.int64(37), np.int64(7), np.int64(23), np.int64(22), np.int64(39), np.int64(10), np.int64(41), np.int64(9), np.int64(4), np.int64(32), np.int64(27), np.int64(2), np.int64(33), np.int64(24), np.int64(21), np.int64(35), np.int64(17), np.int64(31), np.int64(20), np.int64(38), np.int64(25), np.int64(30), np.int64(8), np.int64(12), np.int64(1), np.int64(6), np.int64(11), np.int64(40), np.int64(34)]\n",
            "3352\n"
          ]
        }
      ],
      "source": [
        "def hormigas(problem, N) :\n",
        "  #problem = datos del problema\n",
        "  #N = Número de agentes(hormigas)\n",
        "\n",
        "  #Nodos\n",
        "  Nodos = list(problem.get_nodes())\n",
        "  #Aristas\n",
        "  Aristas = list(problem.get_edges())\n",
        "\n",
        "  #Inicializa las aristas con una cantidad inicial de feromonas:1\n",
        "  #Mejora: inicializar con valores diferentes dependiendo diferentes criterios\n",
        "  T = [[ 1 for _ in range(len(Nodos)) ] for _ in range(len(Nodos))]\n",
        "\n",
        "  #Se generan los agentes(hormigas) que serán estructuras de caminos desde 0\n",
        "  Hormiga = [[0] for _ in range(N)]\n",
        "\n",
        "  #Recorre cada agente construyendo la solución\n",
        "  for h in range(N) :\n",
        "    #Para cada agente se construye un camino\n",
        "    for i in range(len(Nodos)-1) :\n",
        "\n",
        "      #Elige el siguiente nodo\n",
        "      Nuevo_Nodo = Add_Nodo_improved(problem, Hormiga[h] ,T )\n",
        "      Hormiga[h].append(Nuevo_Nodo)\n",
        "\n",
        "    #Incrementa feromonas en esa arista\n",
        "    T = Incrementa_Feromona(problem, T, Hormiga[h] )\n",
        "    #print(\"Feromonas(1)\", T)\n",
        "\n",
        "    #Evapora Feromonas\n",
        "    T = Evaporar_Feromonas(T)\n",
        "    #print(\"Feromonas(2)\", T)\n",
        "\n",
        "    #Seleccionamos el mejor agente\n",
        "  mejor_solucion = []\n",
        "  mejor_distancia = 10e100\n",
        "  for h in range(N) :\n",
        "    distancia_actual = distancia_total(Hormiga[h], problem)\n",
        "    if distancia_actual < mejor_distancia:\n",
        "      mejor_solucion = Hormiga[h]\n",
        "      mejor_distancia =distancia_actual\n",
        "\n",
        "\n",
        "  print(mejor_solucion)\n",
        "  print(mejor_distancia)\n",
        "\n",
        "\n",
        "hormigas(problem, 3000)"
      ]
    }
  ],
  "metadata": {
    "colab": {
      "provenance": []
    },
    "kernelspec": {
      "display_name": "Python 3",
      "name": "python3"
    },
    "language_info": {
      "codemirror_mode": {
        "name": "ipython",
        "version": 3
      },
      "file_extension": ".py",
      "mimetype": "text/x-python",
      "name": "python",
      "nbconvert_exporter": "python",
      "pygments_lexer": "ipython3",
      "version": "3.13.3"
    }
  },
  "nbformat": 4,
  "nbformat_minor": 0
}
