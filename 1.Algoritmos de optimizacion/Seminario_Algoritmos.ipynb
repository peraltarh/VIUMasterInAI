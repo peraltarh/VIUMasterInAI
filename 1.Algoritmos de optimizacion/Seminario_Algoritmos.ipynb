{
  "cells": [
    {
      "cell_type": "markdown",
      "metadata": {
        "id": "hVbXYX-RfPWh"
      },
      "source": [
        "# Algoritmos de optimización - Seminario<br>\n",
        "Nombre y Apellidos:   <br>\n",
        "Url: https://github.com/peraltarh/VIUMasterInAI/blob/main/1.Algoritmos%20de%20optimizacion/Seminario_Algoritmos.ipynb<br>\n",
        "Problema:\n",
        "> 1. Sesiones de doblaje <br>\n",
        "\n",
        "Descripción del problema:\n",
        "\n",
        "Se precisa coordinar el doblaje de una película. Los actores del doblaje deben coincidir en las\n",
        "tomas en las que sus personajes aparecen juntos en las diferentes tomas. Los actores de\n",
        "doblaje cobran todos la misma cantidad por cada día que deben desplazarse hasta el estudio de\n",
        "grabación independientemente del número de tomas que se graben. No es posible grabar más\n",
        "de 6 tomas por día. El objetivo es planificar las sesiones por día de manera que el gasto por los\n",
        "servicios de los actores de doblaje sea el menor posible.\n",
        "\n",
        "Número de actores: 10\n",
        "\n",
        "Número de tomas : 30\n",
        "\n",
        "\n",
        "Esto se afrontara como un Crew Scheduling Problem o Minimum Cost Crew Assignment, por lo que busque en google la mejor forma de hacerlo es con Greedy Heuristic, algunos incluyen opcionalmente Local search como mejora.\n",
        "\n",
        "....\n",
        "\n",
        "(*) La respuesta es obligatoria\n",
        "\n",
        "\n",
        "\n",
        "\n",
        "\n",
        "                                        "
      ]
    },
    {
      "cell_type": "code",
      "execution_count": 1,
      "metadata": {},
      "outputs": [],
      "source": [
        "import numpy as np\n",
        "import pandas as pd\n",
        "import random\n",
        "from os import path as osp\n",
        "# Load dataset\n",
        "fpath = osp.join(\"res\", \"Doblaje.csv\")\n",
        "df = pd.read_csv(fpath, sep=',', header=1, index_col=0, engine='python')\n",
        "\n",
        "# Drop the last 2 columns and the last row\n",
        "df = df.iloc[:-2, :-2]\n",
        "\n",
        "# Convert to a 2D list of integers\n",
        "#sessions = df.astype(int).values.tolist() # doblaje[][]\n",
        "sessions = np.array(df)  # Convert to numpy array for easier manipulation"
      ]
    },
    {
      "cell_type": "code",
      "execution_count": 44,
      "metadata": {
        "id": "AiskKkzZfy4e"
      },
      "outputs": [
        {
          "name": "stdout",
          "output_type": "stream",
          "text": [
            "Forcing always 6 scenes per day:\n",
            "Scenes of day 1:[14, 2, 3, 4, 5, 6]\n",
            "Scenes of day 2:[24, 8, 15, 27, 29, 7]\n",
            "Scenes of day 3:[16, 18, 22, 13, 17, 23]\n",
            "Scenes of day 4:[10, 0, 1, 12, 19, 21]\n",
            "Scenes of day 5:[26, 20, 28, 9, 11, 25]\n",
            "Total times I have to pay if these scenes are scheduled (greedy): 28\n",
            "Without Forcing 6 scenes per day:\n",
            "Scenes of day 1:[5, 0, 2, 3, 7, 9]\n",
            "Scenes of day 2:[13, 20, 27, 1, 4, 14]\n",
            "Scenes of day 3:[19, 6, 10, 11, 15, 25]\n",
            "Scenes of day 4:[16, 17, 28, 12, 8, 24]\n",
            "Scenes of day 5:[21, 23, 26]\n",
            "Scenes of day 6:[18, 29]\n",
            "Scenes of day 7:[22]\n",
            "Total times I have to pay if these scenes are scheduled (greedy): 44\n"
          ]
        }
      ],
      "source": [
        "def scenes_organization_gh(sessions, skip_scenes):\n",
        "    '''Initialize:\n",
        "    Create a list of all unassigned scenes (0 to 29).\n",
        "    Create an empty list for each day to store assigned scenes.\n",
        "    '''\n",
        "\n",
        "    #sessions = np.array(df)  # Convert to numpy array for easier manipulation\n",
        "    num_scenes = sessions.shape[0]\n",
        "    unassigned = set(range(num_scenes))\n",
        "    days = []\n",
        "\n",
        "    '''While there are unassigned scenes:\n",
        "\n",
        "    Pick an unassigned scene as the \"seed\" for a new day.\n",
        "    For this day, try to add up to 5 more unassigned scenes that have the most overlap in actors with the current group (i.e., adding them increases the set of unique actors as little as possible).\n",
        "    Assign these scenes to the current day and remove them from the unassigned list.'''\n",
        "\n",
        "    while unassigned:\n",
        "        # Start a new day with the first unassigned scene, this was not a good idea, it ended always with the same result\n",
        "        #day_scenes = [unassigned.pop()]\n",
        "        \n",
        "        # Pick a random scene from unassigned instead\n",
        "        seed_scene = random.choice(list(unassigned))\n",
        "        day_scenes = [seed_scene]\n",
        "        unassigned.remove(seed_scene)\n",
        "            \n",
        "        # Get the set of actors present in the first scene\n",
        "        actors_in_day = set(np.where(sessions[day_scenes[0]] == 1)[0])\n",
        "        \n",
        "        # Try to add up to 5 more scenes to this day\n",
        "        for _ in range(5):\n",
        "            best_scene = None\n",
        "            best_increase = None\n",
        "            for scene in unassigned: # Iterate over unassigned scenes\n",
        "                # Calculate the increase in unique actors if this scene is added\n",
        "                # actors_in_day is the set of actors already assigned to this day\n",
        "                # actors_in_scene is the set of actors in the currently analized scene\n",
        "                actors_in_scene = set(np.where(sessions[scene] == 1)[0])\n",
        "                # This was intended to skip scenes have only actors not currently present but it ended up generating worse results\n",
        "                if skip_scenes and actors_in_scene.difference(actors_in_day) == set():\n",
        "                    continue  # Skip if no new actors repeat\n",
        "                increase = len(actors_in_day | actors_in_scene) - len(actors_in_day)\n",
        "                if best_scene is None or increase < best_increase:\n",
        "                    best_scene = scene\n",
        "                    best_increase = increase\n",
        "            if best_scene is not None:\n",
        "                day_scenes.append(best_scene)\n",
        "                actors_in_day |= set(np.where(sessions[best_scene] == 1)[0]) # Update the set of actors |= is union\n",
        "                unassigned.remove(best_scene)\n",
        "            else:\n",
        "                break\n",
        "        days.append(day_scenes)\n",
        "    return days\n",
        "\n",
        "def calc_cost(days,sessions):\n",
        "    ''' Count:\n",
        "\n",
        "    For each day, count the unique actors present (i.e., any actor with a 1 in any assigned scene for that day).\n",
        "    Sum over all days to get the total actor-days.'''\n",
        "\n",
        "    # Calculate total actor-days\n",
        "    total_actor_days = 0\n",
        "    day = 0\n",
        "    for day_scenes in days:\n",
        "        actors = set()\n",
        "        for scene in day_scenes:\n",
        "            actors |= set(np.where(sessions[scene] == 1)[0])\n",
        "        total_actor_days += len(actors)\n",
        "        day += 1 \n",
        "        #print(f'Scenes of day {day}:{day_scenes}')\n",
        "    return total_actor_days\n",
        "\n",
        "\n",
        "total_actor_days = 99999\n",
        "days = []\n",
        "\n",
        "print('Forcing always 6 scenes per day:')\n",
        "for t in range(100): # A bit of an improvement, find the best option in X tries, in this case 100 because it was the number that gave me 27 most of the time\n",
        "    days_n = scenes_organization_gh(sessions, False)\n",
        "    total_actor_days_n = calc_cost(days_n,sessions)\n",
        "    if total_actor_days_n < total_actor_days:\n",
        "        total_actor_days = total_actor_days_n\n",
        "        days = days_n\n",
        "day = 1\n",
        "for day_scenes in days:\n",
        "    print(f'Scenes of day {day}:{day_scenes}')\n",
        "    day += 1\n",
        "\n",
        "print(\"Total times I have to pay if these scenes are scheduled (greedy):\", total_actor_days)\n",
        "\n",
        "total_actor_days = 99999\n",
        "days = []\n",
        "\n",
        "print('Without Forcing 6 scenes per day:')\n",
        "for t in range(1):\n",
        "    days_n = scenes_organization_gh(sessions, True)\n",
        "    total_actor_days_n = calc_cost(days_n,sessions)\n",
        "    if total_actor_days_n < total_actor_days:\n",
        "        total_actor_days = total_actor_days_n\n",
        "        days = days_n\n",
        "day = 1\n",
        "for day_scenes in days:\n",
        "    print(f'Scenes of day {day}:{day_scenes}')\n",
        "    day += 1\n",
        "\n",
        "print(\"Total times I have to pay if these scenes are scheduled (greedy):\", total_actor_days)\n",
        "\n",
        "\n"
      ]
    },
    {
      "cell_type": "code",
      "execution_count": 45,
      "metadata": {},
      "outputs": [
        {
          "name": "stdout",
          "output_type": "stream",
          "text": [
            "Day 1: Scenes [2, 3, 7, 14, 20, 28]\n",
            "Day 2: Scenes [5, 8, 12, 26, 27, 29]\n",
            "Day 3: Scenes [9, 11, 15, 19, 24, 25]\n",
            "Day 4: Scenes [0, 1, 4, 6, 10, 21]\n",
            "Day 5: Scenes [13, 16, 17, 18, 22, 23]\n",
            "Total times I have to pay if these scenes are scheduled (Solver): 27\n",
            "Solver result is: OPTIMAL\n"
          ]
        }
      ],
      "source": [
        "# Source https://developers.google.com/optimization/scheduling/employee_scheduling?hl=es-419#scheduling_with_shift_requests\n",
        "# I was trying with a solver to compare results, google implements something similar but for maximizing nurses shifts.\n",
        "# Interesting enough the this solver returns the 27 as the best solution, same as the greedy algorithm above.\n",
        "# With this solver I cant find a way to allow more than 5 days (num_scenees / max_scenes_per_day)\n",
        "\n",
        "from ortools.sat.python import cp_model\n",
        "\n",
        "# Sessions is scenes x actors\n",
        "num_scenes, num_actors = sessions.shape\n",
        "max_scenes_per_day = 6\n",
        "max_days = int(num_scenes / max_scenes_per_day)\n",
        "\n",
        "\n",
        "model = cp_model.CpModel()\n",
        "\n",
        "# Variables for the solver\n",
        "# scene_day[s][d] = 1 if scene s is assigned to day d\n",
        "scene_day = []\n",
        "for s in range(num_scenes):\n",
        "    scene_day.append([model.NewBoolVar(f'scene_{s}_day_{d}') for d in range(max_days)])\n",
        "\n",
        "# actor_day[a][d] = 1 if actor a is present on day d\n",
        "actor_day = []\n",
        "for a in range(num_actors):\n",
        "    actor_day.append([model.NewBoolVar(f'actor_{a}_day_{d}') for d in range(max_days)])\n",
        "\n",
        "# Constraints\n",
        "# Each scene assigned to exactly one day\n",
        "for s in range(num_scenes):\n",
        "    model.Add(sum(scene_day[s][d] for d in range(max_days)) == 1)\n",
        "\n",
        "# No more than X scenes per day\n",
        "for d in range(max_days):\n",
        "    model.Add(sum(scene_day[s][d] for s in range(num_scenes)) <= max_scenes_per_day)\n",
        "\n",
        "# If an actor appears in any scene on a day, they must be present that day\n",
        "for a in range(num_actors):\n",
        "    for d in range(max_days):\n",
        "        for s in range(num_scenes):\n",
        "            if sessions[s, a] == 1:\n",
        "                # If scene s is assigned to day d and actor a is in scene s, actor a must be present that day\n",
        "                model.AddImplication(scene_day[s][d], actor_day[a][d])\n",
        "        # If actor_day[a][d] is True, at least one scene assigned to day d must require actor a\n",
        "        model.AddMaxEquality(actor_day[a][d], [scene_day[s][d] if sessions[s, a] == 1 else model.NewConstant(0) for s in range(num_scenes)])\n",
        "\n",
        "# Objective: Minimize total actor-days\n",
        "model.Minimize(sum(actor_day[a][d] for a in range(num_actors) for d in range(max_days)))\n",
        "\n",
        "# Solve\n",
        "solver = cp_model.CpSolver()\n",
        "status = solver.Solve(model)\n",
        "\n",
        "\n",
        "if status in (cp_model.OPTIMAL, cp_model.FEASIBLE):\n",
        "    total_actor_days = int(solver.ObjectiveValue())\n",
        "    # Print schedule\n",
        "    for d in range(max_days):\n",
        "        scenes_today = [s for s in range(num_scenes) if solver.Value(scene_day[s][d])]\n",
        "        if scenes_today:\n",
        "            print(f'Day {d+1}: Scenes {scenes_today}')\n",
        "    print(\"Total times I have to pay if these scenes are scheduled (Solver):\", total_actor_days)\n",
        "    print(\"Solver result is:\", solver.StatusName(status))\n",
        "\n",
        "else:\n",
        "    print('No solution found.')"
      ]
    },
    {
      "cell_type": "markdown",
      "metadata": {
        "id": "3_-exlrTgLd-"
      },
      "source": [
        "(*)¿Cuantas posibilidades hay sin tener en cuenta las restricciones?<br>\n",
        "\n",
        "¿Cuantas posibilidades hay teniendo en cuenta todas las restricciones?\n",
        "\n",
        "\n"
      ]
    },
    {
      "cell_type": "markdown",
      "metadata": {
        "id": "WfCUqJyKhPcw"
      },
      "source": [
        "Respuesta"
      ]
    },
    {
      "cell_type": "markdown",
      "metadata": {},
      "source": [
        "Sin restricciones simplemente llevaria a todos los actores un mismo dia y haria todas las sesiones ese dia. Habria una sola posibilidad que seria todas las tomas juntas.\n",
        "\n",
        "Con restricciones, de la manera que he implmentado el algoritmo hay muchas, al comienzo toma una random tengo 30 potenciales sesiones y luego se seleccionan las mejores opciones para los actores en esa escena y en las que se van agregando al dia. Ya que esto se hace sistematicametne de la misma manera habira 30 combinaciones para el 1er dia, leugo se repoite el proceso en los dias siguientes con las 24, 18, 12, 6 sessiones, con lo que la combinatoria seria el resuldato de 30 * 24 * 18 * 12 * 6\n",
        "\n",
        "Las mejores son las que pagare 27 veces."
      ]
    },
    {
      "cell_type": "markdown",
      "metadata": {
        "id": "dzynfVJahHoY"
      },
      "source": [
        "Modelo para el espacio de soluciones<br>\n",
        "(*) ¿Cual es la estructura de datos que mejor se adapta al problema? Argumentalo.(Es posible que hayas elegido una al principio y veas la necesidad de cambiar, arguentalo)\n"
      ]
    },
    {
      "cell_type": "markdown",
      "metadata": {
        "id": "xFIJrOwKi2Ti"
      },
      "source": [
        "Respuesta"
      ]
    },
    {
      "cell_type": "markdown",
      "metadata": {},
      "source": [
        "Yo defini sessions como un np.array, lo seleccione porque el archivo incial ya tiene un formato de nxm que facilmemte se puede representar de esta manera y es facil para iterar y correlacionar."
      ]
    },
    {
      "cell_type": "markdown",
      "metadata": {
        "id": "hBalWLM7j1_d"
      },
      "source": [
        "Según el modelo para el espacio de soluciones\n",
        "\n",
        "(*)¿Cual es la función objetivo?\n",
        "\n",
        "(*)¿Es un problema de maximización o minimización?\n",
        "Respuesta"
      ]
    },
    {
      "cell_type": "markdown",
      "metadata": {},
      "source": [
        "La funcion objetivo es minimizar el número total de veces que se tiene que pagar a los actores por aparecer en las escenas asignadas a cada día.\n",
        "Es un problema de minimización de costos"
      ]
    },
    {
      "cell_type": "markdown",
      "metadata": {
        "id": "rlnTYgY1j6I2"
      },
      "source": [
        "Diseña un algoritmo para resolver el problema por fuerza bruta"
      ]
    },
    {
      "cell_type": "markdown",
      "metadata": {
        "id": "70rDgxYXkC8r"
      },
      "source": [
        "Respuesta"
      ]
    },
    {
      "cell_type": "code",
      "execution_count": null,
      "metadata": {
        "id": "CJb5sQ0qkENy"
      },
      "outputs": [
        {
          "name": "stdout",
          "output_type": "stream",
          "text": [
            "Best Scene Combination: [[0, 1, 3], [2, 4, 5]]\n",
            "I have to pay: 5\n"
          ]
        }
      ],
      "source": [
        "# This is a brute force approach to find the best combination of scenes per day\n",
        "# It generates all possible partitions of scenes into groups of up to max_per_day\n",
        "# and calculates the cost for each partition, returning the one with the minimum cost\n",
        "\n",
        "# This is used for generating all possible partitions of scenes into groups\n",
        "import itertools \n",
        "import numpy as np\n",
        "\n",
        "# Using a samll exaomple of scenes just to test the algorithm: 6 scenes, 3 actors\n",
        "doblaje = np.array([\n",
        "    [1, 0, 1],\n",
        "    [1, 1, 0],\n",
        "    [0, 1, 1],\n",
        "    [1, 0, 0],\n",
        "    [0, 1, 0],\n",
        "    [0, 0, 1]\n",
        "])\n",
        "\n",
        "num_scenes, num_actors = doblaje.shape\n",
        "max_per_day = 3  # Testing with 3 scenes per day\n",
        "\n",
        "# Generate all possible partitions of scenes into groups of up to max_per_day\n",
        "def all_partitions(scenes, max_group_size):\n",
        "    if not scenes:\n",
        "        yield []\n",
        "        return\n",
        "    for i in range(1, min(len(scenes), max_group_size) + 1):\n",
        "        for group in itertools.combinations(scenes, i):\n",
        "            rest = [s for s in scenes if s not in group]\n",
        "            for partition in all_partitions(rest, max_group_size):\n",
        "                yield [list(group)] + partition\n",
        "\n",
        "scenes = list(range(num_scenes))\n",
        "min_cost = float('inf')\n",
        "best_partition = None\n",
        "\n",
        "# For each partition, calculate the cost (number of unique actors per day)\n",
        "# and find the one with the minimum cost\n",
        "for partition in all_partitions(scenes, max_per_day):\n",
        "    cost = 0\n",
        "    for day in partition:\n",
        "        actors = set()\n",
        "        for scene in day:\n",
        "            actors |= set(np.where(doblaje[scene] == 1)[0])\n",
        "        cost += len(actors)\n",
        "    if cost < min_cost:\n",
        "        min_cost = cost\n",
        "        best_partition = partition\n",
        "\n",
        "print(\"Best Scene Combination:\", best_partition)\n",
        "print(\"I have to pay:\", min_cost)"
      ]
    },
    {
      "cell_type": "markdown",
      "metadata": {
        "id": "tgrnsC2nkFa8"
      },
      "source": [
        "Calcula la complejidad del algoritmo por fuerza bruta"
      ]
    },
    {
      "cell_type": "markdown",
      "metadata": {
        "id": "9eUd3xwckP68"
      },
      "source": [
        "Respuesta"
      ]
    },
    {
      "cell_type": "markdown",
      "metadata": {},
      "source": [
        "\n",
        "\n",
        "Por lo que lei, si no se tuvieran restrincciones seria B(n) que corresponde a algo llamado Numero Bell, una serie que crece mas rapido que la exponencial: https://es.wikipedia.org/wiki/N%C3%BAmero_de_Bell \n",
        "\n",
        "Al tener las resticciones es calculable en muestras chicas, se tomaria una combinatoria de todas las posibles escenas (n) en grupos de Max_Scenes (k), entonces si llamamos a esto P(n, k) y:\n",
        "\n",
        "n es el numero de escenas\n",
        "\n",
        "a es el numero de actores\n",
        "\n",
        "k es el numero maximo de escenas por dia\n",
        "\n",
        "Seria O(n * a * P(n, k))\n",
        "\n",
        "El problema es que P(n, k) crece como mas rapido que una exponencial y no seria calculable para 30 escenas.\n",
        "\n"
      ]
    },
    {
      "cell_type": "markdown",
      "metadata": {
        "id": "txbrmLmskReM"
      },
      "source": [
        "(*)Diseña un algoritmo que mejore la complejidad del algortimo por fuerza bruta. Argumenta porque crees que mejora el algoritmo por fuerza bruta"
      ]
    },
    {
      "cell_type": "markdown",
      "metadata": {
        "id": "hLrVwt5QkZPD"
      },
      "source": [
        "Respuesta"
      ]
    },
    {
      "cell_type": "markdown",
      "metadata": {},
      "source": [
        "Entiendo que mi algoritmo iriginal es una mejora de fuerza bruta : scenes_organization_gh\n",
        "\n",
        "El algoritmo propuesto consiste en seleccionar una seleccionar una escena de forma aleatoria y asignarle al mismo dia de rodado aquellas escena que compartan la mayor cantidad de actores.\n",
        "Tambien acelero el tiempo de procesamiento eliminando las escenas ya seleccionadas de la lista para analisis, esto hace los ciclos cada vez nas cortos ya que hay menos escenas para analizar.\n",
        "\n",
        "No estoy haciendo una combinatoria sino que estoy basandome en la escena aleatoria seleccionada, esto puede traer como consecuencia que la seed no sea la optima y el resultado sea mas alto que el ideal.\n",
        "\n",
        "Mi algoritmo comparado con el de fuerza bruta no devuelve simpre la mejor opcion, sin embargo al ser computacionalmente mas rapido se puede correr muchas veces y seleccionar el mejor resultado (lo que he hecho). Al agregar este paso casi siempre se obtiene la mejor solucion y se resuleve en un tiempo computacional de segundos. Se podria tambien implementar una busqueda local pero ya que con probar 100 veces en 2 seg obtengo casi siempre el resultado optimo no vi motivo.\n",
        "\n",
        "Si utlizaramos fuerza bruta para el caso planteado el proceso no terminaria nunca ya que la combinatoria de 30 escenas es tan grande que no habira forma de resolverla, incluso con la restriccion de 6 escenas por dia."
      ]
    },
    {
      "cell_type": "markdown",
      "metadata": {
        "id": "eGDB4K6uk1iN"
      },
      "source": [
        "(*)Calcula la complejidad del algoritmo"
      ]
    },
    {
      "cell_type": "markdown",
      "metadata": {
        "id": "NhpTh_BPk1ms"
      },
      "source": [
        "Respuesta"
      ]
    },
    {
      "cell_type": "markdown",
      "metadata": {},
      "source": [
        "Para cada dia, se selecciona una escena ( n ) semilla y se buscan ( k-1 ) escenas adicionales (siendo ( k ) el máximo de escenas por día, por ejemplo 6.). La cantidad de dias de rodado estara dada por n/k (En este caso 30/6 = 5 ciclos)\n",
        "\n",
        "Para cada selección, se evalúan hasta escenas restantes ( n! ), y para cada una se calcula el numero de actores únicos ( a siendo a el número de actores ).\n",
        "\n",
        "Por lo tanto, la complejidad es aproximadamente:\n",
        "\n",
        "O(n/k × n! × a)\n",
        "\n",
        "\n",
        "\n",
        "\n"
      ]
    },
    {
      "cell_type": "markdown",
      "metadata": {
        "id": "3M6QjTsSkmYe"
      },
      "source": [
        "Según el problema (y tenga sentido), diseña un juego de datos de entrada aleatorios"
      ]
    },
    {
      "cell_type": "markdown",
      "metadata": {
        "id": "Jc3_OlyNkvjZ"
      },
      "source": [
        "Respuesta"
      ]
    },
    {
      "cell_type": "code",
      "execution_count": 33,
      "metadata": {},
      "outputs": [],
      "source": [
        "def generate_random_scenes(num_scenes, num_actors):\n",
        "    # Assign a random probability for each actor\n",
        "    probs = np.random.uniform(0.1, 0.9, size=num_actors)\n",
        "\n",
        "    # Initialize the doblaje matrix with zeros\n",
        "    scenes = np.zeros((num_scenes, num_actors), dtype=int)\n",
        "\n",
        "    # For each scene, randomly assign actors based on their individual probabilities\n",
        "    for a in range(num_actors):\n",
        "        scenes[:, a] = (np.random.rand(num_scenes) < probs[a]).astype(int)\n",
        "    return scenes\n",
        "\n",
        "# Test\n",
        "scenes = generate_random_scenes(30, 10)"
      ]
    },
    {
      "cell_type": "markdown",
      "metadata": {
        "id": "zy5ZROmjlGo1"
      },
      "source": [
        "Aplica el algoritmo al juego de datos generado"
      ]
    },
    {
      "cell_type": "markdown",
      "metadata": {
        "id": "_Cmj-PVylMsa"
      },
      "source": [
        "Respuesta"
      ]
    },
    {
      "cell_type": "code",
      "execution_count": 42,
      "metadata": {
        "id": "Jkx8GeiYlUz1"
      },
      "outputs": [
        {
          "name": "stdout",
          "output_type": "stream",
          "text": [
            "Forcing always 6 scenes per day:\n",
            "Scenes of day 1:[19, 1, 12, 16, 18, 22]\n",
            "Scenes of day 2:[21, 8, 27, 29, 0, 5]\n",
            "Scenes of day 3:[23, 17, 13, 7, 9, 11]\n",
            "Scenes of day 4:[26, 15, 2, 4, 3, 6]\n",
            "Scenes of day 5:[20, 28, 10, 14, 25, 24]\n",
            "Total times I have to pay if these scenes are scheduled (greedy): 42\n"
          ]
        }
      ],
      "source": [
        "print('Forcing always 6 scenes per day:')\n",
        "\n",
        "scenes = generate_random_scenes(30, 10)\n",
        "days = scenes_organization_gh(sessions, False)\n",
        "total_actor_days = calc_cost(days_n,sessions)\n",
        "\n",
        "day = 1\n",
        "for day_scenes in days:\n",
        "    print(f'Scenes of day {day}:{day_scenes}')\n",
        "    day += 1\n",
        "\n",
        "print(\"Total times I have to pay if these scenes are scheduled (greedy):\", total_actor_days)"
      ]
    },
    {
      "cell_type": "markdown",
      "metadata": {
        "id": "eTFWUJQrtGcv"
      },
      "source": [
        "Enumera las referencias que has utilizado(si ha sido necesario) para llevar a cabo el trabajo"
      ]
    },
    {
      "cell_type": "markdown",
      "metadata": {
        "id": "YKQ_mRBttWsP"
      },
      "source": [
        "Respuesta"
      ]
    },
    {
      "cell_type": "markdown",
      "metadata": {},
      "source": [
        "[1] Wikipedia, “Número de Bell,” Wikipedia, La enciclopedia libre. [Online]. Available: https://es.wikipedia.org/wiki/N%C3%BAmero_de_Bell.\n",
        "\n",
        "[2] Google Developers, “Scheduling with shift requests,” Google OR-Tools Documentation. [Online]. Available: https://developers.google.com/optimization/scheduling/employee_scheduling?hl=es-419#scheduling_with_shift_requests.\n"
      ]
    },
    {
      "cell_type": "markdown",
      "metadata": {
        "id": "kAkDPUyRtYyH"
      },
      "source": [
        "Describe brevemente las lineas de como crees que es posible avanzar en el estudio del problema. Ten en cuenta incluso posibles variaciones del problema y/o variaciones al alza del tamaño"
      ]
    },
    {
      "cell_type": "markdown",
      "metadata": {
        "id": "IE0uZmo-tZu-"
      },
      "source": [
        "Respuesta"
      ]
    },
    {
      "cell_type": "markdown",
      "metadata": {},
      "source": [
        "Podria testear mas a fondo el Solver propuesto o con otros, lo que tendria que explorar con mas profuncidad es la posibilidad de organizar las sesiones en mas de 5 dias (para 30 tomas) si es que hay alguna manera que sea mas barato.\n",
        "\n",
        "Por ejemplo en algun caso donde 4 escenas tengan los mismos actores 5 y luego otras escenas 3 tengan un grupo diferente de 4 sera mejor convocar para un dia los 5 y otro los 4 y no grabar 6 escenas ningun dia."
      ]
    }
  ],
  "metadata": {
    "colab": {
      "provenance": []
    },
    "kernelspec": {
      "display_name": "Python 3",
      "name": "python3"
    },
    "language_info": {
      "codemirror_mode": {
        "name": "ipython",
        "version": 3
      },
      "file_extension": ".py",
      "mimetype": "text/x-python",
      "name": "python",
      "nbconvert_exporter": "python",
      "pygments_lexer": "ipython3",
      "version": "3.13.3"
    }
  },
  "nbformat": 4,
  "nbformat_minor": 0
}
