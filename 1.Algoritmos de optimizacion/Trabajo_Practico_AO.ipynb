{
 "cells": [
  {
   "cell_type": "code",
   "execution_count": 2,
   "id": "0661ed51",
   "metadata": {},
   "outputs": [],
   "source": [
    "import numpy as np\n",
    "import pandas as pd\n",
    "import random\n",
    "from os import path as osp\n"
   ]
  },
  {
   "cell_type": "code",
   "execution_count": null,
   "id": "82fe2e44",
   "metadata": {},
   "outputs": [],
   "source": [
    "'''Se precisa coordinar el doblaje de una película. Los actores del doblaje deben coincidir en las\n",
    "tomas en las que sus personajes aparecen juntos en las diferentes tomas. Los actores de\n",
    "doblaje cobran todos la misma cantidad por cada día que deben desplazarse hasta el estudio de\n",
    "grabación independientemente del número de tomas que se graben. No es posible grabar más\n",
    "de 6 tomas por día. El objetivo es planificar las sesiones por día de manera que el gasto por los\n",
    "servicios de los actores de doblaje sea el menor posible.\n",
    "Número de actores: 10\n",
    "Número de tomas : 30\n",
    "\n",
    "Esto es un Crew Scheduling Problem o Minimum Cost Crew Assignment\n",
    "'''"
   ]
  },
  {
   "cell_type": "code",
   "execution_count": 3,
   "id": "a7b44545",
   "metadata": {},
   "outputs": [],
   "source": [
    "# Load dataset\n",
    "fpath = osp.join(\"res\", \"Doblaje.csv\")\n",
    "df = pd.read_csv(fpath, sep=',', header=1, index_col=0, engine='python')\n",
    "\n",
    "# Drop the last 2 columns and the last row\n",
    "df = df.iloc[:-2, :-2]\n",
    "\n",
    "# Convert to a 2D list of integers\n",
    "#sessions = df.astype(int).values.tolist() # doblaje[][]"
   ]
  },
  {
   "cell_type": "markdown",
   "id": "ec4617b2",
   "metadata": {},
   "source": [
    "## Greedy Heuristic (for approximate/fast solutions)\n",
    "Assign scenes to days, trying to group scenes with overlapping actors, to minimize the number of unique actors per day.\n",
    "Not optimal, but can be implemented quickly. For optimal I found some solvers for this but didnt try them."
   ]
  },
  {
   "cell_type": "code",
   "execution_count": 85,
   "id": "44b112b1",
   "metadata": {},
   "outputs": [
    {
     "name": "stdout",
     "output_type": "stream",
     "text": [
      "Scenes of day 1:[23, 17, 13, 16, 18, 22]\n",
      "Scenes of day 2:[29, 27, 8, 4, 3, 14]\n",
      "Scenes of day 3:[24, 15, 5, 6, 12, 26]\n",
      "Scenes of day 4:[11, 7, 21, 0, 1, 19]\n",
      "Scenes of day 5:[9, 20, 28, 2, 10, 25]\n",
      "Total times I have to pay if these scenes are scheduled (greedy): 27\n"
     ]
    }
   ],
   "source": [
    "def scenes_organization_gh(scenes):\n",
    "    '''Initialize:\n",
    "    Create a list of all unassigned scenes (0 to 29).\n",
    "    Create an empty list for each day to store assigned scenes.\n",
    "    '''\n",
    "\n",
    "    #sessions = np.array(df)  # Convert to numpy array for easier manipulation\n",
    "    num_scenes = sessions.shape[0]\n",
    "    unassigned = set(range(num_scenes))\n",
    "    days = []\n",
    "\n",
    "    '''While there are unassigned scenes:\n",
    "\n",
    "    Pick an unassigned scene as the \"seed\" for a new day.\n",
    "    For this day, try to add up to 5 more unassigned scenes that have the most overlap in actors with the current group (i.e., adding them increases the set of unique actors as little as possible).\n",
    "    Assign these scenes to the current day and remove them from the unassigned list.'''\n",
    "\n",
    "    while unassigned:\n",
    "        # Start a new day with the first unassigned scene\n",
    "        #day_scenes = [unassigned.pop()]\n",
    "        \n",
    "        # Pick a random scene from unassigned instead\n",
    "        seed_scene = random.choice(list(unassigned))\n",
    "        day_scenes = [seed_scene]\n",
    "        unassigned.remove(seed_scene)\n",
    "            \n",
    "        # Get the set of actors present in the first scene\n",
    "        actors_in_day = set(np.where(sessions[day_scenes[0]] == 1)[0])\n",
    "        \n",
    "        # Try to add up to 5 more scenes to this day\n",
    "        for _ in range(5):\n",
    "            best_scene = None\n",
    "            best_increase = None\n",
    "            for scene in unassigned: # Iterate over unassigned scenes\n",
    "                # Calculate the increase in unique actors if this scene is added\n",
    "                # actors_in_day is the set of actors already assigned to this day\n",
    "                # actors_in_scene is the set of actors in the currently analized scene\n",
    "                actors_in_scene = set(np.where(sessions[scene] == 1)[0])\n",
    "                # This was intended to skip scenes that do not add any new actors but it ended up generating worse results\n",
    "                #if actors_in_scene.difference(actors_in_day) == set():\n",
    "                #    continue  # Skip if no new actors repeat\n",
    "                increase = len(actors_in_day | actors_in_scene) - len(actors_in_day)\n",
    "                if best_scene is None or increase < best_increase:\n",
    "                    best_scene = scene\n",
    "                    best_increase = increase\n",
    "            if best_scene is not None:\n",
    "                day_scenes.append(best_scene)\n",
    "                actors_in_day |= set(np.where(sessions[best_scene] == 1)[0]) # Update the set of actors |= is union\n",
    "                unassigned.remove(best_scene)\n",
    "            else:\n",
    "                break\n",
    "        days.append(day_scenes)\n",
    "    return days\n",
    "\n",
    "def calc_cost(days,sessions):\n",
    "    ''' Count:\n",
    "\n",
    "    For each day, count the unique actors present (i.e., any actor with a 1 in any assigned scene for that day).\n",
    "    Sum over all days to get the total actor-days.'''\n",
    "\n",
    "    # Calculate total actor-days\n",
    "    total_actor_days = 0\n",
    "    day = 0\n",
    "    for day_scenes in days:\n",
    "        actors = set()\n",
    "        for scene in day_scenes:\n",
    "            actors |= set(np.where(sessions[scene] == 1)[0])\n",
    "        total_actor_days += len(actors)\n",
    "        day += 1 \n",
    "        #print(f'Scenes of day {day}:{day_scenes}')\n",
    "    return total_actor_days\n",
    "\n",
    "sessions = np.array(df)  # Convert to numpy array for easier manipulation\n",
    "\n",
    "\n",
    "total_actor_days = 99999\n",
    "days = []\n",
    "\n",
    "for t in range(100): # A bit of an improvement, find the best option in X tries, in this case 100\n",
    "    days_n = scenes_organization_gh(sessions)\n",
    "    total_actor_days_n = calc_cost(days_n,sessions)\n",
    "    if total_actor_days_n < total_actor_days:\n",
    "        total_actor_days = total_actor_days_n\n",
    "        days = days_n\n",
    "day = 1\n",
    "for day_scenes in days:\n",
    "    print(f'Scenes of day {day}:{day_scenes}')\n",
    "    day += 1\n",
    "\n",
    "print(\"Total times I have to pay if these scenes are scheduled (greedy):\", total_actor_days)"
   ]
  }
 ],
 "metadata": {
  "kernelspec": {
   "display_name": "Python 3",
   "language": "python",
   "name": "python3"
  },
  "language_info": {
   "codemirror_mode": {
    "name": "ipython",
    "version": 3
   },
   "file_extension": ".py",
   "mimetype": "text/x-python",
   "name": "python",
   "nbconvert_exporter": "python",
   "pygments_lexer": "ipython3",
   "version": "3.13.3"
  }
 },
 "nbformat": 4,
 "nbformat_minor": 5
}
